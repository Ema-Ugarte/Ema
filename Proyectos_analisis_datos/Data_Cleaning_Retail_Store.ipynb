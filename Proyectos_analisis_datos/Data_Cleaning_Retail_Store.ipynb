{
 "cells": [
  {
   "cell_type": "markdown",
   "id": "860b1902-f906-4820-9991-27244cf3ed08",
   "metadata": {
    "panel-layout": {
     "height": 76.52777862548828,
     "visible": true,
     "width": 100
    }
   },
   "source": [
    "# **Importación de la librería pandas y descripción general de los datos**"
   ]
  },
  {
   "cell_type": "markdown",
   "id": "16c4f193-2077-4db8-8dd9-3376e62b463d",
   "metadata": {},
   "source": [
    "## 📄 Descripción del Dataset\n",
    "\n",
    "**Este conjunto de datos contiene 12,575 registros sintéticos que simulan transacciones reales en una tienda minorista. Incluye información sobre productos, cantidades vendidas, precios unitarios, descuentos aplicados y fechas. Los datos están diseñados intencionadamente con errores comunes como valores faltantes, inconsistencias y posibles duplicados, lo cual lo hace ideal para ejercicios de limpieza y preprocesamiento.**"
   ]
  },
  {
   "cell_type": "markdown",
   "id": "22f296f2-1a77-4739-b66f-f009c62e3397",
   "metadata": {},
   "source": [
    "### Revisión inicial de Dataset - Retail Stores Sales\n",
    "\n",
    "**Exploramos la estructura general de los datos.**"
   ]
  },
  {
   "cell_type": "code",
   "execution_count": 1,
   "id": "a347d9d2-69f9-43c8-8060-100d39118ed1",
   "metadata": {},
   "outputs": [],
   "source": [
    "import pandas as pd # Importar la biblioteca pandas para manipulación de datos\n",
    "\n",
    "retail_store = pd.read_csv(\"retail_store_sales.csv\") # Cargar el archivo CSV en un DataFrame"
   ]
  },
  {
   "cell_type": "code",
   "execution_count": 2,
   "id": "b4f465d6-670f-4dea-a258-863ed8b37315",
   "metadata": {
    "panel-layout": {
     "height": 0,
     "visible": true,
     "width": 100
    }
   },
   "outputs": [
    {
     "name": "stdout",
     "output_type": "stream",
     "text": [
      "<class 'pandas.core.frame.DataFrame'>\n",
      "RangeIndex: 12575 entries, 0 to 12574\n",
      "Data columns (total 11 columns):\n",
      " #   Column            Non-Null Count  Dtype  \n",
      "---  ------            --------------  -----  \n",
      " 0   Transaction ID    12575 non-null  object \n",
      " 1   Customer ID       12575 non-null  object \n",
      " 2   Category          12575 non-null  object \n",
      " 3   Item              11362 non-null  object \n",
      " 4   Price Per Unit    11966 non-null  float64\n",
      " 5   Quantity          11971 non-null  float64\n",
      " 6   Total Spent       11971 non-null  float64\n",
      " 7   Payment Method    12575 non-null  object \n",
      " 8   Location          12575 non-null  object \n",
      " 9   Transaction Date  12575 non-null  object \n",
      " 10  Discount Applied  8376 non-null   object \n",
      "dtypes: float64(3), object(8)\n",
      "memory usage: 1.1+ MB\n"
     ]
    }
   ],
   "source": [
    "retail_store.info() # Explora la información del DataFrame"
   ]
  },
  {
   "cell_type": "code",
   "execution_count": 3,
   "id": "016293bb-3c1a-4e24-8a64-607afd6c1e72",
   "metadata": {},
   "outputs": [
    {
     "data": {
      "text/html": [
       "<div>\n",
       "<style scoped>\n",
       "    .dataframe tbody tr th:only-of-type {\n",
       "        vertical-align: middle;\n",
       "    }\n",
       "\n",
       "    .dataframe tbody tr th {\n",
       "        vertical-align: top;\n",
       "    }\n",
       "\n",
       "    .dataframe thead th {\n",
       "        text-align: right;\n",
       "    }\n",
       "</style>\n",
       "<table border=\"1\" class=\"dataframe\">\n",
       "  <thead>\n",
       "    <tr style=\"text-align: right;\">\n",
       "      <th></th>\n",
       "      <th>Transaction ID</th>\n",
       "      <th>Customer ID</th>\n",
       "      <th>Category</th>\n",
       "      <th>Item</th>\n",
       "      <th>Price Per Unit</th>\n",
       "      <th>Quantity</th>\n",
       "      <th>Total Spent</th>\n",
       "      <th>Payment Method</th>\n",
       "      <th>Location</th>\n",
       "      <th>Transaction Date</th>\n",
       "      <th>Discount Applied</th>\n",
       "    </tr>\n",
       "  </thead>\n",
       "  <tbody>\n",
       "    <tr>\n",
       "      <th>0</th>\n",
       "      <td>TXN_6867343</td>\n",
       "      <td>CUST_09</td>\n",
       "      <td>Patisserie</td>\n",
       "      <td>Item_10_PAT</td>\n",
       "      <td>18.5</td>\n",
       "      <td>10.0</td>\n",
       "      <td>185.0</td>\n",
       "      <td>Digital Wallet</td>\n",
       "      <td>Online</td>\n",
       "      <td>2024-04-08</td>\n",
       "      <td>True</td>\n",
       "    </tr>\n",
       "    <tr>\n",
       "      <th>1</th>\n",
       "      <td>TXN_3731986</td>\n",
       "      <td>CUST_22</td>\n",
       "      <td>Milk Products</td>\n",
       "      <td>Item_17_MILK</td>\n",
       "      <td>29.0</td>\n",
       "      <td>9.0</td>\n",
       "      <td>261.0</td>\n",
       "      <td>Digital Wallet</td>\n",
       "      <td>Online</td>\n",
       "      <td>2023-07-23</td>\n",
       "      <td>True</td>\n",
       "    </tr>\n",
       "    <tr>\n",
       "      <th>2</th>\n",
       "      <td>TXN_9303719</td>\n",
       "      <td>CUST_02</td>\n",
       "      <td>Butchers</td>\n",
       "      <td>Item_12_BUT</td>\n",
       "      <td>21.5</td>\n",
       "      <td>2.0</td>\n",
       "      <td>43.0</td>\n",
       "      <td>Credit Card</td>\n",
       "      <td>Online</td>\n",
       "      <td>2022-10-05</td>\n",
       "      <td>False</td>\n",
       "    </tr>\n",
       "    <tr>\n",
       "      <th>3</th>\n",
       "      <td>TXN_9458126</td>\n",
       "      <td>CUST_06</td>\n",
       "      <td>Beverages</td>\n",
       "      <td>Item_16_BEV</td>\n",
       "      <td>27.5</td>\n",
       "      <td>9.0</td>\n",
       "      <td>247.5</td>\n",
       "      <td>Credit Card</td>\n",
       "      <td>Online</td>\n",
       "      <td>2022-05-07</td>\n",
       "      <td>NaN</td>\n",
       "    </tr>\n",
       "    <tr>\n",
       "      <th>4</th>\n",
       "      <td>TXN_4575373</td>\n",
       "      <td>CUST_05</td>\n",
       "      <td>Food</td>\n",
       "      <td>Item_6_FOOD</td>\n",
       "      <td>12.5</td>\n",
       "      <td>7.0</td>\n",
       "      <td>87.5</td>\n",
       "      <td>Digital Wallet</td>\n",
       "      <td>Online</td>\n",
       "      <td>2022-10-02</td>\n",
       "      <td>False</td>\n",
       "    </tr>\n",
       "  </tbody>\n",
       "</table>\n",
       "</div>"
      ],
      "text/plain": [
       "  Transaction ID Customer ID       Category          Item  Price Per Unit  \\\n",
       "0    TXN_6867343     CUST_09     Patisserie   Item_10_PAT            18.5   \n",
       "1    TXN_3731986     CUST_22  Milk Products  Item_17_MILK            29.0   \n",
       "2    TXN_9303719     CUST_02       Butchers   Item_12_BUT            21.5   \n",
       "3    TXN_9458126     CUST_06      Beverages   Item_16_BEV            27.5   \n",
       "4    TXN_4575373     CUST_05           Food   Item_6_FOOD            12.5   \n",
       "\n",
       "   Quantity  Total Spent  Payment Method Location Transaction Date  \\\n",
       "0      10.0        185.0  Digital Wallet   Online       2024-04-08   \n",
       "1       9.0        261.0  Digital Wallet   Online       2023-07-23   \n",
       "2       2.0         43.0     Credit Card   Online       2022-10-05   \n",
       "3       9.0        247.5     Credit Card   Online       2022-05-07   \n",
       "4       7.0         87.5  Digital Wallet   Online       2022-10-02   \n",
       "\n",
       "  Discount Applied  \n",
       "0             True  \n",
       "1             True  \n",
       "2            False  \n",
       "3              NaN  \n",
       "4            False  "
      ]
     },
     "execution_count": 3,
     "metadata": {},
     "output_type": "execute_result"
    }
   ],
   "source": [
    "retail_store.head() # Explora las primeras filas del DataFrame"
   ]
  },
  {
   "cell_type": "markdown",
   "id": "d802060c-3a77-44f9-b924-0fd64ebf698b",
   "metadata": {},
   "source": [
    "## Limpieza de datos\n",
    "- **Nombres de columna**\n",
    "- **Valores nulos**\n",
    "- **Tipos de datos**\n",
    "- **Duplicados**"
   ]
  },
  {
   "cell_type": "markdown",
   "id": "84b550f5",
   "metadata": {},
   "source": [
    "### Cambio de nombres"
   ]
  },
  {
   "cell_type": "code",
   "execution_count": 4,
   "id": "447af959-549c-4032-bb04-1dfe97e7570d",
   "metadata": {},
   "outputs": [],
   "source": [
    "new_columns = {\"Transaction ID\": \"transaction_id\",\n",
    "               \"Customer ID\": \"customer_id\",\n",
    "               \"Category\": \"category\",\n",
    "               \"Item\": \"item\",\n",
    "               \"Price Per Unit\": \"price_per_unit\",\n",
    "               \"Quantity\": \"quantity\",\n",
    "               \"Total Spent\": \"total_spent\",\n",
    "               \"Payment Method\": \"payment_method\",\n",
    "               \"Location\": \"location\",\n",
    "               \"Transaction Date\": \"transaction_date\",\n",
    "               \"Discount Applied\": \"discount_applied\"\n",
    "              }\n",
    "# Renombrar las columnas del DataFrame\n",
    "retail_store.rename(columns=new_columns, inplace=True)"
   ]
  },
  {
   "cell_type": "markdown",
   "id": "572e7b8d",
   "metadata": {},
   "source": [
    "### Valores ausentes y tipo de datos "
   ]
  },
  {
   "cell_type": "code",
   "execution_count": 5,
   "id": "0638f1af-6d30-4c61-a145-d417776f9b3a",
   "metadata": {},
   "outputs": [],
   "source": [
    "# Rellenar los valores nulos en la columna 'item' con 'Unkown'\n",
    "retail_store['item'] = retail_store['item'].fillna('Unkown')\n",
    "\n",
    "# Rellenar los valores nulos en la columna quantity con la mediana de la columna\n",
    "retail_store['quantity'] = retail_store['quantity'].fillna(retail_store['quantity'].median())\n",
    "retail_store['quantity'] = retail_store['quantity'].astype(\"int64\") # Convertir a tipo entero\n",
    "\n",
    "# Rellenar los valores nulos en la columna 'price_per_unit' con la media de la columna\n",
    "retail_store['price_per_unit'] = retail_store['price_per_unit'].fillna(retail_store['price_per_unit'].mean())\n",
    "\n",
    "# Rellenar los valores nulos en la columna 'total_spent' con el producto de 'price_per_unit' y 'quantity'\n",
    "retail_store['total_spent'] = retail_store['total_spent'].fillna(retail_store['price_per_unit'] * retail_store['quantity'])\n",
    "\n",
    "# Convertir la columna 'transaction_date' a tipo fecha\n",
    "retail_store['transaction_date'] = pd.to_datetime(retail_store['transaction_date'], format='%Y-%m-%d')\n",
    "\n",
    "# Rellenar los valores nulos en la columna 'payment_method' con 'Unkown'\n",
    "retail_store['discount_applied'] = retail_store['discount_applied'].fillna('Unkown')\n",
    "retail_store['discount_applied'] = retail_store['discount_applied'].astype(\"category\") # Convertir a tipo categoría"
   ]
  },
  {
   "cell_type": "markdown",
   "id": "9ae0f12f",
   "metadata": {},
   "source": [
    "### Gestión de duplicados "
   ]
  },
  {
   "cell_type": "code",
   "execution_count": 6,
   "id": "b162c271-9bc6-4a94-85e3-c27a69b38f44",
   "metadata": {},
   "outputs": [
    {
     "data": {
      "text/plain": [
       "0"
      ]
     },
     "execution_count": 6,
     "metadata": {},
     "output_type": "execute_result"
    }
   ],
   "source": [
    "retail_store.duplicated().sum() # Verifica si hay filas duplicadas"
   ]
  },
  {
   "cell_type": "markdown",
   "id": "f9f22b2f-3911-4d13-80ca-c326083ba3aa",
   "metadata": {},
   "source": [
    "## Resultados de la limpieza\n",
    "\n",
    "**Aquí se muestran los cambios aplicados y el estado final del dataset**"
   ]
  },
  {
   "cell_type": "code",
   "execution_count": 7,
   "id": "62ebb186-6038-4fa2-8345-e0e4f0ec3a9d",
   "metadata": {},
   "outputs": [
    {
     "name": "stdout",
     "output_type": "stream",
     "text": [
      "Estado final del dataset \n",
      "\n",
      "<class 'pandas.core.frame.DataFrame'>\n",
      "RangeIndex: 12575 entries, 0 to 12574\n",
      "Data columns (total 11 columns):\n",
      " #   Column            Non-Null Count  Dtype         \n",
      "---  ------            --------------  -----         \n",
      " 0   transaction_id    12575 non-null  object        \n",
      " 1   customer_id       12575 non-null  object        \n",
      " 2   category          12575 non-null  object        \n",
      " 3   item              12575 non-null  object        \n",
      " 4   price_per_unit    12575 non-null  float64       \n",
      " 5   quantity          12575 non-null  int64         \n",
      " 6   total_spent       12575 non-null  float64       \n",
      " 7   payment_method    12575 non-null  object        \n",
      " 8   location          12575 non-null  object        \n",
      " 9   transaction_date  12575 non-null  datetime64[ns]\n",
      " 10  discount_applied  12575 non-null  category      \n",
      "dtypes: category(1), datetime64[ns](1), float64(2), int64(1), object(6)\n",
      "memory usage: 995.0+ KB\n",
      "None\n"
     ]
    }
   ],
   "source": [
    "print(\"Estado final del dataset\", \"\\n\")\n",
    "print(retail_store.info())    # Información general del DataFrame con los cambios realizados"
   ]
  },
  {
   "cell_type": "markdown",
   "id": "0b315230-b5b3-4996-8286-349c20722027",
   "metadata": {},
   "source": [
    "## Observaciones finales de limpieza de datos\n",
    "\n",
    "**Durante la etapa de limpieza del dataset \"Ventas Sucias en Tiendas Minoristas\", se realizaron los siguientes pasos para abordar los valores ausentes, errores de tipo y posibles duplicados:**\n",
    "\n",
    "1. **Columnas numéricas (quantity, price_per_unit, total_spent)\n",
    "La columna quantity presentaba valores ausentes. Se imputaron usando la mediana, al tratarse de una cantidad entera que no puede tener decimales.**\n",
    "\n",
    "**La columna unit_price se imputó usando la media, ya que los precios son datos continuos y la media representa mejor la tendencia general.**\n",
    "\n",
    "**Para los valores faltantes en la columna total, se calculó el valor multiplicando la cantidad por el precio unitario fila por fila, una vez que ambas columnas fueron imputadas.**\n",
    "\n",
    "2. **Columna item\n",
    "Esta columna contenía 1,213 valores ausentes, distribuidos en todas las categorías del dataset.**\n",
    "\n",
    "**Dado que no se identificó una lógica clara para imputar productos específicos por categoría, y considerando el tiempo y el aporte limitado de esa tarea, se optó por imputar estos valores como \"Producto desconocido\".**\n",
    "\n",
    "3. **Columna discount_applied\n",
    "Esta columna tenía valores booleanos (True o False) indicando si se aplicó un descuento.**\n",
    "\n",
    "**Los valores ausentes no pueden asumirse como False, ya que eso implicaría una decisión sin respaldo. Por lo tanto, se imputaron como \"Desconocido\", reconociendo que no se tiene información suficiente para afirmarlo ni negarlo.**\n",
    "\n",
    "4. **Valores duplicados\n",
    "Se verificó el dataset en busca de filas duplicadas con .duplicated(), y se concluyó que no existen duplicados. Por lo tanto, no fue necesario eliminarlos.**\n",
    "\n",
    "✅ **Estado final del dataset\n",
    "El dataset ha sido limpiado y está listo para su uso en análisis exploratorio (EDA) o desarrollo de modelos. Las imputaciones realizadas se hicieron bajo criterios lógicos y con el objetivo de conservar la integridad de los datos sin introducir sesgos innecesarios.**"
   ]
  },
  {
   "cell_type": "code",
   "execution_count": 9,
   "id": "e4118170",
   "metadata": {},
   "outputs": [],
   "source": [
    "retail_store.to_csv(\"retail_store_sales_cleaned.csv\", index=False) # Guardar el DataFrame limpio en un nuevo archivo CSV"
   ]
  }
 ],
 "metadata": {
  "kernelspec": {
   "display_name": "Python [conda env:base] *",
   "language": "python",
   "name": "conda-base-py"
  },
  "language_info": {
   "codemirror_mode": {
    "name": "ipython",
    "version": 3
   },
   "file_extension": ".py",
   "mimetype": "text/x-python",
   "name": "python",
   "nbconvert_exporter": "python",
   "pygments_lexer": "ipython3",
   "version": "3.12.7"
  },
  "panel-cell-order": [
   "860b1902-f906-4820-9991-27244cf3ed08",
   "b4f465d6-670f-4dea-a258-863ed8b37315"
  ]
 },
 "nbformat": 4,
 "nbformat_minor": 5
}
