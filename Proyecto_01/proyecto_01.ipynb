{
 "cells": [
  {
   "cell_type": "markdown",
   "metadata": {},
   "source": [
    "¡Hola!\n",
    "\n",
    "Mi nombre es Marcos Torres y tengo el gusto de revisar tu código el día de hoy.\n",
    "\n",
    "Cuando vea algo notable o algún asunto en el notebook, te dejaré un comentario o un hint. Se que encontraras la mejor respuesta para resolver todos los comentarios, de no ser así, no te preocupes en futuras iteraciones dejaré comentarios y pistas más específicos.\n",
    "\n",
    "Encontrarás comentarios en verde, amarillo o rojo como los siguientes:\n",
    "\n",
    "<div class=\"alert alert-block alert-success\">\n",
    "<b>Comentario del revisor</b> <a class=\"tocSkip\"></a>\n",
    "\n",
    "Buen trabajo. ¡Lo hiciste muy bien!\n",
    "</div>\n",
    "\n",
    "<div class=\"alert alert-block alert-warning\">\n",
    "<b>Comentario del revisor</b> <a class=\"tocSkip\"></a>\n",
    "\n",
    "Nota. Se puede mejorar.\n",
    "</div>\n",
    "\n",
    "<div class=\"alert alert-block alert-danger\">\n",
    "<b>Comentario del revisor</b> <a class=\"tocSkip\"></a>\n",
    "\n",
    "Necesitas corregirlo. Este bloque indica que se requiere una correción. El trabajo no se acepta si tiene estos bloques.\n",
    "</div>\n",
    "\n",
    "Puedes responder a mis comentarios usando estos bloques:\n",
    "\n",
    "<div class=\"alert alert-block alert-info\">\n",
    "<b>Respuesta del estudiante.</b> <a class=\"tocSkip\"></a>\n",
    "</div>"
   ]
  },
  {
   "cell_type": "markdown",
   "metadata": {
    "id": "UCjlyTyyJm9R"
   },
   "source": [
    "\n",
    "\n",
    "Como parte del equipo de análisis, lo primero que debes hacer es evaluar la calidad de una muestra de datos recopilados y prepararla para analizarla posteriormente. Después, en la segunda parte de este proyecto en el segundo sprint, desarrollarás más tus habilidades y harás tu primer análisis completo, respondiendo a las necesidades del cliente."
   ]
  },
  {
   "cell_type": "markdown",
   "metadata": {
    "id": "EMQlsEYlxGET"
   },
   "source": [
    "Estos son los datos que el cliente nos proporcionó. Tienen el formato de una lista de Python, con las siguientes columnas de datos:\n",
    "\n",
    "- **user_id:** Identificador único para cada usuario.\n",
    "- **user_name:** El nombre del usuario.\n",
    "- **user_age:** La edad del usuario.\n",
    "- **fav_categories:** Categorías favoritas de los artículos que compró el usuario, como 'ELECTRONICS', 'SPORT' y 'BOOKS' (ELECTRÓNICOS, DEPORTES y LIBROS), etc.\n",
    "- **total_spendings:** Una lista de números enteros que indican la cantidad total gastada en cada una de las categorías favoritas.\n"
   ]
  },
  {
   "cell_type": "code",
   "execution_count": null,
   "metadata": {
    "id": "LfBCH4crxLOt"
   },
   "outputs": [],
   "source": [
    "users = [\n",
    "    ['32415', ' mike_reed ', 32.0, ['ELECTRONICS', 'SPORT', 'BOOKS'], [894, 213, 173]],\n",
    "    ['31980', 'kate morgan', 24.0, ['CLOTHES', 'BOOKS'], [439, 390]],\n",
    "    ['32156', ' john doe ', 37.0, ['ELECTRONICS', 'HOME', 'FOOD'], [459, 120, 99]],\n",
    "    ['32761', 'SAMANTHA SMITH', 29.0, ['CLOTHES', 'ELECTRONICS', 'BEAUTY'], [299, 679, 85]],\n",
    "    ['32984', 'David White', 41.0, ['BOOKS', 'HOME', 'SPORT'], [234, 329, 243]],\n",
    "    ['33001', 'emily brown', 26.0, ['BEAUTY', 'HOME', 'FOOD'], [213, 659, 79]],\n",
    "    ['33767', ' Maria Garcia', 33.0, ['CLOTHES', 'FOOD', 'BEAUTY'], [499, 189, 63]],\n",
    "    ['33912', 'JOSE MARTINEZ', 22.0, ['SPORT', 'ELECTRONICS', 'HOME'], [259, 549, 109]],\n",
    "    ['34009', 'lisa wilson ', 35.0, ['HOME', 'BOOKS', 'CLOTHES'], [329, 189, 329]],\n",
    "    ['34278', 'James Lee', 28.0, ['BEAUTY', 'CLOTHES', 'ELECTRONICS'], [189, 299, 579]],\n",
    "]\n"
   ]
  },
  {
   "cell_type": "markdown",
   "metadata": {
    "id": "QJa5xuF-Jm9T"
   },
   "source": [
    "# Paso 1\n",
    "\n",
    "Store 1 tiene como objetivo garantizar la coherencia en la recopilación de datos. Como parte de esta iniciativa, se debe evaluar la calidad de los datos recopilados sobre los usuarios y las usuarias. Te han pedido que revises los datos recopilados y propongas cambios. A continuación verás datos sobre un usuario o una usuaria en particular; revisa los datos e identifica cualquier posible problema.\n"
   ]
  },
  {
   "cell_type": "code",
   "execution_count": 2,
   "metadata": {
    "id": "kvRIX_jfJm9U"
   },
   "outputs": [],
   "source": [
    "user_id = '32415'\n",
    "user_name = ' mike_reed '\n",
    "user_age = 32.0\n",
    "fav_categories = ['ELECTRONICS', 'SPORT', 'BOOKS']"
   ]
  },
  {
   "cell_type": "markdown",
   "metadata": {
    "id": "Fo28PV6wJm9U"
   },
   "source": [
    "**Opciones:**\n",
    "\n",
    "1. Se debe cambiar el tipo de dato de `user_id` de cadena a entero.\n",
    "    \n",
    "2. La variable `user_name` contiene una cadena que tiene espacios innecesarios y un guion bajo entre el nombre y el apellido.\n",
    "    \n",
    "3. El tipo de dato de `user_age` es correcto y no hay necesidad de convertirlo.\n",
    "    \n",
    "4. La lista `fav_categories` contiene cadenas en mayúsculas. En lugar de ello, debemos convertir los valores de la lista en minúsculas.\n"
   ]
  },
  {
   "cell_type": "markdown",
   "metadata": {
    "id": "uFd9fGjzJm9V"
   },
   "source": [
    "Para cada una de las opciones, escribe en la siguiente celda markdown si la identificaste como un problema real en los datos o no. Justifica tu razonamiento. Por ejemplo, si crees que la primera opción es correcta, escríbelo y explica por qué piensas que es correcta."
   ]
  },
  {
   "cell_type": "markdown",
   "metadata": {
    "id": "jBGXAwBkJm9V"
   },
   "source": [
    "**Escribe tu respuesta y explica tu argumentación:**\n",
    "\n",
    "En la celda user_id proponemos convertir lo datos del string a datos de numero entero para asi poder indicar que esa variable sea tal cual esta escrita y para ello convertiremos la string a un tipo de dato de numero entero usando la funcion int.\n",
    "\n",
    "user_id = '32415'\n",
    "user_id = int(user_id)\n",
    "print(user_id)\n",
    "32415\n",
    "\n",
    "En la segunda celda user_name queremos eliminar los espacios en blancos al principio y al final del string y para ello usaremos el metodo strip y tambien queremos eliminar el guion bajo en entre el nombre y el apellido entonces usaremos el metedo replace.\n",
    "\n",
    "user_name = ' mike_reed '\n",
    "user_name.strip\n",
    "user_name = user_name.replace('_',' ')\n",
    "print(user_name)\n",
    "\n",
    "En la tercer celda user_age el dato esta bien, pero en caso de usarlo para otro codigo nos puede complicar nos nuestro trabajo,asi que optamos por cambiar el dato de punto flotante a dato entero.\n",
    "\n",
    "user_age = 32.0\n",
    "user_age = int(user_age)\n",
    "print(user_age)\n",
    "\n",
    "En la cuarta y ultima celda fav_categories queremos convertir las mayusculas a minusculas y es por ello que primero convertiremos la lista a una string usando el metodo join, despues de haber convertido la lista a una string, crearemos una nueva variable donde almacenaremos la lista transformada a string y es aqui en donde usaremos el metodo lower para transformar la string de mayusculas a minusculas. \n",
    "\n",
    "fav_categories = ['ELECTRONICS', 'SPORT', 'BOOKS']\n",
    "fav_categories = ' '.join(fav_categories)\n",
    "fav_categories = fav_categories.lower()\n",
    "print(New_fav_categories)"
   ]
  },
  {
   "cell_type": "markdown",
   "metadata": {},
   "source": [
    "<div class=\"alert alert-block alert-warning\">\n",
    "<b>Comentario del revisor</b> <a class=\"tocSkip\"></a>\n",
    "\n",
    "Muy bien, se identificaron correctamente los cambios necesarios.\n",
    "\n",
    "En el caso de user_age se debe cambiar a entero, ya que\n",
    "\n",
    "podría causarnos problemas en el caso de usar métodos estadísticos.\n",
    "</div>\n"
   ]
  },
  {
   "cell_type": "markdown",
   "metadata": {
    "id": "aZ40WbF5Jm9V"
   },
   "source": [
    "# Paso 2\n",
    "\n",
    "Vamos a implementar los cambios que identificamos. Primero, necesitamos corregir los problemas de la variable `user_name` Como vimos, tiene espacios innecesarios y un guion bajo como separador entre el nombre y el apellido; tu objetivo es eliminar los espacios y luego reemplazar el guion bajo con el espacio.\n"
   ]
  },
  {
   "cell_type": "code",
   "execution_count": 1,
   "metadata": {
    "colab": {
     "base_uri": "https://localhost:8080/"
    },
    "id": "_uOLKjF8Jm9V",
    "outputId": "630b0663-620c-44a2-f0d1-4b7b4a592b0b"
   },
   "outputs": [
    {
     "name": "stdout",
     "output_type": "stream",
     "text": [
      " mike reed \n"
     ]
    }
   ],
   "source": [
    "user_name = ' mike_reed '\n",
    "user_name.strip# escribe tu código aquí \n",
    "user_name = user_name.replace('_',' ')# escribe tu código aquí\n",
    "\n",
    "print(user_name)"
   ]
  },
  {
   "cell_type": "markdown",
   "metadata": {},
   "source": [
    "<div class=\"alert alert-block alert-success\">\n",
    "<b>Comentario del revisor</b> <a class=\"tocSkip\"></a>\n",
    "\n",
    "Bien, el nombre de usuario se separó correctamente.\n",
    "</div>\n"
   ]
  },
  {
   "cell_type": "markdown",
   "metadata": {
    "id": "Kxe9MxvVJm9V"
   },
   "source": [
    "********Hint********\n",
    "\n",
    "Existe un método, `strip()`, que puede eliminar espacios al principio y al final de una cadena. Además, el método `replace()` se puede usar para reemplazar una parte de una cadena. En este caso, queremos reemplazar los guiones bajos (`_`) con espacios.\n"
   ]
  },
  {
   "cell_type": "markdown",
   "metadata": {
    "id": "IBQlePCsJm9V"
   },
   "source": [
    "# Paso 3\n",
    "\n",
    "Luego, debemos dividir el `user_name` (nombre de usuario o usuaria) actualizado en dos subcadenas para obtener una lista que contenga dos valores: la cadena para el nombre y la cadena para el apellido."
   ]
  },
  {
   "cell_type": "code",
   "execution_count": 2,
   "metadata": {
    "colab": {
     "base_uri": "https://localhost:8080/"
    },
    "id": "0mYAxetNJm9W",
    "outputId": "2128b910-489c-4939-cb24-6d0f6d45e877"
   },
   "outputs": [
    {
     "name": "stdout",
     "output_type": "stream",
     "text": [
      "['mike', 'reed']\n"
     ]
    }
   ],
   "source": [
    "user_name = 'mike reed'\n",
    "name_split = user_name.split() # escribe tu código aquí\n",
    "\n",
    "print(name_split)"
   ]
  },
  {
   "cell_type": "markdown",
   "metadata": {},
   "source": [
    "<div class=\"alert alert-block alert-success\">\n",
    "<b>Comentario del revisor</b> <a class=\"tocSkip\"></a>\n",
    "\n",
    "Bien, el nombre de usuario se separó correctamente en dos subcadenas\n",
    "</div>\n"
   ]
  },
  {
   "cell_type": "markdown",
   "metadata": {
    "id": "sVDWXaavJm9W"
   },
   "source": [
    "********Hint********\n",
    "\n",
    "El método `split()` se utiliza para dividir una cadena. Por defecto, utiliza un espacio como separador.\n"
   ]
  },
  {
   "cell_type": "markdown",
   "metadata": {
    "id": "bcNebWVsJm9W"
   },
   "source": [
    "# Paso 4\n",
    "\n",
    "¡Genial! Ahora debemos trabajar con la variable `user_age`. Como ya mencionamos, esta tiene un tipo de datos incorrecto. Arreglemos este problema transformando el tipo de datos y mostrando el resultado final.\n"
   ]
  },
  {
   "cell_type": "code",
   "execution_count": 3,
   "metadata": {
    "colab": {
     "base_uri": "https://localhost:8080/"
    },
    "id": "g0FZSll4Jm9W",
    "outputId": "8b977bc7-e315-4a27-97ad-645570ed60bc"
   },
   "outputs": [
    {
     "name": "stdout",
     "output_type": "stream",
     "text": [
      "32\n"
     ]
    }
   ],
   "source": [
    "user_age = 32.0\n",
    "user_age = int(user_age)# escribe tu código aquí\n",
    "\n",
    "print(user_age)"
   ]
  },
  {
   "cell_type": "markdown",
   "metadata": {},
   "source": [
    "<div class=\"alert alert-block alert-success\">\n",
    "<b>Comentario del revisor</b> <a class=\"tocSkip\"></a>\n",
    "\n",
    "Muy bien, se convirtio user_age a entero.\n",
    "</div>\n"
   ]
  },
  {
   "cell_type": "markdown",
   "metadata": {
    "id": "r4a-d2veJm9W"
   },
   "source": [
    "********Hint********\n",
    "\n",
    "¿Qué tipo de datos eliminará la parte de coma flotante?\n"
   ]
  },
  {
   "cell_type": "markdown",
   "metadata": {
    "id": "U0bvLZOVJm9W"
   },
   "source": [
    "# Paso 5\n",
    "\n",
    "Como sabemos, los datos no siempre son perfectos. Debemos considerar escenarios en los que el valor de `user_age` no se pueda convertir en un número entero. Para evitar que nuestro sistema se bloquee, debemos tomar medidas con anticipación.\n",
    "\n",
    "Escribe un código que intente convertir la variable `user_age` en un número entero y asigna el valor transformado a `user_age_int`. Si el intento falla, mostramos un mensaje pidiendo al usuario o la usuaria que proporcione su edad como un valor numérico con el mensaje: `Please provide your age as a numerical value.` (Proporcione su edad como un valor numérico.)"
   ]
  },
  {
   "cell_type": "code",
   "execution_count": 4,
   "metadata": {
    "colab": {
     "base_uri": "https://localhost:8080/"
    },
    "id": "bKxiA-voJm9W",
    "outputId": "829a78ce-a7a5-4195-c424-90e9982c63ce"
   },
   "outputs": [
    {
     "name": "stdout",
     "output_type": "stream",
     "text": [
      "Please provide your age as a numerical value.\n"
     ]
    }
   ],
   "source": [
    "user_age = 'treinta y dos'\n",
    "\n",
    "try:\n",
    "    user_age_int = int(user_age)\n",
    "    print(user_age_int) # escribe tu código aquí\n",
    "except: \n",
    "    print(\"Please provide your age as a numerical value.\")"
   ]
  },
  {
   "cell_type": "markdown",
   "metadata": {},
   "source": [
    "<div class=\"alert alert-block alert-success\">\n",
    "<b>Comentario del revisor</b> <a class=\"tocSkip\"></a>\n",
    "\n",
    "Buena integración de try-except\n",
    "</div>\n"
   ]
  },
  {
   "cell_type": "markdown",
   "metadata": {
    "id": "YAFlIV8OL6S5"
   },
   "source": [
    "********Hint********\n",
    "\n",
    "Utiliza un bloque `try-except` para intentar la conversión; si falla, proporciona un mensaje claro indicando que la entrada debe ser numérica."
   ]
  },
  {
   "cell_type": "markdown",
   "metadata": {
    "id": "geo-WB0KW3Ji"
   },
   "source": [
    "# Paso 6\n",
    "\n",
    "El equipo de dirección de Store 1 te pidió ayudarles a organizar los datos de sus clientes para analizarlos y gestionarlos mejor.\n",
    "\n",
    "Tu tarea es ordenar esta lista por ID de usuario de forma ascendente para que sea más fácil acceder a ella y analizarla.\n"
   ]
  },
  {
   "cell_type": "code",
   "execution_count": 5,
   "metadata": {
    "colab": {
     "base_uri": "https://localhost:8080/"
    },
    "id": "Re_QlnnLW3Jo",
    "outputId": "8b977bc7-e315-4a27-97ad-645570ed60bc",
    "scrolled": true
   },
   "outputs": [
    {
     "name": "stdout",
     "output_type": "stream",
     "text": [
      "[['31980', 'kate morgan', 24.0, ['CLOTHES', 'BOOKS'], [439, 390]], ['32156', ' john doe ', 37.0, ['ELECTRONICS', 'HOME', 'FOOD'], [459, 120, 99]], ['32415', ' mike_reed ', 32.0, ['ELECTRONICS', 'SPORT', 'BOOKS'], [894, 213, 173]], ['32761', 'SAMANTHA SMITH', 29.0, ['CLOTHES', 'ELECTRONICS', 'BEAUTY'], [299, 679, 85]], ['32984', 'David White', 41.0, ['BOOKS', 'HOME', 'SPORT'], [234, 329, 243]], ['33001', 'emily brown', 26.0, ['BEAUTY', 'HOME', 'FOOD'], [213, 659, 79]], ['33767', ' Maria Garcia', 33.0, ['CLOTHES', 'FOOD', 'BEAUTY'], [499, 189, 63]], ['33912', 'JOSE MARTINEZ', 22.0, ['SPORT', 'ELECTRONICS', 'HOME'], [259, 549, 109]], ['34009', 'lisa wilson ', 35.0, ['HOME', 'BOOKS', 'CLOTHES'], [329, 189, 329]], ['34278', 'James Lee', 28.0, ['BEAUTY', 'CLOTHES', 'ELECTRONICS'], [189, 299, 579]]]\n"
     ]
    }
   ],
   "source": [
    "users = [\n",
    "    ['32415', ' mike_reed ', 32.0, ['ELECTRONICS', 'SPORT', 'BOOKS'], [894, 213, 173]],\n",
    "    ['31980', 'kate morgan', 24.0, ['CLOTHES', 'BOOKS'], [439, 390]],\n",
    "    ['32156', ' john doe ', 37.0, ['ELECTRONICS', 'HOME', 'FOOD'], [459, 120, 99]],\n",
    "    ['32761', 'SAMANTHA SMITH', 29.0, ['CLOTHES', 'ELECTRONICS', 'BEAUTY'], [299, 679, 85]],\n",
    "    ['32984', 'David White', 41.0, ['BOOKS', 'HOME', 'SPORT'], [234, 329, 243]],\n",
    "    ['33001', 'emily brown', 26.0, ['BEAUTY', 'HOME', 'FOOD'], [213, 659, 79]],\n",
    "    ['33767', ' Maria Garcia', 33.0, ['CLOTHES', 'FOOD', 'BEAUTY'], [499, 189, 63]],\n",
    "    ['33912', 'JOSE MARTINEZ', 22.0, ['SPORT', 'ELECTRONICS', 'HOME'], [259, 549, 109]],\n",
    "    ['34009', 'lisa wilson ', 35.0, ['HOME', 'BOOKS', 'CLOTHES'], [329, 189, 329]],\n",
    "    ['34278', 'James Lee', 28.0, ['BEAUTY', 'CLOTHES', 'ELECTRONICS'], [189, 299, 579]],\n",
    "]\n",
    "\n",
    "users.sort() # escribe tu código aquí\n",
    "\n",
    "print(users)"
   ]
  },
  {
   "cell_type": "markdown",
   "metadata": {},
   "source": [
    "<div class=\"alert alert-block alert-success\">\n",
    "<b>Comentario del revisor</b> <a class=\"tocSkip\"></a>\n",
    "\n",
    "Buen uso del método sort para ordenar los datos.\n",
    "</div>\n"
   ]
  },
  {
   "cell_type": "markdown",
   "metadata": {
    "id": "uxG5diF0W3Jo"
   },
   "source": [
    "********Hint********\n",
    "\n",
    "Puedes utilizar el método `sort()` en la lista de usuarios para ordenarla de forma ascendente.\n"
   ]
  },
  {
   "cell_type": "markdown",
   "metadata": {
    "id": "VRqEQFJiJm9X"
   },
   "source": [
    "# Paso 7\n",
    "\n",
    "Tenemos la información de los hábitos de consumo de nuestros usuarios, incluyendo la cantidad gastada en cada una de sus categorías favoritas. La dirección está interesada en conocer la cantidad total gastada por el usuario.\n",
    "\n",
    "\n",
    "Calculemos este valor y despleguémoslo.\n"
   ]
  },
  {
   "cell_type": "code",
   "execution_count": 6,
   "metadata": {
    "colab": {
     "base_uri": "https://localhost:8080/"
    },
    "id": "sjNmuLsQJm9X",
    "outputId": "308483d6-8d3c-4763-9014-7e702307424f"
   },
   "outputs": [
    {
     "name": "stdout",
     "output_type": "stream",
     "text": [
      "1280\n"
     ]
    }
   ],
   "source": [
    "fav_categories_low = ['electronics', 'sport', 'books']\n",
    "spendings_per_category = [894, 213, 173]\n",
    "\n",
    "total_amount = spendings_per_category[0] + spendings_per_category[1] + spendings_per_category[2] # escribe tu código aquí\n",
    "\n",
    "print(total_amount)\n"
   ]
  },
  {
   "cell_type": "markdown",
   "metadata": {},
   "source": [
    "<div class=\"alert alert-block alert-success\">\n",
    "<b>Comentario del revisor</b> <a class=\"tocSkip\"></a>\n",
    "\n",
    "Bien, se calculo correctamente los gastos por cliente.\n",
    "</div>\n"
   ]
  },
  {
   "cell_type": "markdown",
   "metadata": {
    "id": "VMh87UdWJm9X"
   },
   "source": [
    "********Hint********\n",
    "\n",
    "¿Cuáles son los tres métodos que se pueden aplicar a una lista para calcular sus valores mínimo, máximo y total?\n"
   ]
  },
  {
   "cell_type": "markdown",
   "metadata": {
    "id": "zP0nVV5FJm9Y"
   },
   "source": [
    "# Paso 8\n",
    "\n",
    "La dirección de la empresa nos pidió pensar en una manera de resumir toda la información de un usuario. Tu objetivo es crear una cadena formateada que utilice información de las variables `user_id`, `user_name` y `user_age`.\n",
    "\n",
    "Esta es la cadena final que queremos crear: `User 32415 is mike who is 32 years old.` (El usuario 32415 es Mike, quien tiene 32 años).\n"
   ]
  },
  {
   "cell_type": "code",
   "execution_count": 7,
   "metadata": {
    "colab": {
     "base_uri": "https://localhost:8080/"
    },
    "id": "8mlIJr4OJm9Y",
    "outputId": "909d84d1-5723-4676-fb2d-92f8a8c15b7b"
   },
   "outputs": [
    {
     "name": "stdout",
     "output_type": "stream",
     "text": [
      "User 32415 is mike who is 32 years old.\n"
     ]
    }
   ],
   "source": [
    "user_id = '32415'\n",
    "user_name = ['mike', 'reed']\n",
    "user_age = 32\n",
    "\n",
    "user_info =f\"User {user_id} is {user_name[0]} who is {user_age} years old.\"  # escribe tu código aquí\n",
    "print(user_info)"
   ]
  },
  {
   "cell_type": "markdown",
   "metadata": {},
   "source": [
    "<div class=\"alert alert-block alert-success\">\n",
    "<b>Comentario del revisor</b> <a class=\"tocSkip\"></a>\n",
    "\n",
    "Buen uso de los prints, para mostrar la información solicitada.\n",
    "</div>\n"
   ]
  },
  {
   "cell_type": "markdown",
   "metadata": {
    "id": "vZCOPWq9Jm9Y"
   },
   "source": [
    "********Hint********\n",
    "\n",
    "Para crear una cadena, puedes utilizar el método `format()` o f-string. Para extraer el nombre de la lista `user_name`, puedes utilizar la segmentación.\n"
   ]
  },
  {
   "cell_type": "markdown",
   "metadata": {
    "id": "xOj8_G0ZO9mM"
   },
   "source": [
    "# Paso 9\n",
    "\n",
    "La dirección también quiere una forma fácil de conocer la cantidad de clientes con cuyos datos contamos. Tu objetivo es crear una cadena formateada que muestre la cantidad de datos de clientes registrados.\n",
    "\n",
    "Esta es la cadena final que queremos crear: `Hemos registrado datos de X clientes`.\n"
   ]
  },
  {
   "cell_type": "code",
   "execution_count": 8,
   "metadata": {
    "colab": {
     "base_uri": "https://localhost:8080/"
    },
    "id": "eGvjS1rkO9mS",
    "outputId": "ce65761f-07d9-463e-e645-4a69c4c9cd9f"
   },
   "outputs": [
    {
     "name": "stdout",
     "output_type": "stream",
     "text": [
      "We have registered data on 10 clients.\n"
     ]
    }
   ],
   "source": [
    "users = [\n",
    "    ['32415', ' mike_reed ', 32.0, ['ELECTRONICS', 'SPORT', 'BOOKS'], [894, 213, 173]],\n",
    "    ['31980', 'kate morgan', 24.0, ['CLOTHES', 'BOOKS'], [439, 390]],\n",
    "    ['32156', ' john doe ', 37.0, ['ELECTRONICS', 'HOME', 'FOOD'], [459, 120, 99]],\n",
    "    ['32761', 'SAMANTHA SMITH', 29.0, ['CLOTHES', 'ELECTRONICS', 'BEAUTY'], [299, 679, 85]],\n",
    "    ['32984', 'David White', 41.0, ['BOOKS', 'HOME', 'SPORT'], [234, 329, 243]],\n",
    "    ['33001', 'emily brown', 26.0, ['BEAUTY', 'HOME', 'FOOD'], [213, 659, 79]],\n",
    "    ['33767', ' Maria Garcia', 33.0, ['CLOTHES', 'FOOD', 'BEAUTY'], [499, 189, 63]],\n",
    "    ['33912', 'JOSE MARTINEZ', 22.0, ['SPORT', 'ELECTRONICS', 'HOME'], [259, 549, 109]],\n",
    "    ['34009', 'lisa wilson ', 35.0, ['HOME', 'BOOKS', 'CLOTHES'], [329, 189, 329]],\n",
    "    ['34278', 'James Lee', 28.0, ['BEAUTY', 'CLOTHES', 'ELECTRONICS'], [189, 299, 579]],\n",
    "]\n",
    "\n",
    "\n",
    "user_info = f\"We have registered data on {len(users)} clients.\" # escribe tu código\n",
    "print(user_info)"
   ]
  },
  {
   "cell_type": "markdown",
   "metadata": {},
   "source": [
    "<div class=\"alert alert-block alert-success\">\n",
    "<b>Comentario del revisor</b> <a class=\"tocSkip\"></a>\n",
    "\n",
    "Bien hecho, se realizaron estos cálculos correctamente.\n",
    "</div>\n"
   ]
  },
  {
   "cell_type": "markdown",
   "metadata": {
    "id": "B0oHnhDaO9mS"
   },
   "source": [
    "********Hint********\n",
    "\n",
    "Para crear una cadena, puedes utilizar el método `format()` o f-string. Para extraer la cantidad de clientes en la lista, puedes utilizar la función que devuelve la longitud de la lista.\n"
   ]
  },
  {
   "cell_type": "markdown",
   "metadata": {
    "id": "CVVBVYzORu7I"
   },
   "source": [
    "# Paso 10\n",
    "\n",
    "Apliquemos ahora todos los cambios a la lista de clientes. Para simplificar las cosas, te proporcionaremos una más corta.\n",
    "Debes:\n",
    "1. Eliminar todos los espacios iniciales y finales de los nombres, así como cualquier guion bajo.\n",
    "2. Convertir todas las edades en números enteros.\n",
    "3. Separar todos los nombres y apellidos en una sublista.\n",
    "\n",
    "Guarda la lista modificada como una nueva lista llamada `users_clean` y muéstrala en la pantalla.\n"
   ]
  },
  {
   "cell_type": "code",
   "execution_count": 7,
   "metadata": {
    "colab": {
     "base_uri": "https://localhost:8080/"
    },
    "id": "9qu_k6XURu7O",
    "outputId": "0bfb6d81-56c3-4c21-fa54-aa09b9752082"
   },
   "outputs": [
    {
     "name": "stdout",
     "output_type": "stream",
     "text": [
      "[['mike', 'reed'], 32, ['kate', 'morgan'], 24, ['john', 'doe'], 37]\n"
     ]
    }
   ],
   "source": [
    "users = [\n",
    "    ['32415', ' mike_reed ', 32.0, ['ELECTRONICS', 'SPORT', 'BOOKS'], [894, 213, 173]],\n",
    "    ['31980', 'kate morgan', 24.0, ['CLOTHES', 'BOOKS'], [439, 390]],\n",
    "    ['32156', ' john doe ', 37.0, ['ELECTRONICS', 'HOME', 'FOOD'], [459, 120, 99]],\n",
    "]\n",
    "\n",
    "users_clean = [] \n",
    "# Procesa al primer usuario\n",
    "user_name_1 = users[0][1]\n",
    "user_name_1 = user_name_1.strip()\n",
    "user_name_1 = user_name_1.replace('_',' ') # escribe tu código aquí\n",
    "\n",
    "user_age_1 = users[0][2]\n",
    "user_age_1 = int(user_age_1) # escribe tu código aquí\n",
    "\n",
    "user_name_1 =  user_name_1.split()  # escribe tu código aquí\n",
    "\n",
    "users_clean.append(user_name_1) # escribe tu código aquí \n",
    "users_clean.append(user_age_1)\n",
    "\n",
    "# Procesa al segundo usuario\n",
    "user_name_2 = users[1][1] #escribe tu código aquí\n",
    "\n",
    "user_age_2 = users[1][2] \n",
    "user_age_2 =  int(user_age_2) #escribe tu código aquí\n",
    "\n",
    "user_name_2 = user_name_2.split()  # escribe tu código aquí\n",
    "\n",
    "users_clean.append(user_name_2) # escribe tu código aquí\n",
    "users_clean.append(user_age_2)\n",
    "\n",
    "# Procesa al tercer usuario\n",
    "user_name_3 = users[2][1]\n",
    "user_name_3 = user_name_3.strip() # escribe tu código aquí\n",
    "\n",
    "user_age_3 = users[2][2]\n",
    "user_age_3 = int(user_age_3) # escribe tu código aquí\n",
    "\n",
    "user_name_3 = user_name_3.split() # escribe tu código aquí\n",
    "\n",
    "users_clean.append(user_name_3) # escribe tu código aquí\n",
    "users_clean.append(user_age_3)\n",
    "\n",
    "\n",
    "print(users_clean)\n"
   ]
  },
  {
   "cell_type": "markdown",
   "metadata": {},
   "source": [
    "<div class=\"alert alert-block alert-danger\">\n",
    "<b>Comentario del revisor</b> <a class=\"tocSkip\"></a>\n",
    "\n",
    "Tu código está incompleto.\n",
    "\n",
    "Te dejo un ejemplo para poder apoyarte.\n",
    "\n",
    "Si tienes dudas, puedes usar una celda markdown independiente para orientarte.\n",
    "\n",
    "```\n",
    "users_clean = []\n",
    "\n",
    "\n",
    "# Procesa al primer usuario\n",
    "user_name_1 = (users[0][1])  # Tomamos el segundo dato del primer string\n",
    "user_name_1 = user_name_1.strip() #quitamos espacios\n",
    "user_name_1 = user_name_1.replace(\"_\",\" \") # remplazamos _ por espacio\n",
    "\n",
    "user_age_1 = (users[0][2])\n",
    "user_age_1 = int(user_age_1) #tomamos el dato de la edad y hacemos entero \n",
    "\n",
    "user_name_1 = user_name_1.split() # Separamos el primer nombre\n",
    "\n",
    "users_clean.append(user_name_1)\n",
    "users_clean.append(user_age_1)\n",
    "```\n",
    "</div>\n"
   ]
  },
  {
   "cell_type": "markdown",
   "metadata": {},
   "source": [
    "**Gracias por la ayuda, pense que al haber pocas variables en el ejercicio tenia que limitarme y hacer algunas cosas juntas en algunas variables, pero ahora me doy cuenta que no me tengo que limitar a solo que veo en la pantalla.**\n",
    "**Aun así muchisimas gracias, no se que habría hecho sin tu ayuda :)**"
   ]
  },
  {
   "cell_type": "markdown",
   "metadata": {
    "id": "TXMzdgzkRu7P"
   },
   "source": [
    "********Hint********\n",
    "\n",
    "Para procesar a cada usuario, comienza por acceder a los elementos requeridos de la lista de usuarios. Utiliza el método `strip()` para eliminar los espacios iniciales y finales y el método `replace('_',' ')` para reemplazar los guiones bajos por espacios en los nombres. Convierte la edad a un número entero utilizando `int()`. Separa el nombre completo en nombre y apellido utilizando el método `split()`. Por último, `append` (agrega) los datos limpios a la lista `users_clean`.\n"
   ]
  },
  {
   "cell_type": "code",
   "execution_count": null,
   "metadata": {},
   "outputs": [],
   "source": [
    "#Realmente con el ultimo paso, espero que me puedan en que falle y en como deberia de haber hec"
   ]
  },
  {
   "cell_type": "markdown",
   "metadata": {},
   "source": [
    "<div class=\"alert alert-block alert-danger\">\n",
    "<b>Comentario del revisor</b> <a class=\"tocSkip\"></a>\n",
    "\n",
    "Hola,\n",
    "\n",
    "te quiero felicitar por tu proyecto, está bastante completo.\n",
    "\n",
    "Para poder aprobar tu trabajo, atiende al comentario rojo.\n",
    "\n",
    "Si tienes dudas o necesitas una mentoría personal, hazmelo saber.\n",
    "\n",
    "Te deseo mucho éxito en los siguientes sprints.\n",
    "\n",
    "Saludos, Marcos\n",
    "</div>\n"
   ]
  },
  {
   "cell_type": "markdown",
   "metadata": {},
   "source": [
    "**Gracias :) si en algun momento me vuelves a recibar, te voy a sorprender por lo bueno que sere en esto :D**"
   ]
  },
  {
   "cell_type": "markdown",
   "metadata": {},
   "source": [
    "<div class=\"alert alert-block alert-success\">\n",
    "<b>Comentario del revisor</b> <a class=\"tocSkip\"></a>\n",
    "\n",
    "¡Hola! Un gusto poder apoyarte, te deseo mucho éxito en lo siguientes sprints, sigue con esa motivación y llegarás muy lejos.\n",
    "</div>"
   ]
  },
  {
   "cell_type": "code",
   "execution_count": null,
   "metadata": {},
   "outputs": [],
   "source": []
  }
 ],
 "metadata": {
  "ExecuteTimeLog": [
   {
    "duration": 7,
    "start_time": "2025-03-10T18:00:08.300Z"
   },
   {
    "duration": 175,
    "start_time": "2025-03-10T18:00:22.531Z"
   },
   {
    "duration": 4,
    "start_time": "2025-03-10T18:01:48.920Z"
   },
   {
    "duration": 4,
    "start_time": "2025-03-10T18:02:20.384Z"
   },
   {
    "duration": 2,
    "start_time": "2025-03-10T18:02:35.264Z"
   },
   {
    "duration": 19,
    "start_time": "2025-03-10T18:06:42.308Z"
   },
   {
    "duration": 14,
    "start_time": "2025-03-10T18:12:09.451Z"
   },
   {
    "duration": 12,
    "start_time": "2025-03-10T18:12:31.559Z"
   },
   {
    "duration": 2,
    "start_time": "2025-03-10T18:14:38.788Z"
   },
   {
    "duration": 3,
    "start_time": "2025-03-10T18:15:44.167Z"
   },
   {
    "duration": 2,
    "start_time": "2025-03-10T18:15:49.002Z"
   },
   {
    "duration": 3,
    "start_time": "2025-03-10T18:18:25.146Z"
   },
   {
    "duration": 4,
    "start_time": "2025-03-10T18:19:13.971Z"
   },
   {
    "duration": 3,
    "start_time": "2025-03-10T18:19:39.970Z"
   },
   {
    "duration": 3,
    "start_time": "2025-03-10T18:32:39.796Z"
   },
   {
    "duration": 23,
    "start_time": "2025-03-10T18:33:19.689Z"
   },
   {
    "duration": 24,
    "start_time": "2025-03-10T18:33:38.123Z"
   },
   {
    "duration": 12,
    "start_time": "2025-03-10T18:38:29.927Z"
   },
   {
    "duration": 12,
    "start_time": "2025-03-10T18:38:45.488Z"
   },
   {
    "duration": 3,
    "start_time": "2025-03-10T18:40:59.980Z"
   },
   {
    "duration": 3,
    "start_time": "2025-03-10T18:41:26.505Z"
   },
   {
    "duration": 3,
    "start_time": "2025-03-10T18:42:13.709Z"
   },
   {
    "duration": 3,
    "start_time": "2025-03-10T18:44:03.163Z"
   },
   {
    "duration": 4,
    "start_time": "2025-03-10T18:44:09.446Z"
   },
   {
    "duration": 3,
    "start_time": "2025-03-10T18:46:27.354Z"
   },
   {
    "duration": 3,
    "start_time": "2025-03-10T18:50:32.691Z"
   },
   {
    "duration": 12,
    "start_time": "2025-03-10T18:51:26.677Z"
   },
   {
    "duration": 14,
    "start_time": "2025-03-10T18:53:05.174Z"
   },
   {
    "duration": 13,
    "start_time": "2025-03-10T18:53:15.260Z"
   },
   {
    "duration": 3,
    "start_time": "2025-03-10T18:54:06.236Z"
   },
   {
    "duration": 4,
    "start_time": "2025-03-10T18:54:30.651Z"
   },
   {
    "duration": 4,
    "start_time": "2025-03-10T18:55:10.780Z"
   },
   {
    "duration": 2,
    "start_time": "2025-03-10T18:55:23.386Z"
   },
   {
    "duration": 3,
    "start_time": "2025-03-10T18:56:36.724Z"
   },
   {
    "duration": 3,
    "start_time": "2025-03-10T18:56:51.822Z"
   },
   {
    "duration": 3,
    "start_time": "2025-03-10T18:57:09.839Z"
   },
   {
    "duration": 4,
    "start_time": "2025-03-10T18:57:18.998Z"
   },
   {
    "duration": 9,
    "start_time": "2025-03-10T18:57:59.383Z"
   },
   {
    "duration": 3,
    "start_time": "2025-03-10T18:59:12.839Z"
   },
   {
    "duration": 3,
    "start_time": "2025-03-10T18:59:42.250Z"
   },
   {
    "duration": 3,
    "start_time": "2025-03-10T18:59:50.997Z"
   },
   {
    "duration": 3,
    "start_time": "2025-03-10T19:01:22.011Z"
   },
   {
    "duration": 10,
    "start_time": "2025-03-10T22:49:04.297Z"
   },
   {
    "duration": 4,
    "start_time": "2025-03-10T22:49:14.233Z"
   },
   {
    "duration": 164,
    "start_time": "2025-03-10T22:50:01.534Z"
   },
   {
    "duration": 14,
    "start_time": "2025-03-10T22:51:32.304Z"
   },
   {
    "duration": 13,
    "start_time": "2025-03-10T22:51:49.524Z"
   },
   {
    "duration": 4,
    "start_time": "2025-03-10T22:52:25.118Z"
   },
   {
    "duration": 6,
    "start_time": "2025-03-10T22:53:53.626Z"
   },
   {
    "duration": 20,
    "start_time": "2025-03-10T22:55:10.489Z"
   },
   {
    "duration": 6,
    "start_time": "2025-03-10T22:55:16.822Z"
   },
   {
    "duration": 5,
    "start_time": "2025-03-10T22:55:43.612Z"
   },
   {
    "duration": 4,
    "start_time": "2025-03-10T23:01:06.520Z"
   },
   {
    "duration": 3,
    "start_time": "2025-03-10T23:02:22.279Z"
   },
   {
    "duration": 4,
    "start_time": "2025-03-10T23:02:39.151Z"
   },
   {
    "duration": 7,
    "start_time": "2025-03-10T23:09:15.412Z"
   },
   {
    "duration": 6,
    "start_time": "2025-03-10T23:09:31.707Z"
   },
   {
    "duration": 6,
    "start_time": "2025-03-10T23:09:38.360Z"
   },
   {
    "duration": 6,
    "start_time": "2025-03-10T23:11:45.409Z"
   },
   {
    "duration": 5,
    "start_time": "2025-03-10T23:11:54.668Z"
   },
   {
    "duration": 5,
    "start_time": "2025-03-10T23:12:04.030Z"
   },
   {
    "duration": 5,
    "start_time": "2025-03-10T23:12:24.614Z"
   },
   {
    "duration": 5,
    "start_time": "2025-03-10T23:14:30.841Z"
   },
   {
    "duration": 4,
    "start_time": "2025-03-10T23:44:35.883Z"
   },
   {
    "duration": 16,
    "start_time": "2025-03-10T23:45:08.457Z"
   },
   {
    "duration": 6,
    "start_time": "2025-03-11T04:03:16.447Z"
   },
   {
    "duration": 192,
    "start_time": "2025-03-11T04:12:23.013Z"
   },
   {
    "duration": 15,
    "start_time": "2025-03-11T04:14:44.703Z"
   },
   {
    "duration": 15,
    "start_time": "2025-03-11T04:15:30.565Z"
   },
   {
    "duration": 15,
    "start_time": "2025-03-11T04:16:35.334Z"
   },
   {
    "duration": 14,
    "start_time": "2025-03-11T04:17:02.812Z"
   },
   {
    "duration": 30,
    "start_time": "2025-03-11T04:19:26.987Z"
   },
   {
    "duration": 13,
    "start_time": "2025-03-11T04:19:37.646Z"
   },
   {
    "duration": 13,
    "start_time": "2025-03-11T04:20:41.935Z"
   },
   {
    "duration": 14,
    "start_time": "2025-03-11T04:21:17.827Z"
   },
   {
    "duration": 15,
    "start_time": "2025-03-11T04:22:31.092Z"
   },
   {
    "duration": 7,
    "start_time": "2025-03-11T04:23:53.434Z"
   },
   {
    "duration": 15,
    "start_time": "2025-03-11T04:24:10.452Z"
   },
   {
    "duration": 16,
    "start_time": "2025-03-11T04:24:33.725Z"
   },
   {
    "duration": 5,
    "start_time": "2025-03-11T04:25:18.576Z"
   },
   {
    "duration": 4,
    "start_time": "2025-03-11T04:25:20.322Z"
   },
   {
    "duration": 4,
    "start_time": "2025-03-11T04:26:10.664Z"
   },
   {
    "duration": 14,
    "start_time": "2025-03-11T04:26:39.202Z"
   },
   {
    "duration": 6,
    "start_time": "2025-03-11T04:27:18.557Z"
   },
   {
    "duration": 9,
    "start_time": "2025-03-11T04:27:31.634Z"
   },
   {
    "duration": 14,
    "start_time": "2025-03-11T04:27:48.264Z"
   },
   {
    "duration": 14,
    "start_time": "2025-03-11T04:28:22.930Z"
   },
   {
    "duration": 6,
    "start_time": "2025-03-11T04:36:56.971Z"
   },
   {
    "duration": 3,
    "start_time": "2025-03-11T04:36:57.611Z"
   },
   {
    "duration": 3,
    "start_time": "2025-03-11T04:36:58.208Z"
   },
   {
    "duration": 3,
    "start_time": "2025-03-11T04:36:58.844Z"
   },
   {
    "duration": 5,
    "start_time": "2025-03-11T04:36:59.503Z"
   },
   {
    "duration": 3,
    "start_time": "2025-03-11T04:37:00.164Z"
   },
   {
    "duration": 3,
    "start_time": "2025-03-11T04:37:00.861Z"
   },
   {
    "duration": 5,
    "start_time": "2025-03-11T04:37:01.542Z"
   },
   {
    "duration": 5,
    "start_time": "2025-03-11T04:37:02.246Z"
   },
   {
    "duration": 6,
    "start_time": "2025-03-12T18:52:25.443Z"
   },
   {
    "duration": 3,
    "start_time": "2025-03-12T18:52:34.508Z"
   },
   {
    "duration": 206,
    "start_time": "2025-03-12T19:23:24.364Z"
   },
   {
    "duration": 18,
    "start_time": "2025-03-12T19:24:02.484Z"
   },
   {
    "duration": 18,
    "start_time": "2025-03-12T19:24:16.433Z"
   },
   {
    "duration": 16,
    "start_time": "2025-03-12T19:25:04.842Z"
   },
   {
    "duration": 6,
    "start_time": "2025-03-12T19:28:18.241Z"
   }
  ],
  "colab": {
   "provenance": []
  },
  "kernelspec": {
   "display_name": "Python 3 (ipykernel)",
   "language": "python",
   "name": "python3"
  },
  "language_info": {
   "codemirror_mode": {
    "name": "ipython",
    "version": 3
   },
   "file_extension": ".py",
   "mimetype": "text/x-python",
   "name": "python",
   "nbconvert_exporter": "python",
   "pygments_lexer": "ipython3",
   "version": "3.9.19"
  },
  "toc": {
   "base_numbering": 1,
   "nav_menu": {},
   "number_sections": true,
   "sideBar": true,
   "skip_h1_title": true,
   "title_cell": "Table of Contents",
   "title_sidebar": "Contents",
   "toc_cell": false,
   "toc_position": {},
   "toc_section_display": true,
   "toc_window_display": false
  }
 },
 "nbformat": 4,
 "nbformat_minor": 1
}
