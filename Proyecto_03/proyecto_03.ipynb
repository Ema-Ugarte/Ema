{
 "cells": [
  {
   "cell_type": "markdown",
   "metadata": {},
   "source": [
    "\n",
    "**Comentario del Revisor**\n",
    "\n",
    "Hola!\n",
    "\n",
    "Soy Juan Manuel Romero, pero siéntete libre de llamarme Juanma. Soy code reviewer en Tripleten y hoy estaré revisando tu entrega.\n",
    "\n",
    "Para simular la dinámica de un ambiente de trabajo, si veo algún error, en primer instancia solo los señalaré, dándote la oportunidad de encontrarlos y corregirlos por tu cuenta. En un trabajo real, el líder de tu equipo hará una dinámica similar. En caso de que no puedas resolver la tarea, te daré una información más precisa en la próxima revisión. \n",
    "\n",
    "Solo un aviso rápido: cuando estés revisando el proyecto, por favor deja mis comentarios originales tal como están. De esta manera, podemos seguir fácilmente el progreso y asegurarnos de que no se nos pase nada por alto. Y, si realizas algún cambio basado en mis comentarios, sería genial si pudieras resaltar esas actualizaciones para que se destaquen.\n",
    "\n",
    "Puedes encontrar mis comentarios en cajas verdes, amarillas o rojas como estas:\n",
    "\n",
    "<div class=\"alert alert-block alert-success\"> \n",
    "<b>Comentario del Revisor</b> <a class=\"tocSkip\"></a>\n",
    "\n",
    "Éxito. Todo se ha hecho correctamente.\n",
    "\n",
    "</div>\n",
    "\n",
    "\n",
    "<div class=\"alert alert-block alert-warning\"> \n",
    "<b>Comentario del Revisor</b> <a class=\"tocSkip\"></a>\n",
    "\n",
    "Observaciones. Algunas recomendaciones.\n",
    "\n",
    "</div> \n",
    "\n",
    "\n",
    "<div class=\"alert alert-block alert-danger\">\n",
    "<b>Comentario del Revisor</b> <a class=\"tocSkip\"></a>\n",
    "\n",
    "Requiere corrección. El bloque requiere algunas correcciones. El trabajo no puede ser aceptado con los comentarios en rojo.\n",
    "\n",
    "</div>\n",
    "\n",
    "Puedes responderme usando esto:\n",
    "\n",
    "<div class=\"alert alert-block alert-info\"> <b>Respuesta del estudiante.</b> <a class=\"tocSkip\"></a> </div>"
   ]
  },
  {
   "cell_type": "code",
   "execution_count": null,
   "metadata": {},
   "outputs": [],
   "source": []
  },
  {
   "cell_type": "markdown",
   "metadata": {},
   "source": [
    "\n",
    "<div class=\"alert alert-block alert-success\"> \n",
    "<b>COMENTARIO GENERAL #1</b> <a class=\"tocSkip\"></a>\n",
    "\n",
    "Muy buen trabajo Emanuel! \n",
    "\n",
    "<div class=\"alert alert-block alert-danger\">\n",
    "<b>COMENTARIO GENERAL #1</b> <a class=\"tocSkip\"></a>\n",
    "\n",
    "Te he dejado algunos comentarios, pero para poder darlo por aprobado debes completar los pasos de la siguiente lista que no estan marcados como completos:\n",
    "\n",
    "</div>\n",
    "\n",
    "- [ ]  Se realiza correctamente la prueba de hipótesis\n",
    "\t- [x] Conteo de canciones reproducidas en cada ciudad.\n",
    "\t- [x] Conteo de canciones reproducidas por día\n",
    "\t- [ ] Se define correctamente la función para contar el número de canciones reproducidas en un determinado día y ciudad, utilizando dos parámetros 'day' y 'city'.\n",
    "\t- [ ] Los conteos que se obtienen son los esperados.\n",
    "\t- [ ] Se decide si aceptar o no la hipótesis como verdadera, justificando correctamente esta decisión.\n",
    "\n",
    "</div>"
   ]
  },
  {
   "cell_type": "markdown",
   "metadata": {
    "id": "E0vqbgi9ay0H"
   },
   "source": [
    "# Déjame escuchar música"
   ]
  },
  {
   "cell_type": "markdown",
   "metadata": {
    "id": "fhq_eyov_Zcs"
   },
   "source": [
    "# Contenido <a id='back'></a>\n",
    "\n",
    "* [Introducción](#intro)\n",
    "* [Etapa 1. Descripción de los datos](#data_review)\n",
    "    * [Conclusiones](#data_review_conclusions)\n",
    "* [Etapa 2. Preprocesamiento de datos](#data_preprocessing)\n",
    "    * [2.1 Estilo del encabezado](#header_style)\n",
    "    * [2.2 Valores ausentes](#missing_values)\n",
    "    * [2.3 Duplicados](#duplicates)\n",
    "    * [2.4 Conclusiones](#data_preprocessing_conclusions)\n",
    "* [Etapa 3. Prueba de hipótesis](#hypothesis)\n",
    "    * [3.1 Hipótesis 1: actividad de los usuarios y las usuarias en las dos ciudades](#activity)\n",
    "* [Conclusiones](#end)"
   ]
  },
  {
   "cell_type": "markdown",
   "metadata": {
    "id": "VUC88oWjTJw2"
   },
   "source": [
    "## Introducción <a id='intro'></a>\n",
    "Como analista de datos, tu trabajo consiste en analizar datos para extraer información valiosa de ellos y tomar decisiones en consecuencia. Esto implica pasar por diferentes etapas, como la descripción general de los datos, el preprocesamiento y la prueba de hipótesis.\n",
    "\n",
    "Siempre que investiguemos, necesitamos formular hipótesis que después podamos probar. A veces, aceptaremos estas hipótesis; otras veces, las rechazaremos. Para tomar las decisiones adecuadas, una empresa debe ser capaz de entender si está haciendo las suposiciones correctas.\n",
    "\n",
    "En este proyecto, compararás las preferencias musicales de las ciudades de Springfield y Shelbyville. Estudiarás datos reales de música online para probar la hipótesis que planteamos a continuación y compararás el comportamiento de los usuarios de estas dos ciudades.\n",
    "\n",
    "### Objetivo:\n",
    "Probar la hipótesis:\n",
    "1. La actividad de los usuarios difiere según el día de la semana y dependiendo de la ciudad.\n",
    "\n",
    "\n",
    "### Etapas\n",
    "Los datos del comportamiento de los usuarios se almacenan en el archivo `/datasets/music_project_en.csv`. No hay información sobre la calidad de los datos, así que necesitarás examinarlos antes de probar la hipótesis.\n",
    "\n",
    "Primero, debes evaluar la calidad de los datos y ver si los problemas son significativos. Más tarde, durante el preprocesamiento de datos, deberás abordar los problemas más críticos.\n",
    "\n",
    "Tu proyecto contará con estas tres etapas:\n",
    " 1. Descripción de los datos.\n",
    " 2. Preprocesamiento de los datos.\n",
    " 3. Prueba de la hipótesis.\n",
    "\n",
    "\n",
    "\n",
    "\n",
    "\n",
    "\n"
   ]
  },
  {
   "cell_type": "markdown",
   "metadata": {
    "id": "hDt6pg-Rw-1U"
   },
   "source": [
    "[Volver a Contenidos](#back)"
   ]
  },
  {
   "cell_type": "markdown",
   "metadata": {
    "id": "Ml1hmfXC_Zcs"
   },
   "source": [
    "## Etapa 1. Descripción de los datos <a id='data_review'></a>\n",
    "\n",
    "Abre los datos y examínalos."
   ]
  },
  {
   "cell_type": "markdown",
   "metadata": {
    "id": "57eAOGIz_Zcs"
   },
   "source": [
    "Etapa 1.1. Necesitarás `pandas`, así que impórtalo."
   ]
  },
  {
   "cell_type": "code",
   "execution_count": 2,
   "metadata": {
    "id": "AXN7PHPN_Zcs"
   },
   "outputs": [],
   "source": [
    "# Importa pandas\n",
    "import pandas as pd"
   ]
  },
  {
   "cell_type": "markdown",
   "metadata": {
    "id": "SG23P8tt_Zcs"
   },
   "source": [
    "Etapa 1.2. Lee el archivo `music_project_en.csv` de la carpeta `/datasets/` y guárdalo en la variable `df`:"
   ]
  },
  {
   "cell_type": "code",
   "execution_count": 3,
   "metadata": {
    "id": "fFVu7vqh_Zct"
   },
   "outputs": [],
   "source": [
    "# Lee el archivo y almacénalo en df\n",
    "df = pd.read_csv(\"/datasets/music_project_en.csv\")"
   ]
  },
  {
   "cell_type": "markdown",
   "metadata": {
    "id": "rDoOMd3uTqnZ"
   },
   "source": [
    "Etapa 1.3. Muestra las 10 primeras filas de la tabla:"
   ]
  },
  {
   "cell_type": "code",
   "execution_count": 8,
   "metadata": {
    "id": "oWTVX3gW_Zct"
   },
   "outputs": [
    {
     "data": {
      "text/html": [
       "<div>\n",
       "<style scoped>\n",
       "    .dataframe tbody tr th:only-of-type {\n",
       "        vertical-align: middle;\n",
       "    }\n",
       "\n",
       "    .dataframe tbody tr th {\n",
       "        vertical-align: top;\n",
       "    }\n",
       "\n",
       "    .dataframe thead th {\n",
       "        text-align: right;\n",
       "    }\n",
       "</style>\n",
       "<table border=\"1\" class=\"dataframe\">\n",
       "  <thead>\n",
       "    <tr style=\"text-align: right;\">\n",
       "      <th></th>\n",
       "      <th>userID</th>\n",
       "      <th>Track</th>\n",
       "      <th>artist</th>\n",
       "      <th>genre</th>\n",
       "      <th>City</th>\n",
       "      <th>time</th>\n",
       "      <th>Day</th>\n",
       "    </tr>\n",
       "  </thead>\n",
       "  <tbody>\n",
       "    <tr>\n",
       "      <th>0</th>\n",
       "      <td>FFB692EC</td>\n",
       "      <td>Kamigata To Boots</td>\n",
       "      <td>The Mass Missile</td>\n",
       "      <td>rock</td>\n",
       "      <td>Shelbyville</td>\n",
       "      <td>20:28:33</td>\n",
       "      <td>Wednesday</td>\n",
       "    </tr>\n",
       "    <tr>\n",
       "      <th>1</th>\n",
       "      <td>55204538</td>\n",
       "      <td>Delayed Because of Accident</td>\n",
       "      <td>Andreas Rönnberg</td>\n",
       "      <td>rock</td>\n",
       "      <td>Springfield</td>\n",
       "      <td>14:07:09</td>\n",
       "      <td>Friday</td>\n",
       "    </tr>\n",
       "    <tr>\n",
       "      <th>2</th>\n",
       "      <td>20EC38</td>\n",
       "      <td>Funiculì funiculà</td>\n",
       "      <td>Mario Lanza</td>\n",
       "      <td>pop</td>\n",
       "      <td>Shelbyville</td>\n",
       "      <td>20:58:07</td>\n",
       "      <td>Wednesday</td>\n",
       "    </tr>\n",
       "    <tr>\n",
       "      <th>3</th>\n",
       "      <td>A3DD03C9</td>\n",
       "      <td>Dragons in the Sunset</td>\n",
       "      <td>Fire + Ice</td>\n",
       "      <td>folk</td>\n",
       "      <td>Shelbyville</td>\n",
       "      <td>08:37:09</td>\n",
       "      <td>Monday</td>\n",
       "    </tr>\n",
       "    <tr>\n",
       "      <th>4</th>\n",
       "      <td>E2DC1FAE</td>\n",
       "      <td>Soul People</td>\n",
       "      <td>Space Echo</td>\n",
       "      <td>dance</td>\n",
       "      <td>Springfield</td>\n",
       "      <td>08:34:34</td>\n",
       "      <td>Monday</td>\n",
       "    </tr>\n",
       "    <tr>\n",
       "      <th>5</th>\n",
       "      <td>842029A1</td>\n",
       "      <td>Chains</td>\n",
       "      <td>Obladaet</td>\n",
       "      <td>rusrap</td>\n",
       "      <td>Shelbyville</td>\n",
       "      <td>13:09:41</td>\n",
       "      <td>Friday</td>\n",
       "    </tr>\n",
       "    <tr>\n",
       "      <th>6</th>\n",
       "      <td>4CB90AA5</td>\n",
       "      <td>True</td>\n",
       "      <td>Roman Messer</td>\n",
       "      <td>dance</td>\n",
       "      <td>Springfield</td>\n",
       "      <td>13:00:07</td>\n",
       "      <td>Wednesday</td>\n",
       "    </tr>\n",
       "    <tr>\n",
       "      <th>7</th>\n",
       "      <td>F03E1C1F</td>\n",
       "      <td>Feeling This Way</td>\n",
       "      <td>Polina Griffith</td>\n",
       "      <td>dance</td>\n",
       "      <td>Springfield</td>\n",
       "      <td>20:47:49</td>\n",
       "      <td>Wednesday</td>\n",
       "    </tr>\n",
       "    <tr>\n",
       "      <th>8</th>\n",
       "      <td>8FA1D3BE</td>\n",
       "      <td>L’estate</td>\n",
       "      <td>Julia Dalia</td>\n",
       "      <td>ruspop</td>\n",
       "      <td>Springfield</td>\n",
       "      <td>09:17:40</td>\n",
       "      <td>Friday</td>\n",
       "    </tr>\n",
       "    <tr>\n",
       "      <th>9</th>\n",
       "      <td>E772D5C0</td>\n",
       "      <td>Pessimist</td>\n",
       "      <td>NaN</td>\n",
       "      <td>dance</td>\n",
       "      <td>Shelbyville</td>\n",
       "      <td>21:20:49</td>\n",
       "      <td>Wednesday</td>\n",
       "    </tr>\n",
       "  </tbody>\n",
       "</table>\n",
       "</div>"
      ],
      "text/plain": [
       "     userID                        Track            artist   genre  \\\n",
       "0  FFB692EC            Kamigata To Boots  The Mass Missile    rock   \n",
       "1  55204538  Delayed Because of Accident  Andreas Rönnberg    rock   \n",
       "2    20EC38            Funiculì funiculà       Mario Lanza     pop   \n",
       "3  A3DD03C9        Dragons in the Sunset        Fire + Ice    folk   \n",
       "4  E2DC1FAE                  Soul People        Space Echo   dance   \n",
       "5  842029A1                       Chains          Obladaet  rusrap   \n",
       "6  4CB90AA5                         True      Roman Messer   dance   \n",
       "7  F03E1C1F             Feeling This Way   Polina Griffith   dance   \n",
       "8  8FA1D3BE                     L’estate       Julia Dalia  ruspop   \n",
       "9  E772D5C0                    Pessimist               NaN   dance   \n",
       "\n",
       "        City        time        Day  \n",
       "0  Shelbyville  20:28:33  Wednesday  \n",
       "1  Springfield  14:07:09     Friday  \n",
       "2  Shelbyville  20:58:07  Wednesday  \n",
       "3  Shelbyville  08:37:09     Monday  \n",
       "4  Springfield  08:34:34     Monday  \n",
       "5  Shelbyville  13:09:41     Friday  \n",
       "6  Springfield  13:00:07  Wednesday  \n",
       "7  Springfield  20:47:49  Wednesday  \n",
       "8  Springfield  09:17:40     Friday  \n",
       "9  Shelbyville  21:20:49  Wednesday  "
      ]
     },
     "execution_count": 8,
     "metadata": {},
     "output_type": "execute_result"
    }
   ],
   "source": [
    "# Obtén las 10 primeras filas de la tabla df\n",
    "df.head(10)"
   ]
  },
  {
   "cell_type": "markdown",
   "metadata": {
    "id": "EO73Kwic_Zct"
   },
   "source": [
    "Etapa 1.4. Obtén la información general sobre la tabla con el método info()."
   ]
  },
  {
   "cell_type": "code",
   "execution_count": 4,
   "metadata": {
    "id": "DSf2kIb-_Zct"
   },
   "outputs": [
    {
     "name": "stdout",
     "output_type": "stream",
     "text": [
      "<class 'pandas.core.frame.DataFrame'>\n",
      "RangeIndex: 65079 entries, 0 to 65078\n",
      "Data columns (total 7 columns):\n",
      " #   Column    Non-Null Count  Dtype \n",
      "---  ------    --------------  ----- \n",
      " 0     userID  65079 non-null  object\n",
      " 1   Track     63736 non-null  object\n",
      " 2   artist    57512 non-null  object\n",
      " 3   genre     63881 non-null  object\n",
      " 4     City    65079 non-null  object\n",
      " 5   time      65079 non-null  object\n",
      " 6   Day       65079 non-null  object\n",
      "dtypes: object(7)\n",
      "memory usage: 3.5+ MB\n"
     ]
    }
   ],
   "source": [
    "# Obtén la información general sobre nuestros datos\n",
    "df.info()"
   ]
  },
  {
   "cell_type": "markdown",
   "metadata": {},
   "source": [
    "<div class=\"alert alert-block alert-success\"> \n",
    "<b>Comentario del Revisor #1</b> <a class=\"tocSkip\"></a>\n",
    "\n",
    "Excelente trabajo! Has utilizado correctamente los métodos _head()_ e _info()_ para obtener una vista rápida del dataset. _head()_ te muestra las primeras filas del dataset, lo que es útil para tener una idea general de la estructura y los valores, mientras que _info()_ te proporciona un resumen de las columnas, tipos de datos y valores faltantes.\n",
    "\n",
    "<div class=\"alert alert-block alert-warning\"> \n",
    "<b>Comentario del Revisor #1</b> <a class=\"tocSkip\"></a>\n",
    "\n",
    "En Jupyter Notebook, puedes simplemente escribir `df.head()` sin necesidad de `print()`. La última expresión de una celda se muestra automáticamente, y al omitir `print()`, la salida suele verse más clara y mejor formateada.\n",
    "\n",
    "De forma similar, no es necesario usar `print(df.info())` en Jupyter Notebook porque `df.info()` ya muestra la información directamente en la salida sin necesidad de `print()`. A diferencia de otros métodos, `df.info()` no devuelve un valor; simplemente imprime la información en la consola.\n",
    "\n",
    "</div>\n",
    "\n",
    "</div>"
   ]
  },
  {
   "cell_type": "markdown",
   "metadata": {
    "id": "TaQ2Iwbr_Zct"
   },
   "source": [
    "Estas son nuestras observaciones sobre la tabla. Contiene siete columnas que almacenan los mismos tipos de datos: `object`.\n",
    "\n",
    "Según la documentación:\n",
    "- `' userID'`: identificador del usuario;\n",
    "- `'Track'`: título de la canción;\n",
    "- `'artist'`: nombre del artista;\n",
    "- `'genre'`: género de la canción;\n",
    "- `'City'`: ciudad del usuario;\n",
    "- `'time'`: la hora exacta en la que se reprodujo la canción;\n",
    "- `'Day'`: día de la semana.\n",
    "\n",
    "Podemos ver tres problemas con el estilo en los encabezados de la tabla:\n",
    "1. Algunos encabezados están en mayúsculas, otros en minúsculas.\n",
    "2. Hay espacios en algunos encabezados.\n",
    "3. `Detecta el tercer problema por tu cuenta y descríbelo aquí`.\n",
    "\n",
    "\n"
   ]
  },
  {
   "cell_type": "markdown",
   "metadata": {
    "id": "MCB6-dXG_Zct"
   },
   "source": [
    "### Escribe algunas observaciones por tu parte. Contesta a las siguientes preguntas: <a id='data_review_conclusions'></a>\n",
    "\n",
    "`1.   ¿Qué tipo de datos hay en las filas? ¿Cómo podemos saber qué almacenan las columnas?`\n",
    "\n",
    "`2.   ¿Hay suficientes datos para proporcionar respuestas a nuestra hipótesis o necesitamos más información?`\n",
    "\n",
    "`3.   ¿Notaste algún problema en los datos, como valores ausentes, duplicados o tipos de datos incorrectos?`"
   ]
  },
  {
   "cell_type": "markdown",
   "metadata": {
    "id": "emewmQcy3m_F"
   },
   "source": [
    "Escribe aquí tus respuestas:\n",
    "\n",
    "1.Los tipos de que hay en las filas son del tipo \"object\" podemos saber que almacenan las colunmas al usar el metedo \"head\" y \"tail\" si solo queremos ver las primeras filas o ultimas filas o tambien podemos el metodo \"sample\" para poder ver filas de manera aleatoria.  \n",
    "\n",
    "2.Me parece que hay suficientes datos, pero creo que podemos sacar mejores respuestas si agregamos la informacion faltante a las columnas de \"artist\" y \"genre\".\n",
    "\n",
    "3.Al parecer tenemos valores ausentes y filas duplicadas podemos verficar esto usando el metedo \"isna\" y \"duplicated\""
   ]
  },
  {
   "cell_type": "markdown",
   "metadata": {},
   "source": [
    "<div class=\"alert alert-block alert-success\"> \n",
    "<b>Comentario del Revisor #1</b> <a class=\"tocSkip\"></a>\n",
    "\n",
    "Muy bien! Has respondido todas las preguntas propuestas correctamente.\n",
    "\n",
    "\n",
    "</div>"
   ]
  },
  {
   "cell_type": "markdown",
   "metadata": {
    "id": "3eL__vcwViOi"
   },
   "source": [
    "[Volver a Contenidos](#back)"
   ]
  },
  {
   "cell_type": "markdown",
   "metadata": {
    "id": "SjYF6Ub9_Zct"
   },
   "source": [
    "## Etapa 2. Preprocesamiento de los datos <a id='data_preprocessing'></a>\n",
    "\n",
    "Tu objetivo aquí es preparar los datos para analizarlos.\n",
    "El primer paso es resolver los problemas con los encabezados. Después podemos avanzar a los valores ausentes y duplicados. ¡Empecemos!\n",
    "\n",
    "Vamos a corregir el formato en los encabezados de la tabla.\n"
   ]
  },
  {
   "cell_type": "markdown",
   "metadata": {
    "id": "dIaKXr29_Zct"
   },
   "source": [
    "### Estilo del encabezado <a id='header_style'></a>\n",
    "Etapa 2.1. Muestra los encabezados de la tabla (los nombres de las columnas):"
   ]
  },
  {
   "cell_type": "code",
   "execution_count": 11,
   "metadata": {
    "id": "oKOTdF_Q_Zct"
   },
   "outputs": [
    {
     "name": "stdout",
     "output_type": "stream",
     "text": [
      "Index(['  userID', 'Track', 'artist', 'genre', '  City  ', 'time', 'Day'], dtype='object')\n"
     ]
    }
   ],
   "source": [
    "# Muestra los nombres de las columnas\n",
    "print(df.columns)"
   ]
  },
  {
   "cell_type": "code",
   "execution_count": 12,
   "metadata": {
    "id": "Un4tf8yr-GN2"
   },
   "outputs": [
    {
     "name": "stdout",
     "output_type": "stream",
     "text": [
      "Index(['user_id', 'track', 'artist', 'genre', 'city', 'time', 'day'], dtype='object')\n"
     ]
    }
   ],
   "source": [
    "New_columns = {\"  userID\": \"user_id\",\n",
    "              \"Track\": \"track\",\n",
    "              \"  City  \": \"city\",\n",
    "              \"Day\": \"day\"\n",
    "              }\n",
    "df.rename(columns=  New_columns, inplace=True)\n",
    "\n",
    "print(df.columns)"
   ]
  },
  {
   "cell_type": "markdown",
   "metadata": {
    "id": "zj5534cv_Zct"
   },
   "source": [
    "Vamos cambiar los encabezados de la tabla siguiendo las reglas estilísticas convencionales:\n",
    "*   Todos los caracteres deben ser minúsculas.\n",
    "*   Elimina los espacios.\n",
    "*   Si el nombre tiene varias palabras, utiliza snake_case.\n"
   ]
  },
  {
   "cell_type": "markdown",
   "metadata": {
    "id": "Xu0zkfe5zNJe"
   },
   "source": [
    "Anteriormente, aprendiste una forma automática de cambiar el nombre de las columnas. Vamos a aplicarla ahora.\n",
    "\n",
    "Etapa 2.2. Utiliza el bucle for para iterar sobre los nombres de las columnas y poner todos los caracteres en minúsculas. Cuando hayas terminado, vuelve a mostrar los encabezados de la tabla:"
   ]
  },
  {
   "cell_type": "code",
   "execution_count": 7,
   "metadata": {
    "id": "6I_RwwMhzM4e"
   },
   "outputs": [],
   "source": [
    "# Bucle en los encabezados que lo pone todo en minúsculas\n",
    "Columns_new = []\n",
    "for old_columns in df.columns:\n",
    "    Columns_lower = old_columns.lower()\n",
    "    \n",
    "    Columns_new.append(Columns_lower)\n",
    "                         \n",
    "        \n",
    "df.columns = Columns_new"
   ]
  },
  {
   "cell_type": "markdown",
   "metadata": {},
   "source": [
    "<div class=\"alert alert-block alert-warning\"> \n",
    "<b>Comentario del Revisor #1</b> <a class=\"tocSkip\"></a>\n",
    "\n",
    "Para mejorar la eficiencia y claridad del código, puedes usar una comprensión de listas en lugar del bucle `for`, lo que hace el proceso más compacto y rápido. Además, la función `str.lower()` ya está optimizada para este tipo de transformación. Aquí tienes una versión mejorada:\n",
    "\n",
    "\tdf.columns = [col.lower() for col in df.columns]\n",
    "\n",
    "Si además de convertir los nombres de las columnas a minúsculas, quieres eliminar los espacios en blanco al inicio y al final, puedes optimizar el código combinando ambos pasos en una sola comprensión de listas: \n",
    "\n",
    "\tdf.columns = [col.strip().lower() for col in df.columns]\n",
    "\n",
    "De forma similar, se pueden aplicar muchos cambios. \n",
    "\n",
    "</div>"
   ]
  },
  {
   "cell_type": "markdown",
   "metadata": {},
   "source": [
    "Ooo entonces podemos usar bucles \"for\" dentro de variables :0\n",
    "    y supungo que eso puede hacer mas eficiente el codigo\n",
    "    "
   ]
  },
  {
   "cell_type": "markdown",
   "metadata": {
    "id": "pweIRxjSzPYW"
   },
   "source": [
    "Etapa 2.3. Ahora, utilizando el mismo método, elimina los espacios al principio y al final de los nombres de las columnas y muestra los nombres de las columnas de nuevo:"
   ]
  },
  {
   "cell_type": "code",
   "execution_count": 8,
   "metadata": {
    "id": "vVQXbFyJzSYl"
   },
   "outputs": [],
   "source": [
    "# Bucle en los encabezados que elimina los espacios\n",
    "Columns_strip = old_columns.strip()\n",
    "\n",
    "Columns_new.append(Columns_strip)\n"
   ]
  },
  {
   "cell_type": "markdown",
   "metadata": {
    "id": "yCb8MW1JzURd"
   },
   "source": [
    "Etapa 2.4. Necesitamos aplicar la regla de snake_case en la columna `userid`. Debe ser `user_id`. Cambia el nombre de esta columna y muestra los nombres de todas las columnas cuando hayas terminado."
   ]
  },
  {
   "cell_type": "code",
   "execution_count": 9,
   "metadata": {
    "id": "ISlFqs5y_Zct"
   },
   "outputs": [],
   "source": [
    "# Cambia el nombre de la columna \"userid\"\n",
    "Columns_replace = old_columns.replace(\"\", \"_\" )\n",
    "\n",
    "Columns_new.append(Columns_replace)"
   ]
  },
  {
   "cell_type": "markdown",
   "metadata": {
    "id": "1dqbh00J_Zct"
   },
   "source": [
    "Etapa 2.5. Comprueba el resultado. Muestra los encabezados una vez más:"
   ]
  },
  {
   "cell_type": "code",
   "execution_count": 10,
   "metadata": {
    "id": "d4NOAmTW_Zct"
   },
   "outputs": [
    {
     "name": "stdout",
     "output_type": "stream",
     "text": [
      "Index(['user_id', 'track', 'artist', 'genre', 'city', 'time', 'day'], dtype='object')\n"
     ]
    }
   ],
   "source": [
    "# Comprueba el resultado: lista de encabezados\n",
    "print(df.columns)"
   ]
  },
  {
   "cell_type": "markdown",
   "metadata": {},
   "source": [
    "<div class=\"alert alert-block alert-success\"> \n",
    "<b>Comentario del Revisor #1</b> <a class=\"tocSkip\"></a>\n",
    "\n",
    "Excelente! Has renombrado los encabezados de manera correcta, obteniendo la lista exacta de `['user_id', 'track', 'artist', 'genre', 'city', 'time', 'day']`. Tener encabezados claros y bien nombrados facilita la manipulación y el análisis posterior del dataset. ¡Buen trabajo!\n",
    "\n",
    "</div>"
   ]
  },
  {
   "cell_type": "markdown",
   "metadata": {
    "id": "xYJk6ksJVpOl"
   },
   "source": [
    "[Volver a Contenidos](#back)"
   ]
  },
  {
   "cell_type": "markdown",
   "metadata": {
    "id": "5ISfbcfY_Zct"
   },
   "source": [
    "### Valores ausentes <a id='missing_values'></a>\n",
    " Etapa 2.5. Primero, encuentra el número de valores ausentes en la tabla. Debes utilizar dos métodos para obtener el número de valores ausentes."
   ]
  },
  {
   "cell_type": "code",
   "execution_count": 13,
   "metadata": {
    "id": "RskX29qr_Zct"
   },
   "outputs": [
    {
     "name": "stdout",
     "output_type": "stream",
     "text": [
      "user_id       0\n",
      "track      1343\n",
      "artist     7567\n",
      "genre      1198\n",
      "city          0\n",
      "time          0\n",
      "day           0\n",
      "dtype: int64\n"
     ]
    }
   ],
   "source": [
    "# Calcula el número de valores ausentes\n",
    "print(df.isna().sum())"
   ]
  },
  {
   "cell_type": "markdown",
   "metadata": {},
   "source": [
    "<div class=\"alert alert-block alert-success\"> \n",
    "<b>Comentario del Revisor #1</b> <a class=\"tocSkip\"></a>\n",
    "\n",
    "Has encontrado los valores ausentes en el dataset, lo que es un paso crucial en la limpieza de datos. Identificar los valores faltantes es esencial para tomar decisiones sobre cómo manejarlos, ya que pueden afectar los análisis futuros.\n",
    "\n",
    "</div>"
   ]
  },
  {
   "cell_type": "markdown",
   "metadata": {
    "id": "qubhgnlO_Zct"
   },
   "source": [
    "No todos los valores ausentes afectan de la misma forma a la investigación. Por ejemplo, los valores ausentes en 'track' y 'artist' no son cruciales para el análisis, ya que estos datos son más descriptivos que analíticos. Por eso, puedes reemplazarlos directamente con un valor predeterminado como el string 'unknown' (desconocido)."
   ]
  },
  {
   "cell_type": "markdown",
   "metadata": {
    "id": "gzJd_997466T"
   },
   "source": [
    "En cambio, los valores ausentes en 'genre' sí pueden influir en la comparación entre las preferencias musicales de Springfield y Shelbyville. En un escenario real, lo ideal sería investigar por qué faltan estos datos e intentar recuperarlos. Pero en este proyecto no tenemos esa posibilidad, así que deberás rellenar esos valores con un valor predeterminado.\n"
   ]
  },
  {
   "cell_type": "markdown",
   "metadata": {
    "id": "5IzUHGWE5Els"
   },
   "source": [
    "Como vimos anteriormente en las lecciones, la mejor manera de hacerlo es crear una lista con los nombres de las columnas que necesitan reemplazarse.  Luego, utilizar esta lista para iterar sobre cada columna y realizar el reemplazo correspondiente."
   ]
  },
  {
   "cell_type": "markdown",
   "metadata": {
    "id": "fSv2laPA_Zct"
   },
   "source": [
    "Etapa 2.6. Sustituye los valores ausentes en las columnas `'track'`, `'artist'` y `'genre'` con el string `'unknown'`.\n",
    "\n",
    "1. Crea una lista llamada columns_to_replace que contenga los nombres de las columnas 'track', 'artist' y 'genre'.\n",
    "\n",
    "2. Usa un bucle for para iterar sobre cada columna en columns_to_replace.\n",
    "\n",
    "3. Dentro del bucle, sustituye los valores ausentes en cada columna con el string `'unknown'`."
   ]
  },
  {
   "cell_type": "code",
   "execution_count": 14,
   "metadata": {
    "id": "KplB5qWs_Zct"
   },
   "outputs": [],
   "source": [
    "# Bucle en los encabezados reemplazando los valores ausentes con 'unknown'\n",
    "columns_to_replace = [\"track\", \"artist\", \"genre\"]\n",
    "\n",
    "for col_new in columns_to_replace:\n",
    "    df[col_new].fillna(\"unknown\", inplace=True)\n",
    "    "
   ]
  },
  {
   "cell_type": "markdown",
   "metadata": {
    "id": "Ilsm-MZo_Zct"
   },
   "source": [
    "Etapa 2.7. Ahora comprueba el resultado para asegurarte de que no falten valores ausentes por reemplazar en el conjunto de datos. Para ello, cuenta los valores ausentes una vez más."
   ]
  },
  {
   "cell_type": "code",
   "execution_count": 15,
   "metadata": {
    "id": "Tq4nYRX4_Zct"
   },
   "outputs": [
    {
     "name": "stdout",
     "output_type": "stream",
     "text": [
      "user_id    0\n",
      "track      0\n",
      "artist     0\n",
      "genre      0\n",
      "city       0\n",
      "time       0\n",
      "day        0\n",
      "dtype: int64\n"
     ]
    }
   ],
   "source": [
    "# Cuenta los valores ausentes\n",
    "print(df.isna().sum())"
   ]
  },
  {
   "cell_type": "markdown",
   "metadata": {},
   "source": [
    "<div class=\"alert alert-block alert-success\"> \n",
    "<b>Comentario del Revisor #1</b> <a class=\"tocSkip\"></a>\n",
    "\n",
    "Has reemplazado correctamente los valores ausentes por `'unknown'`. Esto es una práctica común cuando no se quiere eliminar datos faltantes, permitiendo que sigan siendo útiles para análisis sin afectar el conjunto de datos.\n",
    "\n",
    "</div>"
   ]
  },
  {
   "cell_type": "markdown",
   "metadata": {
    "id": "74ZIBmq9VrsK"
   },
   "source": [
    "[Volver a Contenidos](#back)"
   ]
  },
  {
   "cell_type": "markdown",
   "metadata": {
    "id": "BWKRtBJ3_Zct"
   },
   "source": [
    "### Duplicados <a id='duplicates'></a>\n",
    "Etapa 2.8. Encuentra el número de duplicados explícitos en la tabla. Una vez más, debes aplicar dos métodos para obtener la cantidad de duplicados explícitos."
   ]
  },
  {
   "cell_type": "code",
   "execution_count": 16,
   "metadata": {
    "id": "36eES_S0_Zct"
   },
   "outputs": [
    {
     "name": "stdout",
     "output_type": "stream",
     "text": [
      "3826\n"
     ]
    }
   ],
   "source": [
    "# Cuenta los duplicados explícitos\n",
    "print(df.duplicated().sum())"
   ]
  },
  {
   "cell_type": "markdown",
   "metadata": {
    "id": "Ot25h6XR_Zct"
   },
   "source": [
    "Etapa 2.9. Ahora, elimina todos los duplicados. Para ello, llama al método que hace exactamente esto."
   ]
  },
  {
   "cell_type": "code",
   "execution_count": 17,
   "metadata": {
    "id": "exFHq6tt_Zct"
   },
   "outputs": [],
   "source": [
    "# Elimina los duplicados explícitos\n",
    "df = df.drop_duplicates().reset_index(drop=True)"
   ]
  },
  {
   "cell_type": "markdown",
   "metadata": {
    "id": "Im2YwBEG_Zct"
   },
   "source": [
    "Etapa 2.10. Comprobemos ahora si conseguimos eliminar todos los duplicados. Cuenta los duplicados explícitos una vez más para asegurarte de haberlos eliminado todos:"
   ]
  },
  {
   "cell_type": "code",
   "execution_count": 18,
   "metadata": {
    "id": "-8PuNWQ0_Zct"
   },
   "outputs": [
    {
     "name": "stdout",
     "output_type": "stream",
     "text": [
      "0\n"
     ]
    }
   ],
   "source": [
    "# Comprueba de nuevo si hay duplicados\n",
    "print(df.duplicated().sum())"
   ]
  },
  {
   "cell_type": "markdown",
   "metadata": {},
   "source": [
    "<div class=\"alert alert-block alert-success\"> \n",
    "<b>Comentario del Revisor #1</b> <a class=\"tocSkip\"></a>\n",
    "\n",
    "Has encontrado y eliminado correctamente los 3826 duplicados explícitos. Eliminar duplicados es fundamental para evitar que datos repetidos distorsionen los resultados de tu análisis.\n",
    "\n",
    "</div>"
   ]
  },
  {
   "cell_type": "markdown",
   "metadata": {
    "id": "QlFBsxAr_Zct"
   },
   "source": [
    "Ahora queremos deshacernos de los duplicados implícitos en la columna `genre`. Por ejemplo, el nombre de un género se puede escribir de varias formas. Dichos errores también pueden afectar al resultado."
   ]
  },
  {
   "cell_type": "markdown",
   "metadata": {
    "id": "eSjWwsOh_Zct"
   },
   "source": [
    "Etapa 2.11. Primero debemos mostrar una lista de nombres de géneros únicos, por orden alfabético. Para ello:\n",
    "1. Extrae la columna `genre` del DataFrame.\n",
    "2. Llama al método que devolverá todos los valores únicos en la columna extraída.\n"
   ]
  },
  {
   "cell_type": "code",
   "execution_count": 19,
   "metadata": {
    "id": "JIUcqzZN_Zct"
   },
   "outputs": [
    {
     "name": "stdout",
     "output_type": "stream",
     "text": [
      "['rock' 'pop' 'folk' 'dance' 'rusrap' 'ruspop' 'world' 'electronic'\n",
      " 'unknown' 'alternative' 'children' 'rnb' 'hip' 'jazz' 'postrock' 'latin'\n",
      " 'classical' 'metal' 'reggae' 'triphop' 'blues' 'instrumental' 'rusrock'\n",
      " 'dnb' 'türk' 'post' 'country' 'psychedelic' 'conjazz' 'indie'\n",
      " 'posthardcore' 'local' 'avantgarde' 'punk' 'videogame' 'techno' 'house'\n",
      " 'christmas' 'melodic' 'caucasian' 'reggaeton' 'soundtrack' 'singer' 'ska'\n",
      " 'salsa' 'ambient' 'film' 'western' 'rap' 'beats' \"hard'n'heavy\"\n",
      " 'progmetal' 'minimal' 'tropical' 'contemporary' 'new' 'soul' 'holiday'\n",
      " 'german' 'jpop' 'spiritual' 'urban' 'gospel' 'nujazz' 'folkmetal'\n",
      " 'trance' 'miscellaneous' 'anime' 'hardcore' 'progressive' 'korean'\n",
      " 'numetal' 'vocal' 'estrada' 'tango' 'loungeelectronic' 'classicmetal'\n",
      " 'dubstep' 'club' 'deep' 'southern' 'black' 'folkrock' 'fitness' 'french'\n",
      " 'disco' 'religious' 'hiphop' 'drum' 'extrememetal' 'türkçe'\n",
      " 'experimental' 'easy' 'metalcore' 'modern' 'argentinetango' 'old' 'swing'\n",
      " 'breaks' 'eurofolk' 'stonerrock' 'industrial' 'funk' 'middle' 'variété'\n",
      " 'other' 'adult' 'christian' 'thrash' 'gothic' 'international' 'muslim'\n",
      " 'relax' 'schlager' 'caribbean' 'nu' 'breakbeat' 'comedy' 'chill' 'newage'\n",
      " 'specialty' 'uzbek' 'k-pop' 'balkan' 'chinese' 'meditative' 'dub' 'power'\n",
      " 'death' 'grime' 'arabesk' 'romance' 'flamenco' 'leftfield' 'european'\n",
      " 'tech' 'newwave' 'dancehall' 'mpb' 'piano' 'top' 'bigroom' 'opera'\n",
      " 'celtic' 'tradjazz' 'acoustic' 'epicmetal' 'hip-hop' 'historisch'\n",
      " 'downbeat' 'downtempo' 'africa' 'audiobook' 'jewish' 'sängerportrait'\n",
      " 'deutschrock' 'eastern' 'action' 'future' 'electropop' 'folklore'\n",
      " 'bollywood' 'marschmusik' 'rnr' 'karaoke' 'indian' 'rancheras'\n",
      " 'afrikaans' 'rhythm' 'sound' 'deutschspr' 'trip' 'lovers' 'choral'\n",
      " 'dancepop' 'retro' 'smooth' 'mexican' 'brazilian' 'ïîï' 'mood' 'surf'\n",
      " 'gangsta' 'inspirational' 'idm' 'ethnic' 'bluegrass' 'broadway'\n",
      " 'animated' 'americana' 'karadeniz' 'rockabilly' 'colombian' 'self' 'hop'\n",
      " 'sertanejo' 'japanese' 'canzone' 'lounge' 'sport' 'ragga' 'traditional'\n",
      " 'gitarre' 'frankreich' 'emo' 'laiko' 'cantopop' 'glitch' 'documentary'\n",
      " 'oceania' 'popeurodance' 'dark' 'vi' 'grunge' 'hardstyle' 'samba'\n",
      " 'garage' 'art' 'folktronica' 'entehno' 'mediterranean' 'chamber' 'cuban'\n",
      " 'taraftar' 'gypsy' 'hardtechno' 'shoegazing' 'bossa' 'latino' 'worldbeat'\n",
      " 'malaysian' 'baile' 'ghazal' 'arabic' 'popelectronic' 'acid' 'kayokyoku'\n",
      " 'neoklassik' 'tribal' 'tanzorchester' 'native' 'independent' 'cantautori'\n",
      " 'handsup' 'punjabi' 'synthpop' 'rave' 'französisch' 'quebecois' 'speech'\n",
      " 'soulful' 'jam' 'ram' 'horror' 'orchestral' 'neue' 'roots' 'slow'\n",
      " 'jungle' 'indipop' 'axé' 'fado' 'showtunes' 'arena' 'irish' 'mandopop'\n",
      " 'forró' 'dirty' 'regional']\n"
     ]
    }
   ],
   "source": [
    "# Inspecciona los nombres de géneros únicos\n",
    "print(df[\"genre\"].unique())"
   ]
  },
  {
   "cell_type": "markdown",
   "metadata": {
    "id": "qej-Qmuo_Zct"
   },
   "source": [
    "Vamos a examinar la lista para identificar **duplicados implícitos** del género `hiphop`, es decir, nombres mal escritos o variantes que hacen referencia al mismo género musical.\n",
    "\n",
    "Algunos de los duplicados que encontrarás son:\n",
    "\n",
    "* `hip`  \n",
    "* `hop`  \n",
    "* `hip-hop`  \n",
    "\n",
    "Para solucionarlo, vamos a crear una función llamada `replace_wrong_genres()` que tendrá dos parámetros:\n",
    "\n",
    "* `wrong_genres`: una lista con todos los valores que deben ser reemplazados.  \n",
    "* `correct_genre`: un string que se utilizará como valor de reemplazo.\n",
    "\n",
    "El objetivo de esta función es **corregir los valores en la columna `'genre'` del DataFrame `df`**, reemplazando cada valor de la lista `wrong_genres` por `correct_genre`."
   ]
  },
  {
   "cell_type": "markdown",
   "metadata": {
    "id": "7kmujhjP_bIl"
   },
   "source": [
    "Etapa 2.12.\n",
    "1. Define una función llamada `replace_wrong_genres()` que reciba dos parámetros: `wrong_genres` y `correct_genre`.\n",
    "\n",
    "2. Dentro de la función, utiliza un bucle `for` para iterar sobre cada valor en la lista `wrong_genres`.\n",
    "\n",
    "3. En cada iteración, accede a la columna `'genre'` del DataFrame `df` y utiliza el método `.replace()` para sustituir el valor incorrecto por `correct_genre`.\n",
    "\n",
    "4. Llama a la función y pasa como argumentos:\n",
    "   - Una lista con los duplicados implícitos: `['hip', 'hop', 'hip-hop']`\n",
    "   - El string de reemplazo: `'hiphop'`"
   ]
  },
  {
   "cell_type": "code",
   "execution_count": 20,
   "metadata": {
    "id": "ErNDkmns_Zct"
   },
   "outputs": [],
   "source": [
    "# Función para reemplazar los duplicados implícitos\n",
    "def replace_wrong_genres(wrong_genres, correct_genre):\n",
    "    for wrong_genre in wrong_genres:\n",
    "        df[\"genre\"] = df[\"genre\"].replace(wrong_genre, correct_genre)\n",
    "        \n",
    "    return df"
   ]
  },
  {
   "cell_type": "markdown",
   "metadata": {
    "id": "aDoBJxbA_Zct"
   },
   "source": [
    "Etapa 2.13. Ahora, llama a `replace_wrong_genres()` y pásale estos argumentos para que retire los duplicados implícitos (`hip`, `hop` y `hip-hop`) y los sustituya por `hiphop`:"
   ]
  },
  {
   "cell_type": "code",
   "execution_count": 21,
   "metadata": {
    "id": "YN5i2hpmSo09"
   },
   "outputs": [],
   "source": [
    "# Elimina los duplicados implícitos\n",
    "df = replace_wrong_genres([\"hip\", \"hop\", \"hip-hop\"], \"hiphop\")"
   ]
  },
  {
   "cell_type": "markdown",
   "metadata": {
    "id": "zQKF16_RG15m"
   },
   "source": [
    "Etapa 2.14. Asegúrate de que los nombres duplicados se hayan eliminado. Muestra la lista de valores únicos de la columna `'genre'` una vez más:"
   ]
  },
  {
   "cell_type": "code",
   "execution_count": 22,
   "metadata": {
    "id": "wvixALnFG15m"
   },
   "outputs": [
    {
     "name": "stdout",
     "output_type": "stream",
     "text": [
      "['rock' 'pop' 'folk' 'dance' 'rusrap' 'ruspop' 'world' 'electronic'\n",
      " 'unknown' 'alternative' 'children' 'rnb' 'hiphop' 'jazz' 'postrock'\n",
      " 'latin' 'classical' 'metal' 'reggae' 'triphop' 'blues' 'instrumental'\n",
      " 'rusrock' 'dnb' 'türk' 'post' 'country' 'psychedelic' 'conjazz' 'indie'\n",
      " 'posthardcore' 'local' 'avantgarde' 'punk' 'videogame' 'techno' 'house'\n",
      " 'christmas' 'melodic' 'caucasian' 'reggaeton' 'soundtrack' 'singer' 'ska'\n",
      " 'salsa' 'ambient' 'film' 'western' 'rap' 'beats' \"hard'n'heavy\"\n",
      " 'progmetal' 'minimal' 'tropical' 'contemporary' 'new' 'soul' 'holiday'\n",
      " 'german' 'jpop' 'spiritual' 'urban' 'gospel' 'nujazz' 'folkmetal'\n",
      " 'trance' 'miscellaneous' 'anime' 'hardcore' 'progressive' 'korean'\n",
      " 'numetal' 'vocal' 'estrada' 'tango' 'loungeelectronic' 'classicmetal'\n",
      " 'dubstep' 'club' 'deep' 'southern' 'black' 'folkrock' 'fitness' 'french'\n",
      " 'disco' 'religious' 'drum' 'extrememetal' 'türkçe' 'experimental' 'easy'\n",
      " 'metalcore' 'modern' 'argentinetango' 'old' 'swing' 'breaks' 'eurofolk'\n",
      " 'stonerrock' 'industrial' 'funk' 'middle' 'variété' 'other' 'adult'\n",
      " 'christian' 'thrash' 'gothic' 'international' 'muslim' 'relax' 'schlager'\n",
      " 'caribbean' 'nu' 'breakbeat' 'comedy' 'chill' 'newage' 'specialty'\n",
      " 'uzbek' 'k-pop' 'balkan' 'chinese' 'meditative' 'dub' 'power' 'death'\n",
      " 'grime' 'arabesk' 'romance' 'flamenco' 'leftfield' 'european' 'tech'\n",
      " 'newwave' 'dancehall' 'mpb' 'piano' 'top' 'bigroom' 'opera' 'celtic'\n",
      " 'tradjazz' 'acoustic' 'epicmetal' 'historisch' 'downbeat' 'downtempo'\n",
      " 'africa' 'audiobook' 'jewish' 'sängerportrait' 'deutschrock' 'eastern'\n",
      " 'action' 'future' 'electropop' 'folklore' 'bollywood' 'marschmusik' 'rnr'\n",
      " 'karaoke' 'indian' 'rancheras' 'afrikaans' 'rhythm' 'sound' 'deutschspr'\n",
      " 'trip' 'lovers' 'choral' 'dancepop' 'retro' 'smooth' 'mexican'\n",
      " 'brazilian' 'ïîï' 'mood' 'surf' 'gangsta' 'inspirational' 'idm' 'ethnic'\n",
      " 'bluegrass' 'broadway' 'animated' 'americana' 'karadeniz' 'rockabilly'\n",
      " 'colombian' 'self' 'sertanejo' 'japanese' 'canzone' 'lounge' 'sport'\n",
      " 'ragga' 'traditional' 'gitarre' 'frankreich' 'emo' 'laiko' 'cantopop'\n",
      " 'glitch' 'documentary' 'oceania' 'popeurodance' 'dark' 'vi' 'grunge'\n",
      " 'hardstyle' 'samba' 'garage' 'art' 'folktronica' 'entehno'\n",
      " 'mediterranean' 'chamber' 'cuban' 'taraftar' 'gypsy' 'hardtechno'\n",
      " 'shoegazing' 'bossa' 'latino' 'worldbeat' 'malaysian' 'baile' 'ghazal'\n",
      " 'arabic' 'popelectronic' 'acid' 'kayokyoku' 'neoklassik' 'tribal'\n",
      " 'tanzorchester' 'native' 'independent' 'cantautori' 'handsup' 'punjabi'\n",
      " 'synthpop' 'rave' 'französisch' 'quebecois' 'speech' 'soulful' 'jam'\n",
      " 'ram' 'horror' 'orchestral' 'neue' 'roots' 'slow' 'jungle' 'indipop'\n",
      " 'axé' 'fado' 'showtunes' 'arena' 'irish' 'mandopop' 'forró' 'dirty'\n",
      " 'regional']\n"
     ]
    }
   ],
   "source": [
    "# Comprueba de nuevo los duplicados implícitos\n",
    "print(df[\"genre\"].unique())"
   ]
  },
  {
   "cell_type": "markdown",
   "metadata": {},
   "source": [
    "<div class=\"alert alert-block alert-success\"> \n",
    "<b>Comentario del Revisor #1</b> <a class=\"tocSkip\"></a>\n",
    "\n",
    "Has identificado y corregido los duplicados implícitos correctamente. Este tipo de duplicados pueden ser más difíciles de encontrar, ya que no son idénticos en todos los campos, pero tratarlos es esencial para asegurar la integridad de los datos.\n",
    "\n",
    "<div class=\"alert alert-block alert-warning\"> \n",
    "<b>Comentario del Revisor #1</b> <a class=\"tocSkip\"></a>\n",
    "\n",
    "Nota que, además, una mejor forma de verificar los cambios es filtrar específicamente los valores que fueron modificados. Puedes hacer esto con `df[df['genre'].isin(wrong_genres)]` para asegurarte de que los valores incorrectos ya no están presentes:\n",
    "\n",
    "\t# Verificar si aún quedan géneros incorrectos\n",
    "\tprint(df[df['genre'].isin(wrong_genres)])\n",
    "\t\n",
    "\t# Contar cuántas veces aparece el género corregido\n",
    "\tprint(df['genre'].value_counts().loc[correct_genre])\n",
    "\n",
    "</div>\n",
    "\n",
    "</div>"
   ]
  },
  {
   "cell_type": "markdown",
   "metadata": {},
   "source": [
    "Gracias tal parece que hasta aqui en los proyectos es donde uno mas aprende"
   ]
  },
  {
   "cell_type": "markdown",
   "metadata": {
    "id": "ALgNbvF3VtPA"
   },
   "source": [
    "[Volver a Contenidos](#back)"
   ]
  },
  {
   "cell_type": "markdown",
   "metadata": {
    "id": "jz6a9-7HQUDd"
   },
   "source": [
    "### Observaciones <a id='data_preprocessing_conclusions'></a>\n",
    "\n",
    "`Redacta un breve resumen de lo que descubriste al analizar los datos. Tu respuesta debe identificar los problemas detectados, explicar cómo los resolviste y describir cómo esas acciones mejoran la calidad del análisis.`"
   ]
  },
  {
   "cell_type": "markdown",
   "metadata": {
    "id": "lN8zFHxhAF5O"
   },
   "source": [
    "Etapa 2.14. Para empezar lo primero que hice fue corregir los errores de los nombres de la colunmas usando el metodo rename o  usando el bucle \"for\" para iterar sobre ellas y usando metodos de string. Hice este cambio porque a la hora de llamar una colunma no tengamos errore de tipo \"key\".\n",
    "\n",
    "Lo segundo que hice fue verificar si el DataFrame contenia valores ausentes usando el metodo \"isna\" más el metodo \"sum\" y para sustituir los valores ausentes use un bucle \"for\" para iterar sobre las columnas que contienen los valores ausentes para despues usar el metodo \"fillna\".\n",
    "\n",
    "Lo tercero que hice fue verificar si el DataFrame contenia filas duplicadas usando el metodo \"duplicated\" más el metodo \"sum\" y  despues las elimine usando el metodo \"drop_duplicates\".\n",
    "\n",
    "Lo ultimo que hcie fue verificar si el DataFrame contenia duplicados implicitos usando el metodo \"unique\" y despues hice una funcion estableciendo los parametros que usare, despues hice un bucle \"for\" para que itere sobre algunos valores unicos que los guarde en una lista, para despues usar el metodo replace con los valores unicos iterados para sustituirlos por el valor correcto.\n"
   ]
  },
  {
   "cell_type": "markdown",
   "metadata": {},
   "source": [
    "<div class=\"alert alert-block alert-success\"> \n",
    "<b>Comentario del Revisor #1</b> <a class=\"tocSkip\"></a>\n",
    "\n",
    "Correcto! Muy buen trabajo\n",
    "\n",
    "</div>"
   ]
  },
  {
   "cell_type": "markdown",
   "metadata": {
    "id": "eK1es74rVujj"
   },
   "source": [
    "[Volver a Contenidos](#back)"
   ]
  },
  {
   "cell_type": "markdown",
   "metadata": {
    "id": "WttZHXH0SqKk"
   },
   "source": [
    "## Etapa 3. Prueba de la hipótesis <a id='hypothesis'></a>"
   ]
  },
  {
   "cell_type": "markdown",
   "metadata": {
    "id": "Im936VVi_Zcu"
   },
   "source": [
    "### Tarea: Comparar el comportamiento de los usuarios en las dos ciudades <a id='activity'></a>"
   ]
  },
  {
   "cell_type": "markdown",
   "metadata": {
    "id": "nwt_MuaL_Zcu"
   },
   "source": [
    "La hipótesis que queremos probar plantea que existen diferencias en la forma en que los usuarios de Springfield y Shelbyville consumen música.\n",
    "Para analizar esto, nos enfocaremos en los datos correspondientes a tres días específicos de la semana: lunes, miércoles y viernes."
   ]
  },
  {
   "cell_type": "markdown",
   "metadata": {
    "id": "8Dw_YMmT_Zcu"
   },
   "source": [
    "El análisis consistirá en comparar la cantidad de canciones reproducidas por los usuarios de cada ciudad en esos días. Esto nos permitirá observar posibles patrones o diferencias en los hábitos de consumo entre Springfield y Shelbyville.\n",
    "\n",
    "Para llevar a cabo este análisis, es importante seguir el enfoque de dividir-aplicar-combinar, del que ya hablamos en la lección. En este caso:\n",
    "\n",
    "*  Dividir: separamos los datos en grupos según la ciudad.\n",
    "\n",
    "*  Aplicar: dentro de cada grupo, contamos cuántas canciones se reprodujeron.\n",
    "\n",
    "*  Combinar: reunimos los resultados en una estructura que nos permita comparar fácilmente ambas ciudades."
   ]
  },
  {
   "cell_type": "markdown",
   "metadata": {
    "id": "c0MoTnZcB-hW"
   },
   "source": [
    "Este procedimiento debe repetirse de forma independiente para cada uno de los tres días seleccionados. El resultado final debe mostrar el número de reproducciones por ciudad en cada uno de esos días.\n",
    "\n",
    "Una posible forma de estructurar el código sería con la siguiente expresión:\n",
    "\n",
    "`df.groupby(by='...')['...'].method()`\n",
    "\n",
    "Deberás completar los argumentos correspondientes para agrupar por ciudad y contar las canciones reproducidas. Este enfoque te dará una visión clara y comparativa del comportamiento de los usuarios en ambas ciudades."
   ]
  },
  {
   "cell_type": "markdown",
   "metadata": {
    "id": "dgMGeLF2CMJv"
   },
   "source": [
    "Etapa 3.1. Cuenta cuántas canciones se reprodujeron en cada ciudad utilizando la columna 'track' como referencia."
   ]
  },
  {
   "cell_type": "code",
   "execution_count": 23,
   "metadata": {
    "id": "0_Qs96oh_Zcu"
   },
   "outputs": [
    {
     "name": "stdout",
     "output_type": "stream",
     "text": [
      "city\n",
      "Shelbyville    18512\n",
      "Springfield    42741\n",
      "Name: track, dtype: int64\n"
     ]
    }
   ],
   "source": [
    "# Cuenta las canciones reproducidas en cada ciudad\n",
    "print(df.groupby(by= \"city\")[\"track\"].count())"
   ]
  },
  {
   "cell_type": "markdown",
   "metadata": {},
   "source": [
    "<div class=\"alert alert-block alert-success\"> \n",
    "<b>Comentario del Revisor #1</b> <a class=\"tocSkip\"></a>\n",
    "\n",
    "Perfecto! Has realizado correctamente el conteo de canciones reproducidas en cada ciudad. Esto es clave para analizar la distribución de la actividad musical en diferentes lugares.\n",
    "\n",
    "</div>"
   ]
  },
  {
   "cell_type": "markdown",
   "metadata": {
    "id": "cC2tNrlL_Zcu"
   },
   "source": [
    "`Redacta brevemente tus observaciones sobre los resultados. ¿Qué diferencias notaste entre Springfield y Shelbyville? ¿A qué podrían deberse esas diferencias?`"
   ]
  },
  {
   "cell_type": "markdown",
   "metadata": {
    "id": "Kjb4vX38DC3I"
   },
   "source": [
    "Etapa 3.2. La principal diferencia es en la cantidad de musica escuchada, ya que Springfield tiene más del doble que Shelbyville, talvez la razon de que Springfield tenga mas musica escuchada que Shelbyville es porque Springfield sea una ciudad más grande."
   ]
  },
  {
   "cell_type": "markdown",
   "metadata": {},
   "source": [
    "<div class=\"alert alert-block alert-success\"> \n",
    "<b>Comentario del Revisor #1</b> <a class=\"tocSkip\"></a>\n",
    "\n",
    "Correcto!\n",
    "\n",
    "</div>"
   ]
  },
  {
   "cell_type": "markdown",
   "metadata": {
    "id": "dzli3w8o_Zcu"
   },
   "source": [
    "Etapa 3.3.\n",
    "1. Agrupa los datos por día de la semana y cuenta cuántas canciones se reprodujeron los lunes, miércoles y viernes.\n",
    "\n",
    "2. Utiliza el mismo método de conteo que antes, pero ahora cambia la columna de agrupación para enfocarte en el día.\n",
    "\n",
    "3. Esto te permitirá identificar posibles patrones de escucha según el día de la semana.\n"
   ]
  },
  {
   "cell_type": "code",
   "execution_count": 24,
   "metadata": {
    "id": "uZMKjiJz_Zcu"
   },
   "outputs": [
    {
     "name": "stdout",
     "output_type": "stream",
     "text": [
      "day\n",
      "Friday       21840\n",
      "Monday       21354\n",
      "Wednesday    18059\n",
      "Name: track, dtype: int64\n"
     ]
    }
   ],
   "source": [
    "# Calcula las canciones reproducidas en cada uno de los tres días\n",
    "print(df.groupby(by= \"day\")[\"track\"].count())"
   ]
  },
  {
   "cell_type": "markdown",
   "metadata": {},
   "source": [
    "<div class=\"alert alert-block alert-success\"> \n",
    "<b>Comentario del Revisor #1</b> <a class=\"tocSkip\"></a>\n",
    "\n",
    "El conteo de las canciones reproducidas por día es correcto.\n",
    "</div>"
   ]
  },
  {
   "cell_type": "markdown",
   "metadata": {
    "id": "t_Qx-3NewAnK"
   },
   "source": [
    "`Describe brevemente qué observaste al comparar los lunes, miércoles y viernes. ¿Hubo algún día con menos actividad? ¿Cambian las conclusiones si analizas cada ciudad por separado?`"
   ]
  },
  {
   "cell_type": "markdown",
   "metadata": {
    "id": "q537Zl8oDNfH"
   },
   "source": [
    "Etapa 3.4. La diferencia es que el Miercoles es el dia con menos actividad, pero no es tanta diferencia a mi parecer y talvez la conclusión si cambie si analizamos los dias por seperados."
   ]
  },
  {
   "cell_type": "markdown",
   "metadata": {
    "id": "POzs8bGa_Zcu"
   },
   "source": [
    "Hasta ahora has aprendido a contar entradas agrupándolas por un solo criterio, como la ciudad o el día de la semana. Ahora vamos a dar un paso más: necesitas crear una función que **cuente cuántas canciones se reprodujeron en una ciudad específica durante un día determinado**, combinando ambos criterios de filtrado.\n",
    "\n",
    "La función se llamará `number_tracks()` y debe aceptar dos parámetros:\n",
    "\n",
    "- `day`: un día de la semana (por ejemplo, `'Monday'`).\n",
    "- `city`: el nombre de una ciudad (por ejemplo, `'Springfield'`).\n",
    "\n",
    "Dentro de la función, deberás aplicar un **filtrado secuencial mediante indexación lógica**: primero tendrás que filtrar el DataFrame por el día, y luego por la ciudad. Una vez que tengas el subconjunto de datos correcto, debes contar cuántas veces aparece un valor en la columna `'user_id'`. Ese número representará el total de canciones reproducidas bajo esos dos criterios.\n",
    "\n"
   ]
  },
  {
   "cell_type": "markdown",
   "metadata": {
    "id": "itD2P5lhEpuX"
   },
   "source": [
    "Etapa 3.5.\n",
    "1. Declara una función llamada `number_tracks()` con dos parámetros: `day` y `city`.\n",
    "\n",
    "2. Filtra el DataFrame para conservar solo las filas donde la columna `'day'` sea igual al valor del parámetro `day`.\n",
    "\n",
    "3. A partir del resultado anterior, filtra nuevamente para conservar solo las filas donde la columna `'city'` sea igual al valor del parámetro `city`.\n",
    "\n",
    "4. Extrae la columna `'user_id'` del DataFrame filtrado y utiliza el método `.count()` para contar el número de entradas.\n",
    "\n",
    "5. Guarda ese valor en una variable y **devuélvelo** como resultado de la función.\n"
   ]
  },
  {
   "cell_type": "code",
   "execution_count": 26,
   "metadata": {
    "id": "Nz3GdQB1_Zcu"
   },
   "outputs": [],
   "source": [
    "# Declara la función number_tracks() con dos parámetros: day= y city=.\n",
    "def number_tracks(day, city):\n",
    "    \n",
    "    df_filtered = df[df[\"day\"]== day] # Almacena las filas del DataFrame donde el valor en la columna 'day' es igual al parámetro day=\n",
    "\n",
    "    df_filtered = df_filtered[df_filtered[\"city\"] == city] # Filtra las filas donde el valor en la columna 'city' es igual al parámetro city=\n",
    "\n",
    "    df_filtered[\"user_id\"].count() # Extrae la columna 'user_id' de la tabla filtrada y aplica el método count()\n",
    "\n",
    "    return df_filtered # Devuelve el número de valores de la columna 'user_id'"
   ]
  },
  {
   "cell_type": "markdown",
   "metadata": {},
   "source": [
    "<div class=\"alert alert-block alert-danger\"> \n",
    "<b>Comentario del Revisor #1</b> <a class=\"tocSkip\"></a>\n",
    "\n",
    "Voy a darte algunos tips para que puedas avanzar con este ejercicio:\n",
    "    \n",
    "<div class=\"alert alert-block alert-warning\"> \n",
    "<b>Comentario del Revisor #1</b> <a class=\"tocSkip\"></a>\n",
    "\n",
    "Aquí lo importante es que entiendas cómo realizar filtros. Para esto, empecemos con el primero. Si quieres filtrar df tal que \"la ciudad sea igual a city\", puedes hacer lo siguiente:\n",
    "    \n",
    "    df[df['city'] == city]\n",
    "    \n",
    "Esto se entiende de la siguiente forma \"quiero filtrar el dataset df tal que el valor de la columna 'city' del dataframe df sea igual al valor de la variable _city_.\n",
    "    \n",
    "El resultado será un dataset con el filtro aplicado. Luego, a este resultado lo queremos filtrar también por un día en específico. Aunque se puede hacer en un solo paso, te lo indicaré en dos para que se entienda mejor.\n",
    "    \n",
    "Primero almacenas el resultado anterior en una variable intermedia:\n",
    "    \n",
    "    df_filter = df[df['city'] == city]\n",
    "    \n",
    "Ahora, a este resultado le aplicamos un nuevo filtro. Nota que la sintaxis es análoga pero con el nuevo dataset:\n",
    "    \n",
    "    df_filter[df_filter['day'] == day]\n",
    "    \n",
    "Con esto ya tienes ambos filtros aplicados. Ahora solo basta realizar un _count_ de la columna _user_id_ para contar el total de usuarios con este respectivo día y ciudad. \n",
    "    \n",
    "    df_filter = df[df['city'] == city]\n",
    "    df_filter = df_filter[df_filter['day'] == day]\n",
    "    df_filter['user_id'].count()\n",
    "    \n",
    "Este último valor es el que se espera que devuelvas en la función.\n",
    "    \n",
    "Ahora, simplemente basta con llamar a la función con los parámetros adecuados:\n",
    "    \n",
    "    # El número de canciones reproducidas en Springfield el lunes\n",
    "    number_tracks('Monday', 'Springfield')\n",
    "\n",
    "</div>\n",
    "\n",
    "</div>"
   ]
  },
  {
   "cell_type": "markdown",
   "metadata": {},
   "source": [
    "Muchas gracias, con unos ejemplos puedo entendor mejor todo comparado con solo texto, pero creo es parte del aprendizaje"
   ]
  },
  {
   "cell_type": "markdown",
   "metadata": {},
   "source": [
    "Intente con query y con la filtracion logica pero siento que no estoy notando algun detalle \n",
    "Si tu podrias ayudarme con ese detalle "
   ]
  },
  {
   "cell_type": "markdown",
   "metadata": {},
   "source": [
    "<div class=\"alert alert-block alert-success\"> \n",
    "<b>Comentario del Revisor #2</b> <a class=\"tocSkip\"></a>\n",
    "\n",
    "Definiste correctamente la función para contar las canciones reproducidas en un día específico y ciudad.\n",
    "\n",
    "\n",
    "</div>"
   ]
  },
  {
   "cell_type": "markdown",
   "metadata": {
    "id": "ytf7xFrFJQ2r"
   },
   "source": [
    "Etapa 3.6. Llama a `number_tracks()` seis veces, cambiando los valores de los parámetros para que puedas recuperar los datos de ambas ciudades para cada uno de los tres días."
   ]
  },
  {
   "cell_type": "code",
   "execution_count": 35,
   "metadata": {
    "id": "rJcRATNQ_Zcu"
   },
   "outputs": [
    {
     "name": "stdout",
     "output_type": "stream",
     "text": [
      "city\n",
      "Springfield    15740\n",
      "Name: track, dtype: int64\n"
     ]
    }
   ],
   "source": [
    "# El número de canciones reproducidas en Springfield el lunes\n",
    "df_Springfield =number_tracks(\"Monday\", \"Springfield\")\n",
    "\n",
    "print(df_Springfield.groupby(by =\"city\")[\"track\"].count())"
   ]
  },
  {
   "cell_type": "code",
   "execution_count": 36,
   "metadata": {
    "id": "hq_ncZ5T_Zcu"
   },
   "outputs": [
    {
     "name": "stdout",
     "output_type": "stream",
     "text": [
      "city\n",
      "Shelbyville    5614\n",
      "Name: track, dtype: int64\n"
     ]
    }
   ],
   "source": [
    "# El número de canciones reproducidas en Shelbyville el lunes\n",
    "df_Shelbyvile = number_tracks(\"Monday\", \"Shelbyville\")\n",
    "\n",
    "print(df_Shelbyvile.groupby(by= \"city\")[\"track\"].count())"
   ]
  },
  {
   "cell_type": "code",
   "execution_count": 37,
   "metadata": {
    "id": "_NTy2VPU_Zcu"
   },
   "outputs": [
    {
     "name": "stdout",
     "output_type": "stream",
     "text": [
      "city\n",
      "Springfield    11056\n",
      "Name: track, dtype: int64\n"
     ]
    }
   ],
   "source": [
    "# El número de canciones reproducidas en Springfield el miércoles\n",
    "df_Springfield =number_tracks(\"Wednesday\", \"Springfield\")\n",
    "\n",
    "print(df_Springfield.groupby(by =\"city\")[\"track\"].count())"
   ]
  },
  {
   "cell_type": "code",
   "execution_count": 38,
   "metadata": {
    "id": "j2y3TAwo_Zcu"
   },
   "outputs": [
    {
     "name": "stdout",
     "output_type": "stream",
     "text": [
      "city\n",
      "Shelbyville    7003\n",
      "Name: track, dtype: int64\n"
     ]
    }
   ],
   "source": [
    "# El número de canciones reproducidas en Shelbyville el miércoles\n",
    "df_Springfield =number_tracks(\"Wednesday\", \"Shelbyville\")\n",
    "\n",
    "print(df_Springfield.groupby(by =\"city\")[\"track\"].count())"
   ]
  },
  {
   "cell_type": "code",
   "execution_count": 39,
   "metadata": {
    "id": "vYDw5u_K_Zcu"
   },
   "outputs": [
    {
     "name": "stdout",
     "output_type": "stream",
     "text": [
      "city\n",
      "Springfield    15945\n",
      "Name: track, dtype: int64\n"
     ]
    }
   ],
   "source": [
    "# El número de canciones reproducidas en Springfield el viernes\n",
    "df_Springfield =number_tracks(\"Friday\", \"Springfield\")\n",
    "\n",
    "print(df_Springfield.groupby(by =\"city\")[\"track\"].count())"
   ]
  },
  {
   "cell_type": "code",
   "execution_count": 40,
   "metadata": {
    "id": "8_yzFtW3_Zcu"
   },
   "outputs": [
    {
     "name": "stdout",
     "output_type": "stream",
     "text": [
      "city\n",
      "Shelbyville    5895\n",
      "Name: track, dtype: int64\n"
     ]
    }
   ],
   "source": [
    "# El número de canciones reproducidas en Shelbyville el viernes\n",
    "df_Springfield =number_tracks(\"Friday\", \"Shelbyville\")\n",
    "\n",
    "print(df_Springfield.groupby(by =\"city\")[\"track\"].count())"
   ]
  },
  {
   "cell_type": "markdown",
   "metadata": {},
   "source": [
    "<div class=\"alert alert-block alert-success\"> \n",
    "<b>Comentario del Revisor #2</b> <a class=\"tocSkip\"></a>\n",
    "\n",
    "Los conteos obtenidos son los esperados, lo que significa que el análisis está bien realizado. Verificar los resultados es esencial para asegurarte de que todo el proceso se ha llevado a cabo correctamente.\n",
    "\n",
    "</div>"
   ]
  },
  {
   "cell_type": "markdown",
   "metadata": {
    "id": "p7nFQajCVw5B"
   },
   "source": [
    "[Volver a Contenidos](#back)"
   ]
  },
  {
   "cell_type": "markdown",
   "metadata": {
    "id": "ykKQ0N65_Zcv"
   },
   "source": [
    "# Conclusiones <a id='end'></a>"
   ]
  },
  {
   "cell_type": "markdown",
   "metadata": {
    "id": "tjUwbHb3_Zcv"
   },
   "source": [
    "##Escribe tus conclusiones finales sobre la hipótesis.\n",
    " * ¿Los datos apoyan la idea de que el comportamiento de los usuarios respecto a la música que escuchan varía según la ciudad y el día de la semana?\n",
    " * Indica si la hipótesis debe aceptarse o rechazarse, y justifica tu respuesta con base en los resultados obtenidos."
   ]
  },
  {
   "cell_type": "markdown",
   "metadata": {
    "id": "piRc-ATKFwZ3"
   },
   "source": [
    "Etapa 4. Efectivamente los datos nos muestran que la musica escuchada varía según la ciudad y día de la semana.\n",
    "\n",
    "Y la hipótesis debe aceptarse ya que creo podemos aprovechar los dias de la semana donde más se escucha musica para pogracias a los datos obtenidos "
   ]
  },
  {
   "cell_type": "markdown",
   "metadata": {},
   "source": [
    "\n",
    "<div class=\"alert alert-block alert-success\"> \n",
    "<b>Comentario del Revisor #2</b> <a class=\"tocSkip\"></a>\n",
    "\n",
    "Gran trabajo! Has decidido correctamente aceptar la hipótesis como verdadera, justificando bien tu decisión. Justificar por qué aceptas o rechazas una hipótesis es fundamental para llegar a conclusiones sólidas en el análisis de datos.\n",
    "\n",
    "</div>"
   ]
  },
  {
   "cell_type": "markdown",
   "metadata": {
    "id": "azLHu64yOIp7"
   },
   "source": [
    "### Nota\n",
    "En los proyectos de investigación reales, la prueba de hipótesis estadística es más precisa y cuantitativa. También ten en cuenta que no siempre se pueden sacar conclusiones sobre una ciudad entera a partir de datos de una sola fuente.\n",
    "\n",
    "Aprenderás más sobre la prueba de hipótesis en el sprint de análisis estadístico de datos."
   ]
  },
  {
   "cell_type": "markdown",
   "metadata": {
    "id": "Ju4AHDSgV1FE"
   },
   "source": [
    "[Volver a Contenidos](#back)"
   ]
  }
 ],
 "metadata": {
  "ExecuteTimeLog": [
   {
    "duration": 177,
    "start_time": "2025-04-10T19:15:53.804Z"
   },
   {
    "duration": 2,
    "start_time": "2025-04-10T19:16:07.970Z"
   },
   {
    "duration": 3,
    "start_time": "2025-04-10T19:16:16.460Z"
   },
   {
    "duration": 386,
    "start_time": "2025-04-10T19:24:59.415Z"
   },
   {
    "duration": 2,
    "start_time": "2025-04-10T19:27:36.913Z"
   },
   {
    "duration": 6,
    "start_time": "2025-04-10T19:27:59.371Z"
   },
   {
    "duration": 2,
    "start_time": "2025-04-10T19:28:21.547Z"
   },
   {
    "duration": 5,
    "start_time": "2025-04-10T19:29:11.795Z"
   },
   {
    "duration": 22,
    "start_time": "2025-04-10T19:29:18.024Z"
   },
   {
    "duration": 6,
    "start_time": "2025-04-10T19:34:56.856Z"
   },
   {
    "duration": 6,
    "start_time": "2025-04-10T19:35:04.234Z"
   },
   {
    "duration": 5,
    "start_time": "2025-04-10T19:35:10.919Z"
   },
   {
    "duration": 10,
    "start_time": "2025-04-10T19:44:21.211Z"
   },
   {
    "duration": 8,
    "start_time": "2025-04-10T19:44:33.578Z"
   },
   {
    "duration": 4,
    "start_time": "2025-04-10T19:44:45.403Z"
   },
   {
    "duration": 20,
    "start_time": "2025-04-10T19:45:38.697Z"
   },
   {
    "duration": 5,
    "start_time": "2025-04-10T19:47:03.009Z"
   },
   {
    "duration": 8,
    "start_time": "2025-04-10T19:47:25.458Z"
   },
   {
    "duration": 4,
    "start_time": "2025-04-10T19:48:03.246Z"
   },
   {
    "duration": 4,
    "start_time": "2025-04-10T19:48:23.273Z"
   },
   {
    "duration": 39,
    "start_time": "2025-04-10T19:48:42.471Z"
   },
   {
    "duration": 16,
    "start_time": "2025-04-10T19:49:59.393Z"
   },
   {
    "duration": 567,
    "start_time": "2025-04-10T19:50:30.988Z"
   },
   {
    "duration": 16,
    "start_time": "2025-04-10T19:50:44.126Z"
   },
   {
    "duration": 37,
    "start_time": "2025-04-10T19:51:10.395Z"
   },
   {
    "duration": 366,
    "start_time": "2025-04-10T19:51:40.501Z"
   },
   {
    "duration": 63,
    "start_time": "2025-04-10T19:51:52.890Z"
   },
   {
    "duration": 16,
    "start_time": "2025-04-10T19:52:03.857Z"
   },
   {
    "duration": 21,
    "start_time": "2025-04-10T19:53:59.581Z"
   },
   {
    "duration": 320,
    "start_time": "2025-04-10T23:08:04.798Z"
   },
   {
    "duration": 18,
    "start_time": "2025-04-10T23:08:50.947Z"
   },
   {
    "duration": 5,
    "start_time": "2025-04-10T23:08:58.895Z"
   },
   {
    "duration": 11,
    "start_time": "2025-04-10T23:09:05.460Z"
   },
   {
    "duration": 15,
    "start_time": "2025-04-10T23:09:44.216Z"
   },
   {
    "duration": 354,
    "start_time": "2025-04-10T23:09:51.173Z"
   },
   {
    "duration": 47,
    "start_time": "2025-04-10T23:09:54.301Z"
   },
   {
    "duration": 14,
    "start_time": "2025-04-10T23:10:12.109Z"
   },
   {
    "duration": 16,
    "start_time": "2025-04-10T23:11:48.150Z"
   },
   {
    "duration": 135,
    "start_time": "2025-04-10T23:12:11.016Z"
   },
   {
    "duration": 167,
    "start_time": "2025-04-10T23:12:21.575Z"
   },
   {
    "duration": 8,
    "start_time": "2025-04-10T23:12:34.971Z"
   },
   {
    "duration": 10,
    "start_time": "2025-04-10T23:12:41.402Z"
   },
   {
    "duration": 28,
    "start_time": "2025-04-10T23:12:48.068Z"
   },
   {
    "duration": 3,
    "start_time": "2025-04-10T23:13:09.182Z"
   },
   {
    "duration": 16,
    "start_time": "2025-04-10T23:14:34.435Z"
   },
   {
    "duration": 614,
    "start_time": "2025-04-10T23:15:16.469Z"
   },
   {
    "duration": 57,
    "start_time": "2025-04-10T23:15:25.544Z"
   },
   {
    "duration": 39,
    "start_time": "2025-04-10T23:15:31.065Z"
   },
   {
    "duration": 209,
    "start_time": "2025-04-10T23:18:44.740Z"
   },
   {
    "duration": 26,
    "start_time": "2025-04-10T23:18:51.576Z"
   },
   {
    "duration": 6,
    "start_time": "2025-04-10T23:18:55.274Z"
   },
   {
    "duration": 10,
    "start_time": "2025-04-10T23:19:07.905Z"
   },
   {
    "duration": 13,
    "start_time": "2025-04-10T23:19:19.700Z"
   },
   {
    "duration": 14,
    "start_time": "2025-04-10T23:19:32.844Z"
   },
   {
    "duration": 13,
    "start_time": "2025-04-10T23:20:51.497Z"
   },
   {
    "duration": 14,
    "start_time": "2025-04-10T23:20:58.966Z"
   },
   {
    "duration": 12,
    "start_time": "2025-04-10T23:27:41.496Z"
   },
   {
    "duration": 5,
    "start_time": "2025-04-10T23:27:44.130Z"
   },
   {
    "duration": 16,
    "start_time": "2025-04-10T23:28:30.424Z"
   },
   {
    "duration": 16,
    "start_time": "2025-04-10T23:28:41.841Z"
   },
   {
    "duration": 18,
    "start_time": "2025-04-10T23:29:57.817Z"
   },
   {
    "duration": 14,
    "start_time": "2025-04-10T23:30:45.074Z"
   },
   {
    "duration": 16,
    "start_time": "2025-04-10T23:31:24.577Z"
   },
   {
    "duration": 14,
    "start_time": "2025-04-10T23:31:57.071Z"
   },
   {
    "duration": 4,
    "start_time": "2025-04-10T23:32:09.216Z"
   },
   {
    "duration": 5,
    "start_time": "2025-04-10T23:32:30.666Z"
   },
   {
    "duration": 4,
    "start_time": "2025-04-10T23:33:47.932Z"
   },
   {
    "duration": 23,
    "start_time": "2025-04-10T23:33:58.080Z"
   },
   {
    "duration": 183,
    "start_time": "2025-04-10T23:35:47.567Z"
   },
   {
    "duration": 148,
    "start_time": "2025-04-10T23:35:53.567Z"
   },
   {
    "duration": 11,
    "start_time": "2025-04-10T23:36:02.642Z"
   },
   {
    "duration": 31,
    "start_time": "2025-04-10T23:36:12.232Z"
   },
   {
    "duration": 17,
    "start_time": "2025-04-10T23:36:21.953Z"
   },
   {
    "duration": 9,
    "start_time": "2025-04-10T23:39:50.502Z"
   },
   {
    "duration": 5,
    "start_time": "2025-04-10T23:40:09.969Z"
   },
   {
    "duration": 5,
    "start_time": "2025-04-10T23:40:44.115Z"
   },
   {
    "duration": 4,
    "start_time": "2025-04-10T23:44:09.709Z"
   },
   {
    "duration": 4,
    "start_time": "2025-04-10T23:44:40.809Z"
   },
   {
    "duration": 4,
    "start_time": "2025-04-10T23:45:04.537Z"
   },
   {
    "duration": 2,
    "start_time": "2025-04-10T23:45:18.792Z"
   },
   {
    "duration": 3,
    "start_time": "2025-04-10T23:45:31.248Z"
   },
   {
    "duration": 4,
    "start_time": "2025-04-10T23:45:54.592Z"
   },
   {
    "duration": 3,
    "start_time": "2025-04-10T23:46:01.814Z"
   },
   {
    "duration": 4,
    "start_time": "2025-04-10T23:48:17.787Z"
   },
   {
    "duration": 3,
    "start_time": "2025-04-10T23:55:04.084Z"
   },
   {
    "duration": 2,
    "start_time": "2025-04-10T23:55:13.583Z"
   },
   {
    "duration": 157,
    "start_time": "2025-04-11T18:34:14.666Z"
   },
   {
    "duration": 13,
    "start_time": "2025-04-11T18:34:36.660Z"
   },
   {
    "duration": 10,
    "start_time": "2025-04-11T18:34:45.273Z"
   },
   {
    "duration": 270,
    "start_time": "2025-04-11T18:34:49.621Z"
   },
   {
    "duration": 107,
    "start_time": "2025-04-11T18:34:52.557Z"
   },
   {
    "duration": 6,
    "start_time": "2025-04-11T18:34:57.770Z"
   },
   {
    "duration": 3,
    "start_time": "2025-04-11T18:35:08.544Z"
   },
   {
    "duration": 33,
    "start_time": "2025-04-11T18:35:20.935Z"
   },
   {
    "duration": 3,
    "start_time": "2025-04-11T18:35:27.495Z"
   },
   {
    "duration": 5,
    "start_time": "2025-04-11T18:35:30.905Z"
   },
   {
    "duration": 422,
    "start_time": "2025-04-11T18:36:46.349Z"
   },
   {
    "duration": 41,
    "start_time": "2025-04-11T18:37:02.303Z"
   },
   {
    "duration": 8,
    "start_time": "2025-04-11T18:37:51.305Z"
   },
   {
    "duration": 10,
    "start_time": "2025-04-11T18:39:25.494Z"
   },
   {
    "duration": 7,
    "start_time": "2025-04-11T18:39:39.174Z"
   },
   {
    "duration": 6,
    "start_time": "2025-04-11T18:39:48.259Z"
   },
   {
    "duration": 23,
    "start_time": "2025-04-11T18:39:58.529Z"
   },
   {
    "duration": 7,
    "start_time": "2025-04-11T18:41:43.596Z"
   },
   {
    "duration": 31,
    "start_time": "2025-04-11T18:42:01.323Z"
   },
   {
    "duration": 21,
    "start_time": "2025-04-11T18:42:18.714Z"
   },
   {
    "duration": 4,
    "start_time": "2025-04-11T18:42:29.978Z"
   },
   {
    "duration": 3,
    "start_time": "2025-04-11T18:42:41.886Z"
   },
   {
    "duration": 3,
    "start_time": "2025-04-11T18:42:58.823Z"
   },
   {
    "duration": 6,
    "start_time": "2025-04-11T18:43:15.272Z"
   },
   {
    "duration": 5,
    "start_time": "2025-04-11T18:43:38.724Z"
   },
   {
    "duration": 15,
    "start_time": "2025-04-11T18:43:41.667Z"
   },
   {
    "duration": 8,
    "start_time": "2025-04-11T18:43:45.126Z"
   },
   {
    "duration": 85,
    "start_time": "2025-04-11T18:45:37.528Z"
   },
   {
    "duration": 48,
    "start_time": "2025-04-11T18:45:48.045Z"
   },
   {
    "duration": 20,
    "start_time": "2025-04-11T18:56:28.678Z"
   },
   {
    "duration": 3,
    "start_time": "2025-04-11T18:56:38.261Z"
   },
   {
    "duration": 10,
    "start_time": "2025-04-11T18:56:47.255Z"
   },
   {
    "duration": 17,
    "start_time": "2025-04-11T18:56:50.292Z"
   },
   {
    "duration": 42,
    "start_time": "2025-04-11T19:15:38.689Z"
   },
   {
    "duration": 49,
    "start_time": "2025-04-11T19:18:29.276Z"
   },
   {
    "duration": 46,
    "start_time": "2025-04-11T19:18:38.164Z"
   },
   {
    "duration": 43,
    "start_time": "2025-04-11T19:19:03.637Z"
   },
   {
    "duration": 46,
    "start_time": "2025-04-11T19:19:14.413Z"
   },
   {
    "duration": 41,
    "start_time": "2025-04-11T19:19:18.290Z"
   },
   {
    "duration": 49,
    "start_time": "2025-04-11T19:20:28.322Z"
   },
   {
    "duration": 39,
    "start_time": "2025-04-11T19:20:31.905Z"
   },
   {
    "duration": 11,
    "start_time": "2025-04-11T19:21:21.766Z"
   },
   {
    "duration": 6,
    "start_time": "2025-04-11T19:21:46.890Z"
   },
   {
    "duration": 4,
    "start_time": "2025-04-11T19:31:32.869Z"
   },
   {
    "duration": 3,
    "start_time": "2025-04-11T19:31:43.677Z"
   },
   {
    "duration": 11,
    "start_time": "2025-04-11T19:34:27.027Z"
   },
   {
    "duration": 7,
    "start_time": "2025-04-11T19:34:49.077Z"
   },
   {
    "duration": 6,
    "start_time": "2025-04-11T19:35:16.687Z"
   },
   {
    "duration": 160,
    "start_time": "2025-04-11T23:24:16.124Z"
   },
   {
    "duration": 3,
    "start_time": "2025-04-11T23:24:27.636Z"
   },
   {
    "duration": 17,
    "start_time": "2025-04-11T23:24:31.467Z"
   },
   {
    "duration": 292,
    "start_time": "2025-04-11T23:24:49.061Z"
   },
   {
    "duration": 104,
    "start_time": "2025-04-11T23:24:53.005Z"
   },
   {
    "duration": 7,
    "start_time": "2025-04-11T23:24:55.680Z"
   },
   {
    "duration": 21,
    "start_time": "2025-04-11T23:25:01.027Z"
   },
   {
    "duration": 3,
    "start_time": "2025-04-11T23:25:07.882Z"
   },
   {
    "duration": 3,
    "start_time": "2025-04-11T23:25:11.299Z"
   },
   {
    "duration": 4,
    "start_time": "2025-04-11T23:25:18.155Z"
   },
   {
    "duration": 3,
    "start_time": "2025-04-11T23:25:20.966Z"
   },
   {
    "duration": 3,
    "start_time": "2025-04-11T23:25:25.319Z"
   },
   {
    "duration": 3,
    "start_time": "2025-04-11T23:25:26.850Z"
   },
   {
    "duration": 17,
    "start_time": "2025-04-11T23:25:29.178Z"
   },
   {
    "duration": 10,
    "start_time": "2025-04-11T23:25:36.835Z"
   },
   {
    "duration": 16,
    "start_time": "2025-04-11T23:25:38.289Z"
   },
   {
    "duration": 43,
    "start_time": "2025-04-11T23:25:40.803Z"
   },
   {
    "duration": 55,
    "start_time": "2025-04-11T23:25:44.830Z"
   },
   {
    "duration": 45,
    "start_time": "2025-04-11T23:25:46.245Z"
   },
   {
    "duration": 6,
    "start_time": "2025-04-11T23:25:50.369Z"
   },
   {
    "duration": 3,
    "start_time": "2025-04-11T23:25:56.083Z"
   },
   {
    "duration": 11,
    "start_time": "2025-04-11T23:26:00.117Z"
   },
   {
    "duration": 7,
    "start_time": "2025-04-11T23:26:16.692Z"
   },
   {
    "duration": 7,
    "start_time": "2025-04-11T23:26:21.030Z"
   },
   {
    "duration": 10,
    "start_time": "2025-04-11T23:35:54.535Z"
   },
   {
    "duration": 263,
    "start_time": "2025-04-11T23:41:38.854Z"
   },
   {
    "duration": 46,
    "start_time": "2025-04-11T23:42:57.586Z"
   },
   {
    "duration": 49,
    "start_time": "2025-04-11T23:43:31.801Z"
   },
   {
    "duration": 37,
    "start_time": "2025-04-11T23:43:46.825Z"
   },
   {
    "duration": 415,
    "start_time": "2025-04-11T23:45:48.254Z"
   },
   {
    "duration": 2,
    "start_time": "2025-04-11T23:45:56.699Z"
   },
   {
    "duration": 2,
    "start_time": "2025-04-11T23:45:59.911Z"
   },
   {
    "duration": 2,
    "start_time": "2025-04-11T23:46:05.512Z"
   },
   {
    "duration": 114,
    "start_time": "2025-04-11T23:46:06.761Z"
   },
   {
    "duration": 6,
    "start_time": "2025-04-11T23:46:08.218Z"
   },
   {
    "duration": 27,
    "start_time": "2025-04-11T23:46:14.355Z"
   },
   {
    "duration": 5,
    "start_time": "2025-04-11T23:46:18.471Z"
   },
   {
    "duration": 5,
    "start_time": "2025-04-11T23:46:20.648Z"
   },
   {
    "duration": 3,
    "start_time": "2025-04-11T23:46:22.389Z"
   },
   {
    "duration": 4,
    "start_time": "2025-04-11T23:46:24.587Z"
   },
   {
    "duration": 3,
    "start_time": "2025-04-11T23:46:25.970Z"
   },
   {
    "duration": 2,
    "start_time": "2025-04-11T23:46:27.310Z"
   },
   {
    "duration": 3,
    "start_time": "2025-04-11T23:46:28.522Z"
   },
   {
    "duration": 19,
    "start_time": "2025-04-11T23:46:32.974Z"
   },
   {
    "duration": 18,
    "start_time": "2025-04-11T23:46:37.630Z"
   },
   {
    "duration": 10,
    "start_time": "2025-04-11T23:46:40.223Z"
   },
   {
    "duration": 19,
    "start_time": "2025-04-11T23:46:41.436Z"
   },
   {
    "duration": 42,
    "start_time": "2025-04-11T23:46:44.113Z"
   },
   {
    "duration": 47,
    "start_time": "2025-04-11T23:46:46.219Z"
   },
   {
    "duration": 40,
    "start_time": "2025-04-11T23:46:48.203Z"
   },
   {
    "duration": 5,
    "start_time": "2025-04-11T23:46:53.590Z"
   },
   {
    "duration": 3,
    "start_time": "2025-04-11T23:47:15.078Z"
   },
   {
    "duration": 7,
    "start_time": "2025-04-11T23:47:17.400Z"
   },
   {
    "duration": 6,
    "start_time": "2025-04-11T23:47:19.237Z"
   },
   {
    "duration": 13,
    "start_time": "2025-04-11T23:47:26.885Z"
   },
   {
    "duration": 2,
    "start_time": "2025-04-11T23:47:30.865Z"
   },
   {
    "duration": 40,
    "start_time": "2025-04-11T23:47:59.152Z"
   },
   {
    "duration": 20,
    "start_time": "2025-04-11T23:48:16.315Z"
   },
   {
    "duration": 18,
    "start_time": "2025-04-11T23:48:49.901Z"
   },
   {
    "duration": 19,
    "start_time": "2025-04-11T23:48:54.535Z"
   },
   {
    "duration": 21,
    "start_time": "2025-04-11T23:50:53.091Z"
   },
   {
    "duration": 39,
    "start_time": "2025-04-11T23:51:16.275Z"
   },
   {
    "duration": 12,
    "start_time": "2025-04-11T23:51:38.017Z"
   },
   {
    "duration": 3,
    "start_time": "2025-04-11T23:51:46.710Z"
   },
   {
    "duration": 90,
    "start_time": "2025-04-11T23:51:48.098Z"
   },
   {
    "duration": 5,
    "start_time": "2025-04-11T23:51:50.094Z"
   },
   {
    "duration": 22,
    "start_time": "2025-04-11T23:51:52.824Z"
   },
   {
    "duration": 4,
    "start_time": "2025-04-11T23:52:05.560Z"
   },
   {
    "duration": 4,
    "start_time": "2025-04-11T23:52:06.526Z"
   },
   {
    "duration": 3,
    "start_time": "2025-04-11T23:52:09.089Z"
   },
   {
    "duration": 2,
    "start_time": "2025-04-11T23:52:11.770Z"
   },
   {
    "duration": 3,
    "start_time": "2025-04-11T23:52:13.535Z"
   },
   {
    "duration": 3,
    "start_time": "2025-04-11T23:52:14.623Z"
   },
   {
    "duration": 18,
    "start_time": "2025-04-11T23:52:17.396Z"
   },
   {
    "duration": 11,
    "start_time": "2025-04-11T23:52:20.707Z"
   },
   {
    "duration": 18,
    "start_time": "2025-04-11T23:52:22.205Z"
   },
   {
    "duration": 44,
    "start_time": "2025-04-11T23:52:30.643Z"
   },
   {
    "duration": 46,
    "start_time": "2025-04-11T23:52:33.382Z"
   },
   {
    "duration": 39,
    "start_time": "2025-04-11T23:52:35.497Z"
   },
   {
    "duration": 6,
    "start_time": "2025-04-11T23:52:38.530Z"
   },
   {
    "duration": 4,
    "start_time": "2025-04-11T23:52:41.203Z"
   },
   {
    "duration": 7,
    "start_time": "2025-04-11T23:52:42.785Z"
   },
   {
    "duration": 6,
    "start_time": "2025-04-11T23:52:45.092Z"
   },
   {
    "duration": 7,
    "start_time": "2025-04-11T23:52:52.044Z"
   },
   {
    "duration": 9,
    "start_time": "2025-04-11T23:53:23.482Z"
   },
   {
    "duration": 9,
    "start_time": "2025-04-11T23:53:55.667Z"
   },
   {
    "duration": 205,
    "start_time": "2025-04-12T04:25:13.389Z"
   },
   {
    "duration": 5,
    "start_time": "2025-04-12T04:25:20.653Z"
   },
   {
    "duration": 16,
    "start_time": "2025-04-12T04:25:44.343Z"
   },
   {
    "duration": 4,
    "start_time": "2025-04-12T04:25:55.095Z"
   },
   {
    "duration": 3,
    "start_time": "2025-04-12T04:26:03.322Z"
   },
   {
    "duration": 17,
    "start_time": "2025-04-12T04:26:07.316Z"
   },
   {
    "duration": 14,
    "start_time": "2025-04-12T04:27:04.365Z"
   },
   {
    "duration": 327,
    "start_time": "2025-04-12T04:27:06.956Z"
   },
   {
    "duration": 111,
    "start_time": "2025-04-12T04:27:09.267Z"
   },
   {
    "duration": 39,
    "start_time": "2025-04-12T04:27:22.205Z"
   },
   {
    "duration": 2,
    "start_time": "2025-04-12T04:30:22.918Z"
   },
   {
    "duration": 18,
    "start_time": "2025-04-12T04:30:27.013Z"
   },
   {
    "duration": 4,
    "start_time": "2025-04-12T04:31:01.528Z"
   },
   {
    "duration": 3,
    "start_time": "2025-04-12T04:31:07.789Z"
   },
   {
    "duration": 7,
    "start_time": "2025-04-12T04:31:24.634Z"
   },
   {
    "duration": 4,
    "start_time": "2025-04-12T04:33:08.376Z"
   },
   {
    "duration": 3,
    "start_time": "2025-04-12T04:35:01.803Z"
   },
   {
    "duration": 2,
    "start_time": "2025-04-12T04:35:22.767Z"
   },
   {
    "duration": 321,
    "start_time": "2025-04-12T20:14:37.337Z"
   },
   {
    "duration": 116,
    "start_time": "2025-04-12T20:14:37.660Z"
   },
   {
    "duration": 8,
    "start_time": "2025-04-12T20:14:37.778Z"
   },
   {
    "duration": 29,
    "start_time": "2025-04-12T20:14:37.787Z"
   },
   {
    "duration": 5,
    "start_time": "2025-04-12T20:14:37.819Z"
   },
   {
    "duration": 3,
    "start_time": "2025-04-12T20:14:37.826Z"
   },
   {
    "duration": 3,
    "start_time": "2025-04-12T20:14:37.831Z"
   },
   {
    "duration": 3,
    "start_time": "2025-04-12T20:14:37.835Z"
   },
   {
    "duration": 3,
    "start_time": "2025-04-12T20:14:37.840Z"
   },
   {
    "duration": 4,
    "start_time": "2025-04-12T20:14:37.844Z"
   },
   {
    "duration": 16,
    "start_time": "2025-04-12T20:14:37.850Z"
   },
   {
    "duration": 46,
    "start_time": "2025-04-12T20:14:37.868Z"
   },
   {
    "duration": 16,
    "start_time": "2025-04-12T20:14:37.915Z"
   },
   {
    "duration": 44,
    "start_time": "2025-04-12T20:14:37.934Z"
   },
   {
    "duration": 68,
    "start_time": "2025-04-12T20:14:37.980Z"
   },
   {
    "duration": 38,
    "start_time": "2025-04-12T20:14:38.051Z"
   },
   {
    "duration": 17,
    "start_time": "2025-04-12T20:14:38.092Z"
   },
   {
    "duration": 3,
    "start_time": "2025-04-12T20:14:38.111Z"
   },
   {
    "duration": 8,
    "start_time": "2025-04-12T20:14:38.115Z"
   },
   {
    "duration": 5,
    "start_time": "2025-04-12T20:14:38.124Z"
   },
   {
    "duration": 8,
    "start_time": "2025-04-12T20:14:38.132Z"
   },
   {
    "duration": 8,
    "start_time": "2025-04-12T20:14:38.141Z"
   },
   {
    "duration": 5,
    "start_time": "2025-04-12T20:14:38.151Z"
   },
   {
    "duration": 0,
    "start_time": "2025-04-12T20:14:38.157Z"
   },
   {
    "duration": 0,
    "start_time": "2025-04-12T20:14:38.158Z"
   },
   {
    "duration": 0,
    "start_time": "2025-04-12T20:14:38.160Z"
   },
   {
    "duration": 0,
    "start_time": "2025-04-12T20:14:38.162Z"
   },
   {
    "duration": 0,
    "start_time": "2025-04-12T20:14:38.163Z"
   },
   {
    "duration": 0,
    "start_time": "2025-04-12T20:14:38.165Z"
   },
   {
    "duration": 3,
    "start_time": "2025-04-12T20:17:39.734Z"
   },
   {
    "duration": 178,
    "start_time": "2025-04-12T20:17:41.519Z"
   },
   {
    "duration": 3,
    "start_time": "2025-04-12T20:18:11.101Z"
   },
   {
    "duration": 13,
    "start_time": "2025-04-12T20:18:13.048Z"
   },
   {
    "duration": 3,
    "start_time": "2025-04-12T20:18:23.692Z"
   },
   {
    "duration": 13,
    "start_time": "2025-04-12T20:18:25.188Z"
   },
   {
    "duration": 206,
    "start_time": "2025-04-13T03:04:58.079Z"
   },
   {
    "duration": 265,
    "start_time": "2025-04-13T03:05:01.394Z"
   },
   {
    "duration": 113,
    "start_time": "2025-04-13T03:05:05.355Z"
   },
   {
    "duration": 5,
    "start_time": "2025-04-13T03:07:01.902Z"
   },
   {
    "duration": 4,
    "start_time": "2025-04-13T03:08:29.704Z"
   },
   {
    "duration": 5,
    "start_time": "2025-04-13T03:08:41.162Z"
   },
   {
    "duration": 3,
    "start_time": "2025-04-13T03:08:48.018Z"
   },
   {
    "duration": 581,
    "start_time": "2025-04-13T03:08:58.532Z"
   },
   {
    "duration": 3,
    "start_time": "2025-04-13T03:09:43.936Z"
   },
   {
    "duration": 52,
    "start_time": "2025-04-13T03:10:41.682Z"
   },
   {
    "duration": 4,
    "start_time": "2025-04-13T03:11:09.854Z"
   },
   {
    "duration": 4,
    "start_time": "2025-04-13T03:11:12.748Z"
   },
   {
    "duration": 17,
    "start_time": "2025-04-13T03:11:42.956Z"
   },
   {
    "duration": 10,
    "start_time": "2025-04-13T03:11:47.354Z"
   },
   {
    "duration": 17,
    "start_time": "2025-04-13T03:11:52.605Z"
   },
   {
    "duration": 48,
    "start_time": "2025-04-13T03:12:01.264Z"
   },
   {
    "duration": 51,
    "start_time": "2025-04-13T03:12:03.893Z"
   },
   {
    "duration": 38,
    "start_time": "2025-04-13T03:12:06.677Z"
   },
   {
    "duration": 6,
    "start_time": "2025-04-13T03:12:10.828Z"
   },
   {
    "duration": 3,
    "start_time": "2025-04-13T03:12:17.930Z"
   },
   {
    "duration": 8,
    "start_time": "2025-04-13T03:12:19.546Z"
   },
   {
    "duration": 5,
    "start_time": "2025-04-13T03:12:21.477Z"
   },
   {
    "duration": 9,
    "start_time": "2025-04-13T03:12:29.617Z"
   },
   {
    "duration": 9,
    "start_time": "2025-04-13T03:12:32.749Z"
   },
   {
    "duration": 18,
    "start_time": "2025-04-13T03:12:36.176Z"
   },
   {
    "duration": 3,
    "start_time": "2025-04-13T03:12:57.393Z"
   },
   {
    "duration": 15,
    "start_time": "2025-04-13T03:13:22.093Z"
   },
   {
    "duration": 25,
    "start_time": "2025-04-13T03:15:44.826Z"
   },
   {
    "duration": 171,
    "start_time": "2025-04-13T03:15:53.624Z"
   },
   {
    "duration": 31,
    "start_time": "2025-04-13T03:16:33.889Z"
   },
   {
    "duration": 17,
    "start_time": "2025-04-13T03:17:04.070Z"
   },
   {
    "duration": 10,
    "start_time": "2025-04-13T03:18:19.597Z"
   },
   {
    "duration": 15,
    "start_time": "2025-04-13T03:18:22.413Z"
   },
   {
    "duration": 16,
    "start_time": "2025-04-13T03:19:04.325Z"
   },
   {
    "duration": 14,
    "start_time": "2025-04-13T03:20:05.901Z"
   },
   {
    "duration": 13,
    "start_time": "2025-04-13T03:21:17.432Z"
   },
   {
    "duration": 17,
    "start_time": "2025-04-13T03:21:38.705Z"
   },
   {
    "duration": 16,
    "start_time": "2025-04-13T03:23:23.925Z"
   },
   {
    "duration": 155,
    "start_time": "2025-04-14T03:34:51.711Z"
   },
   {
    "duration": 323,
    "start_time": "2025-04-14T03:34:57.770Z"
   },
   {
    "duration": 113,
    "start_time": "2025-04-14T03:34:59.028Z"
   },
   {
    "duration": 14,
    "start_time": "2025-04-14T03:35:00.333Z"
   },
   {
    "duration": 5,
    "start_time": "2025-04-14T03:35:26.990Z"
   },
   {
    "duration": 4,
    "start_time": "2025-04-14T03:35:32.464Z"
   },
   {
    "duration": 5,
    "start_time": "2025-04-14T03:35:36.868Z"
   },
   {
    "duration": 9,
    "start_time": "2025-04-14T03:35:46.079Z"
   }
  ],
  "colab": {
   "collapsed_sections": [
    "E0vqbgi9ay0H",
    "VUC88oWjTJw2"
   ],
   "provenance": []
  },
  "kernelspec": {
   "display_name": "Python 3 (ipykernel)",
   "language": "python",
   "name": "python3"
  },
  "language_info": {
   "codemirror_mode": {
    "name": "ipython",
    "version": 3
   },
   "file_extension": ".py",
   "mimetype": "text/x-python",
   "name": "python",
   "nbconvert_exporter": "python",
   "pygments_lexer": "ipython3",
   "version": "3.9.19"
  },
  "toc": {
   "base_numbering": 1,
   "nav_menu": {},
   "number_sections": true,
   "sideBar": true,
   "skip_h1_title": true,
   "title_cell": "Table of Contents",
   "title_sidebar": "Contents",
   "toc_cell": false,
   "toc_position": {},
   "toc_section_display": true,
   "toc_window_display": false
  }
 },
 "nbformat": 4,
 "nbformat_minor": 1
}
