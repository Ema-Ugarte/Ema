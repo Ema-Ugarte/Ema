{
 "cells": [
  {
   "cell_type": "markdown",
   "metadata": {},
   "source": [
    "¡Hola, Emanuel!\n",
    "\n",
    "Mi nombre es Tonatiuh Cruz. Me complace revisar tu proyecto hoy.\n",
    "\n",
    "Al identificar cualquier error inicialmente, simplemente los destacaré. Te animo a localizar y abordar los problemas de forma independiente como parte de tu preparación para un rol como data-analyst. En un entorno profesional, tu líder de equipo seguiría un enfoque similar. Si encuentras la tarea desafiante, proporcionaré una pista más específica en la próxima iteración.\n",
    "\n",
    "Encontrarás mis comentarios a continuación - **por favor no los muevas, modifiques o elimines**.\n",
    "\n",
    "Puedes encontrar mis comentarios en cajas verdes, amarillas o rojas como esta:\n",
    "\n",
    "<div class=\"alert alert-block alert-success\">\n",
    "<b>Comentario del revisor</b> <a class=\"tocSkip\"></a>\n",
    "\n",
    "Éxito. Todo está hecho correctamente.\n",
    "</div>\n",
    "\n",
    "<div class=\"alert alert-block alert-warning\">\n",
    "<b>Comentario del revisor</b> <a class=\"tocSkip\"></a>\n",
    "\n",
    "Observaciones. Algunas recomendaciones.\n",
    "</div>\n",
    "\n",
    "<div class=\"alert alert-block alert-danger\">\n",
    "<b>Comentario del revisor</b> <a class=\"tocSkip\"></a>\n",
    "\n",
    "Necesita corrección. El bloque requiere algunas correcciones. El trabajo no puede ser aceptado con comentarios en rojo.\n",
    "</div>\n",
    "\n",
    "Puedes responderme utilizando esto:\n",
    "\n",
    "<div class=\"alert alert-block alert-info\">\n",
    "<b>Respuesta del estudiante.</b> <a class=\"tocSkip\"></a>"
   ]
  },
  {
   "cell_type": "markdown",
   "metadata": {},
   "source": [
    "<div class=\"alert alert-block alert-success\">\n",
    "<b>Resumen de la revisión 1</b> <a class=\"tocSkip\"></a>\n",
    "\n",
    "Hola, Emmanuel! Has hecho un excelente trabajo con el proyecto, cada vez más cercas de convertirte en un analista de datos. Realizaste la carga de bases, su análisis inicial, sus ajustes, un análisis de algunos variables conmplementado con gráficas y el desarrollo de las pruebas d ehipótesis. Solamente te dejo algunos comentarios para complementar el análisis. \n",
    "\n",
    "Sigue con el excelente trabajo!\n",
    "</div>"
   ]
  },
  {
   "cell_type": "markdown",
   "metadata": {
    "id": "3rYiDeEH0q0f"
   },
   "source": [
    "# ¿Cuál es la mejor tarifa?\n",
    "\n",
    "Trabajas como analista para el operador de telecomunicaciones Megaline. La empresa ofrece a sus clientes dos tarifas de prepago, Surf y Ultimate. El departamento comercial quiere saber cuál de las tarifas genera más ingresos para poder ajustar el presupuesto de publicidad.\n",
    "\n",
    "Vas a realizar un análisis preliminar de las tarifas basado en una selección de clientes relativamente pequeña. Tendrás los datos de 500 clientes de Megaline: quiénes son los clientes, de dónde son, qué tarifa usan, así como la cantidad de llamadas que hicieron y los mensajes de texto que enviaron en 2018. Tu trabajo es analizar el comportamiento de los clientes y determinar qué tarifa de prepago genera más ingresos."
   ]
  },
  {
   "cell_type": "markdown",
   "metadata": {
    "id": "VNddPNRQ0q0w"
   },
   "source": [
    "[Te proporcionamos algunos comentarios para orientarte mientras completas este proyecto. Pero debes asegurarte de eliminar todos los comentarios entre corchetes antes de entregar tu proyecto.]\n",
    "\n",
    "[Antes de sumergirte en el análisis de datos, explica por tu propia cuenta el propósito del proyecto y las acciones que planeas realizar.]\n",
    "\n",
    "[Ten en cuenta que estudiar, modificar y analizar datos es un proceso iterativo. Es normal volver a los pasos anteriores y corregirlos/ampliarlos para permitir nuevos pasos.]"
   ]
  },
  {
   "cell_type": "markdown",
   "metadata": {
    "id": "MQi4IPy70q0y"
   },
   "source": [
    "## Inicialización"
   ]
  },
  {
   "cell_type": "code",
   "execution_count": 1,
   "metadata": {
    "id": "MtYIuBxu0q0z"
   },
   "outputs": [],
   "source": [
    "# Cargar todas las librerías\n",
    "import pandas as pd\n",
    "import numpy as np\n",
    "from math import factorial\n",
    "from scipy import stats as st\n",
    "import math as mt\n",
    "from matplotlib import pyplot as plt\n",
    "import seaborn as sns"
   ]
  },
  {
   "cell_type": "markdown",
   "metadata": {},
   "source": [
    "<div class=\"alert alert-block alert-success\">\n",
    "<b>Comentario revisor</b> <a class=\"tocSkip\"></a>\n",
    "\n",
    "Gran trabajo con la carga de math para hacer el redondeo con otros métodos"
   ]
  },
  {
   "cell_type": "markdown",
   "metadata": {
    "id": "4ysWWC5i0q00"
   },
   "source": [
    "## Cargar datos"
   ]
  },
  {
   "cell_type": "code",
   "execution_count": 2,
   "metadata": {
    "id": "CCqPW7rS0q01"
   },
   "outputs": [],
   "source": [
    "# Carga los archivos de datos en diferentes DataFrames\n",
    "\n",
    "megaline_calls = pd.read_csv(\"/datasets/megaline_calls.csv\")\n",
    "\n",
    "megaline_internet = pd.read_csv(\"/datasets/megaline_internet.csv\")\n",
    "\n",
    "megaline_messages = pd.read_csv(\"/datasets/megaline_messages.csv\")\n",
    "\n",
    "megaline_plans = pd.read_csv(\"/datasets/megaline_plans.csv\")\n",
    "\n",
    "megaline_users = pd.read_csv(\"/datasets/megaline_users.csv\")\n"
   ]
  },
  {
   "cell_type": "markdown",
   "metadata": {
    "id": "69qqoJ3r0q01"
   },
   "source": [
    "## Preparar los datos"
   ]
  },
  {
   "cell_type": "markdown",
   "metadata": {
    "id": "vUuZw80S0q01"
   },
   "source": [
    "[Los datos para este proyecto se dividen en varias tablas. Explora cada una para tener una comprensión inicial de los datos. Si es necesario, haz las correcciones requeridas en cada tabla.]"
   ]
  },
  {
   "cell_type": "code",
   "execution_count": 3,
   "metadata": {},
   "outputs": [
    {
     "name": "stdout",
     "output_type": "stream",
     "text": [
      "         id  user_id   call_date  duration\n",
      "0   1000_93     1000  2018-12-27      8.52\n",
      "1  1000_145     1000  2018-12-27     13.66\n",
      "2  1000_247     1000  2018-12-27     14.48\n",
      "3  1000_309     1000  2018-12-28      5.76\n",
      "4  1000_380     1000  2018-12-30      4.22 \n",
      "\n",
      "         id  user_id session_date  mb_used\n",
      "0   1000_13     1000   2018-12-29    89.86\n",
      "1  1000_204     1000   2018-12-31     0.00\n",
      "2  1000_379     1000   2018-12-28   660.40\n",
      "3  1000_413     1000   2018-12-26   270.99\n",
      "4  1000_442     1000   2018-12-27   880.22 \n",
      "\n",
      "         id  user_id message_date\n",
      "0  1000_125     1000   2018-12-27\n",
      "1  1000_160     1000   2018-12-31\n",
      "2  1000_223     1000   2018-12-31\n",
      "3  1000_251     1000   2018-12-27\n",
      "4  1000_255     1000   2018-12-26 \n",
      "\n",
      "   messages_included  mb_per_month_included  minutes_included  \\\n",
      "0                 50                  15360               500   \n",
      "1               1000                  30720              3000   \n",
      "\n",
      "   usd_monthly_pay  usd_per_gb  usd_per_message  usd_per_minute plan_name  \n",
      "0               20          10             0.03            0.03      surf  \n",
      "1               70           7             0.01            0.01  ultimate   \n",
      "\n",
      "   user_id first_name  last_name  age                                   city  \\\n",
      "0     1000   Anamaria      Bauer   45  Atlanta-Sandy Springs-Roswell, GA MSA   \n",
      "1     1001     Mickey  Wilkerson   28        Seattle-Tacoma-Bellevue, WA MSA   \n",
      "2     1002     Carlee    Hoffman   36   Las Vegas-Henderson-Paradise, NV MSA   \n",
      "3     1003   Reynaldo    Jenkins   52                          Tulsa, OK MSA   \n",
      "4     1004    Leonila   Thompson   40        Seattle-Tacoma-Bellevue, WA MSA   \n",
      "\n",
      "     reg_date      plan churn_date  \n",
      "0  2018-12-24  ultimate        NaN  \n",
      "1  2018-08-13      surf        NaN  \n",
      "2  2018-10-21      surf        NaN  \n",
      "3  2018-01-28      surf        NaN  \n",
      "4  2018-05-23      surf        NaN  \n"
     ]
    }
   ],
   "source": [
    "print(megaline_calls.head(),\"\\n\")\n",
    "print(megaline_internet.head(), \"\\n\")\n",
    "print(megaline_messages.head(), \"\\n\")\n",
    "print(megaline_plans.head(), \"\\n\")\n",
    "print(megaline_users.head())"
   ]
  },
  {
   "cell_type": "markdown",
   "metadata": {
    "id": "ohBhimvH0q01"
   },
   "source": [
    "## Tarifas"
   ]
  },
  {
   "cell_type": "code",
   "execution_count": 4,
   "metadata": {
    "id": "GptqP3Q40q02"
   },
   "outputs": [
    {
     "name": "stdout",
     "output_type": "stream",
     "text": [
      "<class 'pandas.core.frame.DataFrame'>\n",
      "RangeIndex: 2 entries, 0 to 1\n",
      "Data columns (total 8 columns):\n",
      " #   Column                 Non-Null Count  Dtype  \n",
      "---  ------                 --------------  -----  \n",
      " 0   messages_included      2 non-null      int64  \n",
      " 1   mb_per_month_included  2 non-null      int64  \n",
      " 2   minutes_included       2 non-null      int64  \n",
      " 3   usd_monthly_pay        2 non-null      int64  \n",
      " 4   usd_per_gb             2 non-null      int64  \n",
      " 5   usd_per_message        2 non-null      float64\n",
      " 6   usd_per_minute         2 non-null      float64\n",
      " 7   plan_name              2 non-null      object \n",
      "dtypes: float64(2), int64(5), object(1)\n",
      "memory usage: 256.0+ bytes\n"
     ]
    }
   ],
   "source": [
    "# Imprime la información general/resumida sobre el DataFrame de las tarifas\n",
    "megaline_plans.info()"
   ]
  },
  {
   "cell_type": "code",
   "execution_count": 5,
   "metadata": {
    "id": "64xzjwL70q02"
   },
   "outputs": [
    {
     "data": {
      "text/html": [
       "<div>\n",
       "<style scoped>\n",
       "    .dataframe tbody tr th:only-of-type {\n",
       "        vertical-align: middle;\n",
       "    }\n",
       "\n",
       "    .dataframe tbody tr th {\n",
       "        vertical-align: top;\n",
       "    }\n",
       "\n",
       "    .dataframe thead th {\n",
       "        text-align: right;\n",
       "    }\n",
       "</style>\n",
       "<table border=\"1\" class=\"dataframe\">\n",
       "  <thead>\n",
       "    <tr style=\"text-align: right;\">\n",
       "      <th></th>\n",
       "      <th>messages_included</th>\n",
       "      <th>mb_per_month_included</th>\n",
       "      <th>minutes_included</th>\n",
       "      <th>usd_monthly_pay</th>\n",
       "      <th>usd_per_gb</th>\n",
       "      <th>usd_per_message</th>\n",
       "      <th>usd_per_minute</th>\n",
       "      <th>plan_name</th>\n",
       "    </tr>\n",
       "  </thead>\n",
       "  <tbody>\n",
       "    <tr>\n",
       "      <th>0</th>\n",
       "      <td>50</td>\n",
       "      <td>15360</td>\n",
       "      <td>500</td>\n",
       "      <td>20</td>\n",
       "      <td>10</td>\n",
       "      <td>0.03</td>\n",
       "      <td>0.03</td>\n",
       "      <td>surf</td>\n",
       "    </tr>\n",
       "    <tr>\n",
       "      <th>1</th>\n",
       "      <td>1000</td>\n",
       "      <td>30720</td>\n",
       "      <td>3000</td>\n",
       "      <td>70</td>\n",
       "      <td>7</td>\n",
       "      <td>0.01</td>\n",
       "      <td>0.01</td>\n",
       "      <td>ultimate</td>\n",
       "    </tr>\n",
       "  </tbody>\n",
       "</table>\n",
       "</div>"
      ],
      "text/plain": [
       "   messages_included  mb_per_month_included  minutes_included  \\\n",
       "0                 50                  15360               500   \n",
       "1               1000                  30720              3000   \n",
       "\n",
       "   usd_monthly_pay  usd_per_gb  usd_per_message  usd_per_minute plan_name  \n",
       "0               20          10             0.03            0.03      surf  \n",
       "1               70           7             0.01            0.01  ultimate  "
      ]
     },
     "execution_count": 5,
     "metadata": {},
     "output_type": "execute_result"
    }
   ],
   "source": [
    "# Imprime una muestra de los datos para las tarifas\n",
    "megaline_plans"
   ]
  },
  {
   "cell_type": "markdown",
   "metadata": {
    "id": "mEc_3_hs0q02"
   },
   "source": [
    "[Describe lo que ves y observas en la información general y en la muestra de datos impresa para el precio de datos anterior. ¿Hay algún problema (tipos de datos no adecuados, datos ausentes, etc.) que pudieran necesitar investigación y cambios adicionales? ¿Cómo se puede arreglar?]\n",
    "\n",
    "**Tal vez el unico error que pueda ser sea el nombre de la oolumna \"usd_monthly_pay\" ya que en la descripcion del proyecto tiene otro nombre que es \"usd_monthly_fee\"\" lo que puede que sea irrelevante pero creo que es mejor cambiarlo para evitar futuros errores en el futuro.**"
   ]
  },
  {
   "cell_type": "markdown",
   "metadata": {
    "id": "R3C05i1l0q03"
   },
   "source": [
    "## Corregir datos"
   ]
  },
  {
   "cell_type": "markdown",
   "metadata": {
    "id": "bIi8StZI0q03"
   },
   "source": [
    "[Corrige los problemas obvios con los datos basándote en las observaciones iniciales.]"
   ]
  },
  {
   "cell_type": "code",
   "execution_count": 6,
   "metadata": {
    "id": "Y7SVmjGn0q03"
   },
   "outputs": [
    {
     "data": {
      "text/html": [
       "<div>\n",
       "<style scoped>\n",
       "    .dataframe tbody tr th:only-of-type {\n",
       "        vertical-align: middle;\n",
       "    }\n",
       "\n",
       "    .dataframe tbody tr th {\n",
       "        vertical-align: top;\n",
       "    }\n",
       "\n",
       "    .dataframe thead th {\n",
       "        text-align: right;\n",
       "    }\n",
       "</style>\n",
       "<table border=\"1\" class=\"dataframe\">\n",
       "  <thead>\n",
       "    <tr style=\"text-align: right;\">\n",
       "      <th></th>\n",
       "      <th>messages_included</th>\n",
       "      <th>mb_per_month_included</th>\n",
       "      <th>minutes_included</th>\n",
       "      <th>usd_monthly_fee</th>\n",
       "      <th>usd_per_gb</th>\n",
       "      <th>usd_per_message</th>\n",
       "      <th>usd_per_minute</th>\n",
       "      <th>plan_name</th>\n",
       "    </tr>\n",
       "  </thead>\n",
       "  <tbody>\n",
       "    <tr>\n",
       "      <th>0</th>\n",
       "      <td>50</td>\n",
       "      <td>15.0</td>\n",
       "      <td>500</td>\n",
       "      <td>20</td>\n",
       "      <td>10</td>\n",
       "      <td>0.03</td>\n",
       "      <td>0.03</td>\n",
       "      <td>surf</td>\n",
       "    </tr>\n",
       "    <tr>\n",
       "      <th>1</th>\n",
       "      <td>1000</td>\n",
       "      <td>30.0</td>\n",
       "      <td>3000</td>\n",
       "      <td>70</td>\n",
       "      <td>7</td>\n",
       "      <td>0.01</td>\n",
       "      <td>0.01</td>\n",
       "      <td>ultimate</td>\n",
       "    </tr>\n",
       "  </tbody>\n",
       "</table>\n",
       "</div>"
      ],
      "text/plain": [
       "   messages_included  mb_per_month_included  minutes_included  \\\n",
       "0                 50                   15.0               500   \n",
       "1               1000                   30.0              3000   \n",
       "\n",
       "   usd_monthly_fee  usd_per_gb  usd_per_message  usd_per_minute plan_name  \n",
       "0               20          10             0.03            0.03      surf  \n",
       "1               70           7             0.01            0.01  ultimate  "
      ]
     },
     "execution_count": 6,
     "metadata": {},
     "output_type": "execute_result"
    }
   ],
   "source": [
    "New_name_column = {\"usd_monthly_pay\": \"usd_monthly_fee\"}\n",
    "\n",
    "megaline_plans.rename(columns= New_name_column, inplace=True)\n",
    "\n",
    "megaline_plans['mb_per_month_included'] = megaline_plans['mb_per_month_included'] / 1024\n",
    "\n",
    "megaline_plans"
   ]
  },
  {
   "cell_type": "markdown",
   "metadata": {},
   "source": [
    "\n",
    "<div class=\"alert alert-block alert-warning\">\n",
    "<b>Comentario Revisor</b> <a class=\"tocSkip\"></a>\n",
    "\n",
    "Muy buen trabajo, solamente te sugiero que en este apartado menciones un poco sobre la transformación que se debe realizar de megabytes a gigabytes. \n",
    "</div>"
   ]
  },
  {
   "cell_type": "markdown",
   "metadata": {},
   "source": [
    "<div class=\"alert alert-block alert-success\">\n",
    "<b>Comentario del revisor</b> <a class=\"tocSkip\"></a>\n",
    "\n",
    "Gran trabajo con el ajuste!"
   ]
  },
  {
   "cell_type": "markdown",
   "metadata": {
    "id": "LJir7bml0q03"
   },
   "source": [
    "## Enriquecer los datos"
   ]
  },
  {
   "cell_type": "markdown",
   "metadata": {
    "id": "eqADpCfg0q04"
   },
   "source": [
    "[Agrega factores adicionales a los datos si crees que pudieran ser útiles.]"
   ]
  },
  {
   "cell_type": "markdown",
   "metadata": {
    "id": "gfcIEuXV0q04"
   },
   "source": [
    "**Hicimos el cambio de nombre de columna porque en la descripcion de DataFrame tiene otro nombre y por lo que creo que debia cambiarse es para un mejor entendimiento de las columnas.**\n",
    "\n",
    "**Tambien convertimos los MB de la columna \"mb_per_month_included\" a GB para un mejor entedimiento de los plan \"surf\" y \"ultimate\".**"
   ]
  },
  {
   "cell_type": "markdown",
   "metadata": {
    "id": "1n2X6WXf0q04"
   },
   "source": [
    "## Usuarios/as"
   ]
  },
  {
   "cell_type": "code",
   "execution_count": 7,
   "metadata": {
    "id": "2NgjWFqx0q05"
   },
   "outputs": [
    {
     "name": "stdout",
     "output_type": "stream",
     "text": [
      "<class 'pandas.core.frame.DataFrame'>\n",
      "RangeIndex: 500 entries, 0 to 499\n",
      "Data columns (total 8 columns):\n",
      " #   Column      Non-Null Count  Dtype \n",
      "---  ------      --------------  ----- \n",
      " 0   user_id     500 non-null    int64 \n",
      " 1   first_name  500 non-null    object\n",
      " 2   last_name   500 non-null    object\n",
      " 3   age         500 non-null    int64 \n",
      " 4   city        500 non-null    object\n",
      " 5   reg_date    500 non-null    object\n",
      " 6   plan        500 non-null    object\n",
      " 7   churn_date  34 non-null     object\n",
      "dtypes: int64(2), object(6)\n",
      "memory usage: 31.4+ KB\n"
     ]
    }
   ],
   "source": [
    "# Imprime la información general/resumida sobre el DataFrame de usuarios\n",
    "megaline_users.info()"
   ]
  },
  {
   "cell_type": "code",
   "execution_count": 8,
   "metadata": {
    "id": "1IN1L9uh0q05"
   },
   "outputs": [
    {
     "data": {
      "text/html": [
       "<div>\n",
       "<style scoped>\n",
       "    .dataframe tbody tr th:only-of-type {\n",
       "        vertical-align: middle;\n",
       "    }\n",
       "\n",
       "    .dataframe tbody tr th {\n",
       "        vertical-align: top;\n",
       "    }\n",
       "\n",
       "    .dataframe thead th {\n",
       "        text-align: right;\n",
       "    }\n",
       "</style>\n",
       "<table border=\"1\" class=\"dataframe\">\n",
       "  <thead>\n",
       "    <tr style=\"text-align: right;\">\n",
       "      <th></th>\n",
       "      <th>user_id</th>\n",
       "      <th>first_name</th>\n",
       "      <th>last_name</th>\n",
       "      <th>age</th>\n",
       "      <th>city</th>\n",
       "      <th>reg_date</th>\n",
       "      <th>plan</th>\n",
       "      <th>churn_date</th>\n",
       "    </tr>\n",
       "  </thead>\n",
       "  <tbody>\n",
       "    <tr>\n",
       "      <th>0</th>\n",
       "      <td>1000</td>\n",
       "      <td>Anamaria</td>\n",
       "      <td>Bauer</td>\n",
       "      <td>45</td>\n",
       "      <td>Atlanta-Sandy Springs-Roswell, GA MSA</td>\n",
       "      <td>2018-12-24</td>\n",
       "      <td>ultimate</td>\n",
       "      <td>NaN</td>\n",
       "    </tr>\n",
       "    <tr>\n",
       "      <th>1</th>\n",
       "      <td>1001</td>\n",
       "      <td>Mickey</td>\n",
       "      <td>Wilkerson</td>\n",
       "      <td>28</td>\n",
       "      <td>Seattle-Tacoma-Bellevue, WA MSA</td>\n",
       "      <td>2018-08-13</td>\n",
       "      <td>surf</td>\n",
       "      <td>NaN</td>\n",
       "    </tr>\n",
       "    <tr>\n",
       "      <th>2</th>\n",
       "      <td>1002</td>\n",
       "      <td>Carlee</td>\n",
       "      <td>Hoffman</td>\n",
       "      <td>36</td>\n",
       "      <td>Las Vegas-Henderson-Paradise, NV MSA</td>\n",
       "      <td>2018-10-21</td>\n",
       "      <td>surf</td>\n",
       "      <td>NaN</td>\n",
       "    </tr>\n",
       "    <tr>\n",
       "      <th>3</th>\n",
       "      <td>1003</td>\n",
       "      <td>Reynaldo</td>\n",
       "      <td>Jenkins</td>\n",
       "      <td>52</td>\n",
       "      <td>Tulsa, OK MSA</td>\n",
       "      <td>2018-01-28</td>\n",
       "      <td>surf</td>\n",
       "      <td>NaN</td>\n",
       "    </tr>\n",
       "    <tr>\n",
       "      <th>4</th>\n",
       "      <td>1004</td>\n",
       "      <td>Leonila</td>\n",
       "      <td>Thompson</td>\n",
       "      <td>40</td>\n",
       "      <td>Seattle-Tacoma-Bellevue, WA MSA</td>\n",
       "      <td>2018-05-23</td>\n",
       "      <td>surf</td>\n",
       "      <td>NaN</td>\n",
       "    </tr>\n",
       "    <tr>\n",
       "      <th>...</th>\n",
       "      <td>...</td>\n",
       "      <td>...</td>\n",
       "      <td>...</td>\n",
       "      <td>...</td>\n",
       "      <td>...</td>\n",
       "      <td>...</td>\n",
       "      <td>...</td>\n",
       "      <td>...</td>\n",
       "    </tr>\n",
       "    <tr>\n",
       "      <th>495</th>\n",
       "      <td>1495</td>\n",
       "      <td>Fidel</td>\n",
       "      <td>Sharpe</td>\n",
       "      <td>67</td>\n",
       "      <td>New York-Newark-Jersey City, NY-NJ-PA MSA</td>\n",
       "      <td>2018-09-04</td>\n",
       "      <td>surf</td>\n",
       "      <td>NaN</td>\n",
       "    </tr>\n",
       "    <tr>\n",
       "      <th>496</th>\n",
       "      <td>1496</td>\n",
       "      <td>Ariel</td>\n",
       "      <td>Shepherd</td>\n",
       "      <td>49</td>\n",
       "      <td>New Orleans-Metairie, LA MSA</td>\n",
       "      <td>2018-02-20</td>\n",
       "      <td>surf</td>\n",
       "      <td>NaN</td>\n",
       "    </tr>\n",
       "    <tr>\n",
       "      <th>497</th>\n",
       "      <td>1497</td>\n",
       "      <td>Donte</td>\n",
       "      <td>Barrera</td>\n",
       "      <td>49</td>\n",
       "      <td>Los Angeles-Long Beach-Anaheim, CA MSA</td>\n",
       "      <td>2018-12-10</td>\n",
       "      <td>ultimate</td>\n",
       "      <td>NaN</td>\n",
       "    </tr>\n",
       "    <tr>\n",
       "      <th>498</th>\n",
       "      <td>1498</td>\n",
       "      <td>Scot</td>\n",
       "      <td>Williamson</td>\n",
       "      <td>51</td>\n",
       "      <td>New York-Newark-Jersey City, NY-NJ-PA MSA</td>\n",
       "      <td>2018-02-04</td>\n",
       "      <td>surf</td>\n",
       "      <td>NaN</td>\n",
       "    </tr>\n",
       "    <tr>\n",
       "      <th>499</th>\n",
       "      <td>1499</td>\n",
       "      <td>Shena</td>\n",
       "      <td>Dickson</td>\n",
       "      <td>37</td>\n",
       "      <td>Orlando-Kissimmee-Sanford, FL MSA</td>\n",
       "      <td>2018-05-06</td>\n",
       "      <td>surf</td>\n",
       "      <td>NaN</td>\n",
       "    </tr>\n",
       "  </tbody>\n",
       "</table>\n",
       "<p>500 rows × 8 columns</p>\n",
       "</div>"
      ],
      "text/plain": [
       "     user_id first_name   last_name  age  \\\n",
       "0       1000   Anamaria       Bauer   45   \n",
       "1       1001     Mickey   Wilkerson   28   \n",
       "2       1002     Carlee     Hoffman   36   \n",
       "3       1003   Reynaldo     Jenkins   52   \n",
       "4       1004    Leonila    Thompson   40   \n",
       "..       ...        ...         ...  ...   \n",
       "495     1495      Fidel      Sharpe   67   \n",
       "496     1496      Ariel    Shepherd   49   \n",
       "497     1497      Donte     Barrera   49   \n",
       "498     1498       Scot  Williamson   51   \n",
       "499     1499      Shena     Dickson   37   \n",
       "\n",
       "                                          city    reg_date      plan  \\\n",
       "0        Atlanta-Sandy Springs-Roswell, GA MSA  2018-12-24  ultimate   \n",
       "1              Seattle-Tacoma-Bellevue, WA MSA  2018-08-13      surf   \n",
       "2         Las Vegas-Henderson-Paradise, NV MSA  2018-10-21      surf   \n",
       "3                                Tulsa, OK MSA  2018-01-28      surf   \n",
       "4              Seattle-Tacoma-Bellevue, WA MSA  2018-05-23      surf   \n",
       "..                                         ...         ...       ...   \n",
       "495  New York-Newark-Jersey City, NY-NJ-PA MSA  2018-09-04      surf   \n",
       "496               New Orleans-Metairie, LA MSA  2018-02-20      surf   \n",
       "497     Los Angeles-Long Beach-Anaheim, CA MSA  2018-12-10  ultimate   \n",
       "498  New York-Newark-Jersey City, NY-NJ-PA MSA  2018-02-04      surf   \n",
       "499          Orlando-Kissimmee-Sanford, FL MSA  2018-05-06      surf   \n",
       "\n",
       "    churn_date  \n",
       "0          NaN  \n",
       "1          NaN  \n",
       "2          NaN  \n",
       "3          NaN  \n",
       "4          NaN  \n",
       "..         ...  \n",
       "495        NaN  \n",
       "496        NaN  \n",
       "497        NaN  \n",
       "498        NaN  \n",
       "499        NaN  \n",
       "\n",
       "[500 rows x 8 columns]"
      ]
     },
     "execution_count": 8,
     "metadata": {},
     "output_type": "execute_result"
    }
   ],
   "source": [
    "# Imprime una muestra de datos para usuarios\n",
    "megaline_users"
   ]
  },
  {
   "cell_type": "markdown",
   "metadata": {
    "id": "dCZoUq4f0q06"
   },
   "source": [
    "[Describe lo que ves y observas en la información general y en la muestra de datos impresa para el precio de datos anterior. ¿Hay algún problema (tipos de datos no adecuados, datos ausentes, etc.) que pudieran necesitar investigación y cambios adicionales? ¿Cómo se puede arreglar?]\n",
    "\n",
    "**Lo que puedo observar es que no hay ningun error salvo los valores ausentes de la columna \"churn_date\" pero ya sabemos el porque estan esos valores por lo que creo que podemos hacer algo para que nuestro DataFrame no contenga valores ausentes.**"
   ]
  },
  {
   "cell_type": "markdown",
   "metadata": {
    "id": "BX5FQh_I0q06"
   },
   "source": [
    "### Corregir los datos"
   ]
  },
  {
   "cell_type": "markdown",
   "metadata": {
    "id": "8OdKMwJv0q06"
   },
   "source": [
    "[Corrige los problemas obvios con los datos basándote en las observaciones iniciales.]"
   ]
  },
  {
   "cell_type": "code",
   "execution_count": 9,
   "metadata": {
    "id": "yUqX-K0C0q07"
   },
   "outputs": [],
   "source": [
    "megaline_users[\"reg_date\"] = pd.to_datetime(megaline_users['reg_date'], format=\"%Y-%m-%d\")\n",
    "\n",
    "megaline_users.fillna(\"2018/12/31\", inplace=True)\n",
    "\n",
    "megaline_users[\"churn_date\"] = pd.to_datetime(megaline_users[\"churn_date\"], format=\"%Y-%m-%d\")"
   ]
  },
  {
   "cell_type": "markdown",
   "metadata": {
    "id": "ycwuARJp0q07"
   },
   "source": [
    "### Enriquecer los datos"
   ]
  },
  {
   "cell_type": "markdown",
   "metadata": {
    "id": "96NIh4CJ0q08"
   },
   "source": [
    "[Agrega factores adicionales a los datos si crees que pudieran ser útiles.]"
   ]
  },
  {
   "cell_type": "markdown",
   "metadata": {
    "id": "iq0AaBS90q08"
   },
   "source": [
    "**Para evitar tener errores con los valores ausentes en el futuro, opte por cambiarlos por una fecha que podamos entender que esos usuarios dejaron de usar el servicio, ademas de que creo podemos hacer un mejor analisis gracias a este cambio.**"
   ]
  },
  {
   "cell_type": "markdown",
   "metadata": {
    "id": "o7MeKCid0q08"
   },
   "source": [
    "## Llamadas"
   ]
  },
  {
   "cell_type": "code",
   "execution_count": 10,
   "metadata": {
    "id": "6dDlnoDm0q08"
   },
   "outputs": [
    {
     "name": "stdout",
     "output_type": "stream",
     "text": [
      "<class 'pandas.core.frame.DataFrame'>\n",
      "RangeIndex: 137735 entries, 0 to 137734\n",
      "Data columns (total 4 columns):\n",
      " #   Column     Non-Null Count   Dtype  \n",
      "---  ------     --------------   -----  \n",
      " 0   id         137735 non-null  object \n",
      " 1   user_id    137735 non-null  int64  \n",
      " 2   call_date  137735 non-null  object \n",
      " 3   duration   137735 non-null  float64\n",
      "dtypes: float64(1), int64(1), object(2)\n",
      "memory usage: 4.2+ MB\n"
     ]
    }
   ],
   "source": [
    "# Imprime la información general/resumida sobre el DataFrame de las llamadas\n",
    "megaline_calls.info()"
   ]
  },
  {
   "cell_type": "code",
   "execution_count": 11,
   "metadata": {
    "id": "kuh1vlNB0q09"
   },
   "outputs": [
    {
     "data": {
      "text/html": [
       "<div>\n",
       "<style scoped>\n",
       "    .dataframe tbody tr th:only-of-type {\n",
       "        vertical-align: middle;\n",
       "    }\n",
       "\n",
       "    .dataframe tbody tr th {\n",
       "        vertical-align: top;\n",
       "    }\n",
       "\n",
       "    .dataframe thead th {\n",
       "        text-align: right;\n",
       "    }\n",
       "</style>\n",
       "<table border=\"1\" class=\"dataframe\">\n",
       "  <thead>\n",
       "    <tr style=\"text-align: right;\">\n",
       "      <th></th>\n",
       "      <th>id</th>\n",
       "      <th>user_id</th>\n",
       "      <th>call_date</th>\n",
       "      <th>duration</th>\n",
       "    </tr>\n",
       "  </thead>\n",
       "  <tbody>\n",
       "    <tr>\n",
       "      <th>0</th>\n",
       "      <td>1000_93</td>\n",
       "      <td>1000</td>\n",
       "      <td>2018-12-27</td>\n",
       "      <td>8.52</td>\n",
       "    </tr>\n",
       "    <tr>\n",
       "      <th>1</th>\n",
       "      <td>1000_145</td>\n",
       "      <td>1000</td>\n",
       "      <td>2018-12-27</td>\n",
       "      <td>13.66</td>\n",
       "    </tr>\n",
       "    <tr>\n",
       "      <th>2</th>\n",
       "      <td>1000_247</td>\n",
       "      <td>1000</td>\n",
       "      <td>2018-12-27</td>\n",
       "      <td>14.48</td>\n",
       "    </tr>\n",
       "    <tr>\n",
       "      <th>3</th>\n",
       "      <td>1000_309</td>\n",
       "      <td>1000</td>\n",
       "      <td>2018-12-28</td>\n",
       "      <td>5.76</td>\n",
       "    </tr>\n",
       "    <tr>\n",
       "      <th>4</th>\n",
       "      <td>1000_380</td>\n",
       "      <td>1000</td>\n",
       "      <td>2018-12-30</td>\n",
       "      <td>4.22</td>\n",
       "    </tr>\n",
       "    <tr>\n",
       "      <th>...</th>\n",
       "      <td>...</td>\n",
       "      <td>...</td>\n",
       "      <td>...</td>\n",
       "      <td>...</td>\n",
       "    </tr>\n",
       "    <tr>\n",
       "      <th>137730</th>\n",
       "      <td>1499_199</td>\n",
       "      <td>1499</td>\n",
       "      <td>2018-11-21</td>\n",
       "      <td>8.72</td>\n",
       "    </tr>\n",
       "    <tr>\n",
       "      <th>137731</th>\n",
       "      <td>1499_200</td>\n",
       "      <td>1499</td>\n",
       "      <td>2018-10-20</td>\n",
       "      <td>10.89</td>\n",
       "    </tr>\n",
       "    <tr>\n",
       "      <th>137732</th>\n",
       "      <td>1499_201</td>\n",
       "      <td>1499</td>\n",
       "      <td>2018-09-21</td>\n",
       "      <td>8.12</td>\n",
       "    </tr>\n",
       "    <tr>\n",
       "      <th>137733</th>\n",
       "      <td>1499_202</td>\n",
       "      <td>1499</td>\n",
       "      <td>2018-10-10</td>\n",
       "      <td>0.37</td>\n",
       "    </tr>\n",
       "    <tr>\n",
       "      <th>137734</th>\n",
       "      <td>1499_203</td>\n",
       "      <td>1499</td>\n",
       "      <td>2018-12-29</td>\n",
       "      <td>13.86</td>\n",
       "    </tr>\n",
       "  </tbody>\n",
       "</table>\n",
       "<p>137735 rows × 4 columns</p>\n",
       "</div>"
      ],
      "text/plain": [
       "              id  user_id   call_date  duration\n",
       "0        1000_93     1000  2018-12-27      8.52\n",
       "1       1000_145     1000  2018-12-27     13.66\n",
       "2       1000_247     1000  2018-12-27     14.48\n",
       "3       1000_309     1000  2018-12-28      5.76\n",
       "4       1000_380     1000  2018-12-30      4.22\n",
       "...          ...      ...         ...       ...\n",
       "137730  1499_199     1499  2018-11-21      8.72\n",
       "137731  1499_200     1499  2018-10-20     10.89\n",
       "137732  1499_201     1499  2018-09-21      8.12\n",
       "137733  1499_202     1499  2018-10-10      0.37\n",
       "137734  1499_203     1499  2018-12-29     13.86\n",
       "\n",
       "[137735 rows x 4 columns]"
      ]
     },
     "execution_count": 11,
     "metadata": {},
     "output_type": "execute_result"
    }
   ],
   "source": [
    "# Imprime una muestra de datos para las llamadas\n",
    "megaline_calls"
   ]
  },
  {
   "cell_type": "markdown",
   "metadata": {
    "id": "DOAxYJSx0q09"
   },
   "source": [
    "[Describe lo que ves y observas en la información general y en la muestra de datos impresa para el precio de datos anterior. ¿Hay algún problema (tipos de datos no adecuados, datos ausentes, etc.) que pudieran necesitar investigación y cambios adicionales? ¿Cómo se puede arreglar?]\n",
    "\n",
    "**Lo que veo es que el unico error es el tipo de datos de la columna \"call_date\" ya que son de tipo object por lo que debemos de cambiarlos al tipo de datos datetime, ya que este cambio nos podria facilitar el analisis.**"
   ]
  },
  {
   "cell_type": "markdown",
   "metadata": {
    "id": "S7hzxmbX0q0-"
   },
   "source": [
    "### Corregir los datos"
   ]
  },
  {
   "cell_type": "markdown",
   "metadata": {
    "id": "YxWyAjD20q0-"
   },
   "source": [
    "[Corrige los problemas obvios con los datos basándote en las observaciones iniciales.]"
   ]
  },
  {
   "cell_type": "code",
   "execution_count": 12,
   "metadata": {
    "id": "S2r8xA4f0q0-"
   },
   "outputs": [],
   "source": [
    "megaline_calls[\"call_date\"] = pd.to_datetime(megaline_calls['call_date'], format=\"%Y-%m-%d\")\n",
    "\n",
    "megaline_calls['duration'] = np.ceil(megaline_calls[\"duration\"])"
   ]
  },
  {
   "cell_type": "markdown",
   "metadata": {
    "id": "KrMgTrlG0q0_"
   },
   "source": [
    "### Enriquecer los datos"
   ]
  },
  {
   "cell_type": "markdown",
   "metadata": {
    "id": "a9MbmEvE0q0_"
   },
   "source": [
    "[Agrega factores adicionales a los datos si crees que pudieran ser útiles.]"
   ]
  },
  {
   "cell_type": "markdown",
   "metadata": {
    "id": "iZ1avpA_0q0_"
   },
   "source": [
    "**Según lo que vemos en las descripcion del dataset de las tarifas se nos aclara que toda llamada individual se redondea incluso si es de un solo segundo, por lo que decidimos redondear para poder hacer un mejor analisis.**\n",
    "\n",
    "**Asi que ahora toda llamada esta sin decimales gracias a que redondeamos.**"
   ]
  },
  {
   "cell_type": "markdown",
   "metadata": {},
   "source": [
    "<div class=\"alert alert-block alert-warning\">\n",
    "<b>Comentario Revisor</b> <a class=\"tocSkip\"></a>\n",
    "\n",
    "Qué podríamos decir hasta el momento de las llamadas que tienen una duración de 0?\n",
    "</div>"
   ]
  },
  {
   "cell_type": "markdown",
   "metadata": {},
   "source": [
    "<div class=\"alert alert-block alert-success\">\n",
    "<b>Comentario del revisor</b> <a class=\"tocSkip\"></a>\n",
    "\n",
    "Gran trabajo con el ajuste!"
   ]
  },
  {
   "cell_type": "markdown",
   "metadata": {
    "id": "mOUZSi180q0_"
   },
   "source": [
    "## Mensajes"
   ]
  },
  {
   "cell_type": "code",
   "execution_count": 13,
   "metadata": {
    "id": "R-bYJpdV0q1A"
   },
   "outputs": [
    {
     "name": "stdout",
     "output_type": "stream",
     "text": [
      "<class 'pandas.core.frame.DataFrame'>\n",
      "RangeIndex: 76051 entries, 0 to 76050\n",
      "Data columns (total 3 columns):\n",
      " #   Column        Non-Null Count  Dtype \n",
      "---  ------        --------------  ----- \n",
      " 0   id            76051 non-null  object\n",
      " 1   user_id       76051 non-null  int64 \n",
      " 2   message_date  76051 non-null  object\n",
      "dtypes: int64(1), object(2)\n",
      "memory usage: 1.7+ MB\n"
     ]
    }
   ],
   "source": [
    "# Imprime la información general/resumida sobre el DataFrame de los mensajes\n",
    "megaline_messages.info()"
   ]
  },
  {
   "cell_type": "code",
   "execution_count": 14,
   "metadata": {
    "id": "mCEl2iGE0q1A"
   },
   "outputs": [
    {
     "data": {
      "text/html": [
       "<div>\n",
       "<style scoped>\n",
       "    .dataframe tbody tr th:only-of-type {\n",
       "        vertical-align: middle;\n",
       "    }\n",
       "\n",
       "    .dataframe tbody tr th {\n",
       "        vertical-align: top;\n",
       "    }\n",
       "\n",
       "    .dataframe thead th {\n",
       "        text-align: right;\n",
       "    }\n",
       "</style>\n",
       "<table border=\"1\" class=\"dataframe\">\n",
       "  <thead>\n",
       "    <tr style=\"text-align: right;\">\n",
       "      <th></th>\n",
       "      <th>id</th>\n",
       "      <th>user_id</th>\n",
       "      <th>message_date</th>\n",
       "    </tr>\n",
       "  </thead>\n",
       "  <tbody>\n",
       "    <tr>\n",
       "      <th>0</th>\n",
       "      <td>1000_125</td>\n",
       "      <td>1000</td>\n",
       "      <td>2018-12-27</td>\n",
       "    </tr>\n",
       "    <tr>\n",
       "      <th>1</th>\n",
       "      <td>1000_160</td>\n",
       "      <td>1000</td>\n",
       "      <td>2018-12-31</td>\n",
       "    </tr>\n",
       "    <tr>\n",
       "      <th>2</th>\n",
       "      <td>1000_223</td>\n",
       "      <td>1000</td>\n",
       "      <td>2018-12-31</td>\n",
       "    </tr>\n",
       "    <tr>\n",
       "      <th>3</th>\n",
       "      <td>1000_251</td>\n",
       "      <td>1000</td>\n",
       "      <td>2018-12-27</td>\n",
       "    </tr>\n",
       "    <tr>\n",
       "      <th>4</th>\n",
       "      <td>1000_255</td>\n",
       "      <td>1000</td>\n",
       "      <td>2018-12-26</td>\n",
       "    </tr>\n",
       "  </tbody>\n",
       "</table>\n",
       "</div>"
      ],
      "text/plain": [
       "         id  user_id message_date\n",
       "0  1000_125     1000   2018-12-27\n",
       "1  1000_160     1000   2018-12-31\n",
       "2  1000_223     1000   2018-12-31\n",
       "3  1000_251     1000   2018-12-27\n",
       "4  1000_255     1000   2018-12-26"
      ]
     },
     "execution_count": 14,
     "metadata": {},
     "output_type": "execute_result"
    }
   ],
   "source": [
    "# Imprime una muestra de datos para los mensajes\n",
    "megaline_messages.head()"
   ]
  },
  {
   "cell_type": "markdown",
   "metadata": {
    "id": "04xDj7KH0q1A"
   },
   "source": [
    "[Describe lo que ves y observas en la información general y en la muestra de datos impresa para el precio de datos anterior. ¿Hay algún problema (tipos de datos no adecuados, datos ausentes, etc.) que pudieran necesitar investigación y cambios adicionales? ¿Cómo se puede arreglar?]\n",
    "\n",
    "**Lo que veo es que aqui es que la columa \"message_id\" contiene datos de tipo object pero debemos cambiarlos a datos de tipo datetime ya que los valores de la columna son fechas por lo este cambio nos ayudara a darnos un mejor analisis.**"
   ]
  },
  {
   "cell_type": "markdown",
   "metadata": {
    "id": "Sprfak900q1B"
   },
   "source": [
    "### Corregir los datos"
   ]
  },
  {
   "cell_type": "markdown",
   "metadata": {
    "id": "eGw7d9j10q1B"
   },
   "source": [
    "[Corrige los problemas obvios con los datos basándote en las observaciones iniciales.]"
   ]
  },
  {
   "cell_type": "code",
   "execution_count": 15,
   "metadata": {
    "id": "vsllvkoa0q1B"
   },
   "outputs": [],
   "source": [
    "megaline_messages['message_date'] = pd.to_datetime(megaline_messages['message_date'], format=\"%Y-%m-%d\")"
   ]
  },
  {
   "cell_type": "markdown",
   "metadata": {
    "id": "HvLid7iD0q1B"
   },
   "source": [
    "### Enriquecer los datos"
   ]
  },
  {
   "cell_type": "markdown",
   "metadata": {
    "id": "8nhPFKIe0q1C"
   },
   "source": [
    "[Agrega factores adicionales a los datos si crees que pudieran ser útiles.]"
   ]
  },
  {
   "cell_type": "markdown",
   "metadata": {
    "id": "zYEXZac10q1C"
   },
   "source": [
    "**Lo mismo me pasa aqui no veo nada que pueda agregar porque creo que el DataFrame ya esta en buenas condiciones para poder trabajar con el.**"
   ]
  },
  {
   "cell_type": "markdown",
   "metadata": {
    "id": "bStkaxn40q1C"
   },
   "source": [
    "## Internet"
   ]
  },
  {
   "cell_type": "code",
   "execution_count": 16,
   "metadata": {
    "id": "e-Uz5qyn0q1C"
   },
   "outputs": [
    {
     "name": "stdout",
     "output_type": "stream",
     "text": [
      "<class 'pandas.core.frame.DataFrame'>\n",
      "RangeIndex: 104825 entries, 0 to 104824\n",
      "Data columns (total 4 columns):\n",
      " #   Column        Non-Null Count   Dtype  \n",
      "---  ------        --------------   -----  \n",
      " 0   id            104825 non-null  object \n",
      " 1   user_id       104825 non-null  int64  \n",
      " 2   session_date  104825 non-null  object \n",
      " 3   mb_used       104825 non-null  float64\n",
      "dtypes: float64(1), int64(1), object(2)\n",
      "memory usage: 3.2+ MB\n"
     ]
    }
   ],
   "source": [
    "# Imprime la información general/resumida sobre el DataFrame de internet\n",
    "megaline_internet.info()"
   ]
  },
  {
   "cell_type": "code",
   "execution_count": 17,
   "metadata": {
    "id": "9r3x_XLw0q1C"
   },
   "outputs": [
    {
     "data": {
      "text/html": [
       "<div>\n",
       "<style scoped>\n",
       "    .dataframe tbody tr th:only-of-type {\n",
       "        vertical-align: middle;\n",
       "    }\n",
       "\n",
       "    .dataframe tbody tr th {\n",
       "        vertical-align: top;\n",
       "    }\n",
       "\n",
       "    .dataframe thead th {\n",
       "        text-align: right;\n",
       "    }\n",
       "</style>\n",
       "<table border=\"1\" class=\"dataframe\">\n",
       "  <thead>\n",
       "    <tr style=\"text-align: right;\">\n",
       "      <th></th>\n",
       "      <th>id</th>\n",
       "      <th>user_id</th>\n",
       "      <th>session_date</th>\n",
       "      <th>mb_used</th>\n",
       "    </tr>\n",
       "  </thead>\n",
       "  <tbody>\n",
       "    <tr>\n",
       "      <th>0</th>\n",
       "      <td>1000_13</td>\n",
       "      <td>1000</td>\n",
       "      <td>2018-12-29</td>\n",
       "      <td>89.86</td>\n",
       "    </tr>\n",
       "    <tr>\n",
       "      <th>1</th>\n",
       "      <td>1000_204</td>\n",
       "      <td>1000</td>\n",
       "      <td>2018-12-31</td>\n",
       "      <td>0.00</td>\n",
       "    </tr>\n",
       "    <tr>\n",
       "      <th>2</th>\n",
       "      <td>1000_379</td>\n",
       "      <td>1000</td>\n",
       "      <td>2018-12-28</td>\n",
       "      <td>660.40</td>\n",
       "    </tr>\n",
       "    <tr>\n",
       "      <th>3</th>\n",
       "      <td>1000_413</td>\n",
       "      <td>1000</td>\n",
       "      <td>2018-12-26</td>\n",
       "      <td>270.99</td>\n",
       "    </tr>\n",
       "    <tr>\n",
       "      <th>4</th>\n",
       "      <td>1000_442</td>\n",
       "      <td>1000</td>\n",
       "      <td>2018-12-27</td>\n",
       "      <td>880.22</td>\n",
       "    </tr>\n",
       "    <tr>\n",
       "      <th>...</th>\n",
       "      <td>...</td>\n",
       "      <td>...</td>\n",
       "      <td>...</td>\n",
       "      <td>...</td>\n",
       "    </tr>\n",
       "    <tr>\n",
       "      <th>104820</th>\n",
       "      <td>1499_215</td>\n",
       "      <td>1499</td>\n",
       "      <td>2018-10-20</td>\n",
       "      <td>218.06</td>\n",
       "    </tr>\n",
       "    <tr>\n",
       "      <th>104821</th>\n",
       "      <td>1499_216</td>\n",
       "      <td>1499</td>\n",
       "      <td>2018-12-30</td>\n",
       "      <td>304.72</td>\n",
       "    </tr>\n",
       "    <tr>\n",
       "      <th>104822</th>\n",
       "      <td>1499_217</td>\n",
       "      <td>1499</td>\n",
       "      <td>2018-09-22</td>\n",
       "      <td>292.75</td>\n",
       "    </tr>\n",
       "    <tr>\n",
       "      <th>104823</th>\n",
       "      <td>1499_218</td>\n",
       "      <td>1499</td>\n",
       "      <td>2018-12-07</td>\n",
       "      <td>0.00</td>\n",
       "    </tr>\n",
       "    <tr>\n",
       "      <th>104824</th>\n",
       "      <td>1499_219</td>\n",
       "      <td>1499</td>\n",
       "      <td>2018-12-24</td>\n",
       "      <td>758.31</td>\n",
       "    </tr>\n",
       "  </tbody>\n",
       "</table>\n",
       "<p>104825 rows × 4 columns</p>\n",
       "</div>"
      ],
      "text/plain": [
       "              id  user_id session_date  mb_used\n",
       "0        1000_13     1000   2018-12-29    89.86\n",
       "1       1000_204     1000   2018-12-31     0.00\n",
       "2       1000_379     1000   2018-12-28   660.40\n",
       "3       1000_413     1000   2018-12-26   270.99\n",
       "4       1000_442     1000   2018-12-27   880.22\n",
       "...          ...      ...          ...      ...\n",
       "104820  1499_215     1499   2018-10-20   218.06\n",
       "104821  1499_216     1499   2018-12-30   304.72\n",
       "104822  1499_217     1499   2018-09-22   292.75\n",
       "104823  1499_218     1499   2018-12-07     0.00\n",
       "104824  1499_219     1499   2018-12-24   758.31\n",
       "\n",
       "[104825 rows x 4 columns]"
      ]
     },
     "execution_count": 17,
     "metadata": {},
     "output_type": "execute_result"
    }
   ],
   "source": [
    "# Imprime una muestra de datos para el tráfico de internet\n",
    "megaline_internet"
   ]
  },
  {
   "cell_type": "markdown",
   "metadata": {
    "id": "EzOG5ik30q1D"
   },
   "source": [
    "[Describe lo que ves y observas en la información general y en la muestra de datos impresa para el precio de datos anterior. ¿Hay algún problema (tipos de datos no adecuados, datos ausentes, etc.) que pudieran necesitar investigación y cambios adicionales? ¿Cómo se puede arreglar?]\n",
    "\n",
    "**Lo unico que veo aqui es un error de tipo de datos en la columna \"session_date\" ya que es de tipo object pero como es una fecha creo que debemos cambiarlas a datos de tipo datetime para poder hacer un mejor analisis.**"
   ]
  },
  {
   "cell_type": "markdown",
   "metadata": {
    "id": "yA0tkPFg0q1D"
   },
   "source": [
    "### Corregir los datos"
   ]
  },
  {
   "cell_type": "markdown",
   "metadata": {
    "id": "zlZMuIEK0q1D"
   },
   "source": [
    "[Corrige los problemas obvios con los datos basándote en las observaciones iniciales.]"
   ]
  },
  {
   "cell_type": "code",
   "execution_count": 18,
   "metadata": {
    "id": "zVeanzdd0q1E"
   },
   "outputs": [],
   "source": [
    "megaline_internet['session_date'] = pd.to_datetime(megaline_internet['session_date'], format=\"%Y-%m-%d\")\n",
    "\n",
    "New_name_column = {\"mb_used\": \"gb_used\"}\n",
    "\n",
    "megaline_internet.rename(columns=New_name_column, inplace=True)\n",
    "\n",
    "megaline_internet['gb_used'] = np.ceil(megaline_internet['gb_used'] / 1024)"
   ]
  },
  {
   "cell_type": "markdown",
   "metadata": {
    "id": "e8_mLF4a0q1E"
   },
   "source": [
    "### Enriquecer los datos"
   ]
  },
  {
   "cell_type": "markdown",
   "metadata": {
    "id": "xhNdn2tE0q1E"
   },
   "source": [
    "[Agrega factores adicionales a los datos si crees que pudieran ser útiles.]"
   ]
  },
  {
   "cell_type": "markdown",
   "metadata": {
    "id": "ESiYPIEK0q1E"
   },
   "source": [
    "**.**"
   ]
  },
  {
   "cell_type": "markdown",
   "metadata": {},
   "source": [
    "<div class=\"alert alert-block alert-warning\">\n",
    "<b>Comentario revisor</b> <a class=\"tocSkip\"></a>\n",
    "\n",
    "\n",
    "Te recomiendo solamente comentar que cuando agrupemos los datos vamos a tener que redondear hacia arriba lo valores de la transformación de mbegabyter a gigabyte, para este ejercicio debemos hacer el redondeo superior dado que se cobra el costo extra en cuanto se pasa de los límites.Por lo que es necesario hacer la transformación de mb a gb y después hacer el redondeo.  \n",
    "</div>"
   ]
  },
  {
   "cell_type": "markdown",
   "metadata": {},
   "source": [
    "<div class=\"alert alert-block alert-success\">\n",
    "<b>Comentario del revisor</b> <a class=\"tocSkip\"></a>\n",
    "\n",
    "Gran trabajo con el ajuste!"
   ]
  },
  {
   "cell_type": "markdown",
   "metadata": {
    "id": "3UA2cqIW0q1E"
   },
   "source": [
    "## Estudiar las condiciones de las tarifas"
   ]
  },
  {
   "cell_type": "markdown",
   "metadata": {
    "id": "T86Sqltq0q1F"
   },
   "source": [
    "[Es sumamente importante entender cómo funcionan las tarifas, cómo se les cobra a los usuarios en función de su plan de suscripción. Así que te sugerimos imprimir la información de la tarifa para ver una vez más sus condiciones.]"
   ]
  },
  {
   "cell_type": "code",
   "execution_count": 19,
   "metadata": {
    "id": "i409op8p0q1F"
   },
   "outputs": [
    {
     "data": {
      "text/html": [
       "<div>\n",
       "<style scoped>\n",
       "    .dataframe tbody tr th:only-of-type {\n",
       "        vertical-align: middle;\n",
       "    }\n",
       "\n",
       "    .dataframe tbody tr th {\n",
       "        vertical-align: top;\n",
       "    }\n",
       "\n",
       "    .dataframe thead th {\n",
       "        text-align: right;\n",
       "    }\n",
       "</style>\n",
       "<table border=\"1\" class=\"dataframe\">\n",
       "  <thead>\n",
       "    <tr style=\"text-align: right;\">\n",
       "      <th></th>\n",
       "      <th>messages_included</th>\n",
       "      <th>mb_per_month_included</th>\n",
       "      <th>minutes_included</th>\n",
       "      <th>usd_monthly_fee</th>\n",
       "      <th>usd_per_gb</th>\n",
       "      <th>usd_per_message</th>\n",
       "      <th>usd_per_minute</th>\n",
       "      <th>plan_name</th>\n",
       "    </tr>\n",
       "  </thead>\n",
       "  <tbody>\n",
       "    <tr>\n",
       "      <th>0</th>\n",
       "      <td>50</td>\n",
       "      <td>15.0</td>\n",
       "      <td>500</td>\n",
       "      <td>20</td>\n",
       "      <td>10</td>\n",
       "      <td>0.03</td>\n",
       "      <td>0.03</td>\n",
       "      <td>surf</td>\n",
       "    </tr>\n",
       "    <tr>\n",
       "      <th>1</th>\n",
       "      <td>1000</td>\n",
       "      <td>30.0</td>\n",
       "      <td>3000</td>\n",
       "      <td>70</td>\n",
       "      <td>7</td>\n",
       "      <td>0.01</td>\n",
       "      <td>0.01</td>\n",
       "      <td>ultimate</td>\n",
       "    </tr>\n",
       "  </tbody>\n",
       "</table>\n",
       "</div>"
      ],
      "text/plain": [
       "   messages_included  mb_per_month_included  minutes_included  \\\n",
       "0                 50                   15.0               500   \n",
       "1               1000                   30.0              3000   \n",
       "\n",
       "   usd_monthly_fee  usd_per_gb  usd_per_message  usd_per_minute plan_name  \n",
       "0               20          10             0.03            0.03      surf  \n",
       "1               70           7             0.01            0.01  ultimate  "
      ]
     },
     "execution_count": 19,
     "metadata": {},
     "output_type": "execute_result"
    }
   ],
   "source": [
    "# Imprime las condiciones de la tarifa y asegúrate de que te quedan claras\n",
    "megaline_plans"
   ]
  },
  {
   "cell_type": "markdown",
   "metadata": {
    "id": "hMR1tP5d0q1F"
   },
   "source": [
    "## Agregar datos por usuario\n",
    "\n",
    "[Ahora que los datos están limpios, agrega los datos por usuario y por periodo para que solo haya un registro por usuario y por periodo. Esto facilitará mucho el análisis posterior.]"
   ]
  },
  {
   "cell_type": "code",
   "execution_count": 20,
   "metadata": {
    "id": "A332cedB0q1G"
   },
   "outputs": [
    {
     "data": {
      "text/html": [
       "<div>\n",
       "<style scoped>\n",
       "    .dataframe tbody tr th:only-of-type {\n",
       "        vertical-align: middle;\n",
       "    }\n",
       "\n",
       "    .dataframe tbody tr th {\n",
       "        vertical-align: top;\n",
       "    }\n",
       "\n",
       "    .dataframe thead th {\n",
       "        text-align: right;\n",
       "    }\n",
       "</style>\n",
       "<table border=\"1\" class=\"dataframe\">\n",
       "  <thead>\n",
       "    <tr style=\"text-align: right;\">\n",
       "      <th></th>\n",
       "      <th>month</th>\n",
       "      <th>user_id</th>\n",
       "      <th>number_calls</th>\n",
       "    </tr>\n",
       "  </thead>\n",
       "  <tbody>\n",
       "    <tr>\n",
       "      <th>0</th>\n",
       "      <td>1</td>\n",
       "      <td>1042</td>\n",
       "      <td>18</td>\n",
       "    </tr>\n",
       "    <tr>\n",
       "      <th>1</th>\n",
       "      <td>1</td>\n",
       "      <td>1077</td>\n",
       "      <td>42</td>\n",
       "    </tr>\n",
       "    <tr>\n",
       "      <th>2</th>\n",
       "      <td>1</td>\n",
       "      <td>1185</td>\n",
       "      <td>23</td>\n",
       "    </tr>\n",
       "    <tr>\n",
       "      <th>3</th>\n",
       "      <td>1</td>\n",
       "      <td>1196</td>\n",
       "      <td>42</td>\n",
       "    </tr>\n",
       "    <tr>\n",
       "      <th>4</th>\n",
       "      <td>1</td>\n",
       "      <td>1214</td>\n",
       "      <td>5</td>\n",
       "    </tr>\n",
       "  </tbody>\n",
       "</table>\n",
       "</div>"
      ],
      "text/plain": [
       "   month  user_id  number_calls\n",
       "0      1     1042            18\n",
       "1      1     1077            42\n",
       "2      1     1185            23\n",
       "3      1     1196            42\n",
       "4      1     1214             5"
      ]
     },
     "execution_count": 20,
     "metadata": {},
     "output_type": "execute_result"
    }
   ],
   "source": [
    "# Calcula el número de llamadas hechas por cada usuario al mes. Guarda el resultado.\n",
    "megaline_calls[\"month\"] = megaline_calls['call_date'].dt.month\n",
    "\n",
    "number_call_of_users = megaline_calls.groupby([\"month\",\"user_id\"])[\"user_id\"].count().reset_index(name=\"number_calls\")\n",
    "\n",
    "number_call_of_users.head()"
   ]
  },
  {
   "cell_type": "markdown",
   "metadata": {},
   "source": [
    "\n",
    "<div class=\"alert alert-block alert-warning\">\n",
    "\n",
    "<b>Comentario revisor</b> <a class=\"tocSkip\"></a>\n",
    "\n",
    "Si bien es correcta la forma de agrupar para sacar la duración de las llamadas por cada ususario, para proximas ocasiones puedes hacer uso de la siguiente forma:\n",
    "    \n",
    "    pivot_calls = calls.pivot_table(index=['user_id', 'month'],\n",
    "                                values=['duration'],\n",
    "                                aggfunc=['sum','count']).reset_index()\n",
    "\n",
    "</div>"
   ]
  },
  {
   "cell_type": "code",
   "execution_count": 21,
   "metadata": {
    "id": "aw2cmuql0q1G"
   },
   "outputs": [
    {
     "data": {
      "text/html": [
       "<div>\n",
       "<style scoped>\n",
       "    .dataframe tbody tr th:only-of-type {\n",
       "        vertical-align: middle;\n",
       "    }\n",
       "\n",
       "    .dataframe tbody tr th {\n",
       "        vertical-align: top;\n",
       "    }\n",
       "\n",
       "    .dataframe thead th {\n",
       "        text-align: right;\n",
       "    }\n",
       "</style>\n",
       "<table border=\"1\" class=\"dataframe\">\n",
       "  <thead>\n",
       "    <tr style=\"text-align: right;\">\n",
       "      <th></th>\n",
       "      <th>month</th>\n",
       "      <th>user_id</th>\n",
       "      <th>duration</th>\n",
       "    </tr>\n",
       "  </thead>\n",
       "  <tbody>\n",
       "    <tr>\n",
       "      <th>0</th>\n",
       "      <td>1</td>\n",
       "      <td>1042</td>\n",
       "      <td>114.0</td>\n",
       "    </tr>\n",
       "    <tr>\n",
       "      <th>1</th>\n",
       "      <td>1</td>\n",
       "      <td>1077</td>\n",
       "      <td>290.0</td>\n",
       "    </tr>\n",
       "    <tr>\n",
       "      <th>2</th>\n",
       "      <td>1</td>\n",
       "      <td>1185</td>\n",
       "      <td>181.0</td>\n",
       "    </tr>\n",
       "    <tr>\n",
       "      <th>3</th>\n",
       "      <td>1</td>\n",
       "      <td>1196</td>\n",
       "      <td>287.0</td>\n",
       "    </tr>\n",
       "    <tr>\n",
       "      <th>4</th>\n",
       "      <td>1</td>\n",
       "      <td>1214</td>\n",
       "      <td>16.0</td>\n",
       "    </tr>\n",
       "  </tbody>\n",
       "</table>\n",
       "</div>"
      ],
      "text/plain": [
       "   month  user_id  duration\n",
       "0      1     1042     114.0\n",
       "1      1     1077     290.0\n",
       "2      1     1185     181.0\n",
       "3      1     1196     287.0\n",
       "4      1     1214      16.0"
      ]
     },
     "execution_count": 21,
     "metadata": {},
     "output_type": "execute_result"
    }
   ],
   "source": [
    "# Calcula la cantidad de minutos usados por cada usuario al mes. Guarda el resultado.\n",
    "megaline_calls[\"month\"] = megaline_calls[\"call_date\"].dt.month\n",
    "\n",
    "minutes_of_users = megaline_calls.groupby([\"month\",\"user_id\"])[\"duration\"].sum().reset_index()\n",
    "\n",
    "minutes_of_users.head()"
   ]
  },
  {
   "cell_type": "code",
   "execution_count": 22,
   "metadata": {
    "id": "CcQvNHn60q1G"
   },
   "outputs": [
    {
     "data": {
      "text/html": [
       "<div>\n",
       "<style scoped>\n",
       "    .dataframe tbody tr th:only-of-type {\n",
       "        vertical-align: middle;\n",
       "    }\n",
       "\n",
       "    .dataframe tbody tr th {\n",
       "        vertical-align: top;\n",
       "    }\n",
       "\n",
       "    .dataframe thead th {\n",
       "        text-align: right;\n",
       "    }\n",
       "</style>\n",
       "<table border=\"1\" class=\"dataframe\">\n",
       "  <thead>\n",
       "    <tr style=\"text-align: right;\">\n",
       "      <th></th>\n",
       "      <th>month</th>\n",
       "      <th>user_id</th>\n",
       "      <th>messages_count</th>\n",
       "    </tr>\n",
       "  </thead>\n",
       "  <tbody>\n",
       "    <tr>\n",
       "      <th>0</th>\n",
       "      <td>1</td>\n",
       "      <td>1077</td>\n",
       "      <td>37</td>\n",
       "    </tr>\n",
       "    <tr>\n",
       "      <th>1</th>\n",
       "      <td>1</td>\n",
       "      <td>1196</td>\n",
       "      <td>23</td>\n",
       "    </tr>\n",
       "    <tr>\n",
       "      <th>2</th>\n",
       "      <td>1</td>\n",
       "      <td>1214</td>\n",
       "      <td>2</td>\n",
       "    </tr>\n",
       "    <tr>\n",
       "      <th>3</th>\n",
       "      <td>1</td>\n",
       "      <td>1362</td>\n",
       "      <td>21</td>\n",
       "    </tr>\n",
       "    <tr>\n",
       "      <th>4</th>\n",
       "      <td>2</td>\n",
       "      <td>1028</td>\n",
       "      <td>12</td>\n",
       "    </tr>\n",
       "  </tbody>\n",
       "</table>\n",
       "</div>"
      ],
      "text/plain": [
       "   month  user_id  messages_count\n",
       "0      1     1077              37\n",
       "1      1     1196              23\n",
       "2      1     1214               2\n",
       "3      1     1362              21\n",
       "4      2     1028              12"
      ]
     },
     "execution_count": 22,
     "metadata": {},
     "output_type": "execute_result"
    }
   ],
   "source": [
    "# Calcula el número de mensajes enviados por cada usuario al mes. Guarda el resultado.\n",
    "megaline_messages[\"month\"] = megaline_messages[\"message_date\"].dt.month\n",
    "\n",
    "number_of_messa_users = megaline_messages.groupby([\"month\",\"user_id\"])[\"id\"].count().reset_index(name=\"messages_count\")\n",
    "\n",
    "number_of_messa_users.head()"
   ]
  },
  {
   "cell_type": "code",
   "execution_count": 23,
   "metadata": {
    "id": "H1AqN2eG0q1H"
   },
   "outputs": [
    {
     "data": {
      "text/html": [
       "<div>\n",
       "<style scoped>\n",
       "    .dataframe tbody tr th:only-of-type {\n",
       "        vertical-align: middle;\n",
       "    }\n",
       "\n",
       "    .dataframe tbody tr th {\n",
       "        vertical-align: top;\n",
       "    }\n",
       "\n",
       "    .dataframe thead th {\n",
       "        text-align: right;\n",
       "    }\n",
       "</style>\n",
       "<table border=\"1\" class=\"dataframe\">\n",
       "  <thead>\n",
       "    <tr style=\"text-align: right;\">\n",
       "      <th></th>\n",
       "      <th>month</th>\n",
       "      <th>user_id</th>\n",
       "      <th>gb_used</th>\n",
       "    </tr>\n",
       "  </thead>\n",
       "  <tbody>\n",
       "    <tr>\n",
       "      <th>0</th>\n",
       "      <td>1</td>\n",
       "      <td>1042</td>\n",
       "      <td>7.0</td>\n",
       "    </tr>\n",
       "    <tr>\n",
       "      <th>1</th>\n",
       "      <td>1</td>\n",
       "      <td>1077</td>\n",
       "      <td>22.0</td>\n",
       "    </tr>\n",
       "    <tr>\n",
       "      <th>2</th>\n",
       "      <td>1</td>\n",
       "      <td>1185</td>\n",
       "      <td>21.0</td>\n",
       "    </tr>\n",
       "    <tr>\n",
       "      <th>3</th>\n",
       "      <td>1</td>\n",
       "      <td>1196</td>\n",
       "      <td>14.0</td>\n",
       "    </tr>\n",
       "    <tr>\n",
       "      <th>4</th>\n",
       "      <td>1</td>\n",
       "      <td>1214</td>\n",
       "      <td>4.0</td>\n",
       "    </tr>\n",
       "  </tbody>\n",
       "</table>\n",
       "</div>"
      ],
      "text/plain": [
       "   month  user_id  gb_used\n",
       "0      1     1042      7.0\n",
       "1      1     1077     22.0\n",
       "2      1     1185     21.0\n",
       "3      1     1196     14.0\n",
       "4      1     1214      4.0"
      ]
     },
     "execution_count": 23,
     "metadata": {},
     "output_type": "execute_result"
    }
   ],
   "source": [
    "# Calcula el volumen del tráfico de Internet usado por cada usuario al mes. Guarda el resultado.\n",
    "megaline_internet[\"month\"] = megaline_internet[\"session_date\"].dt.month\n",
    "\n",
    "volume_trafic_of_users = megaline_internet.groupby([\"month\",\"user_id\"])[\"gb_used\"].sum().reset_index()\n",
    "\n",
    "volume_trafic_of_users.head()"
   ]
  },
  {
   "cell_type": "markdown",
   "metadata": {
    "id": "VDfYXnj80q1H"
   },
   "source": [
    "[Junta los datos agregados en un DataFrame para que haya un registro que represente lo que consumió un usuario único en un mes determinado.]"
   ]
  },
  {
   "cell_type": "code",
   "execution_count": 24,
   "metadata": {
    "id": "FW99ykyf0q1H"
   },
   "outputs": [
    {
     "data": {
      "text/html": [
       "<div>\n",
       "<style scoped>\n",
       "    .dataframe tbody tr th:only-of-type {\n",
       "        vertical-align: middle;\n",
       "    }\n",
       "\n",
       "    .dataframe tbody tr th {\n",
       "        vertical-align: top;\n",
       "    }\n",
       "\n",
       "    .dataframe thead th {\n",
       "        text-align: right;\n",
       "    }\n",
       "</style>\n",
       "<table border=\"1\" class=\"dataframe\">\n",
       "  <thead>\n",
       "    <tr style=\"text-align: right;\">\n",
       "      <th></th>\n",
       "      <th>user_id</th>\n",
       "      <th>number_calls</th>\n",
       "      <th>duration</th>\n",
       "      <th>messages_count</th>\n",
       "      <th>gb_used</th>\n",
       "      <th>plan</th>\n",
       "      <th>month</th>\n",
       "    </tr>\n",
       "  </thead>\n",
       "  <tbody>\n",
       "    <tr>\n",
       "      <th>3</th>\n",
       "      <td>1077</td>\n",
       "      <td>95</td>\n",
       "      <td>746.0</td>\n",
       "      <td>57</td>\n",
       "      <td>38.0</td>\n",
       "      <td>ultimate</td>\n",
       "      <td>4</td>\n",
       "    </tr>\n",
       "    <tr>\n",
       "      <th>15</th>\n",
       "      <td>1196</td>\n",
       "      <td>73</td>\n",
       "      <td>493.0</td>\n",
       "      <td>30</td>\n",
       "      <td>47.0</td>\n",
       "      <td>ultimate</td>\n",
       "      <td>4</td>\n",
       "    </tr>\n",
       "    <tr>\n",
       "      <th>27</th>\n",
       "      <td>1214</td>\n",
       "      <td>61</td>\n",
       "      <td>466.0</td>\n",
       "      <td>13</td>\n",
       "      <td>55.0</td>\n",
       "      <td>ultimate</td>\n",
       "      <td>4</td>\n",
       "    </tr>\n",
       "    <tr>\n",
       "      <th>39</th>\n",
       "      <td>1362</td>\n",
       "      <td>95</td>\n",
       "      <td>643.0</td>\n",
       "      <td>42</td>\n",
       "      <td>27.0</td>\n",
       "      <td>surf</td>\n",
       "      <td>4</td>\n",
       "    </tr>\n",
       "    <tr>\n",
       "      <th>50</th>\n",
       "      <td>1099</td>\n",
       "      <td>72</td>\n",
       "      <td>528.0</td>\n",
       "      <td>15</td>\n",
       "      <td>45.0</td>\n",
       "      <td>surf</td>\n",
       "      <td>4</td>\n",
       "    </tr>\n",
       "  </tbody>\n",
       "</table>\n",
       "</div>"
      ],
      "text/plain": [
       "    user_id  number_calls  duration  messages_count  gb_used      plan  month\n",
       "3      1077            95     746.0              57     38.0  ultimate      4\n",
       "15     1196            73     493.0              30     47.0  ultimate      4\n",
       "27     1214            61     466.0              13     55.0  ultimate      4\n",
       "39     1362            95     643.0              42     27.0      surf      4\n",
       "50     1099            72     528.0              15     45.0      surf      4"
      ]
     },
     "execution_count": 24,
     "metadata": {},
     "output_type": "execute_result"
    }
   ],
   "source": [
    "# Fusiona los datos de llamadas, minutos, mensajes e Internet con base en user_id y month\n",
    "\n",
    "first_merge = number_call_of_users.merge(minutes_of_users, on=[\"month\",\"user_id\"])\n",
    "\n",
    "second_merge = number_of_messa_users.merge(volume_trafic_of_users, on=[\"month\", \"user_id\"])\n",
    "\n",
    "third_merge = first_merge.merge(second_merge, on=[\"month\",\"user_id\"])\n",
    "\n",
    "final_merge = third_merge.merge(megaline_users , on=\"user_id\")\n",
    "\n",
    "final_merge_april = final_merge[final_merge[\"month\"] == 4]\n",
    "\n",
    "final_merge_april[[\"user_id\", \"number_calls\", \"duration\", \"messages_count\", \"gb_used\", \"plan\", \"month\"]].head()"
   ]
  },
  {
   "cell_type": "markdown",
   "metadata": {},
   "source": [
    "<div class=\"alert alert-block alert-success\">\n",
    "<b>Comentario del revisor</b> <a class=\"tocSkip\"></a>\n",
    "\n",
    "Muy buen trabajo!! el merge es correcto para unir todas las bases trabajadas.\n",
    "    \n",
    "</div>"
   ]
  },
  {
   "cell_type": "code",
   "execution_count": 25,
   "metadata": {
    "id": "0dNOXHag0q1H"
   },
   "outputs": [
    {
     "data": {
      "text/html": [
       "<div>\n",
       "<style scoped>\n",
       "    .dataframe tbody tr th:only-of-type {\n",
       "        vertical-align: middle;\n",
       "    }\n",
       "\n",
       "    .dataframe tbody tr th {\n",
       "        vertical-align: top;\n",
       "    }\n",
       "\n",
       "    .dataframe thead th {\n",
       "        text-align: right;\n",
       "    }\n",
       "</style>\n",
       "<table border=\"1\" class=\"dataframe\">\n",
       "  <thead>\n",
       "    <tr style=\"text-align: right;\">\n",
       "      <th></th>\n",
       "      <th>messages_included</th>\n",
       "      <th>mb_per_month_included</th>\n",
       "      <th>minutes_included</th>\n",
       "      <th>usd_monthly_fee</th>\n",
       "      <th>usd_per_gb</th>\n",
       "      <th>usd_per_message</th>\n",
       "      <th>usd_per_minute</th>\n",
       "      <th>plan_name</th>\n",
       "    </tr>\n",
       "  </thead>\n",
       "  <tbody>\n",
       "    <tr>\n",
       "      <th>0</th>\n",
       "      <td>50</td>\n",
       "      <td>15.0</td>\n",
       "      <td>500</td>\n",
       "      <td>20</td>\n",
       "      <td>10</td>\n",
       "      <td>0.03</td>\n",
       "      <td>0.03</td>\n",
       "      <td>surf</td>\n",
       "    </tr>\n",
       "    <tr>\n",
       "      <th>1</th>\n",
       "      <td>1000</td>\n",
       "      <td>30.0</td>\n",
       "      <td>3000</td>\n",
       "      <td>70</td>\n",
       "      <td>7</td>\n",
       "      <td>0.01</td>\n",
       "      <td>0.01</td>\n",
       "      <td>ultimate</td>\n",
       "    </tr>\n",
       "  </tbody>\n",
       "</table>\n",
       "</div>"
      ],
      "text/plain": [
       "   messages_included  mb_per_month_included  minutes_included  \\\n",
       "0                 50                   15.0               500   \n",
       "1               1000                   30.0              3000   \n",
       "\n",
       "   usd_monthly_fee  usd_per_gb  usd_per_message  usd_per_minute plan_name  \n",
       "0               20          10             0.03            0.03      surf  \n",
       "1               70           7             0.01            0.01  ultimate  "
      ]
     },
     "execution_count": 25,
     "metadata": {},
     "output_type": "execute_result"
    }
   ],
   "source": [
    "# Añade la información de la tarifa\n",
    "megaline_plans"
   ]
  },
  {
   "cell_type": "markdown",
   "metadata": {
    "id": "1IwGo4wg0q1I"
   },
   "source": [
    "[Calcula los ingresos mensuales por usuario (resta el límite del paquete gratuito del número total de llamadas, mensajes de texto y datos; multiplica el resultado por el valor del plan de llamadas; añade la tarifa mensual en función del plan de llamadas). Nota: Dadas las condiciones del plan, ¡esto podría no ser tan trivial como un par de líneas! Así que no pasa nada si dedicas algo de tiempo a ello.]"
   ]
  },
  {
   "cell_type": "code",
   "execution_count": 26,
   "metadata": {
    "id": "5FGCf_c60q1I"
   },
   "outputs": [
    {
     "data": {
      "text/html": [
       "<div>\n",
       "<style scoped>\n",
       "    .dataframe tbody tr th:only-of-type {\n",
       "        vertical-align: middle;\n",
       "    }\n",
       "\n",
       "    .dataframe tbody tr th {\n",
       "        vertical-align: top;\n",
       "    }\n",
       "\n",
       "    .dataframe thead th {\n",
       "        text-align: right;\n",
       "    }\n",
       "</style>\n",
       "<table border=\"1\" class=\"dataframe\">\n",
       "  <thead>\n",
       "    <tr style=\"text-align: right;\">\n",
       "      <th></th>\n",
       "      <th>user_id</th>\n",
       "      <th>number_calls</th>\n",
       "      <th>duration</th>\n",
       "      <th>messages_count</th>\n",
       "      <th>gb_used</th>\n",
       "      <th>reg_date</th>\n",
       "      <th>plan</th>\n",
       "      <th>income_for_plan</th>\n",
       "      <th>month</th>\n",
       "    </tr>\n",
       "  </thead>\n",
       "  <tbody>\n",
       "    <tr>\n",
       "      <th>0</th>\n",
       "      <td>1077</td>\n",
       "      <td>42</td>\n",
       "      <td>290.0</td>\n",
       "      <td>37</td>\n",
       "      <td>22.0</td>\n",
       "      <td>2018-01-14</td>\n",
       "      <td>ultimate</td>\n",
       "      <td>70.0</td>\n",
       "      <td>1</td>\n",
       "    </tr>\n",
       "    <tr>\n",
       "      <th>1</th>\n",
       "      <td>1077</td>\n",
       "      <td>111</td>\n",
       "      <td>776.0</td>\n",
       "      <td>67</td>\n",
       "      <td>39.0</td>\n",
       "      <td>2018-01-14</td>\n",
       "      <td>ultimate</td>\n",
       "      <td>133.0</td>\n",
       "      <td>2</td>\n",
       "    </tr>\n",
       "    <tr>\n",
       "      <th>2</th>\n",
       "      <td>1077</td>\n",
       "      <td>107</td>\n",
       "      <td>711.0</td>\n",
       "      <td>72</td>\n",
       "      <td>38.0</td>\n",
       "      <td>2018-01-14</td>\n",
       "      <td>ultimate</td>\n",
       "      <td>126.0</td>\n",
       "      <td>3</td>\n",
       "    </tr>\n",
       "    <tr>\n",
       "      <th>3</th>\n",
       "      <td>1077</td>\n",
       "      <td>95</td>\n",
       "      <td>746.0</td>\n",
       "      <td>57</td>\n",
       "      <td>38.0</td>\n",
       "      <td>2018-01-14</td>\n",
       "      <td>ultimate</td>\n",
       "      <td>126.0</td>\n",
       "      <td>4</td>\n",
       "    </tr>\n",
       "    <tr>\n",
       "      <th>4</th>\n",
       "      <td>1077</td>\n",
       "      <td>85</td>\n",
       "      <td>655.0</td>\n",
       "      <td>77</td>\n",
       "      <td>44.0</td>\n",
       "      <td>2018-01-14</td>\n",
       "      <td>ultimate</td>\n",
       "      <td>168.0</td>\n",
       "      <td>5</td>\n",
       "    </tr>\n",
       "  </tbody>\n",
       "</table>\n",
       "</div>"
      ],
      "text/plain": [
       "   user_id  number_calls  duration  messages_count  gb_used   reg_date  \\\n",
       "0     1077            42     290.0              37     22.0 2018-01-14   \n",
       "1     1077           111     776.0              67     39.0 2018-01-14   \n",
       "2     1077           107     711.0              72     38.0 2018-01-14   \n",
       "3     1077            95     746.0              57     38.0 2018-01-14   \n",
       "4     1077            85     655.0              77     44.0 2018-01-14   \n",
       "\n",
       "       plan  income_for_plan  month  \n",
       "0  ultimate             70.0      1  \n",
       "1  ultimate            133.0      2  \n",
       "2  ultimate            126.0      3  \n",
       "3  ultimate            126.0      4  \n",
       "4  ultimate            168.0      5  "
      ]
     },
     "execution_count": 26,
     "metadata": {},
     "output_type": "execute_result"
    }
   ],
   "source": [
    "# Calcula el ingreso mensual para cada usuario\n",
    "def income_for_plan(row):\n",
    "    if row[\"plan\"] == \"surf\":\n",
    "        extra_minutes = max(0, row[\"duration\"] - 500)\n",
    "        extra_messages = max(0, row[\"messages_count\"] - 50)\n",
    "        extra_GB = max(0, row[\"gb_used\"] - 15)\n",
    "        return 20 + (extra_minutes * 0.03) + (extra_messages * 0.03) + (extra_GB * 10)\n",
    "    else:\n",
    "        extra_minutes = max(0, row[\"duration\"] - 3000)\n",
    "        extra_messages = max(0, row[\"messages_count\"] - 1000)\n",
    "        extra_GB = max(0, row[\"gb_used\"] - 30)\n",
    "        return 70 + (extra_minutes * 0.01) + (extra_messages * 0.01) + (extra_GB * 7)\n",
    "\n",
    "\n",
    "final_merge[\"income_for_plan\"]  = final_merge.apply(income_for_plan, axis=1)\n",
    "\n",
    "\n",
    "final_merge[[\"user_id\", \"number_calls\", \"duration\", \"messages_count\", \"gb_used\", \"reg_date\", \"plan\", \"income_for_plan\", 'month']].head()"
   ]
  },
  {
   "cell_type": "markdown",
   "metadata": {},
   "source": [
    "<div class=\"alert alert-block alert-danger\">\n",
    "<b>Comentario revisor</b> <a class=\"tocSkip\"></a>\n",
    "\n",
    "\n",
    "Recuerda que para este punto, es necesario que ya tengamos los valores redondeados de la duración de las llamadas y redondear la transformación de megabytes a gigabytes. Esto cobra importancia dado que estamos calculando por cuanto se paso cada usuario, entonces el no redondear puede alterar este valor.\n",
    "</div>"
   ]
  },
  {
   "cell_type": "markdown",
   "metadata": {},
   "source": [
    "<div class=\"alert alert-block alert-success\">\n",
    "<b>Comentario del revisor</b> <a class=\"tocSkip\"></a>\n",
    "\n",
    "Gran trabajo con el ajuste!"
   ]
  },
  {
   "cell_type": "markdown",
   "metadata": {
    "id": "-jtyHzJb0q1I"
   },
   "source": [
    "## Estudia el comportamiento de usuario"
   ]
  },
  {
   "cell_type": "markdown",
   "metadata": {
    "id": "AxU3Y0N70q1J"
   },
   "source": [
    "[Calcula algunas estadísticas descriptivas para los datos agregados y fusionados que nos sean útiles y que muestren un panorama general captado por los datos. Dibuja gráficos útiles para facilitar la comprensión. Dado que la tarea principal es comparar las tarifas y decidir cuál es más rentable, las estadísticas y gráficas deben calcularse por tarifa.]\n",
    "\n",
    "[En los comentarios hallarás pistas relevantes para las llamadas, pero no las hay para los mensajes e Internet. Sin embargo, el principio del estudio estadístico que se aplica para ellos es el mismo que para las llamadas.]"
   ]
  },
  {
   "cell_type": "markdown",
   "metadata": {
    "id": "vtW4CJEe0q1J"
   },
   "source": [
    "### Llamadas"
   ]
  },
  {
   "cell_type": "code",
   "execution_count": 27,
   "metadata": {
    "id": "Jf5v5--k0q1J"
   },
   "outputs": [
    {
     "data": {
      "image/png": "[encoded data removed]",
      "text/plain": [
       "<Figure size 1000x500 with 1 Axes>"
      ]
     },
     "metadata": {},
     "output_type": "display_data"
    }
   ],
   "source": [
    "# Compara la duración promedio de llamadas por cada plan y por cada mes. Traza un gráfico de barras para visualizarla.\n",
    "merge_calls_and_users = megaline_calls.merge(megaline_users, on=\"user_id\")\n",
    "\n",
    "surf_plan = merge_calls_and_users[merge_calls_and_users['plan'] == \"surf\"].sort_values(by=\"month\")\n",
    "ultimate_plan = merge_calls_and_users[merge_calls_and_users['plan'] == \"ultimate\"].sort_values(by=\"month\")\n",
    "\n",
    "mean_surf_plan = surf_plan.groupby(\"month\")[\"duration\"].mean()\n",
    "mean_ultimate_plan =  ultimate_plan.groupby(\"month\")[\"duration\"].mean()\n",
    "\n",
    "mean_calls_by_plan = pd.DataFrame({\"Surf\": mean_surf_plan,\n",
    "                      \"Ultimate\": mean_ultimate_plan})\n",
    "\n",
    "mean_calls_by_plan.plot(kind=\"bar\",\n",
    "                        title=\"Duración promedio de las llamadas por mes y plan\",\n",
    "                       xlabel=\"Mes\",\n",
    "                       ylabel=\"Duración promedio(minutos)\",\n",
    "                        figsize=[10,5]\n",
    "                       )\n",
    "plt.legend(title=\"Plan\")\n",
    "plt.show()"
   ]
  },
  {
   "cell_type": "code",
   "execution_count": 28,
   "metadata": {
    "id": "QoLqW1S_0q1J"
   },
   "outputs": [
    {
     "data": {
      "image/png": "[encoded data removed]",
      "text/plain": [
       "<Figure size 640x480 with 1 Axes>"
      ]
     },
     "metadata": {},
     "output_type": "display_data"
    }
   ],
   "source": [
    "# Compara el número de minutos mensuales que necesitan los usuarios de cada plan. Traza un histograma.\n",
    "group = merge_calls_and_users.groupby([\"month\",\"plan\",\"user_id\"])[\"duration\"].sum().reset_index()\n",
    "\n",
    "group_surf_plan = group[group[\"plan\"] == \"surf\"]\n",
    "group_ultimate_plan = group[group[\"plan\"] == \"ultimate\"]\n",
    "\n",
    "group_surf_plan[\"duration\"].plot(kind=\"hist\",\n",
    "                                alpha=0.5,\n",
    "                                bins=30)\n",
    "\n",
    "group_ultimate_plan['duration'].plot(kind=\"hist\",\n",
    "                                     alpha=0.5,\n",
    "                                    bins=30)\n",
    "\n",
    "plt.xlabel(\"Minutos mensuales por usuario\")\n",
    "plt.ylabel(\"Cantidad de usuarios\")\n",
    "plt.legend([\"Surf\", \"Ultimate\"], title=\"Numero de minutos mensuales por plan\")\n",
    "plt.show()"
   ]
  },
  {
   "cell_type": "markdown",
   "metadata": {
    "id": "bLS9T8OH0q1K"
   },
   "source": [
    "[Calcula la media y la variable de la duración de las llamadas para averiguar si los usuarios de los distintos planes se comportan de forma diferente al realizar sus llamadas.]"
   ]
  },
  {
   "cell_type": "code",
   "execution_count": 29,
   "metadata": {
    "id": "oSndbAnt0q1K"
   },
   "outputs": [
    {
     "name": "stdout",
     "output_type": "stream",
     "text": [
      "Media de la duracion mensual de llamadas: \n",
      " month\n",
      "1     6.860465\n",
      "2     7.099483\n",
      "3     6.938889\n",
      "4     7.161825\n",
      "5     7.140292\n",
      "6     7.209707\n",
      "7     7.171995\n",
      "8     7.090508\n",
      "9     7.140713\n",
      "10    7.103304\n",
      "11    7.153503\n",
      "12    7.186385\n",
      "Name: duration, dtype: float64 \n",
      "\n",
      "Varianza de la duracion mensual de las llamadas \n",
      " month\n",
      "1     34.085679\n",
      "2     35.432522\n",
      "3     33.831347\n",
      "4     34.352474\n",
      "5     35.895387\n",
      "6     35.996164\n",
      "7     35.166741\n",
      "8     35.215003\n",
      "9     35.822651\n",
      "10    35.292561\n",
      "11    35.382278\n",
      "12    35.602930\n",
      "Name: duration, dtype: float64\n"
     ]
    }
   ],
   "source": [
    "# Calcula la media y la varianza de la duración mensual de llamadas.\n",
    "mean_of_calls = megaline_calls.groupby(\"month\")[\"duration\"].mean()\n",
    "\n",
    "var_of_calls = megaline_calls.groupby(\"month\")[\"duration\"].var()\n",
    "\n",
    "print(\"Media de la duracion mensual de llamadas:\",\"\\n\",\n",
    "      mean_of_calls, \"\\n\")\n",
    "print(\"Varianza de la duracion mensual de las llamadas\", \"\\n\",\n",
    "      var_of_calls)"
   ]
  },
  {
   "cell_type": "code",
   "execution_count": 30,
   "metadata": {
    "id": "nZzoRUKc0q1K"
   },
   "outputs": [
    {
     "data": {
      "image/png": "[encoded data removed]",
      "text/plain": [
       "<Figure size 640x480 with 1 Axes>"
      ]
     },
     "metadata": {},
     "output_type": "display_data"
    }
   ],
   "source": [
    "# Traza un diagrama de caja para visualizar la distribución de la duración mensual de llamadas\n",
    "month = megaline_calls.groupby([\"month\", \"user_id\"])[\"duration\"].sum().reset_index()\n",
    "\n",
    "sns.boxplot(data=month,\n",
    "           x=\"month\",\n",
    "            y='duration'\n",
    "           )\n",
    "\n",
    "plt.title(\"Diagrama de distribucion de la duración mensual de las llamadas\")\n",
    "plt.xlabel(\"Mes\")\n",
    "plt.ylabel(\"Duración total de las llamadas (minutos)\")\n",
    "plt.show()"
   ]
  },
  {
   "cell_type": "markdown",
   "metadata": {
    "id": "r627zBO50q1K"
   },
   "source": [
    "[Elabora las conclusiones sobre el comportamiento de los usuarios con respecto a las llamadas. ¿Su comportamiento varía en función del plan?]\n",
    "\n",
    "**Gracias a los datos, graficos, medias y varianza podemos decir que el comportamiento no varia en funcion al plan.**\n",
    "\n",
    "**Ya que si observamos el grafico de la duracion promedio de las llamadas por plan podemos observar que son bastante parecidas, lo que nos lleva a que el comportamiento de los planes no va en funcion a el plan.**\n",
    "\n",
    "**Otra observacion que note fue que en el histograma la mayor cantidad de usuarios usan de 400 a 600 minutos en el plan surf, lo que me lleva a pensar en que el plan surf posiblemente genere mas ingresos por numero de usuarios.**\n",
    "\n",
    "**Tambien podemos decir que los datos no son para nada inconsistentes gracias a la media y varianza que sacamos por lo que creo que esto otra vez afirma lo del plan surf puede que sea el plan que genere mas ingrensos.**\n",
    "\n",
    "**Por lo que vemos en el diagrama de caja es que a inicios del año (Enero) empezamos con una mediana de un poco arriba de 200 minutos de duración de las llamdas y conforme avanzan los meses podemos ver que la mediana aumenta hasta llegar a finales de año (Diciembre) con una mediana de casi 400 minutos de duracion de las llamadas.**"
   ]
  },
  {
   "cell_type": "markdown",
   "metadata": {
    "id": "8idKy8Wh0q1L"
   },
   "source": [
    "### Mensajes"
   ]
  },
  {
   "cell_type": "code",
   "execution_count": 31,
   "metadata": {
    "id": "NXLxiTit0q1L"
   },
   "outputs": [
    {
     "data": {
      "image/png": "[encoded data removed]",
      "text/plain": [
       "<Figure size 1000x500 with 1 Axes>"
      ]
     },
     "metadata": {},
     "output_type": "display_data"
    }
   ],
   "source": [
    "# Comprara el número de mensajes que tienden a enviar cada mes los usuarios de cada plan\n",
    "month_messages = megaline_messages.groupby([\"month\", \"user_id\"])[\"id\"].count().reset_index(name=\"messages_count\")\n",
    "\n",
    "merge_month_messa_and_users = month_messages.merge(megaline_users, on=\"user_id\")\n",
    "\n",
    "surf_plan = merge_month_messa_and_users[merge_month_messa_and_users['plan'] == \"surf\"]\n",
    "ultimate_plan = merge_month_messa_and_users[merge_month_messa_and_users[\"plan\"] == \"ultimate\"]\n",
    "\n",
    "\n",
    "surf_plan[\"messages_count\"].plot(kind=\"hist\",\n",
    "                                 bins=25,\n",
    "                                 figsize=[10,5],\n",
    "                                 alpha=0.5\n",
    "                                )\n",
    "ultimate_plan[\"messages_count\"].plot(kind=\"hist\",\n",
    "                                     bins=25,\n",
    "                                     figsize=[10,5],\n",
    "                                     alpha=0.5\n",
    "                                    )\n",
    "plt.title(\"Comparación del número de mensajes entre cada plan\")\n",
    "plt.xlabel(\"Cantidad de mensajes\")\n",
    "plt.ylabel(\"Número de usuarios\")\n",
    "plt.legend( [\"Surf\",\"Ultimate\"], title=\"Plan\")\n",
    "plt.show()"
   ]
  },
  {
   "cell_type": "code",
   "execution_count": 32,
   "metadata": {
    "id": "GRI_R7xF0q1L"
   },
   "outputs": [
    {
     "data": {
      "image/png": "[encoded data removed]",
      "text/plain": [
       "<Figure size 640x480 with 1 Axes>"
      ]
     },
     "metadata": {},
     "output_type": "display_data"
    }
   ],
   "source": [
    "# Compara la cantidad de tráfico de Internet consumido por usuarios por plan\n",
    "trafic_month = volume_trafic_of_users.groupby([\"month\",\"user_id\"])[\"gb_used\"].sum().reset_index()\n",
    "\n",
    "total_month = trafic_month.groupby(\"user_id\")[\"gb_used\"].sum().reset_index()\n",
    "\n",
    "merge_trafic_and_users = total_month.merge(megaline_users, on=\"user_id\")\n",
    "\n",
    "surf_plan = merge_trafic_and_users[merge_trafic_and_users[\"plan\"] == \"surf\"]\n",
    "ultimate_plan = merge_trafic_and_users[merge_trafic_and_users[\"plan\"] == \"ultimate\"]\n",
    "\n",
    "surf_plan[\"gb_used\"].plot(kind=\"hist\",\n",
    "                         alpha=0.5,\n",
    "                         bins=25)\n",
    "\n",
    "ultimate_plan[\"gb_used\"].plot(kind=\"hist\",\n",
    "                             alpha=0.5,\n",
    "                             bins=25)\n",
    "\n",
    "plt.title(\"Cantidad de trafico de internet consumido por usuarios\")\n",
    "plt.xlabel(\"Cantidad de GB usados\")\n",
    "plt.ylabel(\"Numero de usuarios\")\n",
    "plt.legend([\"Surf\", \"Ultimate\"], title=\"Plan\")\n",
    "plt.show()"
   ]
  },
  {
   "cell_type": "markdown",
   "metadata": {
    "id": "dtFwCGAp0q1M"
   },
   "source": [
    "**Por lo que vemos en los graficos todo esto apunta a que el plan surf tiene una mayor cantidad de usuarios, por lo que  esto nos puede que indicar a que el plan surf realmente sea el plan que genere mayores ingresos por numeros de usuarios.**\n",
    "\n",
    "**Tambien vemos que en el plan ultimate son pocos los usuarios que superan los limites del plan surf y demasiado escasos los que superan los limites de este plan, por lo que algo me dice que el plan ultimate no sea tan bueno respecto al plan surf o tal vez simplemente los usuarios no aprovechan el plan ultimate.**"
   ]
  },
  {
   "cell_type": "markdown",
   "metadata": {
    "id": "390SSL480q1M"
   },
   "source": [
    "[Elabora las conclusiones sobre el comportamiento de los usuarios con respecto a los mensajes. ¿Su comportamiento varía en función del plan?]"
   ]
  },
  {
   "cell_type": "markdown",
   "metadata": {
    "id": "42YSypXz0q1M"
   },
   "source": [
    "### Internet"
   ]
  },
  {
   "cell_type": "markdown",
   "metadata": {
    "id": "lSuKPtjh0q1M"
   },
   "source": [
    "**Que tengo que hacer aqui no me especifican si tu puedes decirme ayudarias mucho :)**"
   ]
  },
  {
   "cell_type": "markdown",
   "metadata": {
    "id": "wnh8jYXi0q1N"
   },
   "source": [
    "<div class=\"alert alert-block alert-danger\">\n",
    "<b>Comentario revisor</b> <a class=\"tocSkip\"></a>\n",
    "\n",
    "\n",
    "Hola, Emanuel! Para este punto y el que sigue debemos de hacer de igualemnte un análisis gráfico que compare las variable de internet y la de ingreso por tipo de plan. Con este ajuste puedes continuar con las pruebas de hipótesis"
   ]
  },
  {
   "cell_type": "markdown",
   "metadata": {},
   "source": [
    "<div class=\"alert alert-block alert-success\">\n",
    "<b>Comentario del revisor</b> <a class=\"tocSkip\"></a>\n",
    "\n",
    "Gran trabajo con el ajuste!"
   ]
  },
  {
   "cell_type": "code",
   "execution_count": 33,
   "metadata": {
    "id": "5VlyJ9ry0q1N"
   },
   "outputs": [
    {
     "data": {
      "image/png": "[encoded data removed]",
      "text/plain": [
       "<Figure size 1000x500 with 1 Axes>"
      ]
     },
     "metadata": {},
     "output_type": "display_data"
    }
   ],
   "source": [
    "group_internet = final_merge.groupby([\"month\", \"plan\" ])[\"gb_used\"].mean().unstack()\n",
    "\n",
    "group_internet.plot(kind=\"bar\",\n",
    "                   figsize=[10, 5 ],\n",
    "                   rot=0  \n",
    "                   )\n",
    "\n",
    "plt.title(\"Uso promedio de internet por mes y plan\")\n",
    "plt.xlabel(\"Mes\")\n",
    "plt.ylabel(\"Cantidad de GB usados(promedio)\")\n",
    "plt.legend(title=\"Plan\")\n",
    "plt.show()"
   ]
  },
  {
   "cell_type": "markdown",
   "metadata": {
    "id": "UN9zwuMP0q1N"
   },
   "source": [
    "[Elabora las conclusiones sobre cómo los usuarios tienden a consumir el tráfico de Internet. ¿Su comportamiento varía en función del plan?]\n",
    "\n",
    "**Como podemos ver en el grafico comparativo por planes podemos decir que sus promedios de ambos planes son bastante parecidos, tambien podemos ver en algunos meses el plan ultimate sobrepasa con creces al plan surf.**\n",
    "\n",
    "**Por lo que podemos decir que el comportamiento no va en funcion de acuerdo al plan.**"
   ]
  },
  {
   "cell_type": "markdown",
   "metadata": {
    "id": "tCijq3260q1N"
   },
   "source": [
    "## Ingreso"
   ]
  },
  {
   "cell_type": "markdown",
   "metadata": {
    "id": "9nq5IAcy0q1O"
   },
   "source": [
    "[Del mismo modo que has estudiado el comportamiento de los usuarios, describe estadísticamente los ingresos de los planes.]"
   ]
  },
  {
   "cell_type": "markdown",
   "metadata": {
    "id": "tz-dq_V00q1O"
   },
   "source": [
    "**Lo mismo aqui me seria de mucha ayuda si me dicen que tengo que hacer**"
   ]
  },
  {
   "cell_type": "code",
   "execution_count": 34,
   "metadata": {
    "id": "0Y1v8ZUz0q1P"
   },
   "outputs": [
    {
     "data": {
      "image/png": "[encoded data removed]",
      "text/plain": [
       "<Figure size 1000x500 with 1 Axes>"
      ]
     },
     "metadata": {},
     "output_type": "display_data"
    }
   ],
   "source": [
    "group_income_for_plan = final_merge.groupby([\"month\", \"plan\"])[\"income_for_plan\"].mean().unstack()\n",
    "\n",
    "group_income_for_plan.plot(kind=\"bar\",\n",
    "                          figsize=[10, 5],\n",
    "                          rot=0\n",
    "                          )\n",
    "plt.title(\"Promedio de ingreos por mes y plan\")\n",
    "plt.xlabel(\"Mes\")\n",
    "plt.ylabel(\"Ingresos por usuarios(Promedio)\")\n",
    "plt.legend(title=\"Plan\")\n",
    "plt.show()"
   ]
  },
  {
   "cell_type": "markdown",
   "metadata": {
    "id": "KAFidcXZ0q1P"
   },
   "source": [
    "[Elabora las conclusiones sobre cómo difiere el ingreso entre los planes.]\n",
    "\n",
    "**Por lo que vemos en los graficos el plan que mayor ingresos genera el plan Surf, talvez esto se deba a que los usuarios superaron los limites y terminaron pagando mas o simplemente el plan surf contiene mas usuarios a diferencia del ultimate.**\n",
    "\n",
    "**Por lo que podemos decir que su comportamiento no va en  funcion del plan.**"
   ]
  },
  {
   "cell_type": "markdown",
   "metadata": {
    "id": "ajJ7VKeI0q1Q"
   },
   "source": [
    "## Prueba las hipótesis estadísticas"
   ]
  },
  {
   "cell_type": "markdown",
   "metadata": {
    "id": "AdXAZ-yL0q1Q"
   },
   "source": [
    "[Prueba la hipótesis de que son diferentes los ingresos promedio procedentes de los usuarios de los planes de llamada Ultimate y Surf.]"
   ]
  },
  {
   "cell_type": "markdown",
   "metadata": {
    "id": "IQwa_hsh0q1Q"
   },
   "source": [
    "[Elabora las hipótesis nula y alternativa, escoge la prueba estadística, determina el valor alfa.]"
   ]
  },
  {
   "cell_type": "code",
   "execution_count": 35,
   "metadata": {
    "id": "nFoPNlPq0q1R"
   },
   "outputs": [
    {
     "name": "stdout",
     "output_type": "stream",
     "text": [
      "Valor p: 1.005225561054736e-81\n",
      "Alpha: 0.05\n",
      "Rechazamos la hipótesis nula (hay evidencia de diferencia)\n"
     ]
    }
   ],
   "source": [
    "# Prueba las hipótesis\n",
    "\n",
    "plan_surf_income = final_merge[final_merge['plan'] == \"surf\"][\"income_for_plan\"]\n",
    "plan_ultimate_income = final_merge[final_merge['plan'] == \"ultimate\"][\"income_for_plan\"]\n",
    "\n",
    "results = st.ttest_ind(\n",
    "    plan_surf_income,\n",
    "    plan_ultimate_income,\n",
    "    equal_var=False\n",
    ")\n",
    "\n",
    "alpha = 0.05\n",
    "\n",
    "print(\"Valor p:\", results.pvalue)\n",
    "print(\"Alpha:\", alpha)\n",
    "\n",
    "if results.pvalue < alpha:\n",
    "    print(\"Rechazamos la hipótesis nula (hay evidencia de diferencia)\")\n",
    "else:\n",
    "    print(\"No podemos rechazar la hipótesis nula (no hay evidencia suficiente)\")"
   ]
  },
  {
   "cell_type": "markdown",
   "metadata": {
    "id": "tCcAruM60q1R"
   },
   "source": [
    "[Prueba la hipótesis de que el ingreso promedio de los usuarios del área NY-NJ es diferente al de los usuarios de otras regiones.]"
   ]
  },
  {
   "cell_type": "markdown",
   "metadata": {
    "id": "LsBgitqj0q1R"
   },
   "source": [
    "[Elabora las hipótesis nula y alternativa, escoge la prueba estadística, determina el valor alfa.]"
   ]
  },
  {
   "cell_type": "code",
   "execution_count": 36,
   "metadata": {
    "id": "Cqcj7wrZ0q1S"
   },
   "outputs": [
    {
     "name": "stdout",
     "output_type": "stream",
     "text": [
      "Valor p: 0.20786207648480143\n",
      "No podemos rechazar la hipotesis nula (no hay evidencia suficiente)\n"
     ]
    }
   ],
   "source": [
    "# Prueba las hipótesis\n",
    "\n",
    "Area_Newyork = final_merge[final_merge['city'] == \"New York-Newark-Jersey City, NY-NJ-PA MSA\"][\"income_for_plan\"]\n",
    "Other_areas = final_merge[final_merge['city'] != \"New York-Newark-Jersey City, NY-NJ-PA MSA\"][\"income_for_plan\"]\n",
    "\n",
    "alpha=0.05\n",
    "\n",
    "results = st.ttest_ind(\n",
    "    Area_Newyork,\n",
    "    Other_areas,\n",
    "    equal_var=False)\n",
    "\n",
    "print(\"Valor p:\",results.pvalue)\n",
    "\n",
    "if (results.pvalue < alpha):\n",
    "    print(\"Rechazamos la hipotises nula (hay evidencia de diferencia)\")\n",
    "else:\n",
    "    print(\"No podemos rechazar la hipotesis nula (no hay evidencia suficiente)\")"
   ]
  },
  {
   "cell_type": "markdown",
   "metadata": {},
   "source": [
    "<div class=\"alert alert-block alert-success\">\n",
    "<b>Comentario revisor</b> <a class=\"tocSkip\"></a>\n",
    "\n",
    "Excelente trabajo con el desarrollo de las pruebas de hipótesis. Solamente en futuras ocasiones te recomiendo considerar realizar la prueba de levene para mostrar el supuesto de varianzas iguales. "
   ]
  },
  {
   "cell_type": "markdown",
   "metadata": {
    "id": "bbTR8UQO0q1T"
   },
   "source": [
    "## Conclusión general\n",
    "\n",
    "[En esta sección final, enumera tus conclusiones importantes. Asegúrate de que estas abarquen todas las decisiones (suposiciones) importantes que adoptaste y que determinaron la forma elegida para procesar y analizar los datos.]"
   ]
  },
  {
   "cell_type": "markdown",
   "metadata": {},
   "source": [
    "**Me falta hacer los demas problemas pero no puedo porque no me dicen que tengo que hacer asi que por lo mientras hare solo esta suposición**"
   ]
  },
  {
   "cell_type": "markdown",
   "metadata": {},
   "source": [
    "**La unica conclusion que puedo dar es solo una suposicion, ya que e observado los datos y por lo que e visto la mayoria de los usuarios terminan yendose, pero son los que mas GB, SMS o minutos que generan por lo que me hace pensar que los planes no ofrecen beneficios atractivos o son demasiado caros.**"
   ]
  },
  {
   "cell_type": "markdown",
   "metadata": {},
   "source": [
    "**1.-Gracias a las graficas y otros analisis hemos comprobado que el plan surf es el que genera mas ingresos por mes que a diferencia del plan ultimate este no genera tantos ingresos.**  \n",
    "\n",
    "**2.- Como ya hemos visto en las graficas los planes no actuan en funcion de su comportamiento ya que hemos visto al plan surf tener un promedio similar al del plan ultimate en duracion de las llamadas o uso del internet.**\n",
    "\n",
    "**3.- Tambien anadimos la informacion vista en el grafico de ingresos por medio de cada plan, ademas de que gracias a las diferencias significativas que obtuvimos de nuestra prueba de hipotesis podemos decir que los planes no van en funcion de su comportamiento.**\n",
    "\n",
    "**4.-Tambien a resaltar que gracias al diagrama de caja vimos que los usuarios aumentan con el tiempo su consumo de minutos, por que talvez aqui sea la parte donde los usuarios excedan los limites de los planes surf y ultimate.**\n",
    "\n",
    "**5.-Por lo que el plan surf es le plan que mas ingresos genera, talvez se deba a mayor cantidad de usuarios o simplemente por que los usuarios se pasan de los limtes del plan.**"
   ]
  },
  {
   "cell_type": "code",
   "execution_count": null,
   "metadata": {},
   "outputs": [],
   "source": []
  }
 ],
 "metadata": {
  "ExecuteTimeLog": [
   {
    "duration": 828,
    "start_time": "2021-11-16T09:21:11.304Z"
   },
   {
    "duration": 893,
    "start_time": "2021-11-16T09:21:17.728Z"
   },
   {
    "duration": 1150,
    "start_time": "2021-11-16T09:21:29.568Z"
   },
   {
    "duration": 3,
    "start_time": "2021-11-16T09:24:14.495Z"
   },
   {
    "duration": 120,
    "start_time": "2021-11-16T09:24:46.630Z"
   },
   {
    "duration": 3,
    "start_time": "2021-11-16T09:28:27.882Z"
   },
   {
    "duration": 4,
    "start_time": "2021-11-16T09:29:54.281Z"
   },
   {
    "duration": 3,
    "start_time": "2021-11-16T09:30:45.936Z"
   },
   {
    "duration": 4,
    "start_time": "2021-11-16T09:31:06.300Z"
   },
   {
    "duration": 113,
    "start_time": "2021-11-16T09:31:37.208Z"
   },
   {
    "duration": 143,
    "start_time": "2021-11-16T09:31:48.656Z"
   },
   {
    "duration": 98,
    "start_time": "2021-11-16T09:31:55.678Z"
   },
   {
    "duration": 3,
    "start_time": "2021-11-16T09:32:08.535Z"
   },
   {
    "duration": 111,
    "start_time": "2021-11-16T09:32:10.120Z"
   },
   {
    "duration": 3,
    "start_time": "2021-11-16T09:32:15.732Z"
   },
   {
    "duration": 4,
    "start_time": "2021-11-16T09:32:29.423Z"
   },
   {
    "duration": 3,
    "start_time": "2021-11-16T10:03:03.074Z"
   },
   {
    "duration": 3,
    "start_time": "2021-11-16T10:10:01.288Z"
   },
   {
    "duration": 3,
    "start_time": "2021-11-16T10:10:46.923Z"
   },
   {
    "duration": 121,
    "start_time": "2021-11-16T10:37:46.494Z"
   },
   {
    "duration": 125,
    "start_time": "2021-11-16T10:38:20.632Z"
   },
   {
    "duration": 112,
    "start_time": "2021-11-16T10:46:53.001Z"
   },
   {
    "duration": 110,
    "start_time": "2021-11-16T10:48:25.775Z"
   },
   {
    "duration": 3,
    "start_time": "2021-11-16T10:50:18.720Z"
   },
   {
    "duration": 4,
    "start_time": "2021-11-16T10:50:37.649Z"
   },
   {
    "duration": 2,
    "start_time": "2021-11-16T10:50:51.884Z"
   },
   {
    "duration": 3,
    "start_time": "2021-11-16T10:51:56.237Z"
   },
   {
    "duration": 101,
    "start_time": "2021-11-16T10:53:13.791Z"
   },
   {
    "duration": 3,
    "start_time": "2021-11-16T10:55:59.186Z"
   },
   {
    "duration": 3,
    "start_time": "2021-11-16T10:56:10.751Z"
   },
   {
    "duration": 3,
    "start_time": "2021-11-16T10:56:49.038Z"
   },
   {
    "duration": 3,
    "start_time": "2021-11-16T10:56:49.174Z"
   },
   {
    "duration": 4,
    "start_time": "2021-11-16T10:56:49.414Z"
   },
   {
    "duration": 3,
    "start_time": "2021-11-16T10:56:49.680Z"
   },
   {
    "duration": 3,
    "start_time": "2021-11-16T10:56:50.370Z"
   },
   {
    "duration": 114,
    "start_time": "2021-11-16T10:59:34.518Z"
   },
   {
    "duration": 3,
    "start_time": "2021-11-16T11:01:41.201Z"
   },
   {
    "duration": 116,
    "start_time": "2021-11-16T11:01:48.754Z"
   },
   {
    "duration": 3,
    "start_time": "2021-11-16T11:02:16.685Z"
   },
   {
    "duration": 3,
    "start_time": "2021-11-16T11:02:19.479Z"
   },
   {
    "duration": 3,
    "start_time": "2021-11-16T11:02:47.067Z"
   },
   {
    "duration": 3,
    "start_time": "2021-11-16T11:02:49.353Z"
   },
   {
    "duration": 3,
    "start_time": "2021-11-16T11:03:07.835Z"
   },
   {
    "duration": 3,
    "start_time": "2021-11-16T11:03:07.953Z"
   },
   {
    "duration": 112,
    "start_time": "2021-11-16T11:07:52.072Z"
   },
   {
    "duration": 187,
    "start_time": "2021-11-16T11:09:23.468Z"
   },
   {
    "duration": 4,
    "start_time": "2021-11-16T11:10:01.455Z"
   },
   {
    "duration": 3,
    "start_time": "2021-11-16T11:10:05.069Z"
   },
   {
    "duration": 4,
    "start_time": "2021-11-16T11:10:13.376Z"
   },
   {
    "duration": 3,
    "start_time": "2021-11-16T11:10:14.434Z"
   },
   {
    "duration": 3,
    "start_time": "2021-11-16T11:10:22.853Z"
   },
   {
    "duration": 4,
    "start_time": "2021-11-16T11:27:29.279Z"
   },
   {
    "duration": 4,
    "start_time": "2021-11-16T11:29:08.919Z"
   },
   {
    "duration": 118,
    "start_time": "2021-11-16T11:29:46.703Z"
   },
   {
    "duration": 437,
    "start_time": "2021-11-16T11:36:02.181Z"
   },
   {
    "duration": 157,
    "start_time": "2021-11-16T11:36:14.388Z"
   },
   {
    "duration": 207,
    "start_time": "2021-11-16T11:47:15.898Z"
   },
   {
    "duration": 3,
    "start_time": "2021-11-16T11:53:52.092Z"
   },
   {
    "duration": 3,
    "start_time": "2021-11-16T11:53:52.236Z"
   },
   {
    "duration": 3,
    "start_time": "2021-11-16T11:59:12.005Z"
   },
   {
    "duration": 112,
    "start_time": "2021-11-16T12:00:33.446Z"
   },
   {
    "duration": 3,
    "start_time": "2021-11-16T12:02:14.453Z"
   },
   {
    "duration": 3,
    "start_time": "2021-11-16T12:02:39.512Z"
   },
   {
    "duration": 106,
    "start_time": "2021-11-16T12:03:03.460Z"
   },
   {
    "duration": 3,
    "start_time": "2021-11-17T20:37:21.139Z"
   },
   {
    "duration": 3,
    "start_time": "2021-11-17T20:37:22.229Z"
   },
   {
    "duration": 3,
    "start_time": "2021-11-17T20:38:38.806Z"
   },
   {
    "duration": 3,
    "start_time": "2021-11-17T20:38:41.958Z"
   },
   {
    "duration": 3,
    "start_time": "2021-11-17T20:43:46.551Z"
   },
   {
    "duration": 4,
    "start_time": "2021-11-17T20:58:21.835Z"
   },
   {
    "duration": 3,
    "start_time": "2021-11-17T20:59:21.872Z"
   },
   {
    "duration": 4,
    "start_time": "2021-11-17T20:59:45.352Z"
   },
   {
    "duration": 4,
    "start_time": "2021-11-17T20:59:49.646Z"
   },
   {
    "duration": 159,
    "start_time": "2021-11-17T21:02:26.949Z"
   },
   {
    "duration": 3,
    "start_time": "2021-11-17T21:03:53.461Z"
   },
   {
    "duration": 3,
    "start_time": "2021-11-17T21:03:53.694Z"
   },
   {
    "duration": 3,
    "start_time": "2021-11-17T21:05:28.145Z"
   },
   {
    "duration": 116,
    "start_time": "2021-11-17T21:05:57.787Z"
   },
   {
    "duration": 3,
    "start_time": "2021-11-17T21:06:37.993Z"
   },
   {
    "duration": 3,
    "start_time": "2021-11-17T21:06:38.261Z"
   },
   {
    "duration": 3,
    "start_time": "2021-11-17T21:11:54.358Z"
   },
   {
    "duration": 3,
    "start_time": "2021-11-17T21:12:43.846Z"
   },
   {
    "duration": 4,
    "start_time": "2021-11-17T21:13:08.773Z"
   },
   {
    "duration": 3,
    "start_time": "2021-11-17T21:14:44.441Z"
   },
   {
    "duration": 3,
    "start_time": "2021-11-17T21:15:42.059Z"
   },
   {
    "duration": 4,
    "start_time": "2021-11-17T21:15:51.995Z"
   },
   {
    "duration": 3,
    "start_time": "2021-11-17T21:15:53.923Z"
   },
   {
    "duration": 3,
    "start_time": "2021-11-17T21:15:55.282Z"
   },
   {
    "duration": 3,
    "start_time": "2021-11-17T21:16:28.492Z"
   },
   {
    "duration": 3,
    "start_time": "2021-11-17T21:16:32.603Z"
   },
   {
    "duration": 3,
    "start_time": "2021-11-17T21:17:06.941Z"
   },
   {
    "duration": 98,
    "start_time": "2021-11-17T21:18:05.733Z"
   },
   {
    "duration": 4,
    "start_time": "2021-11-17T21:21:35.255Z"
   },
   {
    "duration": 3,
    "start_time": "2021-11-17T21:21:37.804Z"
   },
   {
    "duration": 4,
    "start_time": "2021-11-17T21:23:06.071Z"
   },
   {
    "duration": 3,
    "start_time": "2021-11-17T21:23:24.799Z"
   },
   {
    "duration": 3,
    "start_time": "2021-11-17T21:23:32.591Z"
   },
   {
    "duration": 98,
    "start_time": "2021-11-17T21:28:31.559Z"
   },
   {
    "duration": 3,
    "start_time": "2021-11-17T21:28:45.448Z"
   },
   {
    "duration": 3,
    "start_time": "2021-11-17T21:29:17.303Z"
   },
   {
    "duration": 3,
    "start_time": "2021-11-17T21:29:29.617Z"
   },
   {
    "duration": 3,
    "start_time": "2021-11-17T21:29:32.681Z"
   },
   {
    "duration": 3,
    "start_time": "2021-11-17T21:36:11.474Z"
   },
   {
    "duration": 3,
    "start_time": "2021-11-17T21:36:14.791Z"
   },
   {
    "duration": 3,
    "start_time": "2021-11-17T21:36:53.943Z"
   },
   {
    "duration": 3,
    "start_time": "2021-11-17T21:36:56.165Z"
   },
   {
    "duration": 4,
    "start_time": "2021-11-17T21:37:16.590Z"
   },
   {
    "duration": 3,
    "start_time": "2021-11-17T21:37:22.702Z"
   },
   {
    "duration": 4,
    "start_time": "2021-11-17T21:38:03.479Z"
   },
   {
    "duration": 3,
    "start_time": "2021-11-17T21:38:08.601Z"
   },
   {
    "duration": 3,
    "start_time": "2021-11-17T21:38:12.928Z"
   },
   {
    "duration": 3,
    "start_time": "2021-11-17T21:38:48.896Z"
   },
   {
    "duration": 2,
    "start_time": "2021-11-17T21:38:49.171Z"
   },
   {
    "duration": 4,
    "start_time": "2021-11-17T21:39:57.889Z"
   },
   {
    "duration": 3,
    "start_time": "2021-11-17T21:39:58.057Z"
   },
   {
    "duration": 3,
    "start_time": "2021-11-17T21:41:20.108Z"
   },
   {
    "duration": 3,
    "start_time": "2021-11-17T21:41:20.629Z"
   },
   {
    "duration": 3,
    "start_time": "2021-11-17T21:42:49.136Z"
   },
   {
    "duration": 3,
    "start_time": "2021-11-17T21:43:15.137Z"
   },
   {
    "duration": 4,
    "start_time": "2021-11-17T21:43:16.766Z"
   },
   {
    "duration": 4,
    "start_time": "2021-11-17T21:43:31.711Z"
   },
   {
    "duration": 3,
    "start_time": "2021-11-17T21:43:36.312Z"
   },
   {
    "duration": 4,
    "start_time": "2021-11-17T21:45:08.825Z"
   },
   {
    "duration": 4,
    "start_time": "2021-11-17T21:45:10.119Z"
   },
   {
    "duration": 4,
    "start_time": "2021-11-17T21:45:13.748Z"
   },
   {
    "duration": 3,
    "start_time": "2021-11-17T21:45:22.219Z"
   },
   {
    "duration": 3,
    "start_time": "2021-11-17T21:45:33.412Z"
   },
   {
    "duration": 2,
    "start_time": "2021-11-17T21:46:01.885Z"
   },
   {
    "duration": 3,
    "start_time": "2021-11-17T21:46:03.628Z"
   },
   {
    "duration": 107,
    "start_time": "2021-11-17T21:47:32.512Z"
   },
   {
    "duration": 103,
    "start_time": "2021-11-17T21:50:36.243Z"
   },
   {
    "duration": 3,
    "start_time": "2021-11-18T06:28:31.440Z"
   },
   {
    "duration": 3,
    "start_time": "2021-11-18T06:29:00.168Z"
   },
   {
    "duration": 3,
    "start_time": "2021-11-18T06:31:27.008Z"
   },
   {
    "duration": 2,
    "start_time": "2021-11-18T06:35:34.288Z"
   },
   {
    "duration": 2,
    "start_time": "2021-11-18T06:38:04.527Z"
   },
   {
    "duration": 586,
    "start_time": "2025-05-10T23:20:07.188Z"
   },
   {
    "duration": 89,
    "start_time": "2025-05-10T23:22:13.328Z"
   },
   {
    "duration": 192,
    "start_time": "2025-05-10T23:25:03.974Z"
   },
   {
    "duration": 42,
    "start_time": "2025-05-10T23:29:39.315Z"
   },
   {
    "duration": 40,
    "start_time": "2025-05-10T23:31:47.647Z"
   },
   {
    "duration": 195,
    "start_time": "2025-05-10T23:34:21.368Z"
   },
   {
    "duration": 8,
    "start_time": "2025-05-10T23:34:42.745Z"
   },
   {
    "duration": 15,
    "start_time": "2025-05-10T23:35:21.135Z"
   },
   {
    "duration": 8,
    "start_time": "2025-05-10T23:38:44.737Z"
   },
   {
    "duration": 9,
    "start_time": "2025-05-10T23:39:08.279Z"
   },
   {
    "duration": 9,
    "start_time": "2025-05-10T23:46:14.936Z"
   },
   {
    "duration": 24,
    "start_time": "2025-05-10T23:48:09.423Z"
   },
   {
    "duration": 214,
    "start_time": "2025-05-10T23:48:23.441Z"
   },
   {
    "duration": 4,
    "start_time": "2025-05-10T23:49:09.787Z"
   },
   {
    "duration": 52,
    "start_time": "2025-05-10T23:49:17.888Z"
   },
   {
    "duration": 9,
    "start_time": "2025-05-10T23:50:34.020Z"
   },
   {
    "duration": 7,
    "start_time": "2025-05-10T23:51:43.350Z"
   },
   {
    "duration": 663,
    "start_time": "2025-05-11T18:29:34.432Z"
   },
   {
    "duration": 207,
    "start_time": "2025-05-11T18:29:36.804Z"
   },
   {
    "duration": 11,
    "start_time": "2025-05-11T18:33:33.772Z"
   },
   {
    "duration": 12,
    "start_time": "2025-05-11T18:33:57.270Z"
   },
   {
    "duration": 43,
    "start_time": "2025-05-11T18:36:07.709Z"
   },
   {
    "duration": 9,
    "start_time": "2025-05-11T18:36:33.613Z"
   },
   {
    "duration": 9,
    "start_time": "2025-05-11T18:41:07.643Z"
   },
   {
    "duration": 5,
    "start_time": "2025-05-11T18:41:36.651Z"
   },
   {
    "duration": 7,
    "start_time": "2025-05-11T18:41:43.524Z"
   },
   {
    "duration": 5,
    "start_time": "2025-05-11T18:44:02.079Z"
   },
   {
    "duration": 7,
    "start_time": "2025-05-11T18:51:15.530Z"
   },
   {
    "duration": 8,
    "start_time": "2025-05-11T18:51:53.228Z"
   },
   {
    "duration": 9,
    "start_time": "2025-05-11T19:13:34.651Z"
   },
   {
    "duration": 12,
    "start_time": "2025-05-11T19:15:58.445Z"
   },
   {
    "duration": 9,
    "start_time": "2025-05-11T19:17:13.785Z"
   },
   {
    "duration": 23,
    "start_time": "2025-05-11T19:18:10.403Z"
   },
   {
    "duration": 8,
    "start_time": "2025-05-11T19:18:18.285Z"
   },
   {
    "duration": 8,
    "start_time": "2025-05-11T19:18:31.620Z"
   },
   {
    "duration": 608,
    "start_time": "2025-05-11T19:18:40.456Z"
   },
   {
    "duration": 163,
    "start_time": "2025-05-11T19:18:41.066Z"
   },
   {
    "duration": 34,
    "start_time": "2025-05-11T19:18:41.231Z"
   },
   {
    "duration": 12,
    "start_time": "2025-05-11T19:18:41.267Z"
   },
   {
    "duration": 12,
    "start_time": "2025-05-11T19:18:41.280Z"
   },
   {
    "duration": 10,
    "start_time": "2025-05-11T19:18:41.294Z"
   },
   {
    "duration": 121,
    "start_time": "2025-05-11T19:18:41.320Z"
   },
   {
    "duration": 0,
    "start_time": "2025-05-11T19:18:41.443Z"
   },
   {
    "duration": 0,
    "start_time": "2025-05-11T19:18:41.445Z"
   },
   {
    "duration": 0,
    "start_time": "2025-05-11T19:18:41.445Z"
   },
   {
    "duration": 0,
    "start_time": "2025-05-11T19:18:41.446Z"
   },
   {
    "duration": 0,
    "start_time": "2025-05-11T19:18:41.447Z"
   },
   {
    "duration": 0,
    "start_time": "2025-05-11T19:18:41.448Z"
   },
   {
    "duration": 0,
    "start_time": "2025-05-11T19:18:41.449Z"
   },
   {
    "duration": 0,
    "start_time": "2025-05-11T19:18:41.449Z"
   },
   {
    "duration": 0,
    "start_time": "2025-05-11T19:18:41.450Z"
   },
   {
    "duration": 0,
    "start_time": "2025-05-11T19:18:41.452Z"
   },
   {
    "duration": 0,
    "start_time": "2025-05-11T19:18:41.453Z"
   },
   {
    "duration": 0,
    "start_time": "2025-05-11T19:18:41.454Z"
   },
   {
    "duration": 0,
    "start_time": "2025-05-11T19:18:41.456Z"
   },
   {
    "duration": 0,
    "start_time": "2025-05-11T19:18:41.457Z"
   },
   {
    "duration": 0,
    "start_time": "2025-05-11T19:18:41.458Z"
   },
   {
    "duration": 0,
    "start_time": "2025-05-11T19:18:41.459Z"
   },
   {
    "duration": 0,
    "start_time": "2025-05-11T19:18:41.460Z"
   },
   {
    "duration": 0,
    "start_time": "2025-05-11T19:18:41.461Z"
   },
   {
    "duration": 0,
    "start_time": "2025-05-11T19:18:41.461Z"
   },
   {
    "duration": 0,
    "start_time": "2025-05-11T19:18:41.463Z"
   },
   {
    "duration": 0,
    "start_time": "2025-05-11T19:18:41.464Z"
   },
   {
    "duration": 0,
    "start_time": "2025-05-11T19:18:41.465Z"
   },
   {
    "duration": 8,
    "start_time": "2025-05-11T19:18:59.908Z"
   },
   {
    "duration": 5,
    "start_time": "2025-05-11T19:19:34.712Z"
   },
   {
    "duration": 3,
    "start_time": "2025-05-11T19:19:44.054Z"
   },
   {
    "duration": 9,
    "start_time": "2025-05-11T19:19:48.483Z"
   },
   {
    "duration": 564,
    "start_time": "2025-05-11T23:30:58.163Z"
   },
   {
    "duration": 206,
    "start_time": "2025-05-11T23:30:58.729Z"
   },
   {
    "duration": 35,
    "start_time": "2025-05-11T23:30:58.937Z"
   },
   {
    "duration": 9,
    "start_time": "2025-05-11T23:30:58.974Z"
   },
   {
    "duration": 12,
    "start_time": "2025-05-11T23:30:58.985Z"
   },
   {
    "duration": 8,
    "start_time": "2025-05-11T23:30:58.998Z"
   },
   {
    "duration": 7,
    "start_time": "2025-05-11T23:30:59.008Z"
   },
   {
    "duration": 3,
    "start_time": "2025-05-11T23:30:59.016Z"
   },
   {
    "duration": 5,
    "start_time": "2025-05-11T23:30:59.020Z"
   },
   {
    "duration": 2,
    "start_time": "2025-05-11T23:30:59.029Z"
   },
   {
    "duration": 4,
    "start_time": "2025-05-11T23:30:59.032Z"
   },
   {
    "duration": 3,
    "start_time": "2025-05-11T23:30:59.037Z"
   },
   {
    "duration": 3,
    "start_time": "2025-05-11T23:30:59.042Z"
   },
   {
    "duration": 42,
    "start_time": "2025-05-11T23:30:59.046Z"
   },
   {
    "duration": 3,
    "start_time": "2025-05-11T23:30:59.090Z"
   },
   {
    "duration": 3,
    "start_time": "2025-05-11T23:30:59.094Z"
   },
   {
    "duration": 3,
    "start_time": "2025-05-11T23:30:59.098Z"
   },
   {
    "duration": 4,
    "start_time": "2025-05-11T23:30:59.103Z"
   },
   {
    "duration": 3,
    "start_time": "2025-05-11T23:30:59.109Z"
   },
   {
    "duration": 3,
    "start_time": "2025-05-11T23:30:59.113Z"
   },
   {
    "duration": 3,
    "start_time": "2025-05-11T23:30:59.118Z"
   },
   {
    "duration": 2,
    "start_time": "2025-05-11T23:30:59.123Z"
   },
   {
    "duration": 3,
    "start_time": "2025-05-11T23:30:59.127Z"
   },
   {
    "duration": 3,
    "start_time": "2025-05-11T23:30:59.132Z"
   },
   {
    "duration": 3,
    "start_time": "2025-05-11T23:30:59.136Z"
   },
   {
    "duration": 46,
    "start_time": "2025-05-11T23:30:59.141Z"
   },
   {
    "duration": 3,
    "start_time": "2025-05-11T23:30:59.189Z"
   },
   {
    "duration": 2,
    "start_time": "2025-05-11T23:30:59.196Z"
   },
   {
    "duration": 2,
    "start_time": "2025-05-11T23:30:59.200Z"
   },
   {
    "duration": 53,
    "start_time": "2025-05-11T23:31:33.342Z"
   },
   {
    "duration": 8,
    "start_time": "2025-05-11T23:31:40.874Z"
   },
   {
    "duration": 7,
    "start_time": "2025-05-11T23:31:58.570Z"
   },
   {
    "duration": 7,
    "start_time": "2025-05-11T23:32:11.084Z"
   },
   {
    "duration": 11,
    "start_time": "2025-05-11T23:32:35.251Z"
   },
   {
    "duration": 8,
    "start_time": "2025-05-11T23:32:58.509Z"
   },
   {
    "duration": 601,
    "start_time": "2025-05-11T23:33:52.823Z"
   },
   {
    "duration": 159,
    "start_time": "2025-05-11T23:33:53.426Z"
   },
   {
    "duration": 37,
    "start_time": "2025-05-11T23:33:53.587Z"
   },
   {
    "duration": 10,
    "start_time": "2025-05-11T23:33:53.626Z"
   },
   {
    "duration": 10,
    "start_time": "2025-05-11T23:33:53.638Z"
   },
   {
    "duration": 8,
    "start_time": "2025-05-11T23:33:53.650Z"
   },
   {
    "duration": 34,
    "start_time": "2025-05-11T23:33:53.659Z"
   },
   {
    "duration": 2,
    "start_time": "2025-05-11T23:33:53.694Z"
   },
   {
    "duration": 2,
    "start_time": "2025-05-11T23:33:53.698Z"
   },
   {
    "duration": 2,
    "start_time": "2025-05-11T23:33:53.703Z"
   },
   {
    "duration": 3,
    "start_time": "2025-05-11T23:33:53.707Z"
   },
   {
    "duration": 3,
    "start_time": "2025-05-11T23:33:53.711Z"
   },
   {
    "duration": 3,
    "start_time": "2025-05-11T23:33:53.716Z"
   },
   {
    "duration": 4,
    "start_time": "2025-05-11T23:33:53.720Z"
   },
   {
    "duration": 4,
    "start_time": "2025-05-11T23:33:53.725Z"
   },
   {
    "duration": 4,
    "start_time": "2025-05-11T23:33:53.730Z"
   },
   {
    "duration": 4,
    "start_time": "2025-05-11T23:33:53.735Z"
   },
   {
    "duration": 3,
    "start_time": "2025-05-11T23:33:53.741Z"
   },
   {
    "duration": 42,
    "start_time": "2025-05-11T23:33:53.746Z"
   },
   {
    "duration": 4,
    "start_time": "2025-05-11T23:33:53.790Z"
   },
   {
    "duration": 3,
    "start_time": "2025-05-11T23:33:53.796Z"
   },
   {
    "duration": 4,
    "start_time": "2025-05-11T23:33:53.800Z"
   },
   {
    "duration": 3,
    "start_time": "2025-05-11T23:33:53.805Z"
   },
   {
    "duration": 3,
    "start_time": "2025-05-11T23:33:53.810Z"
   },
   {
    "duration": 3,
    "start_time": "2025-05-11T23:33:53.814Z"
   },
   {
    "duration": 3,
    "start_time": "2025-05-11T23:33:53.819Z"
   },
   {
    "duration": 3,
    "start_time": "2025-05-11T23:33:53.824Z"
   },
   {
    "duration": 2,
    "start_time": "2025-05-11T23:33:53.830Z"
   },
   {
    "duration": 3,
    "start_time": "2025-05-11T23:33:53.833Z"
   },
   {
    "duration": 8,
    "start_time": "2025-05-11T23:34:09.114Z"
   },
   {
    "duration": 5,
    "start_time": "2025-05-11T23:34:49.345Z"
   },
   {
    "duration": 4,
    "start_time": "2025-05-11T23:35:17.195Z"
   },
   {
    "duration": 7,
    "start_time": "2025-05-11T23:35:29.699Z"
   },
   {
    "duration": 10,
    "start_time": "2025-05-11T23:36:14.228Z"
   },
   {
    "duration": 200,
    "start_time": "2025-05-11T23:36:35.639Z"
   },
   {
    "duration": 15,
    "start_time": "2025-05-11T23:36:39.644Z"
   },
   {
    "duration": 15,
    "start_time": "2025-05-11T23:36:52.412Z"
   },
   {
    "duration": 11,
    "start_time": "2025-05-11T23:37:08.177Z"
   },
   {
    "duration": 13,
    "start_time": "2025-05-11T23:37:55.014Z"
   },
   {
    "duration": 10,
    "start_time": "2025-05-11T23:38:15.981Z"
   },
   {
    "duration": 599,
    "start_time": "2025-05-11T23:39:20.531Z"
   },
   {
    "duration": 158,
    "start_time": "2025-05-11T23:39:21.132Z"
   },
   {
    "duration": 34,
    "start_time": "2025-05-11T23:39:21.291Z"
   },
   {
    "duration": 9,
    "start_time": "2025-05-11T23:39:21.328Z"
   },
   {
    "duration": 11,
    "start_time": "2025-05-11T23:39:21.339Z"
   },
   {
    "duration": 8,
    "start_time": "2025-05-11T23:39:21.351Z"
   },
   {
    "duration": 33,
    "start_time": "2025-05-11T23:39:21.360Z"
   },
   {
    "duration": 2,
    "start_time": "2025-05-11T23:39:21.394Z"
   },
   {
    "duration": 3,
    "start_time": "2025-05-11T23:39:21.398Z"
   },
   {
    "duration": 2,
    "start_time": "2025-05-11T23:39:21.404Z"
   },
   {
    "duration": 3,
    "start_time": "2025-05-11T23:39:21.408Z"
   },
   {
    "duration": 3,
    "start_time": "2025-05-11T23:39:21.413Z"
   },
   {
    "duration": 3,
    "start_time": "2025-05-11T23:39:21.418Z"
   },
   {
    "duration": 2,
    "start_time": "2025-05-11T23:39:21.423Z"
   },
   {
    "duration": 2,
    "start_time": "2025-05-11T23:39:21.427Z"
   },
   {
    "duration": 3,
    "start_time": "2025-05-11T23:39:21.431Z"
   },
   {
    "duration": 4,
    "start_time": "2025-05-11T23:39:21.435Z"
   },
   {
    "duration": 47,
    "start_time": "2025-05-11T23:39:21.440Z"
   },
   {
    "duration": 3,
    "start_time": "2025-05-11T23:39:21.488Z"
   },
   {
    "duration": 3,
    "start_time": "2025-05-11T23:39:21.493Z"
   },
   {
    "duration": 3,
    "start_time": "2025-05-11T23:39:21.498Z"
   },
   {
    "duration": 4,
    "start_time": "2025-05-11T23:39:21.502Z"
   },
   {
    "duration": 3,
    "start_time": "2025-05-11T23:39:21.507Z"
   },
   {
    "duration": 2,
    "start_time": "2025-05-11T23:39:21.513Z"
   },
   {
    "duration": 3,
    "start_time": "2025-05-11T23:39:21.517Z"
   },
   {
    "duration": 3,
    "start_time": "2025-05-11T23:39:21.522Z"
   },
   {
    "duration": 5,
    "start_time": "2025-05-11T23:39:21.527Z"
   },
   {
    "duration": 2,
    "start_time": "2025-05-11T23:39:21.537Z"
   },
   {
    "duration": 2,
    "start_time": "2025-05-11T23:39:21.542Z"
   },
   {
    "duration": 585,
    "start_time": "2025-05-11T23:39:36.835Z"
   },
   {
    "duration": 155,
    "start_time": "2025-05-11T23:39:37.422Z"
   },
   {
    "duration": 35,
    "start_time": "2025-05-11T23:39:37.579Z"
   },
   {
    "duration": 9,
    "start_time": "2025-05-11T23:39:37.617Z"
   },
   {
    "duration": 9,
    "start_time": "2025-05-11T23:39:37.629Z"
   },
   {
    "duration": 9,
    "start_time": "2025-05-11T23:39:37.639Z"
   },
   {
    "duration": 12,
    "start_time": "2025-05-11T23:39:37.649Z"
   },
   {
    "duration": 3,
    "start_time": "2025-05-11T23:39:37.687Z"
   },
   {
    "duration": 2,
    "start_time": "2025-05-11T23:39:37.692Z"
   },
   {
    "duration": 2,
    "start_time": "2025-05-11T23:39:37.697Z"
   },
   {
    "duration": 3,
    "start_time": "2025-05-11T23:39:37.701Z"
   },
   {
    "duration": 3,
    "start_time": "2025-05-11T23:39:37.705Z"
   },
   {
    "duration": 3,
    "start_time": "2025-05-11T23:39:37.710Z"
   },
   {
    "duration": 3,
    "start_time": "2025-05-11T23:39:37.715Z"
   },
   {
    "duration": 3,
    "start_time": "2025-05-11T23:39:37.719Z"
   },
   {
    "duration": 2,
    "start_time": "2025-05-11T23:39:37.724Z"
   },
   {
    "duration": 3,
    "start_time": "2025-05-11T23:39:37.728Z"
   },
   {
    "duration": 3,
    "start_time": "2025-05-11T23:39:37.732Z"
   },
   {
    "duration": 3,
    "start_time": "2025-05-11T23:39:37.737Z"
   },
   {
    "duration": 44,
    "start_time": "2025-05-11T23:39:37.742Z"
   },
   {
    "duration": 2,
    "start_time": "2025-05-11T23:39:37.788Z"
   },
   {
    "duration": 3,
    "start_time": "2025-05-11T23:39:37.792Z"
   },
   {
    "duration": 2,
    "start_time": "2025-05-11T23:39:37.797Z"
   },
   {
    "duration": 4,
    "start_time": "2025-05-11T23:39:37.801Z"
   },
   {
    "duration": 3,
    "start_time": "2025-05-11T23:39:37.806Z"
   },
   {
    "duration": 3,
    "start_time": "2025-05-11T23:39:37.811Z"
   },
   {
    "duration": 4,
    "start_time": "2025-05-11T23:39:37.815Z"
   },
   {
    "duration": 1,
    "start_time": "2025-05-11T23:39:37.823Z"
   },
   {
    "duration": 3,
    "start_time": "2025-05-11T23:39:37.826Z"
   },
   {
    "duration": 32,
    "start_time": "2025-05-11T23:40:10.020Z"
   },
   {
    "duration": 31,
    "start_time": "2025-05-11T23:40:28.168Z"
   },
   {
    "duration": 549,
    "start_time": "2025-05-11T23:40:39.579Z"
   },
   {
    "duration": 158,
    "start_time": "2025-05-11T23:40:40.131Z"
   },
   {
    "duration": 48,
    "start_time": "2025-05-11T23:40:40.290Z"
   },
   {
    "duration": 8,
    "start_time": "2025-05-11T23:40:40.341Z"
   },
   {
    "duration": 9,
    "start_time": "2025-05-11T23:40:40.350Z"
   },
   {
    "duration": 27,
    "start_time": "2025-05-11T23:40:40.360Z"
   },
   {
    "duration": 13,
    "start_time": "2025-05-11T23:40:40.389Z"
   },
   {
    "duration": 2,
    "start_time": "2025-05-11T23:40:40.404Z"
   },
   {
    "duration": 2,
    "start_time": "2025-05-11T23:40:40.408Z"
   },
   {
    "duration": 3,
    "start_time": "2025-05-11T23:40:40.413Z"
   },
   {
    "duration": 3,
    "start_time": "2025-05-11T23:40:40.417Z"
   },
   {
    "duration": 2,
    "start_time": "2025-05-11T23:40:40.422Z"
   },
   {
    "duration": 3,
    "start_time": "2025-05-11T23:40:40.426Z"
   },
   {
    "duration": 3,
    "start_time": "2025-05-11T23:40:40.430Z"
   },
   {
    "duration": 2,
    "start_time": "2025-05-11T23:40:40.436Z"
   },
   {
    "duration": 4,
    "start_time": "2025-05-11T23:40:40.439Z"
   },
   {
    "duration": 55,
    "start_time": "2025-05-11T23:40:40.444Z"
   },
   {
    "duration": 4,
    "start_time": "2025-05-11T23:40:40.507Z"
   },
   {
    "duration": 3,
    "start_time": "2025-05-11T23:40:40.513Z"
   },
   {
    "duration": 2,
    "start_time": "2025-05-11T23:40:40.519Z"
   },
   {
    "duration": 3,
    "start_time": "2025-05-11T23:40:40.523Z"
   },
   {
    "duration": 3,
    "start_time": "2025-05-11T23:40:40.527Z"
   },
   {
    "duration": 3,
    "start_time": "2025-05-11T23:40:40.532Z"
   },
   {
    "duration": 4,
    "start_time": "2025-05-11T23:40:40.537Z"
   },
   {
    "duration": 3,
    "start_time": "2025-05-11T23:40:40.542Z"
   },
   {
    "duration": 3,
    "start_time": "2025-05-11T23:40:40.547Z"
   },
   {
    "duration": 3,
    "start_time": "2025-05-11T23:40:40.552Z"
   },
   {
    "duration": 2,
    "start_time": "2025-05-11T23:40:40.558Z"
   },
   {
    "duration": 2,
    "start_time": "2025-05-11T23:40:40.562Z"
   },
   {
    "duration": 69,
    "start_time": "2025-05-11T23:41:03.733Z"
   },
   {
    "duration": 158,
    "start_time": "2025-05-11T23:43:31.134Z"
   },
   {
    "duration": 606,
    "start_time": "2025-05-11T23:43:42.215Z"
   },
   {
    "duration": 154,
    "start_time": "2025-05-11T23:43:42.824Z"
   },
   {
    "duration": 50,
    "start_time": "2025-05-11T23:43:42.980Z"
   },
   {
    "duration": 9,
    "start_time": "2025-05-11T23:43:43.032Z"
   },
   {
    "duration": 7,
    "start_time": "2025-05-11T23:43:43.043Z"
   },
   {
    "duration": 8,
    "start_time": "2025-05-11T23:43:43.052Z"
   },
   {
    "duration": 37,
    "start_time": "2025-05-11T23:43:43.061Z"
   },
   {
    "duration": 2,
    "start_time": "2025-05-11T23:43:43.100Z"
   },
   {
    "duration": 4,
    "start_time": "2025-05-11T23:43:43.104Z"
   },
   {
    "duration": 3,
    "start_time": "2025-05-11T23:43:43.111Z"
   },
   {
    "duration": 3,
    "start_time": "2025-05-11T23:43:43.116Z"
   },
   {
    "duration": 3,
    "start_time": "2025-05-11T23:43:43.120Z"
   },
   {
    "duration": 3,
    "start_time": "2025-05-11T23:43:43.125Z"
   },
   {
    "duration": 9,
    "start_time": "2025-05-11T23:43:43.130Z"
   },
   {
    "duration": 2,
    "start_time": "2025-05-11T23:43:43.141Z"
   },
   {
    "duration": 3,
    "start_time": "2025-05-11T23:43:43.145Z"
   },
   {
    "duration": 3,
    "start_time": "2025-05-11T23:43:43.150Z"
   },
   {
    "duration": 35,
    "start_time": "2025-05-11T23:43:43.154Z"
   },
   {
    "duration": 3,
    "start_time": "2025-05-11T23:43:43.191Z"
   },
   {
    "duration": 2,
    "start_time": "2025-05-11T23:43:43.196Z"
   },
   {
    "duration": 3,
    "start_time": "2025-05-11T23:43:43.200Z"
   },
   {
    "duration": 3,
    "start_time": "2025-05-11T23:43:43.204Z"
   },
   {
    "duration": 3,
    "start_time": "2025-05-11T23:43:43.209Z"
   },
   {
    "duration": 4,
    "start_time": "2025-05-11T23:43:43.213Z"
   },
   {
    "duration": 3,
    "start_time": "2025-05-11T23:43:43.218Z"
   },
   {
    "duration": 3,
    "start_time": "2025-05-11T23:43:43.223Z"
   },
   {
    "duration": 2,
    "start_time": "2025-05-11T23:43:43.228Z"
   },
   {
    "duration": 1,
    "start_time": "2025-05-11T23:43:43.235Z"
   },
   {
    "duration": 3,
    "start_time": "2025-05-11T23:43:43.238Z"
   },
   {
    "duration": 55,
    "start_time": "2025-05-11T23:44:58.642Z"
   },
   {
    "duration": 542,
    "start_time": "2025-05-11T23:45:04.382Z"
   },
   {
    "duration": 158,
    "start_time": "2025-05-11T23:45:04.926Z"
   },
   {
    "duration": 35,
    "start_time": "2025-05-11T23:45:05.085Z"
   },
   {
    "duration": 10,
    "start_time": "2025-05-11T23:45:05.122Z"
   },
   {
    "duration": 10,
    "start_time": "2025-05-11T23:45:05.134Z"
   },
   {
    "duration": 8,
    "start_time": "2025-05-11T23:45:05.146Z"
   },
   {
    "duration": 38,
    "start_time": "2025-05-11T23:45:05.156Z"
   },
   {
    "duration": 2,
    "start_time": "2025-05-11T23:45:05.195Z"
   },
   {
    "duration": 2,
    "start_time": "2025-05-11T23:45:05.199Z"
   },
   {
    "duration": 2,
    "start_time": "2025-05-11T23:45:05.205Z"
   },
   {
    "duration": 4,
    "start_time": "2025-05-11T23:45:05.208Z"
   },
   {
    "duration": 4,
    "start_time": "2025-05-11T23:45:05.213Z"
   },
   {
    "duration": 3,
    "start_time": "2025-05-11T23:45:05.218Z"
   },
   {
    "duration": 4,
    "start_time": "2025-05-11T23:45:05.222Z"
   },
   {
    "duration": 4,
    "start_time": "2025-05-11T23:45:05.227Z"
   },
   {
    "duration": 3,
    "start_time": "2025-05-11T23:45:05.232Z"
   },
   {
    "duration": 3,
    "start_time": "2025-05-11T23:45:05.237Z"
   },
   {
    "duration": 3,
    "start_time": "2025-05-11T23:45:05.242Z"
   },
   {
    "duration": 41,
    "start_time": "2025-05-11T23:45:05.246Z"
   },
   {
    "duration": 4,
    "start_time": "2025-05-11T23:45:05.288Z"
   },
   {
    "duration": 3,
    "start_time": "2025-05-11T23:45:05.293Z"
   },
   {
    "duration": 3,
    "start_time": "2025-05-11T23:45:05.298Z"
   },
   {
    "duration": 4,
    "start_time": "2025-05-11T23:45:05.302Z"
   },
   {
    "duration": 4,
    "start_time": "2025-05-11T23:45:05.307Z"
   },
   {
    "duration": 3,
    "start_time": "2025-05-11T23:45:05.312Z"
   },
   {
    "duration": 3,
    "start_time": "2025-05-11T23:45:05.316Z"
   },
   {
    "duration": 4,
    "start_time": "2025-05-11T23:45:05.320Z"
   },
   {
    "duration": 2,
    "start_time": "2025-05-11T23:45:05.327Z"
   },
   {
    "duration": 3,
    "start_time": "2025-05-11T23:45:05.331Z"
   },
   {
    "duration": 202,
    "start_time": "2025-05-11T23:51:25.183Z"
   },
   {
    "duration": 4,
    "start_time": "2025-05-11T23:51:32.791Z"
   },
   {
    "duration": 9,
    "start_time": "2025-05-11T23:51:43.550Z"
   },
   {
    "duration": 637,
    "start_time": "2025-05-12T02:20:47.287Z"
   },
   {
    "duration": 212,
    "start_time": "2025-05-12T02:20:47.926Z"
   },
   {
    "duration": 35,
    "start_time": "2025-05-12T02:20:48.140Z"
   },
   {
    "duration": 9,
    "start_time": "2025-05-12T02:20:48.178Z"
   },
   {
    "duration": 12,
    "start_time": "2025-05-12T02:20:48.189Z"
   },
   {
    "duration": 8,
    "start_time": "2025-05-12T02:20:48.203Z"
   },
   {
    "duration": 11,
    "start_time": "2025-05-12T02:20:48.213Z"
   },
   {
    "duration": 9,
    "start_time": "2025-05-12T02:20:48.226Z"
   },
   {
    "duration": 3,
    "start_time": "2025-05-12T02:20:48.237Z"
   },
   {
    "duration": 2,
    "start_time": "2025-05-12T02:20:48.244Z"
   },
   {
    "duration": 2,
    "start_time": "2025-05-12T02:20:48.286Z"
   },
   {
    "duration": 3,
    "start_time": "2025-05-12T02:20:48.290Z"
   },
   {
    "duration": 3,
    "start_time": "2025-05-12T02:20:48.295Z"
   },
   {
    "duration": 4,
    "start_time": "2025-05-12T02:20:48.299Z"
   },
   {
    "duration": 4,
    "start_time": "2025-05-12T02:20:48.304Z"
   },
   {
    "duration": 2,
    "start_time": "2025-05-12T02:20:48.310Z"
   },
   {
    "duration": 3,
    "start_time": "2025-05-12T02:20:48.314Z"
   },
   {
    "duration": 5,
    "start_time": "2025-05-12T02:20:48.318Z"
   },
   {
    "duration": 4,
    "start_time": "2025-05-12T02:20:48.324Z"
   },
   {
    "duration": 3,
    "start_time": "2025-05-12T02:20:48.329Z"
   },
   {
    "duration": 3,
    "start_time": "2025-05-12T02:20:48.334Z"
   },
   {
    "duration": 3,
    "start_time": "2025-05-12T02:20:48.339Z"
   },
   {
    "duration": 3,
    "start_time": "2025-05-12T02:20:48.343Z"
   },
   {
    "duration": 38,
    "start_time": "2025-05-12T02:20:48.348Z"
   },
   {
    "duration": 2,
    "start_time": "2025-05-12T02:20:48.388Z"
   },
   {
    "duration": 4,
    "start_time": "2025-05-12T02:20:48.391Z"
   },
   {
    "duration": 3,
    "start_time": "2025-05-12T02:20:48.396Z"
   },
   {
    "duration": 3,
    "start_time": "2025-05-12T02:20:48.402Z"
   },
   {
    "duration": 3,
    "start_time": "2025-05-12T02:20:48.406Z"
   },
   {
    "duration": 3,
    "start_time": "2025-05-12T02:20:48.411Z"
   },
   {
    "duration": 10,
    "start_time": "2025-05-12T02:21:26.676Z"
   },
   {
    "duration": 8,
    "start_time": "2025-05-12T02:21:41.948Z"
   },
   {
    "duration": 585,
    "start_time": "2025-05-12T02:21:51.439Z"
   },
   {
    "duration": 172,
    "start_time": "2025-05-12T02:21:52.027Z"
   },
   {
    "duration": 35,
    "start_time": "2025-05-12T02:21:52.201Z"
   },
   {
    "duration": 9,
    "start_time": "2025-05-12T02:21:52.239Z"
   },
   {
    "duration": 11,
    "start_time": "2025-05-12T02:21:52.250Z"
   },
   {
    "duration": 30,
    "start_time": "2025-05-12T02:21:52.263Z"
   },
   {
    "duration": 13,
    "start_time": "2025-05-12T02:21:52.294Z"
   },
   {
    "duration": 6,
    "start_time": "2025-05-12T02:21:52.308Z"
   },
   {
    "duration": 3,
    "start_time": "2025-05-12T02:21:52.316Z"
   },
   {
    "duration": 1,
    "start_time": "2025-05-12T02:21:52.323Z"
   },
   {
    "duration": 3,
    "start_time": "2025-05-12T02:21:52.326Z"
   },
   {
    "duration": 2,
    "start_time": "2025-05-12T02:21:52.331Z"
   },
   {
    "duration": 3,
    "start_time": "2025-05-12T02:21:52.335Z"
   },
   {
    "duration": 3,
    "start_time": "2025-05-12T02:21:52.340Z"
   },
   {
    "duration": 42,
    "start_time": "2025-05-12T02:21:52.345Z"
   },
   {
    "duration": 2,
    "start_time": "2025-05-12T02:21:52.391Z"
   },
   {
    "duration": 3,
    "start_time": "2025-05-12T02:21:52.394Z"
   },
   {
    "duration": 3,
    "start_time": "2025-05-12T02:21:52.399Z"
   },
   {
    "duration": 4,
    "start_time": "2025-05-12T02:21:52.403Z"
   },
   {
    "duration": 4,
    "start_time": "2025-05-12T02:21:52.409Z"
   },
   {
    "duration": 3,
    "start_time": "2025-05-12T02:21:52.415Z"
   },
   {
    "duration": 2,
    "start_time": "2025-05-12T02:21:52.421Z"
   },
   {
    "duration": 4,
    "start_time": "2025-05-12T02:21:52.425Z"
   },
   {
    "duration": 3,
    "start_time": "2025-05-12T02:21:52.430Z"
   },
   {
    "duration": 4,
    "start_time": "2025-05-12T02:21:52.435Z"
   },
   {
    "duration": 3,
    "start_time": "2025-05-12T02:21:52.441Z"
   },
   {
    "duration": 3,
    "start_time": "2025-05-12T02:21:52.445Z"
   },
   {
    "duration": 2,
    "start_time": "2025-05-12T02:21:52.489Z"
   },
   {
    "duration": 3,
    "start_time": "2025-05-12T02:21:52.493Z"
   },
   {
    "duration": 3,
    "start_time": "2025-05-12T02:21:52.498Z"
   },
   {
    "duration": 10,
    "start_time": "2025-05-12T02:22:20.565Z"
   },
   {
    "duration": 12,
    "start_time": "2025-05-12T02:23:25.132Z"
   },
   {
    "duration": 12,
    "start_time": "2025-05-12T02:26:43.452Z"
   },
   {
    "duration": 12,
    "start_time": "2025-05-12T02:27:00.478Z"
   },
   {
    "duration": 11,
    "start_time": "2025-05-12T02:27:58.280Z"
   },
   {
    "duration": 8,
    "start_time": "2025-05-12T02:28:33.254Z"
   },
   {
    "duration": 11,
    "start_time": "2025-05-12T02:28:39.897Z"
   },
   {
    "duration": 11,
    "start_time": "2025-05-12T02:29:05.593Z"
   },
   {
    "duration": 20,
    "start_time": "2025-05-12T02:55:41.447Z"
   },
   {
    "duration": 5,
    "start_time": "2025-05-12T02:55:50.950Z"
   },
   {
    "duration": 4,
    "start_time": "2025-05-12T02:55:55.730Z"
   }
  ],
  "colab": {
   "provenance": []
  },
  "kernelspec": {
   "display_name": "Python 3 (ipykernel)",
   "language": "python",
   "name": "python3"
  },
  "language_info": {
   "codemirror_mode": {
    "name": "ipython",
    "version": 3
   },
   "file_extension": ".py",
   "mimetype": "text/x-python",
   "name": "python",
   "nbconvert_exporter": "python",
   "pygments_lexer": "ipython3",
   "version": "3.9.22"
  },
  "toc": {
   "base_numbering": 1,
   "nav_menu": {},
   "number_sections": true,
   "sideBar": true,
   "skip_h1_title": false,
   "title_cell": "Table of Contents",
   "title_sidebar": "Contents",
   "toc_cell": false,
   "toc_position": {},
   "toc_section_display": true,
   "toc_window_display": true
  }
 },
 "nbformat": 4,
 "nbformat_minor": 4
}
