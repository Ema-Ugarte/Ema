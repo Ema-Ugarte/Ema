{
 "cells": [
  {
   "cell_type": "markdown",
   "metadata": {},
   "source": [
    "¡Hola, Emanuel!\n",
    "\n",
    "Mi nombre es Tonatiuh Cruz. Me complace revisar tu proyecto hoy.\n",
    "\n",
    "Al identificar cualquier error inicialmente, simplemente los destacaré. Te animo a localizar y abordar los problemas de forma independiente como parte de tu preparación para un rol como data-analyst. En un entorno profesional, tu líder de equipo seguiría un enfoque similar. Si encuentras la tarea desafiante, proporcionaré una pista más específica en la próxima iteración.\n",
    "\n",
    "Encontrarás mis comentarios a continuación - **por favor no los muevas, modifiques o elimines**.\n",
    "\n",
    "Puedes encontrar mis comentarios en cajas verdes, amarillas o rojas como esta:\n",
    "\n",
    "<div class=\"alert alert-block alert-success\">\n",
    "<b>Comentario del revisor</b> <a class=\"tocSkip\"></a>\n",
    "\n",
    "Éxito. Todo está hecho correctamente.\n",
    "</div>\n",
    "\n",
    "<div class=\"alert alert-block alert-warning\">\n",
    "<b>Comentario del revisor</b> <a class=\"tocSkip\"></a>\n",
    "\n",
    "Observaciones. Algunas recomendaciones.\n",
    "</div>\n",
    "\n",
    "<div class=\"alert alert-block alert-danger\">\n",
    "<b>Comentario del revisor</b> <a class=\"tocSkip\"></a>\n",
    "\n",
    "Necesita corrección. El bloque requiere algunas correcciones. El trabajo no puede ser aceptado con comentarios en rojo.\n",
    "</div>\n",
    "\n",
    "Puedes responderme utilizando esto: \n",
    "\n",
    "<div class=\"alert alert-block alert-info\">\n",
    "<b>Comentario del alumno</b> <a class=\"tocSkip\"></a>"
   ]
  },
  {
   "cell_type": "markdown",
   "metadata": {},
   "source": [
    "<div class=\"alert alert-block alert-success\">\n",
    "<b>Resumen de la revisión 1</b> <a class=\"tocSkip\"></a>\n",
    "\n",
    "Hola Emanuel! Has hecho un excelente trabajo con los ajustes, cada vez más cercas de convertirte en un analista de datos. Realizaste la carga de bases, su análisis inicial, sus ajustes, un análisis de algunos variables conmplementado con gráficas y el desarrollo de las pruebas de hipótesis. Solamente te dejo algunos comentarios para complementar el análisis. \n",
    "\n",
    "Sigue con el excelente trabajo!\n",
    "</div>"
   ]
  },
  {
   "cell_type": "markdown",
   "metadata": {},
   "source": [
    "# **1.- Importando todas las librerías**\n",
    "#### **Y preparando el archivo \"/datasets/games.csv\"**"
   ]
  },
  {
   "cell_type": "code",
   "execution_count": 1,
   "metadata": {
    "tags": [
     "e5c1f0c2-db9f-43a0-99b9-4875c52427e8"
    ]
   },
   "outputs": [],
   "source": [
    "import pandas as pd\n",
    "import numpy as np\n",
    "from math import factorial\n",
    "from scipy import stats as st\n",
    "import math as mt\n",
    "from matplotlib import pyplot as plt\n",
    "import seaborn as sns\n",
    "from scipy.stats import ttest_ind, levene"
   ]
  },
  {
   "cell_type": "code",
   "execution_count": 2,
   "metadata": {},
   "outputs": [
    {
     "data": {
      "text/html": [
       "<div>\n",
       "<style scoped>\n",
       "    .dataframe tbody tr th:only-of-type {\n",
       "        vertical-align: middle;\n",
       "    }\n",
       "\n",
       "    .dataframe tbody tr th {\n",
       "        vertical-align: top;\n",
       "    }\n",
       "\n",
       "    .dataframe thead th {\n",
       "        text-align: right;\n",
       "    }\n",
       "</style>\n",
       "<table border=\"1\" class=\"dataframe\">\n",
       "  <thead>\n",
       "    <tr style=\"text-align: right;\">\n",
       "      <th></th>\n",
       "      <th>Name</th>\n",
       "      <th>Platform</th>\n",
       "      <th>Year_of_Release</th>\n",
       "      <th>Genre</th>\n",
       "      <th>NA_sales</th>\n",
       "      <th>EU_sales</th>\n",
       "      <th>JP_sales</th>\n",
       "      <th>Other_sales</th>\n",
       "      <th>Critic_Score</th>\n",
       "      <th>User_Score</th>\n",
       "      <th>Rating</th>\n",
       "    </tr>\n",
       "  </thead>\n",
       "  <tbody>\n",
       "    <tr>\n",
       "      <th>0</th>\n",
       "      <td>Wii Sports</td>\n",
       "      <td>Wii</td>\n",
       "      <td>2006.0</td>\n",
       "      <td>Sports</td>\n",
       "      <td>41.36</td>\n",
       "      <td>28.96</td>\n",
       "      <td>3.77</td>\n",
       "      <td>8.45</td>\n",
       "      <td>76.0</td>\n",
       "      <td>8</td>\n",
       "      <td>E</td>\n",
       "    </tr>\n",
       "    <tr>\n",
       "      <th>1</th>\n",
       "      <td>Super Mario Bros.</td>\n",
       "      <td>NES</td>\n",
       "      <td>1985.0</td>\n",
       "      <td>Platform</td>\n",
       "      <td>29.08</td>\n",
       "      <td>3.58</td>\n",
       "      <td>6.81</td>\n",
       "      <td>0.77</td>\n",
       "      <td>NaN</td>\n",
       "      <td>NaN</td>\n",
       "      <td>NaN</td>\n",
       "    </tr>\n",
       "    <tr>\n",
       "      <th>2</th>\n",
       "      <td>Mario Kart Wii</td>\n",
       "      <td>Wii</td>\n",
       "      <td>2008.0</td>\n",
       "      <td>Racing</td>\n",
       "      <td>15.68</td>\n",
       "      <td>12.76</td>\n",
       "      <td>3.79</td>\n",
       "      <td>3.29</td>\n",
       "      <td>82.0</td>\n",
       "      <td>8.3</td>\n",
       "      <td>E</td>\n",
       "    </tr>\n",
       "    <tr>\n",
       "      <th>3</th>\n",
       "      <td>Wii Sports Resort</td>\n",
       "      <td>Wii</td>\n",
       "      <td>2009.0</td>\n",
       "      <td>Sports</td>\n",
       "      <td>15.61</td>\n",
       "      <td>10.93</td>\n",
       "      <td>3.28</td>\n",
       "      <td>2.95</td>\n",
       "      <td>80.0</td>\n",
       "      <td>8</td>\n",
       "      <td>E</td>\n",
       "    </tr>\n",
       "    <tr>\n",
       "      <th>4</th>\n",
       "      <td>Pokemon Red/Pokemon Blue</td>\n",
       "      <td>GB</td>\n",
       "      <td>1996.0</td>\n",
       "      <td>Role-Playing</td>\n",
       "      <td>11.27</td>\n",
       "      <td>8.89</td>\n",
       "      <td>10.22</td>\n",
       "      <td>1.00</td>\n",
       "      <td>NaN</td>\n",
       "      <td>NaN</td>\n",
       "      <td>NaN</td>\n",
       "    </tr>\n",
       "  </tbody>\n",
       "</table>\n",
       "</div>"
      ],
      "text/plain": [
       "                       Name Platform  Year_of_Release         Genre  NA_sales  \\\n",
       "0                Wii Sports      Wii           2006.0        Sports     41.36   \n",
       "1         Super Mario Bros.      NES           1985.0      Platform     29.08   \n",
       "2            Mario Kart Wii      Wii           2008.0        Racing     15.68   \n",
       "3         Wii Sports Resort      Wii           2009.0        Sports     15.61   \n",
       "4  Pokemon Red/Pokemon Blue       GB           1996.0  Role-Playing     11.27   \n",
       "\n",
       "   EU_sales  JP_sales  Other_sales  Critic_Score User_Score Rating  \n",
       "0     28.96      3.77         8.45          76.0          8      E  \n",
       "1      3.58      6.81         0.77           NaN        NaN    NaN  \n",
       "2     12.76      3.79         3.29          82.0        8.3      E  \n",
       "3     10.93      3.28         2.95          80.0          8      E  \n",
       "4      8.89     10.22         1.00           NaN        NaN    NaN  "
      ]
     },
     "execution_count": 2,
     "metadata": {},
     "output_type": "execute_result"
    }
   ],
   "source": [
    "df_games = pd.read_csv(\"/datasets/games.csv\")\n",
    "\n",
    "df_games.head()"
   ]
  },
  {
   "cell_type": "markdown",
   "metadata": {},
   "source": [
    "<div class=\"alert alert-block alert-success\">\n",
    "<b>Comentario del revisor:</b> <a class=\"tocSkip\"></a>\n",
    "    \n",
    "Has realizado un excelente trabajo al importar los datos y las bibliotecas necesarias.\n",
    "\n",
    "</div>"
   ]
  },
  {
   "cell_type": "markdown",
   "metadata": {},
   "source": [
    "# 1.1 Dando un vistazo general al dataset"
   ]
  },
  {
   "cell_type": "code",
   "execution_count": 3,
   "metadata": {},
   "outputs": [
    {
     "name": "stdout",
     "output_type": "stream",
     "text": [
      "<class 'pandas.core.frame.DataFrame'>\n",
      "RangeIndex: 16715 entries, 0 to 16714\n",
      "Data columns (total 11 columns):\n",
      " #   Column           Non-Null Count  Dtype  \n",
      "---  ------           --------------  -----  \n",
      " 0   Name             16713 non-null  object \n",
      " 1   Platform         16715 non-null  object \n",
      " 2   Year_of_Release  16446 non-null  float64\n",
      " 3   Genre            16713 non-null  object \n",
      " 4   NA_sales         16715 non-null  float64\n",
      " 5   EU_sales         16715 non-null  float64\n",
      " 6   JP_sales         16715 non-null  float64\n",
      " 7   Other_sales      16715 non-null  float64\n",
      " 8   Critic_Score     8137 non-null   float64\n",
      " 9   User_Score       10014 non-null  object \n",
      " 10  Rating           9949 non-null   object \n",
      "dtypes: float64(6), object(5)\n",
      "memory usage: 1.4+ MB\n"
     ]
    }
   ],
   "source": [
    "df_games.info()"
   ]
  },
  {
   "cell_type": "markdown",
   "metadata": {},
   "source": [
    "**Como primer paso preparamos las librerias y cargamos el dataset.**\n",
    "\n",
    "**Despues imprimimos las primeras 5 filas y mostramos su informacion general para tener un mejor panorama del dataset.**"
   ]
  },
  {
   "cell_type": "markdown",
   "metadata": {},
   "source": [
    "# 1.2 Remplazo de nombres y conversion a los datos necesarios en el dataset"
   ]
  },
  {
   "cell_type": "code",
   "execution_count": 4,
   "metadata": {},
   "outputs": [],
   "source": [
    "New_name_columns = {\"Name\": \"name\",\n",
    "                   \"Platform\": \"platform\",\n",
    "                   \"Year_of_Release\": \"year_of_release\",\n",
    "                   \"Genre\": \"genre\",\n",
    "                   \"NA_sales\": \"na_sales\",\n",
    "                   \"EU_sales\": \"eu_sales\",\n",
    "                   \"JP_sales\": \"jp_sales\",\n",
    "                   \"Other_sales\": \"other_sales\",\n",
    "                   \"Critic_Score\": \"critic_score\",\n",
    "                   \"User_Score\": \"user_score\",\n",
    "                   \"Rating\": \"rating\"}\n",
    "\n",
    "df_games.rename(columns= New_name_columns, inplace=True)\n",
    "\n"
   ]
  },
  {
   "cell_type": "code",
   "execution_count": 5,
   "metadata": {},
   "outputs": [
    {
     "data": {
      "text/html": [
       "<div>\n",
       "<style scoped>\n",
       "    .dataframe tbody tr th:only-of-type {\n",
       "        vertical-align: middle;\n",
       "    }\n",
       "\n",
       "    .dataframe tbody tr th {\n",
       "        vertical-align: top;\n",
       "    }\n",
       "\n",
       "    .dataframe thead th {\n",
       "        text-align: right;\n",
       "    }\n",
       "</style>\n",
       "<table border=\"1\" class=\"dataframe\">\n",
       "  <thead>\n",
       "    <tr style=\"text-align: right;\">\n",
       "      <th></th>\n",
       "      <th>name</th>\n",
       "      <th>platform</th>\n",
       "      <th>year_of_release</th>\n",
       "      <th>genre</th>\n",
       "      <th>na_sales</th>\n",
       "      <th>eu_sales</th>\n",
       "      <th>jp_sales</th>\n",
       "      <th>other_sales</th>\n",
       "      <th>critic_score</th>\n",
       "      <th>user_score</th>\n",
       "      <th>rating</th>\n",
       "    </tr>\n",
       "  </thead>\n",
       "  <tbody>\n",
       "    <tr>\n",
       "      <th>0</th>\n",
       "      <td>Wii Sports</td>\n",
       "      <td>Wii</td>\n",
       "      <td>2006.0</td>\n",
       "      <td>Sports</td>\n",
       "      <td>41.36</td>\n",
       "      <td>28.96</td>\n",
       "      <td>3.77</td>\n",
       "      <td>8.45</td>\n",
       "      <td>76.0</td>\n",
       "      <td>8</td>\n",
       "      <td>E</td>\n",
       "    </tr>\n",
       "    <tr>\n",
       "      <th>1</th>\n",
       "      <td>Super Mario Bros.</td>\n",
       "      <td>NES</td>\n",
       "      <td>1985.0</td>\n",
       "      <td>Platform</td>\n",
       "      <td>29.08</td>\n",
       "      <td>3.58</td>\n",
       "      <td>6.81</td>\n",
       "      <td>0.77</td>\n",
       "      <td>NaN</td>\n",
       "      <td>NaN</td>\n",
       "      <td>NaN</td>\n",
       "    </tr>\n",
       "    <tr>\n",
       "      <th>2</th>\n",
       "      <td>Mario Kart Wii</td>\n",
       "      <td>Wii</td>\n",
       "      <td>2008.0</td>\n",
       "      <td>Racing</td>\n",
       "      <td>15.68</td>\n",
       "      <td>12.76</td>\n",
       "      <td>3.79</td>\n",
       "      <td>3.29</td>\n",
       "      <td>82.0</td>\n",
       "      <td>8.3</td>\n",
       "      <td>E</td>\n",
       "    </tr>\n",
       "    <tr>\n",
       "      <th>3</th>\n",
       "      <td>Wii Sports Resort</td>\n",
       "      <td>Wii</td>\n",
       "      <td>2009.0</td>\n",
       "      <td>Sports</td>\n",
       "      <td>15.61</td>\n",
       "      <td>10.93</td>\n",
       "      <td>3.28</td>\n",
       "      <td>2.95</td>\n",
       "      <td>80.0</td>\n",
       "      <td>8</td>\n",
       "      <td>E</td>\n",
       "    </tr>\n",
       "    <tr>\n",
       "      <th>4</th>\n",
       "      <td>Pokemon Red/Pokemon Blue</td>\n",
       "      <td>GB</td>\n",
       "      <td>1996.0</td>\n",
       "      <td>Role-Playing</td>\n",
       "      <td>11.27</td>\n",
       "      <td>8.89</td>\n",
       "      <td>10.22</td>\n",
       "      <td>1.00</td>\n",
       "      <td>NaN</td>\n",
       "      <td>NaN</td>\n",
       "      <td>NaN</td>\n",
       "    </tr>\n",
       "  </tbody>\n",
       "</table>\n",
       "</div>"
      ],
      "text/plain": [
       "                       name platform  year_of_release         genre  na_sales  \\\n",
       "0                Wii Sports      Wii           2006.0        Sports     41.36   \n",
       "1         Super Mario Bros.      NES           1985.0      Platform     29.08   \n",
       "2            Mario Kart Wii      Wii           2008.0        Racing     15.68   \n",
       "3         Wii Sports Resort      Wii           2009.0        Sports     15.61   \n",
       "4  Pokemon Red/Pokemon Blue       GB           1996.0  Role-Playing     11.27   \n",
       "\n",
       "   eu_sales  jp_sales  other_sales  critic_score user_score rating  \n",
       "0     28.96      3.77         8.45          76.0          8      E  \n",
       "1      3.58      6.81         0.77           NaN        NaN    NaN  \n",
       "2     12.76      3.79         3.29          82.0        8.3      E  \n",
       "3     10.93      3.28         2.95          80.0          8      E  \n",
       "4      8.89     10.22         1.00           NaN        NaN    NaN  "
      ]
     },
     "execution_count": 5,
     "metadata": {},
     "output_type": "execute_result"
    }
   ],
   "source": [
    "df_games.head()"
   ]
  },
  {
   "cell_type": "code",
   "execution_count": 6,
   "metadata": {},
   "outputs": [],
   "source": [
    "df_games[\"year_of_release\"] = df_games['year_of_release'].fillna(2007) #Cambiamos los valores ausentes en la columna year_of por 2007  \n",
    "df_games['year_of_release'] = df_games['year_of_release'].astype(\"int\")\n",
    "\n",
    "df_games[\"name\"] = df_games['name'].fillna(\"Unknown\")\n",
    "\n",
    "df_games['critic_score'] = df_games['critic_score'].fillna(71)\n",
    "df_games['critic_score'] = df_games['critic_score'].astype(\"int\")\n",
    "\n",
    "df_games['genre'] = df_games['genre'].fillna(\"Unknown\")\n",
    "\n",
    "df_games['rating'] = df_games['rating'].fillna(\"UNK\")\n",
    "\n",
    "df_games['user_score'] = pd.to_numeric(df_games['user_score'],\n",
    "                                      errors=\"coerce\")\n",
    "df_games['user_score'] = df_games['user_score'].fillna(7.5)"
   ]
  },
  {
   "cell_type": "markdown",
   "metadata": {},
   "source": [
    "**Cambiamos los valores ausentes por datos obtenidos a partir de la mediana, por ejemplo las columnas \"year_of\", \"critic_score\" y \"user_score\" ya que los datos que obtuvimos a partir de la mediana eran los que sea asemejaban a los datos vistos en el dataset.**\n",
    "\n",
    "**En la columna \"year_of_release\" decidi poner 2007 como año porque al calcular el valor medio con la mediana nos dio ese valor, pero no solo fue por eso, sino porque al observar mas a fondo me di cuenta de que habia valores con su año en su nombre, pero era tan pequeña la cantidad que decia eso que opte por cambiar el valor ausente por 2007, ademas de que seria complicado buscar el año de lanzamiento de cada juego por separado y es por eso que tome esta decisión.**\n",
    "\n",
    "**Tambien aplicmos el nombre \"Unknown\" a las columnas \"name\" y \"genre\", ya que en esa columna a pesar de ser solo contener 2 valores ausentes por columna, opte por cambiarlos por el nombre \"unknown\" para que asi nuestro DataFrame no contenga ningun valor ausente.**\n",
    "\n",
    "**Y en la columna \"rating\" cambie los valores ausentes por estas siglas \"UNK\" ya que son las iniciales de \"Unknown\" ¿Por qué lo hice? Lo hice por al mirar mas a fondo las filas que contenian un valor ausente en la columna \"rating\" los juegos eran de diferente clasificación, asi que por eso opte por ese cambio ya que esto nos facilita el analisis a mi opinion, ademas de que los juegos al ser tan variados en clasificación seria tedioso y tardado clasificarlos, ya que son mas de 6000 filas.**\n",
    "\n",
    "**Por ultimo convertimos las columnas a sus tipos de datos necesarios.**"
   ]
  },
  {
   "cell_type": "markdown",
   "metadata": {},
   "source": [
    "# 1.3 Explicación sobre los valores ausentes"
   ]
  },
  {
   "cell_type": "markdown",
   "metadata": {},
   "source": [
    "**Lo que pienso sobre el ¿Por qué están esos valores ausentes en el dataset? Es porque lo mas seguro es que el dataset se saco antes de tiempo y lo que me hace pensar esto es la columna \"user_score\" con el valor \"tbd\" que significa a determinar, es por es que surgio esta idea.**"
   ]
  },
  {
   "cell_type": "markdown",
   "metadata": {},
   "source": [
    "# 1.4 Suma de las ventas en todas las regiones"
   ]
  },
  {
   "cell_type": "code",
   "execution_count": 7,
   "metadata": {},
   "outputs": [
    {
     "data": {
      "text/html": [
       "<div>\n",
       "<style scoped>\n",
       "    .dataframe tbody tr th:only-of-type {\n",
       "        vertical-align: middle;\n",
       "    }\n",
       "\n",
       "    .dataframe tbody tr th {\n",
       "        vertical-align: top;\n",
       "    }\n",
       "\n",
       "    .dataframe thead th {\n",
       "        text-align: right;\n",
       "    }\n",
       "</style>\n",
       "<table border=\"1\" class=\"dataframe\">\n",
       "  <thead>\n",
       "    <tr style=\"text-align: right;\">\n",
       "      <th></th>\n",
       "      <th>name</th>\n",
       "      <th>platform</th>\n",
       "      <th>year_of_release</th>\n",
       "      <th>genre</th>\n",
       "      <th>na_sales</th>\n",
       "      <th>eu_sales</th>\n",
       "      <th>jp_sales</th>\n",
       "      <th>other_sales</th>\n",
       "      <th>critic_score</th>\n",
       "      <th>user_score</th>\n",
       "      <th>rating</th>\n",
       "      <th>total_sales</th>\n",
       "    </tr>\n",
       "  </thead>\n",
       "  <tbody>\n",
       "    <tr>\n",
       "      <th>0</th>\n",
       "      <td>Wii Sports</td>\n",
       "      <td>Wii</td>\n",
       "      <td>2006</td>\n",
       "      <td>Sports</td>\n",
       "      <td>41.36</td>\n",
       "      <td>28.96</td>\n",
       "      <td>3.77</td>\n",
       "      <td>8.45</td>\n",
       "      <td>76</td>\n",
       "      <td>8.0</td>\n",
       "      <td>E</td>\n",
       "      <td>82.54</td>\n",
       "    </tr>\n",
       "    <tr>\n",
       "      <th>1</th>\n",
       "      <td>Super Mario Bros.</td>\n",
       "      <td>NES</td>\n",
       "      <td>1985</td>\n",
       "      <td>Platform</td>\n",
       "      <td>29.08</td>\n",
       "      <td>3.58</td>\n",
       "      <td>6.81</td>\n",
       "      <td>0.77</td>\n",
       "      <td>71</td>\n",
       "      <td>7.5</td>\n",
       "      <td>UNK</td>\n",
       "      <td>40.24</td>\n",
       "    </tr>\n",
       "    <tr>\n",
       "      <th>2</th>\n",
       "      <td>Mario Kart Wii</td>\n",
       "      <td>Wii</td>\n",
       "      <td>2008</td>\n",
       "      <td>Racing</td>\n",
       "      <td>15.68</td>\n",
       "      <td>12.76</td>\n",
       "      <td>3.79</td>\n",
       "      <td>3.29</td>\n",
       "      <td>82</td>\n",
       "      <td>8.3</td>\n",
       "      <td>E</td>\n",
       "      <td>35.52</td>\n",
       "    </tr>\n",
       "    <tr>\n",
       "      <th>3</th>\n",
       "      <td>Wii Sports Resort</td>\n",
       "      <td>Wii</td>\n",
       "      <td>2009</td>\n",
       "      <td>Sports</td>\n",
       "      <td>15.61</td>\n",
       "      <td>10.93</td>\n",
       "      <td>3.28</td>\n",
       "      <td>2.95</td>\n",
       "      <td>80</td>\n",
       "      <td>8.0</td>\n",
       "      <td>E</td>\n",
       "      <td>32.77</td>\n",
       "    </tr>\n",
       "    <tr>\n",
       "      <th>4</th>\n",
       "      <td>Pokemon Red/Pokemon Blue</td>\n",
       "      <td>GB</td>\n",
       "      <td>1996</td>\n",
       "      <td>Role-Playing</td>\n",
       "      <td>11.27</td>\n",
       "      <td>8.89</td>\n",
       "      <td>10.22</td>\n",
       "      <td>1.00</td>\n",
       "      <td>71</td>\n",
       "      <td>7.5</td>\n",
       "      <td>UNK</td>\n",
       "      <td>31.38</td>\n",
       "    </tr>\n",
       "  </tbody>\n",
       "</table>\n",
       "</div>"
      ],
      "text/plain": [
       "                       name platform  year_of_release         genre  na_sales  \\\n",
       "0                Wii Sports      Wii             2006        Sports     41.36   \n",
       "1         Super Mario Bros.      NES             1985      Platform     29.08   \n",
       "2            Mario Kart Wii      Wii             2008        Racing     15.68   \n",
       "3         Wii Sports Resort      Wii             2009        Sports     15.61   \n",
       "4  Pokemon Red/Pokemon Blue       GB             1996  Role-Playing     11.27   \n",
       "\n",
       "   eu_sales  jp_sales  other_sales  critic_score  user_score rating  \\\n",
       "0     28.96      3.77         8.45            76         8.0      E   \n",
       "1      3.58      6.81         0.77            71         7.5    UNK   \n",
       "2     12.76      3.79         3.29            82         8.3      E   \n",
       "3     10.93      3.28         2.95            80         8.0      E   \n",
       "4      8.89     10.22         1.00            71         7.5    UNK   \n",
       "\n",
       "   total_sales  \n",
       "0        82.54  \n",
       "1        40.24  \n",
       "2        35.52  \n",
       "3        32.77  \n",
       "4        31.38  "
      ]
     },
     "execution_count": 7,
     "metadata": {},
     "output_type": "execute_result"
    }
   ],
   "source": [
    "df_games[\"total_sales\"] = df_games['eu_sales'] + df_games['jp_sales'] + df_games['na_sales'] + df_games['other_sales']\n",
    "\n",
    "df_games.head()"
   ]
  },
  {
   "cell_type": "markdown",
   "metadata": {},
   "source": [
    "<div class=\"alert alert-block alert-success\">\n",
    "<b>Comentario del revisor:</b> <a class=\"tocSkip\"></a>\n",
    "    \n",
    "Hola! Muy buen trabajo en la sección, ajustaste los nombres de las columnas a minúsculas con el uso de la función str.lower(), cambiaste el tipo de variable de la base de datos y muy buen trabajo con la suma de todas las ventas. \n",
    "\n"
   ]
  },
  {
   "cell_type": "markdown",
   "metadata": {},
   "source": [
    "**Aqui calculamos el total de ventas en cada videojuego y lo almacenamos en una nueva columna.**"
   ]
  },
  {
   "cell_type": "markdown",
   "metadata": {},
   "source": [
    "# 2.- Vistazo al lanzamiento de juegos en diferentes años"
   ]
  },
  {
   "cell_type": "code",
   "execution_count": 8,
   "metadata": {},
   "outputs": [
    {
     "data": {
      "text/plain": [
       "year_of_release\n",
       "1980     9\n",
       "1981    46\n",
       "1982    36\n",
       "1983    17\n",
       "1984    14\n",
       "Name: name, dtype: int64"
      ]
     },
     "execution_count": 8,
     "metadata": {},
     "output_type": "execute_result"
    }
   ],
   "source": [
    "Gruop_games = df_games.groupby(\"year_of_release\")[\"name\"].count()\n",
    "\n",
    "Gruop_games.head()"
   ]
  },
  {
   "cell_type": "markdown",
   "metadata": {},
   "source": [
    "**Por lo que vemos gracias al agrupado que hice podemos ver que si hay una diferencia significativa en los datos de cada periodo.**"
   ]
  },
  {
   "cell_type": "markdown",
   "metadata": {},
   "source": [
    "# 2.1 Grafico sobre las plataformas con mayores ventas y su distribución de cada año"
   ]
  },
  {
   "cell_type": "code",
   "execution_count": 9,
   "metadata": {},
   "outputs": [
    {
     "data": {
      "image/png": "[encoded data removed]",
      "text/plain": [
       "<Figure size 1400x600 with 1 Axes>"
      ]
     },
     "metadata": {},
     "output_type": "display_data"
    }
   ],
   "source": [
    "pivot_games = df_games.pivot_table(index=[\"year_of_release\", \"platform\"],\n",
    "                                  values=\"total_sales\",\n",
    "                                  aggfunc=\"sum\")\n",
    "\n",
    "pivot_games = pivot_games.reset_index()\n",
    "\n",
    "ventas_totales = pivot_games.groupby('platform')['total_sales'].sum().reset_index()\n",
    "top_platforms = ventas_totales[ventas_totales['total_sales'] > 300]['platform'].tolist()\n",
    "\n",
    "df_top = pivot_games[pivot_games['platform'].isin(top_platforms)]\n",
    "\n",
    "pivot_final = df_top.pivot_table(index=\"year_of_release\", columns=\"platform\", values=\"total_sales\")\n",
    "\n",
    "pivot_final.plot(kind=\"line\", figsize=(14,6), title=\"Distribución de ventas por año de las consolas más exitosas\")\n",
    "plt.ylabel(\"Ventas (millones)\")\n",
    "plt.xlabel(\"Año de lanzamiento\")\n",
    "plt.grid(True)\n",
    "plt.tight_layout()\n",
    "plt.show()"
   ]
  },
  {
   "cell_type": "markdown",
   "metadata": {},
   "source": [
    "<div class=\"alert alert-block alert-success\">\n",
    "<b>Comentario del revisor:</b> <a class=\"tocSkip\"></a>\n",
    "    \n",
    "Gran trabajo, esta gráfica nos ayuda a entender el comportamiento del mercado de videojuegos en el tiempo\n",
    "\n"
   ]
  },
  {
   "cell_type": "markdown",
   "metadata": {},
   "source": [
    "**Gracias al grafico podemos ver el mejor momento de cada consola, asi como tambien sus inicios y finales, ademas de que podemos compararlas para ver que consola fue la que genero mayor numero de ventas.** "
   ]
  },
  {
   "cell_type": "markdown",
   "metadata": {},
   "source": [
    "# 2.2 Busqueda sobre las plataformas que solían ser populares y ahora no tienen ventas"
   ]
  },
  {
   "cell_type": "code",
   "execution_count": 10,
   "metadata": {},
   "outputs": [
    {
     "data": {
      "text/html": [
       "<div>\n",
       "<style scoped>\n",
       "    .dataframe tbody tr th:only-of-type {\n",
       "        vertical-align: middle;\n",
       "    }\n",
       "\n",
       "    .dataframe tbody tr th {\n",
       "        vertical-align: top;\n",
       "    }\n",
       "\n",
       "    .dataframe thead th {\n",
       "        text-align: right;\n",
       "    }\n",
       "</style>\n",
       "<table border=\"1\" class=\"dataframe\">\n",
       "  <thead>\n",
       "    <tr style=\"text-align: right;\">\n",
       "      <th></th>\n",
       "      <th>Plataformas</th>\n",
       "      <th>Año_De_Inicio</th>\n",
       "      <th>Año_Final</th>\n",
       "      <th>Duración</th>\n",
       "      <th>Tiempo_Entre_Lanzamientos</th>\n",
       "    </tr>\n",
       "  </thead>\n",
       "  <tbody>\n",
       "    <tr>\n",
       "      <th>0</th>\n",
       "      <td>2600</td>\n",
       "      <td>1980</td>\n",
       "      <td>2007</td>\n",
       "      <td>27</td>\n",
       "      <td>NaN</td>\n",
       "    </tr>\n",
       "    <tr>\n",
       "      <th>11</th>\n",
       "      <td>NES</td>\n",
       "      <td>1983</td>\n",
       "      <td>1994</td>\n",
       "      <td>11</td>\n",
       "      <td>3.0</td>\n",
       "    </tr>\n",
       "    <tr>\n",
       "      <th>5</th>\n",
       "      <td>GB</td>\n",
       "      <td>1988</td>\n",
       "      <td>2007</td>\n",
       "      <td>19</td>\n",
       "      <td>5.0</td>\n",
       "    </tr>\n",
       "    <tr>\n",
       "      <th>23</th>\n",
       "      <td>SNES</td>\n",
       "      <td>1990</td>\n",
       "      <td>1999</td>\n",
       "      <td>9</td>\n",
       "      <td>2.0</td>\n",
       "    </tr>\n",
       "    <tr>\n",
       "      <th>8</th>\n",
       "      <td>GEN</td>\n",
       "      <td>1990</td>\n",
       "      <td>1994</td>\n",
       "      <td>4</td>\n",
       "      <td>0.0</td>\n",
       "    </tr>\n",
       "    <tr>\n",
       "      <th>9</th>\n",
       "      <td>GG</td>\n",
       "      <td>1992</td>\n",
       "      <td>1992</td>\n",
       "      <td>0</td>\n",
       "      <td>2.0</td>\n",
       "    </tr>\n",
       "    <tr>\n",
       "      <th>22</th>\n",
       "      <td>SCD</td>\n",
       "      <td>1993</td>\n",
       "      <td>1994</td>\n",
       "      <td>1</td>\n",
       "      <td>1.0</td>\n",
       "    </tr>\n",
       "    <tr>\n",
       "      <th>12</th>\n",
       "      <td>NG</td>\n",
       "      <td>1993</td>\n",
       "      <td>1996</td>\n",
       "      <td>3</td>\n",
       "      <td>0.0</td>\n",
       "    </tr>\n",
       "    <tr>\n",
       "      <th>21</th>\n",
       "      <td>SAT</td>\n",
       "      <td>1994</td>\n",
       "      <td>1999</td>\n",
       "      <td>5</td>\n",
       "      <td>1.0</td>\n",
       "    </tr>\n",
       "    <tr>\n",
       "      <th>15</th>\n",
       "      <td>PS</td>\n",
       "      <td>1994</td>\n",
       "      <td>2007</td>\n",
       "      <td>13</td>\n",
       "      <td>0.0</td>\n",
       "    </tr>\n",
       "    <tr>\n",
       "      <th>1</th>\n",
       "      <td>3DO</td>\n",
       "      <td>1994</td>\n",
       "      <td>1995</td>\n",
       "      <td>1</td>\n",
       "      <td>0.0</td>\n",
       "    </tr>\n",
       "    <tr>\n",
       "      <th>24</th>\n",
       "      <td>TG16</td>\n",
       "      <td>1995</td>\n",
       "      <td>1995</td>\n",
       "      <td>0</td>\n",
       "      <td>1.0</td>\n",
       "    </tr>\n",
       "    <tr>\n",
       "      <th>14</th>\n",
       "      <td>PCFX</td>\n",
       "      <td>1996</td>\n",
       "      <td>1996</td>\n",
       "      <td>0</td>\n",
       "      <td>1.0</td>\n",
       "    </tr>\n",
       "    <tr>\n",
       "      <th>10</th>\n",
       "      <td>N64</td>\n",
       "      <td>1996</td>\n",
       "      <td>2007</td>\n",
       "      <td>11</td>\n",
       "      <td>0.0</td>\n",
       "    </tr>\n",
       "    <tr>\n",
       "      <th>3</th>\n",
       "      <td>DC</td>\n",
       "      <td>1998</td>\n",
       "      <td>2008</td>\n",
       "      <td>10</td>\n",
       "      <td>2.0</td>\n",
       "    </tr>\n",
       "    <tr>\n",
       "      <th>25</th>\n",
       "      <td>WS</td>\n",
       "      <td>1999</td>\n",
       "      <td>2001</td>\n",
       "      <td>2</td>\n",
       "      <td>1.0</td>\n",
       "    </tr>\n",
       "    <tr>\n",
       "      <th>6</th>\n",
       "      <td>GBA</td>\n",
       "      <td>2000</td>\n",
       "      <td>2007</td>\n",
       "      <td>7</td>\n",
       "      <td>1.0</td>\n",
       "    </tr>\n",
       "    <tr>\n",
       "      <th>29</th>\n",
       "      <td>XB</td>\n",
       "      <td>2000</td>\n",
       "      <td>2008</td>\n",
       "      <td>8</td>\n",
       "      <td>0.0</td>\n",
       "    </tr>\n",
       "    <tr>\n",
       "      <th>7</th>\n",
       "      <td>GC</td>\n",
       "      <td>2001</td>\n",
       "      <td>2007</td>\n",
       "      <td>6</td>\n",
       "      <td>1.0</td>\n",
       "    </tr>\n",
       "  </tbody>\n",
       "</table>\n",
       "</div>"
      ],
      "text/plain": [
       "   Plataformas  Año_De_Inicio  Año_Final  Duración  Tiempo_Entre_Lanzamientos\n",
       "0         2600           1980       2007        27                        NaN\n",
       "11         NES           1983       1994        11                        3.0\n",
       "5           GB           1988       2007        19                        5.0\n",
       "23        SNES           1990       1999         9                        2.0\n",
       "8          GEN           1990       1994         4                        0.0\n",
       "9           GG           1992       1992         0                        2.0\n",
       "22         SCD           1993       1994         1                        1.0\n",
       "12          NG           1993       1996         3                        0.0\n",
       "21         SAT           1994       1999         5                        1.0\n",
       "15          PS           1994       2007        13                        0.0\n",
       "1          3DO           1994       1995         1                        0.0\n",
       "24        TG16           1995       1995         0                        1.0\n",
       "14        PCFX           1996       1996         0                        1.0\n",
       "10         N64           1996       2007        11                        0.0\n",
       "3           DC           1998       2008        10                        2.0\n",
       "25          WS           1999       2001         2                        1.0\n",
       "6          GBA           2000       2007         7                        1.0\n",
       "29          XB           2000       2008         8                        0.0\n",
       "7           GC           2001       2007         6                        1.0"
      ]
     },
     "execution_count": 10,
     "metadata": {},
     "output_type": "execute_result"
    }
   ],
   "source": [
    "vida_plataformas = df_games.groupby(\"platform\")[\"year_of_release\"].agg([\"min\", \"max\"]).reset_index()\n",
    "\n",
    "vida_plataformas.columns = [\"Plataformas\", \"Año_De_Inicio\", \"Año_Final\"]\n",
    "\n",
    "vida_plataformas[\"Duración\"] = vida_plataformas['Año_Final'] - vida_plataformas['Año_De_Inicio']\n",
    "\n",
    "vida_plataformas = vida_plataformas.sort_values(by=\"Año_De_Inicio\")\n",
    "\n",
    "Año_final_vida = df_games['year_of_release'].max() \n",
    "\n",
    "Cut_año_final_vida = Año_final_vida - 6\n",
    "\n",
    "plataformas_muertas = vida_plataformas[vida_plataformas['Año_Final'] <= Cut_año_final_vida].copy()\n",
    "\n",
    "plataformas_muertas[\"Tiempo_Entre_Lanzamientos\"] = plataformas_muertas['Año_De_Inicio'].diff()\n",
    "\n",
    "plataformas_muertas"
   ]
  },
  {
   "cell_type": "markdown",
   "metadata": {},
   "source": [
    "**En este analisis podemos observar una Tabla de las consolas que ya se consideran muertas, ademas de que el DataFrame original contenia un limite de años, decidi restar un total de 6 al valor maximo de años del DataFrame ya que no estabamos seguros de que las plataformas que terminaban en el año 2016, significara que ya no tenian ventas y calculamos el cuanto tardan las plataformas en aparecer y en desaparecer.**"
   ]
  },
  {
   "cell_type": "markdown",
   "metadata": {},
   "source": [
    "# 2.3 Creación de un modelo en base a los datos de años anteriores para 2017"
   ]
  },
  {
   "cell_type": "code",
   "execution_count": 11,
   "metadata": {},
   "outputs": [
    {
     "data": {
      "text/html": [
       "<div>\n",
       "<style scoped>\n",
       "    .dataframe tbody tr th:only-of-type {\n",
       "        vertical-align: middle;\n",
       "    }\n",
       "\n",
       "    .dataframe tbody tr th {\n",
       "        vertical-align: top;\n",
       "    }\n",
       "\n",
       "    .dataframe thead th {\n",
       "        text-align: right;\n",
       "    }\n",
       "</style>\n",
       "<table border=\"1\" class=\"dataframe\">\n",
       "  <thead>\n",
       "    <tr style=\"text-align: right;\">\n",
       "      <th></th>\n",
       "      <th>Género</th>\n",
       "      <th>Cantidad_de_juegos</th>\n",
       "      <th>Ventas_totales</th>\n",
       "    </tr>\n",
       "  </thead>\n",
       "  <tbody>\n",
       "    <tr>\n",
       "      <th>0</th>\n",
       "      <td>Action</td>\n",
       "      <td>619</td>\n",
       "      <td>199.36</td>\n",
       "    </tr>\n",
       "    <tr>\n",
       "      <th>1</th>\n",
       "      <td>Shooter</td>\n",
       "      <td>128</td>\n",
       "      <td>170.94</td>\n",
       "    </tr>\n",
       "    <tr>\n",
       "      <th>2</th>\n",
       "      <td>Sports</td>\n",
       "      <td>161</td>\n",
       "      <td>109.48</td>\n",
       "    </tr>\n",
       "    <tr>\n",
       "      <th>3</th>\n",
       "      <td>Role-Playing</td>\n",
       "      <td>221</td>\n",
       "      <td>101.44</td>\n",
       "    </tr>\n",
       "    <tr>\n",
       "      <th>4</th>\n",
       "      <td>Misc</td>\n",
       "      <td>113</td>\n",
       "      <td>37.55</td>\n",
       "    </tr>\n",
       "    <tr>\n",
       "      <th>5</th>\n",
       "      <td>Fighting</td>\n",
       "      <td>60</td>\n",
       "      <td>28.22</td>\n",
       "    </tr>\n",
       "    <tr>\n",
       "      <th>6</th>\n",
       "      <td>Racing</td>\n",
       "      <td>69</td>\n",
       "      <td>27.52</td>\n",
       "    </tr>\n",
       "    <tr>\n",
       "      <th>7</th>\n",
       "      <td>Platform</td>\n",
       "      <td>38</td>\n",
       "      <td>18.09</td>\n",
       "    </tr>\n",
       "    <tr>\n",
       "      <th>8</th>\n",
       "      <td>Adventure</td>\n",
       "      <td>185</td>\n",
       "      <td>17.55</td>\n",
       "    </tr>\n",
       "    <tr>\n",
       "      <th>9</th>\n",
       "      <td>Simulation</td>\n",
       "      <td>44</td>\n",
       "      <td>13.13</td>\n",
       "    </tr>\n",
       "    <tr>\n",
       "      <th>10</th>\n",
       "      <td>Strategy</td>\n",
       "      <td>37</td>\n",
       "      <td>3.96</td>\n",
       "    </tr>\n",
       "    <tr>\n",
       "      <th>11</th>\n",
       "      <td>Puzzle</td>\n",
       "      <td>14</td>\n",
       "      <td>2.21</td>\n",
       "    </tr>\n",
       "  </tbody>\n",
       "</table>\n",
       "</div>"
      ],
      "text/plain": [
       "          Género  Cantidad_de_juegos  Ventas_totales\n",
       "0         Action                 619          199.36\n",
       "1        Shooter                 128          170.94\n",
       "2         Sports                 161          109.48\n",
       "3   Role-Playing                 221          101.44\n",
       "4           Misc                 113           37.55\n",
       "5       Fighting                  60           28.22\n",
       "6         Racing                  69           27.52\n",
       "7       Platform                  38           18.09\n",
       "8      Adventure                 185           17.55\n",
       "9     Simulation                  44           13.13\n",
       "10      Strategy                  37            3.96\n",
       "11        Puzzle                  14            2.21"
      ]
     },
     "execution_count": 11,
     "metadata": {},
     "output_type": "execute_result"
    }
   ],
   "source": [
    "filtered_games = df_games[(df_games['year_of_release'] >= 2014) & (df_games['year_of_release'] <= 2016)]\n",
    "\n",
    "top_genre = filtered_games.groupby(\"genre\")[\"genre\"].count().reset_index(name=\"count_genre\")\n",
    "\n",
    "top_sales_genre = filtered_games.groupby(\"genre\")[\"total_sales\"].sum().reset_index()\n",
    "\n",
    "merge_genre = top_genre.merge(top_sales_genre, on=\"genre\")\n",
    "\n",
    "merge_genre = merge_genre.rename(columns={\"genre\": \"Género\",\n",
    "                                         \"count_genre\": \"Cantidad_de_juegos\",\n",
    "                                         \"total_sales\": \"Ventas_totales\"})\n",
    "\n",
    "merge_genre.sort_values(by=\"Ventas_totales\", ascending=False).reset_index(drop=True)"
   ]
  },
  {
   "cell_type": "markdown",
   "metadata": {},
   "source": [
    "**Gracias a la tabla que hicimos podemos permitirnos construir un modelo para 2017.**\n",
    "\n",
    "**Para empezar lo primero fue escoger una serie de años para construir nuestro modelo y tomamos los años de 2014 a 2016, para despues contar los generos que mas veces salieron en esos 3 años y despues calculamos el total de ventas para cada genero para poder ver que género genero mas ventas en estos 3 años.**\n",
    "\n",
    "**Y despues podemos decir que para nuestro modelo de 2017, hemos visto que los géneros que generaron mas de 100 millones de los dolares en ventas se han logrado mantener en lo mas alto a lo largo de 3 años, por lo que podemos decir que esos 4 géneros se mantendran en 2017 y talvez algunos bajen y otros suban, pero se mantendran dentro los primeros lugares.**\n",
    "\n",
    "**Y por ultimo podemos decir que los géneros que generaron menos de 100 millones en ventas, son muy variables ya que no podemos decir a ciencia cierta que géneros se mantendran en ese rango, por lo que aqui podemos decir que son bastante variables.**"
   ]
  },
  {
   "cell_type": "markdown",
   "metadata": {},
   "source": [
    "# 2.4 ¿Qué plataformas son lideres en ventas? Y ¿Cuáles crecen y cuáles se reducen?"
   ]
  },
  {
   "cell_type": "code",
   "execution_count": 12,
   "metadata": {},
   "outputs": [
    {
     "data": {
      "text/html": [
       "<div>\n",
       "<style scoped>\n",
       "    .dataframe tbody tr th:only-of-type {\n",
       "        vertical-align: middle;\n",
       "    }\n",
       "\n",
       "    .dataframe tbody tr th {\n",
       "        vertical-align: top;\n",
       "    }\n",
       "\n",
       "    .dataframe thead th {\n",
       "        text-align: right;\n",
       "    }\n",
       "</style>\n",
       "<table border=\"1\" class=\"dataframe\">\n",
       "  <thead>\n",
       "    <tr style=\"text-align: right;\">\n",
       "      <th>platform</th>\n",
       "      <th>DS</th>\n",
       "      <th>PC</th>\n",
       "      <th>PS2</th>\n",
       "      <th>PS3</th>\n",
       "      <th>PSP</th>\n",
       "      <th>Wii</th>\n",
       "      <th>X360</th>\n",
       "    </tr>\n",
       "    <tr>\n",
       "      <th>year_of_release</th>\n",
       "      <th></th>\n",
       "      <th></th>\n",
       "      <th></th>\n",
       "      <th></th>\n",
       "      <th></th>\n",
       "      <th></th>\n",
       "      <th></th>\n",
       "    </tr>\n",
       "  </thead>\n",
       "  <tbody>\n",
       "    <tr>\n",
       "      <th>2006</th>\n",
       "      <td>119.81</td>\n",
       "      <td>2.85</td>\n",
       "      <td>103.42</td>\n",
       "      <td>20.96</td>\n",
       "      <td>55.32</td>\n",
       "      <td>137.15</td>\n",
       "      <td>51.62</td>\n",
       "    </tr>\n",
       "    <tr>\n",
       "      <th>2007</th>\n",
       "      <td>150.28</td>\n",
       "      <td>13.04</td>\n",
       "      <td>98.20</td>\n",
       "      <td>81.50</td>\n",
       "      <td>51.45</td>\n",
       "      <td>169.10</td>\n",
       "      <td>105.59</td>\n",
       "    </tr>\n",
       "    <tr>\n",
       "      <th>2008</th>\n",
       "      <td>145.31</td>\n",
       "      <td>12.42</td>\n",
       "      <td>53.90</td>\n",
       "      <td>118.52</td>\n",
       "      <td>34.55</td>\n",
       "      <td>171.32</td>\n",
       "      <td>135.26</td>\n",
       "    </tr>\n",
       "    <tr>\n",
       "      <th>2009</th>\n",
       "      <td>119.54</td>\n",
       "      <td>16.91</td>\n",
       "      <td>26.40</td>\n",
       "      <td>130.93</td>\n",
       "      <td>37.78</td>\n",
       "      <td>206.97</td>\n",
       "      <td>120.29</td>\n",
       "    </tr>\n",
       "    <tr>\n",
       "      <th>2010</th>\n",
       "      <td>85.02</td>\n",
       "      <td>24.28</td>\n",
       "      <td>5.64</td>\n",
       "      <td>142.17</td>\n",
       "      <td>35.04</td>\n",
       "      <td>127.95</td>\n",
       "      <td>170.03</td>\n",
       "    </tr>\n",
       "    <tr>\n",
       "      <th>2011</th>\n",
       "      <td>26.18</td>\n",
       "      <td>35.03</td>\n",
       "      <td>0.45</td>\n",
       "      <td>156.78</td>\n",
       "      <td>17.82</td>\n",
       "      <td>59.65</td>\n",
       "      <td>143.84</td>\n",
       "    </tr>\n",
       "  </tbody>\n",
       "</table>\n",
       "</div>"
      ],
      "text/plain": [
       "platform             DS     PC     PS2     PS3    PSP     Wii    X360\n",
       "year_of_release                                                      \n",
       "2006             119.81   2.85  103.42   20.96  55.32  137.15   51.62\n",
       "2007             150.28  13.04   98.20   81.50  51.45  169.10  105.59\n",
       "2008             145.31  12.42   53.90  118.52  34.55  171.32  135.26\n",
       "2009             119.54  16.91   26.40  130.93  37.78  206.97  120.29\n",
       "2010              85.02  24.28    5.64  142.17  35.04  127.95  170.03\n",
       "2011              26.18  35.03    0.45  156.78  17.82   59.65  143.84"
      ]
     },
     "execution_count": 12,
     "metadata": {},
     "output_type": "execute_result"
    }
   ],
   "source": [
    "filtered_platforms = df_games[(df_games['year_of_release'] >= 2006) & (df_games['year_of_release'] <= 2011)]\n",
    "\n",
    "grouop_platforms = filtered_platforms.groupby(\"platform\")[\"total_sales\"].sum().reset_index()\n",
    "\n",
    "grouop_platforms.columns = [\"Plataformas\", \"Ventas_Totales\"]\n",
    "\n",
    "list_platforms = grouop_platforms[grouop_platforms['Ventas_Totales'] > 100][\"Plataformas\"].tolist()\n",
    "\n",
    "platforms = filtered_platforms[filtered_platforms['platform'].isin(list_platforms)]\n",
    "\n",
    "pivot_platforms = platforms.pivot_table(index=\"year_of_release\",\n",
    "                                       columns=\"platform\",\n",
    "                                       values=\"total_sales\",\n",
    "                                       aggfunc=\"sum\")\n",
    "\n",
    "diff_platforms = pivot_platforms.diff()\n",
    "\n",
    "pivot_platforms"
   ]
  },
  {
   "cell_type": "markdown",
   "metadata": {},
   "source": [
    "**Para hacer este analisis sobre las plataformas lideres en venta, escogi un rango de años donde los juegos lanzados eran mas de 1000 y empieza desde el año 2006 y termina en el año 2011.**\n",
    "\n",
    "**Para empezar primero respondamos la siguiente pregunta ¿Qué plataformas son líderes en ventas? Las plataformas que son líderes en ventas en ese rango de años son: DS, PS3, Wii, Xbox 360 y PC (esta ultima es la más potencialmente rentable a un futuro) y esas plataformas en ese rango de años fueron potencialmente rentables.**\n",
    "\n",
    "**Y para responder la segunda pregunta ¿Cuáles crecen y cuáles se reducen? para responder esta pregunta usamos el metodo diff en nuestra tabla anterior para comprobar si las ventas de dichas plataformas estaban creciendo o decreciendo, y como podemos ver a pesar de que las plataformas que escogimos fueron potencialmente rentables, ya para el rango de años que prevamiento habia escogido ya estaban a la baja, pero gracias al metodo diif pudimos identificar mejor las plataformas que crecieron y decrecieron.**"
   ]
  },
  {
   "cell_type": "markdown",
   "metadata": {},
   "source": [
    "# 2.5 Diagrama de caja para las ventas globales de todos los juegos"
   ]
  },
  {
   "cell_type": "code",
   "execution_count": 13,
   "metadata": {},
   "outputs": [
    {
     "data": {
      "image/png": "[encoded data removed]",
      "text/plain": [
       "<Figure size 1000x500 with 1 Axes>"
      ]
     },
     "metadata": {},
     "output_type": "display_data"
    }
   ],
   "source": [
    "filtered_games = df_games[df_games['total_sales'] >= 5]\n",
    "\n",
    "\n",
    "plt.figure(figsize=[10,5])\n",
    "sns.boxplot(data=filtered_games,\n",
    "           x=\"platform\",\n",
    "           y=\"total_sales\")\n",
    "plt.xticks(rotation=90)\n",
    "plt.title(\"Distribución de ventas globales por plataforma (por juego)\")\n",
    "plt.xlabel(\"Plataforma\")\n",
    "plt.ylabel(\"Ventas globales por juego (millones)\")\n",
    "plt.show()"
   ]
  },
  {
   "cell_type": "markdown",
   "metadata": {},
   "source": [
    "<div class=\"alert alert-block alert-warning\">\n",
    "    <b>Comentario del revisor</b> <a class=\"tocSkip\"></a>\n",
    "    \n",
    "Muy buen trabajo con el desarrollo de la gráfica de cajas, este tipo de gráficos nos ayuda a comparar resultados de manera precisa. Solamente recuerda que los graficos de box-plot nos ayudan a identificar outliers que posteriomente en el desarrollo de las pruebas de hipótesis nos servirían eliminar para que no puedan sesgar nuestros resultados. \n",
    "</div>"
   ]
  },
  {
   "cell_type": "markdown",
   "metadata": {},
   "source": [
    "**Para empezar lo primero que hicimos fue filtrar juegos que tengan ventas totales o globales mayores a 5 millones ¿Por qué hicimos esto? lo hicimos para poder visualizar el diagrama de caja de mejor manera, ya que si lo imprimiamos con todas las plataformas el grafico se llenaba de demasiados puntos(valores atipicos) y no nos dejaba leer de manera visual las ventas globales para de todos los juegos y es por eso el que tome esta decisión.**\n",
    "\n",
    "**Y respondiendo la pregunta ¿Son significativas las diferencias en las ventas? por lo que vemos en el diagrma de caja, si es demasiada la diferencia de ventas entre plataformas, pero tenemos que entender que algunas plataformas estaban en su mejor momento y otras apenas estaban saliendo al mercado, ademas de que usamos el DataFrame original sin alguna selección de rango de años .**"
   ]
  },
  {
   "cell_type": "markdown",
   "metadata": {},
   "source": [
    "# 2.6 Promedio de ventas en varias plataformas"
   ]
  },
  {
   "cell_type": "code",
   "execution_count": 14,
   "metadata": {},
   "outputs": [
    {
     "data": {
      "text/html": [
       "<div>\n",
       "<style scoped>\n",
       "    .dataframe tbody tr th:only-of-type {\n",
       "        vertical-align: middle;\n",
       "    }\n",
       "\n",
       "    .dataframe tbody tr th {\n",
       "        vertical-align: top;\n",
       "    }\n",
       "\n",
       "    .dataframe thead th {\n",
       "        text-align: right;\n",
       "    }\n",
       "</style>\n",
       "<table border=\"1\" class=\"dataframe\">\n",
       "  <thead>\n",
       "    <tr style=\"text-align: right;\">\n",
       "      <th></th>\n",
       "      <th>platform</th>\n",
       "      <th>mean_sales</th>\n",
       "    </tr>\n",
       "  </thead>\n",
       "  <tbody>\n",
       "    <tr>\n",
       "      <th>0</th>\n",
       "      <td>GB</td>\n",
       "      <td>2.606735</td>\n",
       "    </tr>\n",
       "    <tr>\n",
       "      <th>1</th>\n",
       "      <td>NES</td>\n",
       "      <td>2.561735</td>\n",
       "    </tr>\n",
       "    <tr>\n",
       "      <th>2</th>\n",
       "      <td>GEN</td>\n",
       "      <td>1.061034</td>\n",
       "    </tr>\n",
       "    <tr>\n",
       "      <th>3</th>\n",
       "      <td>SNES</td>\n",
       "      <td>0.836987</td>\n",
       "    </tr>\n",
       "    <tr>\n",
       "      <th>4</th>\n",
       "      <td>PS4</td>\n",
       "      <td>0.801378</td>\n",
       "    </tr>\n",
       "    <tr>\n",
       "      <th>5</th>\n",
       "      <td>X360</td>\n",
       "      <td>0.769746</td>\n",
       "    </tr>\n",
       "    <tr>\n",
       "      <th>6</th>\n",
       "      <td>2600</td>\n",
       "      <td>0.729173</td>\n",
       "    </tr>\n",
       "    <tr>\n",
       "      <th>7</th>\n",
       "      <td>PS3</td>\n",
       "      <td>0.705973</td>\n",
       "    </tr>\n",
       "    <tr>\n",
       "      <th>8</th>\n",
       "      <td>Wii</td>\n",
       "      <td>0.687508</td>\n",
       "    </tr>\n",
       "    <tr>\n",
       "      <th>9</th>\n",
       "      <td>N64</td>\n",
       "      <td>0.685517</td>\n",
       "    </tr>\n",
       "    <tr>\n",
       "      <th>10</th>\n",
       "      <td>XOne</td>\n",
       "      <td>0.645020</td>\n",
       "    </tr>\n",
       "    <tr>\n",
       "      <th>11</th>\n",
       "      <td>PS</td>\n",
       "      <td>0.610576</td>\n",
       "    </tr>\n",
       "    <tr>\n",
       "      <th>12</th>\n",
       "      <td>PS2</td>\n",
       "      <td>0.581106</td>\n",
       "    </tr>\n",
       "    <tr>\n",
       "      <th>13</th>\n",
       "      <td>WiiU</td>\n",
       "      <td>0.559116</td>\n",
       "    </tr>\n",
       "  </tbody>\n",
       "</table>\n",
       "</div>"
      ],
      "text/plain": [
       "   platform  mean_sales\n",
       "0        GB    2.606735\n",
       "1       NES    2.561735\n",
       "2       GEN    1.061034\n",
       "3      SNES    0.836987\n",
       "4       PS4    0.801378\n",
       "5      X360    0.769746\n",
       "6      2600    0.729173\n",
       "7       PS3    0.705973\n",
       "8       Wii    0.687508\n",
       "9       N64    0.685517\n",
       "10     XOne    0.645020\n",
       "11       PS    0.610576\n",
       "12      PS2    0.581106\n",
       "13     WiiU    0.559116"
      ]
     },
     "execution_count": 14,
     "metadata": {},
     "output_type": "execute_result"
    }
   ],
   "source": [
    "mean_sales = df_games.groupby(\"platform\")[\"total_sales\"].mean().reset_index(name=\"mean_sales\")\n",
    "\n",
    "\n",
    "mean_sales[mean_sales['mean_sales'] >= 0.50].sort_values(by=\"mean_sales\", ascending=False).reset_index(drop=True)"
   ]
  },
  {
   "cell_type": "markdown",
   "metadata": {},
   "source": [
    "**Para empezar lo primero que hice fue filtrar por el promedio de ventas fuera mayor a 0.50 para asi poder leer mejor los datos sin tantas plataformas irrelevantes.**\n",
    "\n",
    "**Y por lo que vemos en la tabla, el promedio de muchas plataformas es muy pequeño a pesar de la cantidad de venta globales que llegaron a hacer, tal caso es el de la PS2 que llego a poco más de 1200 millones en ventas globales, por lo que creo que gracias a lo visto en la tabla podemos decir que a pesar de que las plataformas hayan tenido un total de ventas globales muy altos, sus promedios dejan mucho que decir, ya que a pesar de ser tan vendida lo mas seguro es que esas consolas tuvieron demasiados juegos lanzados en esa mismas consolas por lo que su promedio se vio afectado.**"
   ]
  },
  {
   "cell_type": "markdown",
   "metadata": {},
   "source": [
    "# 2.7 Reseñas de usuarios y profesionales y la correlacion entre reseñas y ventas"
   ]
  },
  {
   "cell_type": "code",
   "execution_count": 15,
   "metadata": {},
   "outputs": [
    {
     "data": {
      "image/png": "[encoded data removed]",
      "text/plain": [
       "<Figure size 640x480 with 1 Axes>"
      ]
     },
     "metadata": {},
     "output_type": "display_data"
    },
    {
     "data": {
      "image/png": "[encoded data removed]",
      "text/plain": [
       "<Figure size 640x480 with 1 Axes>"
      ]
     },
     "metadata": {},
     "output_type": "display_data"
    }
   ],
   "source": [
    "filtered_3DS = df_games[df_games['platform'] == \"3DS\"]\n",
    "\n",
    "sns.scatterplot(data=filtered_3DS,\n",
    "               x=\"user_score\",\n",
    "               y=\"total_sales\")\n",
    "plt.title(\"Relacion entre reseñas de usuarios y ventas globales (3DS)\")\n",
    "plt.xlabel(\"Puntaje de Usuarios\")\n",
    "plt.ylabel(\"Ventas Globales (millones)\")\n",
    "plt.show()\n",
    "\n",
    "sns.scatterplot(data=filtered_3DS,\n",
    "               x=\"critic_score\",\n",
    "               y=\"total_sales\")\n",
    "plt.title(\"Relacion entre reseñas de profesionales y ventas globlales (3DS)\")\n",
    "plt.xlabel(\"Puntaje de Profesionales\")\n",
    "plt.ylabel(\"Ventas Globales (millones)\")\n",
    "plt.show()"
   ]
  },
  {
   "cell_type": "markdown",
   "metadata": {},
   "source": [
    "<div class=\"alert alert-block alert-success\">\n",
    "    <b>Comentario del revisor</b> <a class=\"tocSkip\"></a>\n",
    "    \n",
    "Excelente forma de analizar la relación entre las ventas y las scores"
   ]
  },
  {
   "cell_type": "code",
   "execution_count": 16,
   "metadata": {},
   "outputs": [
    {
     "name": "stdout",
     "output_type": "stream",
     "text": [
      "Correlación entre Usuarios y Ventas Globales: \n",
      " 0.10023487800185253 \n",
      "\n",
      "Correlación entre Critica y Ventas Globales: \n",
      " 0.19848362469441752\n"
     ]
    }
   ],
   "source": [
    "covarianza_user_and_sales_3DS = np.cov(filtered_3DS['user_score'], filtered_3DS[\"total_sales\"])[0,1]                     \n",
    "covarianza_critic_and_sales_3DS = np.cov(filtered_3DS['critic_score'], filtered_3DS[\"total_sales\"])[0,1]\n",
    "\n",
    "std_user = np.std(filtered_3DS['user_score'])\n",
    "std_critic = np.std(filtered_3DS['critic_score'])\n",
    "std_total = np.std(filtered_3DS['total_sales'])\n",
    "\n",
    "correlacion_user_and_sales = covarianza_user_and_sales_3DS / (std_user * std_total)\n",
    "\n",
    "correlacion_critic_and_sales = covarianza_critic_and_sales_3DS / (std_critic * std_total)\n",
    "\n",
    "print(\"Correlación entre Usuarios y Ventas Globales:\", \"\\n\",correlacion_user_and_sales, \"\\n\")\n",
    "print(\"Correlación entre Critica y Ventas Globales:\", \"\\n\",correlacion_critic_and_sales)"
   ]
  },
  {
   "cell_type": "markdown",
   "metadata": {},
   "source": [
    "**Para empezar, en el primer grafico de \"user_score entre total_sales\" vemos muchos puntos dispersos, pero entre el eje x(5) y eje x(8.5) vemos mas datos acumulados entre esa zona, ademas de que el eje x(7.5) vemos que los datos empiezan a hacer una tipo de linea vertical en donde vemos en que solo un juego llego a los 14 millones de ventas globales.**\n",
    "\n",
    "**En el segundo grafico podemos cierto parecido en la linea que se formaba por la acumulacion de los datos y lo mismo  que paso en el anterior grafico aqui se repite en el que un solo juego llego a los 14 millones de ventas, pero la diferencia de este grafico al otro es que sus datos estan menos dispersos y existe una mayor acumulacion entre el eje x(40) y el eje x(80).**\n",
    "\n",
    "**Y despues vemos la correlacion entre las reseñas y ventas, primero empezamos por la correlacion entre las reseñas de los usarios y ventas y por lo que vimos es que su relacion es muy baja por lo que las reseñas de los usuarios no afectan a las ventas globales.**\n",
    "\n",
    "**Y por ultimo vemos la correlacion entre las reseñas por profesionales y ventas y vemos que en este caso si existe una mayor relacion comparada a la correlacion anterior, pero aun asi la relacion sigue siendo baja, por lo que en este caso las reseñas por profesionales si afectan un poco a las ventas.**"
   ]
  },
  {
   "cell_type": "markdown",
   "metadata": {},
   "source": [
    "# 2.8 Comparación de ventas en los mismos juegos en otras plataformas"
   ]
  },
  {
   "cell_type": "code",
   "execution_count": 17,
   "metadata": {},
   "outputs": [
    {
     "name": "stdout",
     "output_type": "stream",
     "text": [
      "Correlación entre Usuarios y Ventas Globales (PS2): 0.17493753587211944\n",
      "Correlación entre Critica y Ventas Globales (PS2): 0.3456365153176568 \n",
      "\n",
      "Correlación entre Usuarios y Ventas Globales (X360): 0.0589081862505575\n",
      "Correlación entre Critica y Ventas Globales (X360): 0.36118024655055336 \n",
      "\n",
      "Correlación entre Usuarios y Ventas Globales (Wii): 0.0545142280707907\n",
      "Correlacion entre Critica y Ventas Globales (Wii): 0.10657539055608378\n"
     ]
    }
   ],
   "source": [
    "filtered_PS2 = df_games[df_games['platform'] == \"PS2\"]\n",
    "filtered_X360 = df_games[df_games['platform'] == \"X360\"]\n",
    "filtered_Wii = df_games[df_games['platform'] == \"Wii\"]\n",
    "\n",
    "def correlacion_user(DF):\n",
    "    covarianza = np.cov(DF['user_score'], DF[\"total_sales\"])[0,1]\n",
    "\n",
    "    std_user = np.std(DF['user_score'])\n",
    "    std_total = np.std(DF['total_sales'])\n",
    "\n",
    "    correlacion = covarianza / (std_user * std_total)\n",
    "    \n",
    "    return correlacion\n",
    "    \n",
    "def correlacion_critic(DF):\n",
    "    covarianza = np.cov(DF['critic_score'], DF[\"total_sales\"])[0,1]\n",
    "\n",
    "    std_critic = np.std(DF[\"critic_score\"])\n",
    "    std_total = np.std(DF[\"total_sales\"])\n",
    "\n",
    "    correlacion = covarianza / (std_critic * std_total)\n",
    "\n",
    "    return correlacion\n",
    "\n",
    "print(\"Correlación entre Usuarios y Ventas Globales (PS2):\", correlacion_user(filtered_PS2))\n",
    "print(\"Correlación entre Critica y Ventas Globales (PS2):\", correlacion_critic(filtered_PS2),\"\\n\")\n",
    "print(\"Correlación entre Usuarios y Ventas Globales (X360):\", correlacion_user(filtered_X360))\n",
    "print(\"Correlación entre Critica y Ventas Globales (X360):\", correlacion_critic(filtered_X360),\"\\n\")\n",
    "print(\"Correlación entre Usuarios y Ventas Globales (Wii):\", correlacion_user(filtered_Wii))\n",
    "print(\"Correlacion entre Critica y Ventas Globales (Wii):\", correlacion_critic(filtered_Wii))"
   ]
  },
  {
   "cell_type": "markdown",
   "metadata": {},
   "source": [
    "**Gracias a lo que vemos en la correlacion, que lo mismo pasa aqui, pero con ligeras o grandes diferencias, asi que la conclusion ahora es que algunas plataformas les pueden afectar mas las reseñas de usuarios, pero las reseñas de las criticas son las que tienen mas posibilidad de afectar las ventas, por lo que solo una pequeña parte de las ventas globales es afectada por las reseñas.**"
   ]
  },
  {
   "cell_type": "markdown",
   "metadata": {},
   "source": [
    "# 2.9 Distribución general de los juegos por género"
   ]
  },
  {
   "cell_type": "code",
   "execution_count": 18,
   "metadata": {},
   "outputs": [
    {
     "data": {
      "text/html": [
       "<div>\n",
       "<style scoped>\n",
       "    .dataframe tbody tr th:only-of-type {\n",
       "        vertical-align: middle;\n",
       "    }\n",
       "\n",
       "    .dataframe tbody tr th {\n",
       "        vertical-align: top;\n",
       "    }\n",
       "\n",
       "    .dataframe thead th {\n",
       "        text-align: right;\n",
       "    }\n",
       "</style>\n",
       "<table border=\"1\" class=\"dataframe\">\n",
       "  <thead>\n",
       "    <tr style=\"text-align: right;\">\n",
       "      <th></th>\n",
       "      <th>Genero</th>\n",
       "      <th>Cantidad_de_juegos</th>\n",
       "      <th>Ventas_totales</th>\n",
       "      <th>Promedio_ventas</th>\n",
       "    </tr>\n",
       "  </thead>\n",
       "  <tbody>\n",
       "    <tr>\n",
       "      <th>0</th>\n",
       "      <td>Action</td>\n",
       "      <td>3369</td>\n",
       "      <td>1744.17</td>\n",
       "      <td>0.517711</td>\n",
       "    </tr>\n",
       "    <tr>\n",
       "      <th>1</th>\n",
       "      <td>Adventure</td>\n",
       "      <td>1303</td>\n",
       "      <td>237.59</td>\n",
       "      <td>0.182341</td>\n",
       "    </tr>\n",
       "    <tr>\n",
       "      <th>2</th>\n",
       "      <td>Fighting</td>\n",
       "      <td>849</td>\n",
       "      <td>447.53</td>\n",
       "      <td>0.527126</td>\n",
       "    </tr>\n",
       "    <tr>\n",
       "      <th>3</th>\n",
       "      <td>Misc</td>\n",
       "      <td>1750</td>\n",
       "      <td>802.51</td>\n",
       "      <td>0.458577</td>\n",
       "    </tr>\n",
       "    <tr>\n",
       "      <th>4</th>\n",
       "      <td>Platform</td>\n",
       "      <td>888</td>\n",
       "      <td>827.77</td>\n",
       "      <td>0.932173</td>\n",
       "    </tr>\n",
       "    <tr>\n",
       "      <th>5</th>\n",
       "      <td>Puzzle</td>\n",
       "      <td>580</td>\n",
       "      <td>242.57</td>\n",
       "      <td>0.418224</td>\n",
       "    </tr>\n",
       "    <tr>\n",
       "      <th>6</th>\n",
       "      <td>Racing</td>\n",
       "      <td>1249</td>\n",
       "      <td>728.67</td>\n",
       "      <td>0.583403</td>\n",
       "    </tr>\n",
       "    <tr>\n",
       "      <th>7</th>\n",
       "      <td>Role-Playing</td>\n",
       "      <td>1498</td>\n",
       "      <td>934.56</td>\n",
       "      <td>0.623872</td>\n",
       "    </tr>\n",
       "    <tr>\n",
       "      <th>8</th>\n",
       "      <td>Shooter</td>\n",
       "      <td>1323</td>\n",
       "      <td>1052.45</td>\n",
       "      <td>0.795503</td>\n",
       "    </tr>\n",
       "    <tr>\n",
       "      <th>9</th>\n",
       "      <td>Simulation</td>\n",
       "      <td>873</td>\n",
       "      <td>389.97</td>\n",
       "      <td>0.446701</td>\n",
       "    </tr>\n",
       "    <tr>\n",
       "      <th>10</th>\n",
       "      <td>Sports</td>\n",
       "      <td>2348</td>\n",
       "      <td>1331.27</td>\n",
       "      <td>0.566980</td>\n",
       "    </tr>\n",
       "    <tr>\n",
       "      <th>11</th>\n",
       "      <td>Strategy</td>\n",
       "      <td>683</td>\n",
       "      <td>174.23</td>\n",
       "      <td>0.255095</td>\n",
       "    </tr>\n",
       "    <tr>\n",
       "      <th>12</th>\n",
       "      <td>Unknown</td>\n",
       "      <td>2</td>\n",
       "      <td>2.42</td>\n",
       "      <td>1.210000</td>\n",
       "    </tr>\n",
       "  </tbody>\n",
       "</table>\n",
       "</div>"
      ],
      "text/plain": [
       "          Genero  Cantidad_de_juegos  Ventas_totales  Promedio_ventas\n",
       "0         Action                3369         1744.17         0.517711\n",
       "1      Adventure                1303          237.59         0.182341\n",
       "2       Fighting                 849          447.53         0.527126\n",
       "3           Misc                1750          802.51         0.458577\n",
       "4       Platform                 888          827.77         0.932173\n",
       "5         Puzzle                 580          242.57         0.418224\n",
       "6         Racing                1249          728.67         0.583403\n",
       "7   Role-Playing                1498          934.56         0.623872\n",
       "8        Shooter                1323         1052.45         0.795503\n",
       "9     Simulation                 873          389.97         0.446701\n",
       "10        Sports                2348         1331.27         0.566980\n",
       "11      Strategy                 683          174.23         0.255095\n",
       "12       Unknown                   2            2.42         1.210000"
      ]
     },
     "execution_count": 18,
     "metadata": {},
     "output_type": "execute_result"
    }
   ],
   "source": [
    "group_genre = df_games.groupby(\"genre\")[\"genre\"].count().reset_index(name=\"Cantidad_de_juegos\")\n",
    "\n",
    "group_sales = df_games.groupby(\"genre\")[\"total_sales\"].sum().reset_index()\n",
    "\n",
    "merge = group_genre.merge(group_sales, on=\"genre\")\n",
    "\n",
    "merge.columns = [\"Genero\", \"Cantidad_de_juegos\", \"Ventas_totales\"] \n",
    "\n",
    "merge[\"Promedio_ventas\"] = merge['Ventas_totales'] / merge['Cantidad_de_juegos']\n",
    "\n",
    "merge"
   ]
  },
  {
   "cell_type": "markdown",
   "metadata": {},
   "source": [
    "**Para empezar, lo primero que hicimos fue dar un vistazo general a la distribución de los juegos por género, donde vemos que el género con mas titulos lanzados es \"Action\" y el segundo \"Sports\".**\n",
    "\n",
    "**¿Qué se puede decir de los géneros más rentables? Podemos decir que los géneros mas rentables son los que mas titulos lanzados tienen, pero tambien géneros con una cantidad menor de titulos obteniendo una buena rentabilidad, por lo que aqui parece ser que depende de la popularidad del género.**\n",
    "\n",
    "**¿Puedes generalizar acerca de los géneros con ventas altas y bajas? Si vemos en la tabla podemos observar la columna \"Promedio_ventas\" donde podemos ver que algunos géneros tienen muchos titulos lanzados pero con un promedio bajo a comparacion de géneros con menos titulos lanzados donde tienen un promedio más alto, por lo que aqui se puede decir que importa demasiado la popularidad del género.**"
   ]
  },
  {
   "cell_type": "markdown",
   "metadata": {},
   "source": [
    "# 3.- Top 5 principales plataformas por región"
   ]
  },
  {
   "cell_type": "code",
   "execution_count": 19,
   "metadata": {},
   "outputs": [
    {
     "name": "stdout",
     "output_type": "stream",
     "text": [
      "Top 5 plataformas de la región NA \n",
      " platform\n",
      "X360    602.47\n",
      "PS2     583.84\n",
      "Wii     496.90\n",
      "PS3     393.49\n",
      "DS      382.40\n",
      "Name: na_sales, dtype: float64 \n",
      "\n",
      "Top 5 plataformas de la región EU \n",
      " platform\n",
      "PS2     339.29\n",
      "PS3     330.29\n",
      "X360    270.76\n",
      "Wii     262.21\n",
      "PS      213.61\n",
      "Name: eu_sales, dtype: float64 \n",
      "\n",
      "Top 5 plataformasde la region JP \n",
      " platform\n",
      "DS      175.57\n",
      "PS      139.82\n",
      "PS2     139.20\n",
      "SNES    116.55\n",
      "3DS     100.67\n",
      "Name: jp_sales, dtype: float64\n"
     ]
    }
   ],
   "source": [
    "region_sales = df_games.groupby(\"platform\")[[\"na_sales\", \"eu_sales\", \"jp_sales\"]].sum()\n",
    "\n",
    "top_5_NA = region_sales[\"na_sales\"].sort_values(ascending=False).head()\n",
    "top_5_EU = region_sales[\"eu_sales\"].sort_values(ascending=False).head()\n",
    "top_5_JP = region_sales[\"jp_sales\"].sort_values(ascending=False).head()\n",
    "\n",
    "print(\"Top 5 plataformas de la región NA\", \"\\n\", top_5_NA,\"\\n\")\n",
    "print(\"Top 5 plataformas de la región EU\", \"\\n\", top_5_EU,\"\\n\")\n",
    "print(\"Top 5 plataformasde la region JP\", \"\\n\", top_5_JP)"
   ]
  },
  {
   "cell_type": "markdown",
   "metadata": {},
   "source": [
    "**Para empezar vemos que en las 3 regiones las 5 principales plataformas son diferentes entre cada región, en donde la plataforma que mas ventas genera en la región NA es la Xbox360 y en las demas regiones no es asi, ya que en la región EU es la tercera con  mas ventas y en la región JP np aparece en el top 5, por lo que en este caso las ventas de una plataforma de una región a otra son muy diferentes.**"
   ]
  },
  {
   "cell_type": "markdown",
   "metadata": {},
   "source": [
    "# 3.1 Cuotas de mercado de las principales plataformas por región"
   ]
  },
  {
   "cell_type": "code",
   "execution_count": 20,
   "metadata": {},
   "outputs": [
    {
     "name": "stdout",
     "output_type": "stream",
     "text": [
      "Cuotas de mercado de las principales plataformas por región (%): \n",
      "                  NA         EU         JP\n",
      "platform                                 \n",
      "X360      24.499614  19.119309        NaN\n",
      "PS2       23.742019  23.958451  20.720144\n",
      "Wii       20.206580  18.515563        NaN\n",
      "PS3       16.001383  23.322930        NaN\n",
      "DS        15.550405        NaN  26.133877\n",
      "PS              NaN  15.083748  20.812432\n",
      "SNES            NaN        NaN  17.348655\n",
      "3DS             NaN        NaN  14.984892\n"
     ]
    }
   ],
   "source": [
    "cuotas = pd.concat([top_5_NA, top_5_EU, top_5_JP], axis=1)\n",
    "\n",
    "cuotas.columns= [\"NA\", \"EU\", \"JP\"]\n",
    "\n",
    "cuotas_porcent = cuotas.div(cuotas.sum()) * 100\n",
    "\n",
    "print(\"Cuotas de mercado de las principales plataformas por región (%):\", \"\\n\", cuotas_porcent)"
   ]
  },
  {
   "cell_type": "markdown",
   "metadata": {},
   "source": [
    "**Para empezar, hicimos que esta tabla se mostrara en porcentajes para poder tener una mejor comprension sobre que tanto aporta una plataforma en las distintas regiones.**\n",
    "\n",
    "**Y lo que vemos es que algunas plataformas no me aparacen en algunas regiones, esto se debera a que algunas plataformas no fueron muy vendidads en algunas regiones, por lo que podemos decir que las cuotas de mercado de cada plataforma son muy diferentes entre las 3 regiones, y la plataforma que mas ventas logro entre todos los mercados fue la PS2.**"
   ]
  },
  {
   "cell_type": "markdown",
   "metadata": {},
   "source": [
    "# 3.2 Principales géneros entre las regiones (NA, EU, JP)"
   ]
  },
  {
   "cell_type": "code",
   "execution_count": 21,
   "metadata": {},
   "outputs": [
    {
     "data": {
      "text/html": [
       "<div>\n",
       "<style scoped>\n",
       "    .dataframe tbody tr th:only-of-type {\n",
       "        vertical-align: middle;\n",
       "    }\n",
       "\n",
       "    .dataframe tbody tr th {\n",
       "        vertical-align: top;\n",
       "    }\n",
       "\n",
       "    .dataframe thead th {\n",
       "        text-align: right;\n",
       "    }\n",
       "</style>\n",
       "<table border=\"1\" class=\"dataframe\">\n",
       "  <thead>\n",
       "    <tr style=\"text-align: right;\">\n",
       "      <th></th>\n",
       "      <th>na_sales</th>\n",
       "      <th>eu_sales</th>\n",
       "      <th>jp_sales</th>\n",
       "    </tr>\n",
       "    <tr>\n",
       "      <th>genre</th>\n",
       "      <th></th>\n",
       "      <th></th>\n",
       "      <th></th>\n",
       "    </tr>\n",
       "  </thead>\n",
       "  <tbody>\n",
       "    <tr>\n",
       "      <th>Action</th>\n",
       "      <td>879.01</td>\n",
       "      <td>519.13</td>\n",
       "      <td>161.43</td>\n",
       "    </tr>\n",
       "    <tr>\n",
       "      <th>Sports</th>\n",
       "      <td>684.43</td>\n",
       "      <td>376.79</td>\n",
       "      <td>135.54</td>\n",
       "    </tr>\n",
       "    <tr>\n",
       "      <th>Shooter</th>\n",
       "      <td>592.24</td>\n",
       "      <td>317.34</td>\n",
       "      <td>NaN</td>\n",
       "    </tr>\n",
       "    <tr>\n",
       "      <th>Platform</th>\n",
       "      <td>445.50</td>\n",
       "      <td>NaN</td>\n",
       "      <td>130.83</td>\n",
       "    </tr>\n",
       "    <tr>\n",
       "      <th>Misc</th>\n",
       "      <td>407.27</td>\n",
       "      <td>212.74</td>\n",
       "      <td>108.11</td>\n",
       "    </tr>\n",
       "    <tr>\n",
       "      <th>Racing</th>\n",
       "      <td>NaN</td>\n",
       "      <td>236.51</td>\n",
       "      <td>NaN</td>\n",
       "    </tr>\n",
       "    <tr>\n",
       "      <th>Role-Playing</th>\n",
       "      <td>NaN</td>\n",
       "      <td>NaN</td>\n",
       "      <td>355.41</td>\n",
       "    </tr>\n",
       "  </tbody>\n",
       "</table>\n",
       "</div>"
      ],
      "text/plain": [
       "              na_sales  eu_sales  jp_sales\n",
       "genre                                     \n",
       "Action          879.01    519.13    161.43\n",
       "Sports          684.43    376.79    135.54\n",
       "Shooter         592.24    317.34       NaN\n",
       "Platform        445.50       NaN    130.83\n",
       "Misc            407.27    212.74    108.11\n",
       "Racing             NaN    236.51       NaN\n",
       "Role-Playing       NaN       NaN    355.41"
      ]
     },
     "execution_count": 21,
     "metadata": {},
     "output_type": "execute_result"
    }
   ],
   "source": [
    "genre = df_games.groupby(\"genre\")[[\"na_sales\", \"eu_sales\", \"jp_sales\"]].sum()\n",
    "\n",
    "top_5_NA = genre['na_sales'].sort_values(ascending=False).head()\n",
    "top_5_EU = genre['eu_sales'].sort_values(ascending=False).head()\n",
    "top_5_JP = genre['jp_sales'].sort_values(ascending=False).head()\n",
    "\n",
    "concat_genre = pd.concat([top_5_NA, top_5_EU, top_5_JP], axis=1)\n",
    "\n",
    "concat_genre"
   ]
  },
  {
   "cell_type": "markdown",
   "metadata": {},
   "source": [
    "**Gracias a la tabla que hicimos, podemos ver que los cinco géneros principales.**\n",
    "\n",
    "**Y podemos ver que el género Action es género con mas ventas en total y por ende es el género mas popular, seguido del género Action tenemos el género Sports que tambien una cantidad asombrosa de ventas y popularidad en todas las regiones.**\n",
    "\n",
    "**Por lo podemos decir que tenemos muchisimas diferencias de géneros entre regiones y que en la región JP el género que mas ventas hizo fue el Role-Playing.**"
   ]
  },
  {
   "cell_type": "markdown",
   "metadata": {},
   "source": [
    "# 3.3 ¿Las clasificaciones de ESRB afectan a las ventas en regiones individuales?"
   ]
  },
  {
   "cell_type": "code",
   "execution_count": 22,
   "metadata": {
    "scrolled": true
   },
   "outputs": [
    {
     "data": {
      "text/html": [
       "<div>\n",
       "<style scoped>\n",
       "    .dataframe tbody tr th:only-of-type {\n",
       "        vertical-align: middle;\n",
       "    }\n",
       "\n",
       "    .dataframe tbody tr th {\n",
       "        vertical-align: top;\n",
       "    }\n",
       "\n",
       "    .dataframe thead th {\n",
       "        text-align: right;\n",
       "    }\n",
       "</style>\n",
       "<table border=\"1\" class=\"dataframe\">\n",
       "  <thead>\n",
       "    <tr style=\"text-align: right;\">\n",
       "      <th></th>\n",
       "      <th>na_sales</th>\n",
       "      <th>eu_sales</th>\n",
       "      <th>jp_sales</th>\n",
       "    </tr>\n",
       "  </thead>\n",
       "  <tbody>\n",
       "    <tr>\n",
       "      <th>AO</th>\n",
       "      <td>0.009475</td>\n",
       "      <td>0.007145</td>\n",
       "      <td>-0.001944</td>\n",
       "    </tr>\n",
       "    <tr>\n",
       "      <th>E</th>\n",
       "      <td>0.041764</td>\n",
       "      <td>0.036656</td>\n",
       "      <td>-0.050704</td>\n",
       "    </tr>\n",
       "    <tr>\n",
       "      <th>E10+</th>\n",
       "      <td>-0.005453</td>\n",
       "      <td>-0.007445</td>\n",
       "      <td>-0.048645</td>\n",
       "    </tr>\n",
       "    <tr>\n",
       "      <th>EC</th>\n",
       "      <td>-0.001940</td>\n",
       "      <td>-0.005709</td>\n",
       "      <td>-0.005499</td>\n",
       "    </tr>\n",
       "    <tr>\n",
       "      <th>K-A</th>\n",
       "      <td>0.009716</td>\n",
       "      <td>-0.001466</td>\n",
       "      <td>0.017745</td>\n",
       "    </tr>\n",
       "    <tr>\n",
       "      <th>M</th>\n",
       "      <td>0.085072</td>\n",
       "      <td>0.105022</td>\n",
       "      <td>-0.037975</td>\n",
       "    </tr>\n",
       "    <tr>\n",
       "      <th>RP</th>\n",
       "      <td>-0.004337</td>\n",
       "      <td>-0.003152</td>\n",
       "      <td>-0.003367</td>\n",
       "    </tr>\n",
       "    <tr>\n",
       "      <th>T</th>\n",
       "      <td>-0.003873</td>\n",
       "      <td>-0.000776</td>\n",
       "      <td>-0.039790</td>\n",
       "    </tr>\n",
       "    <tr>\n",
       "      <th>UNK</th>\n",
       "      <td>-0.080831</td>\n",
       "      <td>-0.089027</td>\n",
       "      <td>0.125024</td>\n",
       "    </tr>\n",
       "  </tbody>\n",
       "</table>\n",
       "</div>"
      ],
      "text/plain": [
       "      na_sales  eu_sales  jp_sales\n",
       "AO    0.009475  0.007145 -0.001944\n",
       "E     0.041764  0.036656 -0.050704\n",
       "E10+ -0.005453 -0.007445 -0.048645\n",
       "EC   -0.001940 -0.005709 -0.005499\n",
       "K-A   0.009716 -0.001466  0.017745\n",
       "M     0.085072  0.105022 -0.037975\n",
       "RP   -0.004337 -0.003152 -0.003367\n",
       "T    -0.003873 -0.000776 -0.039790\n",
       "UNK  -0.080831 -0.089027  0.125024"
      ]
     },
     "execution_count": 22,
     "metadata": {},
     "output_type": "execute_result"
    }
   ],
   "source": [
    "rating = pd.get_dummies(df_games[\"rating\"])\n",
    "\n",
    "concat = pd.concat([rating, df_games[[\"na_sales\", \"eu_sales\", \"jp_sales\"]]], axis=1)\n",
    "\n",
    "correlacion = concat.corr()\n",
    "\n",
    "correlacion[[\"na_sales\", \"eu_sales\", \"jp_sales\"]].loc[rating.columns]"
   ]
  },
  {
   "cell_type": "markdown",
   "metadata": {},
   "source": [
    "**Como podemos ver en nuestra tabla,la mayoria de clasificaciones tienen una relacion ligeramente negativa, por ejemplo:\n",
    "la clasificación M que en este caso tiene una relacion positiva pero muy baja, por lo que se puede decir que no afectan a las ventas en distintas regiones y tambien tenemos a la clasificacion UNK que en este caso tiene una relacion negativa pero muy baja, por lo queb sucede el mismo caso que el anterior ya que no afectan a as ventas en distintas regiones.**\n",
    "\n",
    "**Por lo que podemos decir que las clasificaciones no afectan a las ventas en distintas regiones, ya que a pesar de tener una relacion positiva o negativa son muy bajas que se les puede considerar casi nula.**"
   ]
  },
  {
   "cell_type": "markdown",
   "metadata": {},
   "source": [
    "<div class=\"alert alert-block alert-success\">\n",
    "<b>Comentario del revisor:</b> <a class=\"tocSkip\"></a>\n",
    "\n",
    "Excelente! Con este análisis por región ayuda a complementar el análisis general anterior y a hacer zoom a los resultados por cada una de las regiones.   \n",
    "\n",
    "</div>"
   ]
  },
  {
   "cell_type": "markdown",
   "metadata": {},
   "source": [
    "# 3.4 Prueba de hipótesis para las calificaciones promedio de los usuarios de las platformas Xbox One y PC"
   ]
  },
  {
   "cell_type": "markdown",
   "metadata": {},
   "source": [
    "*Hipótesis nula: las calificaciones promedio de los usuarios para las plataformas Xbox One y PC son las mismas.*\n",
    "\n",
    "*Hipótesis alternativa: las calificaciones promedio de los usuarios para las plataformas Xbox One y PC son diferentes.*\n",
    "\n",
    "**Escogí la hipótesis nula como que las calificaciones son iguales, y la alternativa como que son diferentes, porque es más fácil detectar una diferencia que probar igualdad. Así, si hay una diferencia real entre las calificaciones promedio de usuarios entre Xbox One y PC, es más probable que el análisis lo detecte. Esto nos permitiría sacar conclusiones más útiles sobre si una plataforma recibe mejores valoraciones que otra.**\n",
    "\n",
    "**Y estableci el margen de umbral alfa como 0.05 porque este margen representa un equilibrio ya que este margen nos permite tener la confianza en los resultados sin ser demasiados estrictos ni demasiados laxos.**"
   ]
  },
  {
   "cell_type": "code",
   "execution_count": 29,
   "metadata": {},
   "outputs": [
    {
     "name": "stdout",
     "output_type": "stream",
     "text": [
      "Prueba de Levene - ValorP: 0.9929649852182456\n",
      "No podemos rechazar la hipótesis nula de Levene: las varianzas son iguales.\n",
      "Prueba T - Valor P: 0.00010123955107193582\n",
      "Rechazamos la hipótesis nula (hay evidencia de diferencia en las medias).\n"
     ]
    }
   ],
   "source": [
    "XOne_score = df_games[df_games[\"platform\"] == \"XOne\"][\"user_score\"]\n",
    "PC_score = df_games[df_games['platform'] == \"PC\"][\"user_score\"]\n",
    "\n",
    "alpha = 0.05\n",
    "\n",
    "levene_stat, levene_p = levene(XOne_score, PC_score)\n",
    "print(\"Prueba de Levene - ValorP:\", levene_p)\n",
    "\n",
    "if levene_p < alpha:\n",
    "    print(\"Rechazamos la hipótesis nula de Levene: las varianzas NO son iguales.\")\n",
    "    equal_var = False\n",
    "else:\n",
    "    print(\"No podemos rechazar la hipótesis nula de Levene: las varianzas son iguales.\")\n",
    "    equal_var = True\n",
    "\n",
    "results = ttest_ind(XOne_score, PC_score, equal_var=equal_var)\n",
    "print(\"Prueba T - Valor P:\", results.pvalue)    \n",
    "\n",
    "if results.pvalue < alpha:\n",
    "    print(\"Rechazamos la hipótesis nula (hay evidencia de diferencia en las medias).\")\n",
    "else:\n",
    "    print(\"No podemos rechazar la hipótesis nula (no hay evidencia suficiente).\")"
   ]
  },
  {
   "cell_type": "markdown",
   "metadata": {},
   "source": [
    "**Gracias a la prueba de hipótesis, concluimos que las calificaciones de usuarios entre las plataformas Xbox One y PC son muy diferentes y tal vez esto se deba a que la PC apenas estaba en pleno crecimiento.**"
   ]
  },
  {
   "cell_type": "markdown",
   "metadata": {},
   "source": [
    "# 3.5 Prueba de hipótesis para las calificaciones promedio de los géneros Acción y Deportes"
   ]
  },
  {
   "cell_type": "markdown",
   "metadata": {},
   "source": [
    "*Hipótesis nula: las calificaciones promedio de los usuarios para los géneros de Acción y Deportes \n",
    "son iguales.*\n",
    "\n",
    "*Hipótesis alternativa: las calificaciones promedio de los usuarios para los géneros de Acción y \n",
    "Deportes son diferentes.*\n",
    "\n",
    "**¿Por qué escogi que la hipótesis nula sea que las calificaciones son iguales y para la alternativa sean diferentes? lo escogi así, porque seguimos el mismo principio, ya que es más facil detectar las diferencias a que probar igualdad y esto nos llevara a conseguir conclusiones más utiles sobre las calificaciones promedio de los usuarios.**\n",
    "\n",
    "**Estableci el margen de umbral alfa como 0.05, ya que este margen al ser tan equilibrado nos permite tener la confianza de los resultados sin ser demasiados estrictos ni demasiados laxos.**"
   ]
  },
  {
   "cell_type": "code",
   "execution_count": 32,
   "metadata": {},
   "outputs": [
    {
     "name": "stdout",
     "output_type": "stream",
     "text": [
      "Prueba de Levene - ValorP: 0.6828105166182066\n",
      "No podemos rechazar la hipótesis nula de Levene: las varianzas son iguales.\n",
      "Prueba T - Valor P: 0.7131417795320426\n",
      "No podemos rechazar la hipótesis nula (no hay evidencia suficiente).\n"
     ]
    }
   ],
   "source": [
    "Action_score = df_games[df_games['genre'] == \"Action\"][\"user_score\"]\n",
    "Sports_score = df_games[df_games['genre'] == \"Sports\"][\"user_score\"]\n",
    "\n",
    "alpha = 0.05\n",
    "\n",
    "levene_stat, levene_p = levene(Action_score, Sports_score)\n",
    "print(\"Prueba de Levene - ValorP:\", levene_p)\n",
    "\n",
    "if levene_p < alpha:\n",
    "    print(\"Rechazamos la hipótesis nula de Levene: las varianzas NO son iguales.\")\n",
    "    equal_var = False\n",
    "else:\n",
    "    print(\"No podemos rechazar la hipótesis nula de Levene: las varianzas son iguales.\")\n",
    "    equal_var = True\n",
    "\n",
    "results = ttest_ind(Action_score, Sports_score, equal_var=equal_var)\n",
    "print(\"Prueba T - Valor P:\", results.pvalue)    \n",
    "\n",
    "if results.pvalue < alpha:\n",
    "    print(\"Rechazamos la hipótesis nula (hay evidencia de diferencia en las medias).\")\n",
    "else:\n",
    "    print(\"No podemos rechazar la hipótesis nula (no hay evidencia suficiente).\")"
   ]
  },
  {
   "cell_type": "markdown",
   "metadata": {},
   "source": [
    " <div class=\"alert alert-block alert-danger\">\n",
    "<b>Comentario revisor</b> <a class=\"tocSkip\"></a>\n",
    "\n",
    "Para estas pruebas te recomiendo hacer una prueba de  Levene  para mostrar si las varianzas son iguales y agregarlo dentro de la función. Actualmente lo colocar como equal_var=False. Para esto, primero debes calcular las varianzas para cada uno de las plataformas y en un segundo tiempo debes de hacer uso de la siguiente función: \n",
    "    \n",
    "    levene(XOne_score,\n",
    "    PC_score)\n",
    "    \n",
    "Adoptaremos un nivel de significancia de 0.05; si el valor p resultante es mayor a 0.05, no podemos rechazar la hipótesis nula, y si es menor a 0.05, rechazamos la hipótesis nula, indicando que las varianzas no son iguales. \n",
    "    \n",
    "Solamente recuerda que la prueba de levene no es sustituto a la prueba de st.ttest_ind, más bien es complemento para saber que colocar dentro del elemento \"equal_var\". En este caso como rechazamos la hipótesis de varianzas iguales debemos de colocar False. Es por eso que para terminar la prueba debes de realizar la prueba de st.ttest_ind considernado el resultado de la prueba realizada de levene    \n",
    "</div>"
   ]
  },
  {
   "cell_type": "markdown",
   "metadata": {},
   "source": [
    "<div class=\"alert alert-block alert-success\">\n",
    "<b>Comentario revisor</b> <a class=\"tocSkip\"></a>\n",
    "\n",
    "Gran trabajo con el ajuste!"
   ]
  },
  {
   "cell_type": "markdown",
   "metadata": {},
   "source": [
    "**Gracias a la prueba de hipótesis, hemos concluido que las calificaciones promedio de usuarios para los géneros Action y Sports \"son iguales\", pero talvez esto se deba que el género Action es el género con mas juegos lanzados lo cual podría provocar a que menos titulos sean probados y calificados por otro tenemos al género Sports que en este caso  tiene menos juegos lanzados y es por eso que posiblemente obtengan más calificaciones de los usuarios.**"
   ]
  },
  {
   "cell_type": "markdown",
   "metadata": {},
   "source": [
    "# Conclusiones finales sobre este proyecto"
   ]
  },
  {
   "cell_type": "markdown",
   "metadata": {},
   "source": [
    "**Mi conclusión es que gracias a las graficas, tablas y pruebas de hipótesis.**\n",
    "\n",
    "**Descubrimos que a las plataformas no les afectan tanto las opiniones de los usuarios y profesionales, ademas de que descubrimos las plataformas que mayores ventas obtuvieron en todas las regiones o plataformas que solo vendieron en una región.** \n",
    "\n",
    "**Donde tambien ya sabemos las plataformas que ya no siguen en venta, ya que vimos la duracion de dichas plataformas.**\n",
    "\n",
    "**Y todo esto me llevo a la conclusión de que cada plataforma tiene una región en donde más ventas obtuvo, tambien que no se ven afectadas por las opiniones de los usuarios y criticas, y talvez sea afectada por factores externos que no conocemos o no tenemos en este datasets.**\n",
    "\n",
    "**Por lo que se puede decir que las ventas de cada plataforma se debe a la popularidad de dichas plataformas y por los juegos que llega a contener.**"
   ]
  },
  {
   "cell_type": "markdown",
   "metadata": {},
   "source": [
    "<div class=\"alert alert-block alert-warning\">\n",
    "<b>Comentario revisor</b> <a class=\"tocSkip\"></a>\n",
    "\n",
    "Emanuel, en general creo que hiciste un muy buen trabajo con el proyecto, pudiste limpiar y trabajar las bases de datos de beuna manera. Además, el análisis explorario de datos fue completo al mostrar resultados relevantes que pueden ser de mucha utilidad para la toma de decisiones y desarrollaste las pruebas de hipótesis de una buena manera. No obstante, recuerda que siempre podemos mejorar y te menciono algunos puntos que debes considerar:\n",
    "\n",
    "\\\n",
    "\n",
    "*  Considerar eliminar registros atipicos que puedan sesgar nuestros resultados. \n",
    "    \n",
    "*  Considerar desarrollar un análisis para comprobar los supuestos de la prueba de hipótesis (varianzas iguales)\n",
    "    \n",
    "</div>"
   ]
  }
 ],
 "metadata": {
  "kernelspec": {
   "display_name": "Python [conda env:base] *",
   "language": "python",
   "name": "conda-base-py"
  },
  "language_info": {
   "codemirror_mode": {
    "name": "ipython",
    "version": 3
   },
   "file_extension": ".py",
   "mimetype": "text/x-python",
   "name": "python",
   "nbconvert_exporter": "python",
   "pygments_lexer": "ipython3",
   "version": "3.12.7"
  }
 },
 "nbformat": 4,
 "nbformat_minor": 4
}
